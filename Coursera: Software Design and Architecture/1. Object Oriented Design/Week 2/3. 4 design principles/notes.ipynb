{
 "cells": [
  {
   "attachments": {},
   "cell_type": "markdown",
   "metadata": {},
   "source": [
    "# Abstraction"
   ]
  },
  {
   "attachments": {},
   "cell_type": "markdown",
   "metadata": {},
   "source": [
    "- Simplify a concept within some context by removing some unnecessary details\n",
    "    - e.g. Abstract food\n",
    "        - nutrition?\n",
    "        - meal type?\n",
    "\n",
    "- Rule of Least Astonishment\n",
    "    - Captures essential attributes and behaviour for concept with no surprises and no defns outside of its scope\n",
    "\n",
    "- Pertains most to `class`\n",
    "    - `class` is a template of some concept\n",
    "\n",
    "- e.g. Let's say we want an academic setting, so we want an abstraction for a student\n",
    "    - Attributes: `Student` should have\n",
    "        - Courses currently taking\n",
    "        - Grades in each course\n",
    "        - Student ID number\n",
    "    - Behaviours: `Student` should be able to\n",
    "        - Studying\n",
    "        - Doing assignmetns\n",
    "        - Attending lectures"
   ]
  },
  {
   "attachments": {},
   "cell_type": "markdown",
   "metadata": {},
   "source": [
    "# Encapsulation"
   ]
  },
  {
   "attachments": {},
   "cell_type": "markdown",
   "metadata": {},
   "source": [
    "- Think about this as making a self contained capsule, where everything you need is in 1 place\n",
    "\n",
    "- Bundle\n",
    "    - You bundle attributes (data) and behaviours (functions) together into a self-contained object\n",
    "    - You can expose certain data and functions of that object to be accessed from other objects, and restrict access to some data and functions to only within that object\n",
    "\n",
    "- In the context of a `Student` object we defined above\n",
    "    - The object should know what `degree` programme the particular student is studying\n",
    "\n",
    "- Methods\n",
    "    - Methods manipulate the data within the object to achieve some goal\n",
    "\n",
    "- Interface\n",
    "    - Methods can be exposed to objects of other classes, and in so doing define an `interface` to use the class\n",
    "    - e.g. a `course` can have a method to allow students to register for that course\n",
    "\n",
    "- Restricted\n",
    "    - Restrict access to attributes of a class to avoid breaking the assumptions about the object\n",
    "\n",
    "- Encapsulation allows people to use the class without knowing the details of the implementation (black box thinking)\n",
    "    - e.g. a prof could demand that a student compute their GPA before allowing enrolment into a course. He probably doesn't need to care HOW the student gets the GPA\n",
    "    - This creates an **abstraction barrier**\n",
    "    - Allows reusability of components\n"
   ]
  },
  {
   "attachments": {},
   "cell_type": "markdown",
   "metadata": {},
   "source": [
    "# Decomposition"
   ]
  },
  {
   "attachments": {},
   "cell_type": "markdown",
   "metadata": {},
   "source": [
    "- Decomposition\n",
    "    - Taking a thing and dividing it into different parts\n",
    "\n",
    "- A whole can have a fixed or dynamic number for a specific component\n",
    "\n",
    "- Lifetimes\n",
    "    - Different components can have different lifetimes\n",
    "    - A fridge and freezer has the same lifetime\n",
    "    - A fridge and food can have different lifetime\n",
    "\n",
    "- Shared components\n",
    "    - e.g. a person can be a daughter in one family, and a spouse in another"
   ]
  },
  {
   "attachments": {},
   "cell_type": "markdown",
   "metadata": {},
   "source": [
    "# Generalization"
   ]
  },
  {
   "attachments": {},
   "cell_type": "markdown",
   "metadata": {},
   "source": [
    "- Basically the process of encapsulating repetitive behaviour in functions or methods\n",
    "\n",
    "- Reuse\n",
    "    - Reuse code in methods\n",
    "    - Reuse methods in classes\n",
    "    - Reusing classes in other classes (super/sub class inheritance)\n",
    "\n",
    "- Don't Repeat Yourself (DRY)"
   ]
  }
 ],
 "metadata": {
  "kernelspec": {
   "display_name": "Python 3",
   "language": "python",
   "name": "python3"
  },
  "language_info": {
   "name": "python",
   "version": "3.10.4"
  },
  "orig_nbformat": 4,
  "vscode": {
   "interpreter": {
    "hash": "cebb4ce401eb3de5659966fd3ccc10327db9c280404c0c1b484be62a3fb11364"
   }
  }
 },
 "nbformat": 4,
 "nbformat_minor": 2
}

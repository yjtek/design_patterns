{
 "cells": [
  {
   "cell_type": "markdown",
   "metadata": {},
   "source": [
    "# Chapter 8: Data Distribution Shifts and Monitoring"
   ]
  },
  {
   "cell_type": "markdown",
   "metadata": {},
   "source": [
    "## Causes of ML System Failures"
   ]
  },
  {
   "cell_type": "markdown",
   "metadata": {},
   "source": [
    "- You need to worry about the usual software nonsense (latency, uptime etc)\n",
    "- You ALSO need to worry about your model outputs (accuracy, human understandability etc)"
   ]
  },
  {
   "cell_type": "markdown",
   "metadata": {},
   "source": [
    "### Software Failure"
   ]
  },
  {
   "cell_type": "markdown",
   "metadata": {},
   "source": [
    "- Dependencies can fail\n",
    "- Deployment can fail\n",
    "- Hardware can fail\n",
    "- Downtime of your endpoint"
   ]
  },
  {
   "cell_type": "markdown",
   "metadata": {},
   "source": [
    "### ML Failure"
   ]
  },
  {
   "cell_type": "markdown",
   "metadata": {},
   "source": [
    "- Edge cases \n",
    "    - something new happens that has never been seen before, like someone borrowing 1 million dollars), leading a failure in retrained model\n",
    "- Degenerate feedback loop \n",
    "    - Predictions influence feedback, which influences the next model run (e.g. selection bias in lending)  \n",
    "    - How do we detect such cases? \n",
    "        - Measure diversity of system outputs (e.g. aggregate diversity / average coverage of long-tail items)\n",
    "    - How do we correct?\n",
    "        - Randomisation (sometimes you insert random output into the model to measure performance) \n",
    "        - Contextual bandits (intelligently determine what you don't know, then perform causal estimate of unbiased value)\n",
    "\n",
    "- Data Distribution Shifts: There are 3 main types of shifts to consider. \n",
    "    - Definitions\n",
    "        - For definition's sake, let's call our covariates $X$, and our labels $Y$\n",
    "        - Our training data is simply a sample from the joint distribution $P(X,Y)$\n",
    "        - $P(X,Y) = P(Y | X)P(X) = P(X|Y)P(Y)$\n",
    "    - Covariate Shift\n",
    "        - This happens when $P(X)$ changes, but $P(Y|X)$ remains the same\n",
    "    - Concept Drift\n",
    "        - This happens when $P(Y|X)$ changes, but $P(X)$ remains the same\n",
    "    - Label Shift\n",
    "        - This happens when $P(Y)$ changes, but $P(X|Y)$ remains the same\n",
    "\n",
    "- Definition change: Sometimes you have new categories to predict, needing a whole new model"
   ]
  },
  {
   "cell_type": "markdown",
   "metadata": {},
   "source": [
    "## Detecting data shifts"
   ]
  },
  {
   "cell_type": "markdown",
   "metadata": {},
   "source": [
    "- As per the definitions above, to detect shifts, you want to monitor $P(X), P(Y), P(X|Y), P(Y|X)$"
   ]
  },
  {
   "cell_type": "markdown",
   "metadata": {},
   "source": [
    "### Statistical Methods"
   ]
  },
  {
   "cell_type": "markdown",
   "metadata": {},
   "source": [
    "- Compare population moments\n",
    "- Two sample hypothesis test\n",
    "\n",
    "![tests](./artifacts/8_image.png)"
   ]
  },
  {
   "cell_type": "markdown",
   "metadata": {},
   "source": [
    "- When working over time, think about measuring statistics over sliding windows"
   ]
  },
  {
   "cell_type": "markdown",
   "metadata": {},
   "source": [
    "## Dealing with data shifts"
   ]
  },
  {
   "cell_type": "markdown",
   "metadata": {},
   "source": [
    "- Train with HUGE data, and assume the model has \"seen it all\"\n",
    "- Adapt existing model without retraining \n",
    "- Retrain model"
   ]
  },
  {
   "cell_type": "markdown",
   "metadata": {},
   "source": [
    "## Monitoring/Observability"
   ]
  },
  {
   "cell_type": "markdown",
   "metadata": {},
   "source": [
    "- What metrics do you look at to ensure you don't get deterioration?\n",
    "    - ML metrics (accuracy, calibration, etc)\n",
    "    - Predictions (check distribution of predictions)\n",
    "    - Features (distribution)\n",
    "    - Raw inputs (distribution)"
   ]
  },
  {
   "cell_type": "markdown",
   "metadata": {},
   "source": [
    "## Toolbox for Monitoring"
   ]
  },
  {
   "cell_type": "markdown",
   "metadata": {},
   "source": [
    "- Logs\n",
    "- Dashboards\n",
    "- Alerts"
   ]
  },
  {
   "cell_type": "markdown",
   "metadata": {},
   "source": []
  }
 ],
 "metadata": {
  "language_info": {
   "name": "python"
  }
 },
 "nbformat": 4,
 "nbformat_minor": 2
}

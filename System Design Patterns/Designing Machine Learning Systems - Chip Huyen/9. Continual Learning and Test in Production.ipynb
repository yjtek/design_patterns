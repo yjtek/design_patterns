{
 "cells": [
  {
   "cell_type": "markdown",
   "metadata": {},
   "source": [
    "# Chapter 9: Continual Learning and Test in Production"
   ]
  },
  {
   "cell_type": "markdown",
   "metadata": {},
   "source": [
    "## Continual Learning"
   ]
  },
  {
   "cell_type": "markdown",
   "metadata": {},
   "source": [
    "- The most obvious one is retraining with each new sample\n",
    "- Not always feasible \n",
    "    - Expensive\n",
    "    - Catastrophic forgetting"
   ]
  },
  {
   "cell_type": "markdown",
   "metadata": {},
   "source": [
    "![champion challenger](./artifacts/9_image.png)"
   ]
  },
  {
   "cell_type": "markdown",
   "metadata": {},
   "source": [
    "### Stateless Retraining Versus Stateful Training"
   ]
  },
  {
   "cell_type": "markdown",
   "metadata": {},
   "source": [
    "- Stateless retraining is what we do, retraining \"from scratch\"\n",
    "- Stateful training is adjusting the existing model based on new data\n",
    "    - Stateful training can even mean that you don't need to store data! Just incrementally change weights and discard old data, because you are not throwing old model away\n",
    "    - Note however, that stateful training only works if model architecture remains the same\n",
    "    - Only supported for **data iteration** (i.e. new data) not **model iteration** (i.e. new model)\n"
   ]
  },
  {
   "cell_type": "markdown",
   "metadata": {},
   "source": [
    "## Cons of Continual Learning"
   ]
  },
  {
   "cell_type": "markdown",
   "metadata": {},
   "source": [
    "- You have a constant need for fresh data, which needs sophisticated data infrastructure\n",
    "- Not suitable for products with long feedback loop \n",
    "- Hard to ensure that update is good enough to be deployed\n",
    "    - Real time systems are susceptible to adversarial attacks\n",
    "- Algorithmically more difficult to manage  "
   ]
  },
  {
   "cell_type": "markdown",
   "metadata": {},
   "source": [
    "## 4 stages of Continual Learning"
   ]
  },
  {
   "cell_type": "markdown",
   "metadata": {},
   "source": [
    "1. Manual, Stateless retraining\n",
    "2. Automated Retraining\n",
    "3. Automated Stateful Retraining: Periodic retraining\n",
    "4. Continual Learning: Learn when it is needed!\n",
    "    - Ideally combined with edge deployment"
   ]
  },
  {
   "cell_type": "markdown",
   "metadata": {},
   "source": [
    "## Deploying"
   ]
  },
  {
   "cell_type": "markdown",
   "metadata": {},
   "source": [
    "- Shadow deployment (blue/green)\n",
    "- A/B Test\n",
    "- Canary release\n",
    "- Interleaving experiments\n",
    "    - Instead of showing users all recommendations from A OR all from B, show some from A and some from B and see which they click on\n",
    "- Bandits\n",
    "    - Route traffic based on current performance\n",
    "    - Contextual bandits for exploration"
   ]
  }
 ],
 "metadata": {
  "language_info": {
   "name": "python"
  }
 },
 "nbformat": 4,
 "nbformat_minor": 2
}

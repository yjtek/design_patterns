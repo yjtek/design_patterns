{
 "cells": [
  {
   "cell_type": "markdown",
   "metadata": {},
   "source": [
    "# Chapter 1: Overview of Machine Learning Systems"
   ]
  },
  {
   "cell_type": "markdown",
   "metadata": {},
   "source": [
    "- Components of an ML System"
   ]
  },
  {
   "cell_type": "markdown",
   "metadata": {},
   "source": [
    "![ml components](./artifacts/1_image.png)"
   ]
  },
  {
   "cell_type": "markdown",
   "metadata": {},
   "source": [
    "## When to use ML?"
   ]
  },
  {
   "cell_type": "markdown",
   "metadata": {},
   "source": [
    "- Machine learning is an approach to (1) learn (2) complex patterns from (3) existing data and use these patterns to make (4) predictions on (5) unseen data.\n",
    "\n",
    "- All of these components 1-5 must be available\n",
    "    1. Your system must be able to learn (guaranteed by open source, pretty much)\n",
    "    2. Patterns must be complex, or you'll be better served by rules\n",
    "    3. There must be existing data, or you can't learn\n",
    "    4. The problem needs prediction. No point if there is no need for the knowledge ahead of time\n",
    "    5. Unseen data should also share the previous pattern\n",
    "\n",
    "- ML **systems** are useful when\n",
    "    - Problems are repetitive\n",
    "    - The cost of wrong predictions is not too high (because ML systems make mistakes)\n",
    "    - You need to solve this problem at scale\n",
    "    - The patterns are constantly changing (so to train/retrain humans is not practical)\n",
    "\n",
    "- ML should be avoided when\n",
    "    - Ethics are an issue\n",
    "    - You can use simpler solutions\n",
    "    - Cost is an issue"
   ]
  },
  {
   "cell_type": "markdown",
   "metadata": {},
   "source": [
    "## Understanding ML Systems"
   ]
  },
  {
   "cell_type": "markdown",
   "metadata": {},
   "source": [
    "| | Research | Production | \n",
    "| - | - | - |\n",
    "| Requirements | SOTA performance based on benchmark datasets | Stakeholder dependent | \n",
    "| Computational priority | Fast training, high throughput | Fast inference, low latency | \n",
    "| Data | Static | Constant shifts | \n",
    "| Fairness | Not impt | Impt | \n",
    "| Interpretability | Not impt | Impt | "
   ]
  },
  {
   "cell_type": "markdown",
   "metadata": {},
   "source": [
    "### Balancing stakeholder requirements"
   ]
  },
  {
   "cell_type": "markdown",
   "metadata": {},
   "source": [
    "- Conflicting Objectives:\n",
    "    - ML Engineers: Recommend restaurants that users are more likely to order from\n",
    "    - Sales: Recommend more expensive restaurants for more fees\n",
    "    - Product: Latency leads to dropped orders, so return in less than 100ms\n",
    "    - ML Platform: As traffic grows, existing system does not scale, so they want to shelve model updates to prioritise improving platform\n",
    "    - Manager: Wants to maximise margin, possibly by cutting the ML team"
   ]
  },
  {
   "cell_type": "markdown",
   "metadata": {},
   "source": [
    "### Compute priorities"
   ]
  },
  {
   "cell_type": "markdown",
   "metadata": {},
   "source": [
    "- Model development needs to be weighted against deployment and maintenance\n",
    "- In production, priority is on fast inference (low latency), but in research, priority is on fast training\n",
    "- In production, you need to decide between batch vs real-time inference\n",
    "    - Batching requests can increase latency, BUT can also increase average throughput if you process your requests in large enough batches"
   ]
  },
  {
   "cell_type": "markdown",
   "metadata": {},
   "source": [
    "### Data"
   ]
  },
  {
   "cell_type": "markdown",
   "metadata": {},
   "source": [
    "- In production, data is noisy, messy, unstructured, and biased\n",
    "- Labels may be sparse, imbalanced, and incorrect\n",
    "- Privacy and regulatory concerns are also an issue\n",
    "- Most of your time in production should be spent on data"
   ]
  },
  {
   "cell_type": "markdown",
   "metadata": {},
   "source": [
    "### Fairness"
   ]
  },
  {
   "cell_type": "markdown",
   "metadata": {},
   "source": [
    "- In development, models are not used in the research phase on people\n",
    "- However, if you don't worry about it during development, you will have a problem in deployment\n",
    "    - i.e. biased models for credit scoring against minorities"
   ]
  },
  {
   "cell_type": "markdown",
   "metadata": {},
   "source": [
    "### Intepretability"
   ]
  },
  {
   "cell_type": "markdown",
   "metadata": {},
   "source": [
    "- You need to interpret the outputs of models in production, more than in research (see `Stakeholders`)"
   ]
  },
  {
   "cell_type": "markdown",
   "metadata": {},
   "source": [
    "## ML vs Software"
   ]
  },
  {
   "cell_type": "markdown",
   "metadata": {},
   "source": [
    "- ML is software, so you need to know the best practises of software engineering\n",
    "- BUT software engineering practises alone is not enough, because ML is the interaction between both code and data\n",
    "- ML artifacts also have huge sizes, so getting them into production on devices is a huge engineering challenge\n",
    "- Monitoring and debugging is also not trivial"
   ]
  }
 ],
 "metadata": {
  "language_info": {
   "name": "python"
  }
 },
 "nbformat": 4,
 "nbformat_minor": 2
}

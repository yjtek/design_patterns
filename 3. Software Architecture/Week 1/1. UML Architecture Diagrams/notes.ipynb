{
 "cells": [
  {
   "attachments": {},
   "cell_type": "markdown",
   "metadata": {},
   "source": [
    "# Architecture overview and process"
   ]
  },
  {
   "attachments": {},
   "cell_type": "markdown",
   "metadata": {},
   "source": [
    "- Software architecture is fundamental design of entire system, bit like a blueprint when building a tower. It defines\n",
    "    - What elements are included in the system\n",
    "    - What function each element has\n",
    "    - How elements relate to each other \n",
    "\n",
    "- Why is this needed?\n",
    "    - Without a proper architecture, all the teams will run off and build their own shit with their own assumptions\n",
    "    - In the end, the parts won't fit together. So you either force a fit, or you have to rebuild\n",
    "\n",
    "- Well defined architecture benefits everyone\n",
    "    - Developers: Higher velocity\n",
    "    - Project Managers: Identification of risks, management of dependencies, estimate impact of changes, coordinate work\n",
    "    - Clients: Understand the reason for each component of the product\n",
    "\n",
    "- There are many forms of architecture, and different styles too\n",
    "    - Service perspective architecture: System of interactive services that, by collaborating, gives some desired outcome\n",
    "    - Data flow architecture: Take something and transform it in processes, and these may not necessarily be \"services\"\n",
    "\n",
    "- Architects need to keep a lot of things in mind\n",
    "    - Code coverage & unit tests\n",
    "    - System level interactions\n",
    "    - Business requirements\n",
    "    - Long and short term sustainability and tradeoffs"
   ]
  },
  {
   "attachments": {},
   "cell_type": "markdown",
   "metadata": {},
   "source": [
    "# Communicating Architecture"
   ]
  },
  {
   "cell_type": "markdown",
   "metadata": {},
   "source": []
  }
 ],
 "metadata": {
  "language_info": {
   "name": "python"
  },
  "orig_nbformat": 4
 },
 "nbformat": 4,
 "nbformat_minor": 2
}

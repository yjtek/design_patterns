{
 "cells": [
  {
   "attachments": {},
   "cell_type": "markdown",
   "metadata": {},
   "source": [
    "- Top down design   \n",
    "    - Break down solution into routines and subroutines to be called to give you an eventual outcome\n",
    "\n",
    "- Steps in planning object oriented software development\n",
    "    - Object oriented analysis\n",
    "        - To identify key objects in the problem\n",
    "    - Object oriented design \n",
    "        - Refine details of objects\n",
    "        - Including attributes and behaviours\n",
    "\n",
    "- Model\n",
    "    - Entities\n",
    "        - What are the entity objects in a problem space\n",
    "    - Control\n",
    "        - Receive events, and coordinate actions\n",
    "    -  Boundary\n",
    "        - Connect to services outside your system\n",
    "\n",
    "- All of these are typically drawn up visually using Unified Modeling Language (UML)\n",
    "    - UML diagrams are like a scale model of a building"
   ]
  },
  {
   "cell_type": "markdown",
   "metadata": {},
   "source": []
  }
 ],
 "metadata": {
  "kernelspec": {
   "display_name": "Python 3",
   "language": "python",
   "name": "python3"
  },
  "language_info": {
   "name": "python",
   "version": "3.10.4"
  },
  "orig_nbformat": 4,
  "vscode": {
   "interpreter": {
    "hash": "cebb4ce401eb3de5659966fd3ccc10327db9c280404c0c1b484be62a3fb11364"
   }
  }
 },
 "nbformat": 4,
 "nbformat_minor": 2
}

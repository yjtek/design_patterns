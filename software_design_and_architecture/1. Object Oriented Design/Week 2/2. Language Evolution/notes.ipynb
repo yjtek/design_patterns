{
 "cells": [
  {
   "attachments": {},
   "cell_type": "markdown",
   "metadata": {},
   "source": [
    "- Programming Paradigms\n",
    "    - 60s: Imperative paradigm (COBOL, Fortran)\n",
    "        - Break up big programmes into smaller ones called subroutines (like methods in Java)\n",
    "        - The bottleneck was processing (because processing was costly), so all data was located in 1 place (global data) to allow all subroutines to access them\n",
    "        - There are problems here\n",
    "            - With global data, changes in data can lead to weird outcomes in the programmes\n",
    "    - Early 70s: Algol68, Pascal\n",
    "        - Introduction of local variables\n",
    "        - Subroutines were called procedures, and each could have nested procedures with their own variables\n",
    "        - Supports an \"abstract data type\", which is a type of data defined by the programmer and not built into the language. Lets you organise data in a meaningful way\n",
    "    - Mid 70s: C, modula2\n",
    "        - Programmes can now be organised into separate files\n",
    "        - What can/cannot be accessed is determined by a header file\n",
    "    - 80s: Object oriented design (Java, C++, C#)\n",
    "        - Make it easier to define abstract data types\n",
    "        - Structure a system around abstract data types called classes\n",
    "        - Let an abstract data type extend another\n",
    "        - `class` acts like a factory \n",
    "\n",
    "    "
   ]
  },
  {
   "cell_type": "markdown",
   "metadata": {},
   "source": []
  }
 ],
 "metadata": {
  "kernelspec": {
   "display_name": "Python 3",
   "language": "python",
   "name": "python3"
  },
  "language_info": {
   "name": "python",
   "version": "3.10.4"
  },
  "orig_nbformat": 4,
  "vscode": {
   "interpreter": {
    "hash": "cebb4ce401eb3de5659966fd3ccc10327db9c280404c0c1b484be62a3fb11364"
   }
  }
 },
 "nbformat": 4,
 "nbformat_minor": 2
}

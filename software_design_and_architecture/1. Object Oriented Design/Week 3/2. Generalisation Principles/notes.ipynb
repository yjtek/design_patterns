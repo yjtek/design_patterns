{
 "cells": [
  {
   "attachments": {},
   "cell_type": "markdown",
   "metadata": {},
   "source": [
    "# Inheritance issues"
   ]
  },
  {
   "attachments": {},
   "cell_type": "markdown",
   "metadata": {},
   "source": [
    "- Inheritance is great, but can also lead to shitty code, creating more problems than they solve\n",
    "\n",
    "- Some guiding qns:\n",
    "    - Am I using inheritance to share attributes and behaviour without adding anything special to my subclasses? \n",
    "        - If yes, then you are misusing inheritance, because there is no reason for subclass to exist since the superclass is enough\n",
    "        - Let's suppose we want to make a pizza parlour object\n",
    "            - We make a `Pizza` class which lets you create many varieties of pizzas, and specific pizza types are  subclassing this \n",
    "            - BUT in this design, note that specific instances (e.g. `PepperoniPizza`) have all attributes and methods defined in the parent class.\n",
    "            - As a result, the subclass has no reason to exist. \n",
    "    - Are you breaking the Liskov substitution principle? (i.e. subclass can replace a superclass IFF subclass does not change functionality of superclass)\n",
    "        - Let's suppose we have an `Animal` class that can `eat` `walk` `run`\n",
    "        - But what if we create subclass `Whale`? Then `walk` and `run` methods in the superclass must be overwritten, because whales can do neither. \n",
    "    - Are you adding new, unrelated functionality in your subclass? If you are, you may need decomposition instead of inheritance!\n",
    "        - If inheritance doesn't suit your need, consider whether you can **decompose** the characteristics instead\n",
    "        - For example, you may be tempted to inherit `SmartPhone` from a superclass `Phone` and add camera methods\n"
   ]
  }
 ],
 "metadata": {
  "kernelspec": {
   "display_name": "Python 3",
   "language": "python",
   "name": "python3"
  },
  "language_info": {
   "codemirror_mode": {
    "name": "ipython",
    "version": 3
   },
   "file_extension": ".py",
   "mimetype": "text/x-python",
   "name": "python",
   "nbconvert_exporter": "python",
   "pygments_lexer": "ipython3",
   "version": "3.10.4"
  },
  "orig_nbformat": 4,
  "vscode": {
   "interpreter": {
    "hash": "cebb4ce401eb3de5659966fd3ccc10327db9c280404c0c1b484be62a3fb11364"
   }
  }
 },
 "nbformat": 4,
 "nbformat_minor": 2
}

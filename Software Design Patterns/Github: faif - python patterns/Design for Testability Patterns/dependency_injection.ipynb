{
 "cells": [
  {
   "cell_type": "markdown",
   "metadata": {},
   "source": [
    "# Dependency Injection"
   ]
  },
  {
   "cell_type": "markdown",
   "metadata": {},
   "source": [
    "- Idea\n",
    "    - You have some object `A`\n",
    "    - You have some functionality `B`\n",
    "    - For testability, you want to ensure that `B` is portable. That is, you want to be able to swap out `B`\n",
    "        - This can be for several reasons.\n",
    "        - For example, `B` may be super expensive, and you don't want to use `B` all the time\n",
    "        - Alternatively, `B` may be something you want to do in a few different ways\n",
    "    - To ensure that `B` is portable, you want to pass `B` into `A`\n",
    "    - This can be done in several ways:\n",
    "        - You can pass `B` into `A`'s constructor (i.e. __init__ method). This is known as constructor injection\n",
    "        - You can pass `B` into `A`'s method call that uses `B`. This is known as parameter injection\n",
    "        - You can write a method in `A` that sets the value of `B`. This is known as setter injection.\n",
    "\n",
    "    - Whichever way you choose to do it is pretty moot\n"
   ]
  },
  {
   "cell_type": "code",
   "execution_count": 8,
   "metadata": {},
   "outputs": [],
   "source": [
    "class Dependency:\n",
    "    @staticmethod\n",
    "    def dependency_class_method() -> None:\n",
    "        print('calling Dependency.dependency_class_method()')\n",
    "\n",
    "class ConstructorInjection:\n",
    "    def __init__(self, dependency: Dependency):\n",
    "        self.dependency: Dependency = dependency\n",
    "    \n",
    "    def use_dependency(self):\n",
    "        self.dependency.dependency_class_method()\n",
    "\n",
    "class ParameterInjection:\n",
    "    def use_dependency(self, dependency: Dependency):\n",
    "        dependency.dependency_class_method()\n",
    "\n",
    "class SetterInjection:\n",
    "    def set_dependency(self, dependency: Dependency):\n",
    "        self.dependency: Dependency = dependency\n",
    "\n",
    "    def use_dependency(self):\n",
    "        self.dependency.dependency_class_method()"
   ]
  },
  {
   "cell_type": "code",
   "execution_count": 9,
   "metadata": {},
   "outputs": [
    {
     "name": "stdout",
     "output_type": "stream",
     "text": [
      "calling Dependency.dependency_class_method()\n",
      "calling Dependency.dependency_class_method()\n",
      "calling Dependency.dependency_class_method()\n"
     ]
    }
   ],
   "source": [
    "ci = ConstructorInjection(Dependency())\n",
    "ci.use_dependency()\n",
    "\n",
    "pi = ParameterInjection()\n",
    "pi.use_dependency(Dependency())\n",
    "\n",
    "si = SetterInjection()\n",
    "si.set_dependency(Dependency())\n",
    "si.use_dependency()"
   ]
  }
 ],
 "metadata": {
  "kernelspec": {
   "display_name": "data_science",
   "language": "python",
   "name": "python3"
  },
  "language_info": {
   "codemirror_mode": {
    "name": "ipython",
    "version": 3
   },
   "file_extension": ".py",
   "mimetype": "text/x-python",
   "name": "python",
   "nbconvert_exporter": "python",
   "pygments_lexer": "ipython3",
   "version": "3.11.8"
  }
 },
 "nbformat": 4,
 "nbformat_minor": 2
}

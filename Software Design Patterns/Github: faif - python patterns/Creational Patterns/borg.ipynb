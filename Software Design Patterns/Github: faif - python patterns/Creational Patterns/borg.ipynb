{
 "cells": [
  {
   "cell_type": "markdown",
   "metadata": {},
   "source": [
    "# Borg"
   ]
  },
  {
   "cell_type": "markdown",
   "metadata": {},
   "source": [
    "- When doing OOP, you will inevitably run into objects where instantiation is expensive, because their attributes take up a lot of memory\n",
    "- One way that is commonly used to avoid duplication is to insist on creating only a single object (see `Singleton` pattern)\n",
    "- However, for some cases, you may still need separate objects for whatever reason\n",
    "- To get around this, we can simply force these distinct objects to share the memory intensive part of their attributes, so that we avoid consuming too many resources!\n",
    "\n",
    "- Notice how, though the `AnotherBorg` object does not know about the existence of `SubBorg`, it can access the attribute created by it without problems!"
   ]
  },
  {
   "cell_type": "code",
   "execution_count": 6,
   "metadata": {},
   "outputs": [
    {
     "name": "stdout",
     "output_type": "stream",
     "text": [
      "{'expensive_attr': 123}\n",
      "{'expensive_attr': 123, 'new_attr': 234}\n"
     ]
    }
   ],
   "source": [
    "from abc import ABC\n",
    "\n",
    "class Borg(ABC):\n",
    "    SHARED_STATE: dict = {\n",
    "        'expensive_attr': 123\n",
    "    }\n",
    "\n",
    "    def __init__(self):\n",
    "        self.__dict__: dict = self.SHARED_STATE\n",
    "\n",
    "class SubBorg(Borg):\n",
    "    def __init__(self):\n",
    "        super().__init__()\n",
    "\n",
    "    def modify_shared_attribute(self, val):\n",
    "        self.new_attr = val\n",
    "\n",
    "class AnotherBorg(Borg):\n",
    "    def __init__(self):\n",
    "        super().__init__()\n",
    "\n",
    "test = SubBorg()\n",
    "test2 = AnotherBorg()\n",
    "print(test2.SHARED_STATE)\n",
    "\n",
    "test.modify_shared_attribute(234)\n",
    "print(test2.SHARED_STATE)\n"
   ]
  },
  {
   "cell_type": "markdown",
   "metadata": {},
   "source": []
  }
 ],
 "metadata": {
  "kernelspec": {
   "display_name": "data_science",
   "language": "python",
   "name": "python3"
  },
  "language_info": {
   "codemirror_mode": {
    "name": "ipython",
    "version": 3
   },
   "file_extension": ".py",
   "mimetype": "text/x-python",
   "name": "python",
   "nbconvert_exporter": "python",
   "pygments_lexer": "ipython3",
   "version": "3.11.8"
  }
 },
 "nbformat": 4,
 "nbformat_minor": 2
}

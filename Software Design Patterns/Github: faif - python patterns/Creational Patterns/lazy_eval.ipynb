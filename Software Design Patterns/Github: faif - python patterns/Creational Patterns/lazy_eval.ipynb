{
 "cells": [
  {
   "cell_type": "markdown",
   "metadata": {},
   "source": [
    "# Lazy Evaluation"
   ]
  },
  {
   "cell_type": "markdown",
   "metadata": {},
   "source": [
    "- There are occasions where some specific attributes have too large size, or take a really long time to compute\n",
    "- In such cases, it may make sense to delay instantiating these attributes until they are truly needed\n",
    "- How can we do this? We can make these attributes lazily evaluated; that is, they are only created when they are needed\n",
    "\n",
    "- In the example here, we will implement lazy eval as a decorator\n",
    "- There are 2 ways to write a decorator; either as a class itself, or as a function\n",
    "    - We will demonstrate both in the example below\n",
    "- The idea is the same though; you wrap something around an attribute, which delays the setting of the attribute until it is called\n",
    "    - For the lazy_eval class, we rely on the custom `__get__` dunder to delay setting the attribute until it is called from the object\n",
    "    - For the lazy_eval function, we rely on the `hasttr` and `setattr` methods to set the attribute once it has been called. Since the value is not in __init__, it is not set until later"
   ]
  },
  {
   "cell_type": "code",
   "execution_count": 30,
   "metadata": {},
   "outputs": [
    {
     "name": "stdout",
     "output_type": "stream",
     "text": [
      "{'attr1': 123, 'attr2': 234}\n",
      "{'attr1': 123, 'attr2': 234, 'attr3': 345}\n",
      "{'attr1': 123, 'attr2': 234, 'attr3': 345, '_attr4': 456}\n"
     ]
    }
   ],
   "source": [
    "from typing import Callable\n",
    "from functools import update_wrapper\n",
    "\n",
    "class LazyEvalProperty:\n",
    "    def __init__(self, function: Callable):\n",
    "        self.function: Callable = function\n",
    "        update_wrapper(self, function)\n",
    "\n",
    "    def __get__(self, obj, objtype=None):\n",
    "        if obj is None:\n",
    "            return self\n",
    "        \n",
    "        val = self.function(obj)\n",
    "        obj.__dict__[self.function.__name__] = val\n",
    "        return val\n",
    "\n",
    "def lazy_eval_property(function: Callable):\n",
    "    \n",
    "    ## A property with name `SOMENAME` will look up the attribute _SOMENAME automatically\n",
    "    ## Do ensure that there is an underscore prepended in the attr name below, or you will end up with an error\n",
    "    attr: str = f\"_{function.__name__}\"\n",
    "\n",
    "    @property\n",
    "    def _lazy_property(self):\n",
    "        if not hasattr(self, attr):\n",
    "            setattr(self, attr, function(self))\n",
    "        return getattr(self, attr)\n",
    "\n",
    "    return _lazy_property\n",
    "\n",
    "class TestClass:\n",
    "    def __init__(self):\n",
    "        self.attr1 = 123\n",
    "        self.attr2 = 234\n",
    "\n",
    "    @LazyEvalProperty\n",
    "    def attr3(self):\n",
    "        return 345\n",
    "    \n",
    "    @lazy_eval_property\n",
    "    def attr4(self):\n",
    "        return 456\n",
    "\n",
    "tc = TestClass()\n",
    "print(tc.__dict__)\n",
    "\n",
    "tc.attr3\n",
    "print(tc.__dict__)\n",
    "\n",
    "tc.attr4\n",
    "print(tc.__dict__)"
   ]
  },
  {
   "cell_type": "code",
   "execution_count": null,
   "metadata": {},
   "outputs": [],
   "source": []
  }
 ],
 "metadata": {
  "kernelspec": {
   "display_name": "data_science",
   "language": "python",
   "name": "python3"
  },
  "language_info": {
   "codemirror_mode": {
    "name": "ipython",
    "version": 3
   },
   "file_extension": ".py",
   "mimetype": "text/x-python",
   "name": "python",
   "nbconvert_exporter": "python",
   "pygments_lexer": "ipython3",
   "version": "3.11.8"
  }
 },
 "nbformat": 4,
 "nbformat_minor": 2
}

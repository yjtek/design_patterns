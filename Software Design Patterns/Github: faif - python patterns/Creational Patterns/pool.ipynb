{
 "cells": [
  {
   "cell_type": "markdown",
   "metadata": {},
   "source": [
    "# Pool"
   ]
  },
  {
   "cell_type": "markdown",
   "metadata": {},
   "source": [
    "- Idea\n",
    "    - You have an object that is intermittently used by your code\n",
    "    - Each creation is super costly\n",
    "    - And each use is only temporary\n",
    "    - So the idea is; instead of instantiating the object each time you need it to be used, you create a pool of them to be shared among all users\n",
    "    - ONLY if an object is needed and none are available, then we instantiate a new object"
   ]
  },
  {
   "cell_type": "code",
   "execution_count": 22,
   "metadata": {},
   "outputs": [
    {
     "name": "stdout",
     "output_type": "stream",
     "text": [
      "5\n",
      "Reusable object 4\n",
      "4\n",
      "5\n"
     ]
    }
   ],
   "source": [
    "class Reusable:\n",
    "    def __init__(self, oid: int):\n",
    "        self.oid: int = oid\n",
    "        self.in_use: bool = False\n",
    "\n",
    "    def register(self):\n",
    "        self.in_use: bool = True\n",
    "    \n",
    "    def reset(self):\n",
    "        self.in_use: bool = False\n",
    "\n",
    "    def __str__(self):\n",
    "        return f\"Reusable object {self.oid}\"\n",
    "\n",
    "class ObjectPool:\n",
    "    def __init__(self, queue_size: int):\n",
    "        self.queue = [Reusable(i) for i in range(queue_size)]\n",
    "\n",
    "    def release_one_reusable(self):\n",
    "        return self.queue.pop()\n",
    "\n",
    "    def reinstate_one_reusable(self, r: Reusable):\n",
    "        self.queue.append(r)\n",
    "\n",
    "class Client:\n",
    "    def __init__(self, pool: ObjectPool):\n",
    "        self.pool = pool\n",
    "\n",
    "    def get_reusable(self):\n",
    "        self.reusable: None | Reusable = self.pool.release_one_reusable()\n",
    "        self.reusable.register()\n",
    "\n",
    "    def release_reusable(self):\n",
    "        if self.reusable:\n",
    "            self.reusable.reset()\n",
    "            self.pool.reinstate_one_reusable(self.reusable)\n",
    "            self.reusable = None\n",
    "\n",
    "op = ObjectPool(5)\n",
    "print(len(op.queue))\n",
    "\n",
    "client = Client(op)\n",
    "client.get_reusable()\n",
    "print(client.reusable)\n",
    "print(len(op.queue))\n",
    "\n",
    "client.release_reusable()\n",
    "print(len(op.queue))"
   ]
  }
 ],
 "metadata": {
  "kernelspec": {
   "display_name": "data_science",
   "language": "python",
   "name": "python3"
  },
  "language_info": {
   "codemirror_mode": {
    "name": "ipython",
    "version": 3
   },
   "file_extension": ".py",
   "mimetype": "text/x-python",
   "name": "python",
   "nbconvert_exporter": "python",
   "pygments_lexer": "ipython3",
   "version": "3.11.8"
  }
 },
 "nbformat": 4,
 "nbformat_minor": 2
}

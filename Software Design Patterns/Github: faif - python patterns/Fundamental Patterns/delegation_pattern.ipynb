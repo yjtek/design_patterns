{
 "cells": [
  {
   "cell_type": "markdown",
   "metadata": {},
   "source": [
    "# Delegation Pattern"
   ]
  },
  {
   "cell_type": "markdown",
   "metadata": {},
   "source": [
    "- Idea:\n",
    "    - You have 2 classes, let's call them `Delegator` and `Delegate`\n",
    "    - You want `Delegator` to be able to do something / have some value, which we'll call `method1()` / `attr1`\n",
    "    - However, there are many ways to perform `method1()` / many possible values of `attr1`\n",
    "    - You don't want to hard code this in `Delegator`. Rather, you would prefer to pass in a specific class `Delegate` that implements the details of `method1()` / `attr1`\n",
    "        - This will give you the flexibility of swapping out `method1()` / `attr1` implementation later\n",
    "    - Therefore, you can put class `Delegate` as an input into `Delegator`, which would let you call the specific implementation of the method/attribute from `Delegator`, although it is actually implemented in `Delegate`"
   ]
  },
  {
   "cell_type": "code",
   "execution_count": 94,
   "metadata": {},
   "outputs": [],
   "source": [
    "from typing import Callable, Any\n",
    "\n",
    "class Delegate:\n",
    "    attr1 = 123\n",
    "    \n",
    "    def __init__(self) -> None:\n",
    "        self.attr1 = 345\n",
    "    \n",
    "    def method1(self, source: str = 'Delegate') -> None:\n",
    "        print(f'Calling method 1 from {source}')\n",
    "\n",
    "class Delegator:\n",
    "    def __init__(self, delegate: Delegate) -> None:\n",
    "        self.delegate: Delegate = delegate\n",
    "\n",
    "    def __getattr__(self, name: str) -> Callable | Any :\n",
    "        if not hasattr(self.delegate, name):\n",
    "            raise ValueError(f'Unable to find {name} for class {self.delegate.__class__.__name__}')\n",
    "        \n",
    "        attr: Any = getattr(self.delegate, name)\n",
    "        if callable(attr):\n",
    "            def wrapper(*args, **kwargs) -> Callable:\n",
    "                return attr(*args, **kwargs)\n",
    "            return wrapper\n",
    "        \n",
    "        return attr\n"
   ]
  },
  {
   "cell_type": "code",
   "execution_count": 99,
   "metadata": {},
   "outputs": [
    {
     "name": "stdout",
     "output_type": "stream",
     "text": [
      "Calling method 1 from somewhere over the rainbow\n",
      "345\n",
      "123\n"
     ]
    }
   ],
   "source": [
    "Delegator(Delegate()).method1(source='somewhere over the rainbow')\n",
    "print(Delegator(Delegate()).attr1)\n",
    "print(Delegator(Delegate).attr1)"
   ]
  }
 ],
 "metadata": {
  "kernelspec": {
   "display_name": "data_science",
   "language": "python",
   "name": "python3"
  },
  "language_info": {
   "codemirror_mode": {
    "name": "ipython",
    "version": 3
   },
   "file_extension": ".py",
   "mimetype": "text/x-python",
   "name": "python",
   "nbconvert_exporter": "python",
   "pygments_lexer": "ipython3",
   "version": "3.11.8"
  }
 },
 "nbformat": 4,
 "nbformat_minor": 2
}

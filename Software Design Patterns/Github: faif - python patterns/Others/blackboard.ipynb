{
 "cells": [
  {
   "cell_type": "markdown",
   "metadata": {},
   "source": [
    "# Blackboard"
   ]
  },
  {
   "cell_type": "markdown",
   "metadata": {},
   "source": [
    "- Idea\n",
    "    - This is just a way to organise your project when several objects jointly contribute towards solving a problem\n",
    "    - Let's call each of these ojects a `Helper`\n",
    "    - Each `Helper`'s contributions are tallied by the eponymous `Blackboard`\n",
    "    - There is an overarching `Controller` object checking if the task has been solved\n",
    "    - Think of the `Blackboard` pattern as someone in the middle of the experts tallying score"
   ]
  },
  {
   "cell_type": "code",
   "execution_count": 8,
   "metadata": {},
   "outputs": [],
   "source": [
    "from abc import ABC, abstractmethod\n",
    "import random\n",
    "\n",
    "class Expert(ABC):\n",
    "    @abstractmethod\n",
    "    def get_value(self) -> int:\n",
    "        ...\n",
    "    \n",
    "class Blackboard:\n",
    "    def __init__(self) -> None:\n",
    "        self.experts: list[Expert] = []\n",
    "        self.progress: int = 0\n",
    "        self.contributions: list[tuple[str, int]] = []\n",
    "\n",
    "    def add_expert(self, expert: Expert) -> None:\n",
    "        self.experts.append(expert)\n",
    "\n",
    "class Controller:\n",
    "    def __init__(self, blackboard: Blackboard) -> None:\n",
    "        self.blackboard: Blackboard = blackboard\n",
    "\n",
    "    def complete_task(self):\n",
    "        while self.blackboard.progress < 100:\n",
    "            for expert in self.blackboard.experts:\n",
    "                val: int = expert.get_value()\n",
    "                if self.blackboard.progress + val > 100:\n",
    "                    continue\n",
    "                self.blackboard.progress += val\n",
    "                self.blackboard.contributions.append((expert.__class__.__name__, val))\n",
    "\n",
    "class Noob(Expert):\n",
    "    def get_value(self) -> int:\n",
    "        return random.randint(1,5)\n",
    "\n",
    "class Mid(Expert):\n",
    "    def get_value(self) -> int:\n",
    "        return random.randint(5,20)\n",
    "\n",
    "class Pro(Expert):\n",
    "    def get_value(self) -> int:\n",
    "        return random.randint(20,50)\n",
    "\n",
    "bb = Blackboard()\n",
    "noob=Noob()\n",
    "mid=Mid()\n",
    "pro=Pro()\n",
    "bb.add_expert(noob)\n",
    "bb.add_expert(mid)\n",
    "bb.add_expert(pro)\n",
    "\n",
    "c = Controller(bb)\n",
    "c.complete_task()"
   ]
  },
  {
   "cell_type": "code",
   "execution_count": 9,
   "metadata": {},
   "outputs": [
    {
     "name": "stdout",
     "output_type": "stream",
     "text": [
      "100\n"
     ]
    },
    {
     "data": {
      "text/plain": [
       "[('Noob', 1),\n",
       " ('Mid', 13),\n",
       " ('Pro', 44),\n",
       " ('Noob', 2),\n",
       " ('Mid', 19),\n",
       " ('Noob', 5),\n",
       " ('Mid', 9),\n",
       " ('Noob', 1),\n",
       " ('Noob', 1),\n",
       " ('Noob', 1),\n",
       " ('Noob', 2),\n",
       " ('Noob', 1),\n",
       " ('Noob', 1)]"
      ]
     },
     "execution_count": 9,
     "metadata": {},
     "output_type": "execute_result"
    }
   ],
   "source": [
    "print(c.blackboard.progress)\n",
    "c.blackboard.contributions"
   ]
  }
 ],
 "metadata": {
  "kernelspec": {
   "display_name": "data_science",
   "language": "python",
   "name": "python3"
  },
  "language_info": {
   "codemirror_mode": {
    "name": "ipython",
    "version": 3
   },
   "file_extension": ".py",
   "mimetype": "text/x-python",
   "name": "python",
   "nbconvert_exporter": "python",
   "pygments_lexer": "ipython3",
   "version": "3.11.8"
  }
 },
 "nbformat": 4,
 "nbformat_minor": 2
}

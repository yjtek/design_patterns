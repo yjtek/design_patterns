{
 "cells": [
  {
   "cell_type": "markdown",
   "metadata": {},
   "source": [
    "# Graph Search"
   ]
  },
  {
   "cell_type": "markdown",
   "metadata": {},
   "source": [
    "- This isn't really a design pattern, more of an algorithm, but it seems to come up so commonly that it should be considered a commonly implemented pattern\n",
    "\n",
    "- Commonly, search is either Depth-first or Breadth first, which is what we'll implement here\n",
    "\n",
    "- Note:\n",
    "    - DFS is more frequently implemented as a recursive algorithm\n",
    "    - BFS is more frequently implemented as an iterative algorithm\n",
    "\n",
    "    - Technically the converse is possible, but you need to jump through some hoops\n",
    "    \n",
    "    - Because if you implement a queue for DFS, you need to manage the backtracking quite carefully, whereas the recursive call tree is exactly the same, so you don't need to manage it yourself\n",
    "    \n",
    "    - Similarly,  if you implement BFS recursively, you lose the ability to append subsequent nodes to the queue, because the recursion tree does not match the BFS call order"
   ]
  },
  {
   "cell_type": "code",
   "execution_count": 141,
   "metadata": {},
   "outputs": [
    {
     "data": {
      "text/plain": [
       "['A', 'C', 'G', 'E']"
      ]
     },
     "execution_count": 141,
     "metadata": {},
     "output_type": "execute_result"
    }
   ],
   "source": [
    "from typing import Iterable\n",
    "from collections import deque\n",
    "\n",
    "graph: dict = {\n",
    "    'A': ['B', 'C'],\n",
    "    'B': ['C', 'D'],\n",
    "    'C': ['D', 'G'],\n",
    "    'D': ['C'],\n",
    "    'E': ['F'],\n",
    "    'F': ['C'],\n",
    "    'G': ['E'],\n",
    "    'H': ['C']\n",
    "}\n",
    "\n",
    "def find_path_dfs_recursive(graph: dict, start: str, end: str, path: list = []):\n",
    "    path.append(start)\n",
    "    if start == end:\n",
    "        return path\n",
    "    \n",
    "    if (start not in graph) or (end not in graph):\n",
    "        raise ValueError(f'Invalid {start=} OR {end=} node')\n",
    "\n",
    "    for next_node in graph.get(start, ''):\n",
    "        if next_node in path:\n",
    "            continue\n",
    "        \n",
    "        full_path = find_path_dfs_recursive(graph, next_node, end, path[:])\n",
    "        if full_path:\n",
    "            return full_path\n",
    "            \n",
    "def find_shortest_path_dfs_recursive(graph: dict, start: str, end: str, path: list = []):\n",
    "    if (start not in graph) or (end not in graph):\n",
    "        raise ValueError(f'{start=} or {end=} is not in graph')\n",
    "    \n",
    "    path.append(start)\n",
    "    if start==end:\n",
    "        return path\n",
    "    \n",
    "    next_nodes = graph.get(start, [])\n",
    "    if end in next_nodes:\n",
    "        return path + [end]\n",
    "    \n",
    "    shortest_path = None\n",
    "    for next_node in next_nodes:\n",
    "        if next_node in path:\n",
    "            continue\n",
    "        \n",
    "        updated_path = find_shortest_path_dfs_recursive(graph, next_node, end, path=path[:])\n",
    "        if updated_path:\n",
    "            if (not shortest_path) or (len(updated_path) < len(shortest_path)):\n",
    "                shortest_path = updated_path\n",
    "\n",
    "    return shortest_path\n",
    "\n",
    "def find_shortest_path_bfs_iterative(graph: dict, start: str, end: str):\n",
    "    if (start not in graph) or (end not in graph):\n",
    "        raise ValueError(f'{start=} or {end=} is not in graph')\n",
    "    \n",
    "    if start==end:\n",
    "        return [start]\n",
    "    \n",
    "    node_queue: deque[tuple] = deque([(start, [start])])\n",
    "    shortest_path = None\n",
    "    while node_queue:\n",
    "        curr_node, curr_path = node_queue.popleft()\n",
    "        if curr_node in curr_path[:-1]:\n",
    "            continue\n",
    "        \n",
    "        next_nodes: list[str] = graph.get(curr_node, [])\n",
    "        if end not in next_nodes:\n",
    "            # node_queue.appendleft((next_nodes[0], curr_path+[next_nodes[0]]))\n",
    "            node_queue.extend([(x, curr_path+[x]) for x in next_nodes])\n",
    "        else:\n",
    "            if (not shortest_path) or (len(curr_path+[end]) < len(shortest_path)):\n",
    "                shortest_path = curr_path+[end]\n",
    "    \n",
    "    return shortest_path\n",
    "    \n",
    "find_shortest_path_bfs_iterative(graph, 'A', 'E')"
   ]
  }
 ],
 "metadata": {
  "kernelspec": {
   "display_name": "data_science",
   "language": "python",
   "name": "python3"
  },
  "language_info": {
   "codemirror_mode": {
    "name": "ipython",
    "version": 3
   },
   "file_extension": ".py",
   "mimetype": "text/x-python",
   "name": "python",
   "nbconvert_exporter": "python",
   "pygments_lexer": "ipython3",
   "version": "3.11.8"
  }
 },
 "nbformat": 4,
 "nbformat_minor": 2
}

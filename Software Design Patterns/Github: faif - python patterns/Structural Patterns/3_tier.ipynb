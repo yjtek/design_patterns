{
 "cells": [
  {
   "cell_type": "markdown",
   "metadata": {},
   "source": [
    "# 3-Tier"
   ]
  },
  {
   "cell_type": "markdown",
   "metadata": {},
   "source": [
    "- Idea\n",
    "    - Every app can be seen to have 3 different layers; the UI (for users to interact with the app), the Business Logic (what methods do you need to make available for users to interface with the app), and the Data (self explanatory)\n",
    "    - This will just be an example of that schematic"
   ]
  },
  {
   "cell_type": "code",
   "execution_count": 19,
   "metadata": {},
   "outputs": [
    {
     "name": "stdout",
     "output_type": "stream",
     "text": [
      "==================================================\n",
      "Performing DB Fetch...\n",
      "['milk', 'eggs', 'cheese']\n",
      "==================================================\n",
      "++++++++++++++++++++++++++++++++++++++++++++++++++\n",
      "Performing DB Fetch...\n",
      "{'price': 1.5, 'quantity': 10}\n",
      "++++++++++++++++++++++++++++++++++++++++++++++++++\n"
     ]
    }
   ],
   "source": [
    "from dataclasses import dataclass, field\n",
    "\n",
    "@dataclass\n",
    "class Data:\n",
    "    \n",
    "    def __init__(self):\n",
    "        self.products: dict[str, dict[str, int|float]] = {\n",
    "            \"milk\": {\"price\": 1.50, \"quantity\": 10},\n",
    "            \"eggs\": {\"price\": 0.20, \"quantity\": 100},\n",
    "            \"cheese\": {\"price\": 2.00, \"quantity\": 10},\n",
    "        }\n",
    "\n",
    "    def __get__(self, obj, _):\n",
    "        print('Performing DB Fetch...')\n",
    "        return {'products': self.products}\n",
    "\n",
    "class BusinessLogic:\n",
    "    data = Data()\n",
    "\n",
    "    def list_products(self):\n",
    "        print(list(self.data.get('products', {}).keys()))\n",
    "\n",
    "    def list_product_info(self, product: str):\n",
    "        print(self.data.get('products', {}).get(product, None))\n",
    "    \n",
    "class UI:\n",
    "    bl = BusinessLogic()\n",
    "    \n",
    "    def display_all_products(self):\n",
    "        print('='*50)\n",
    "        self.bl.list_products()\n",
    "        print('='*50)\n",
    "\n",
    "    def display_product_info(self, product: str):\n",
    "        print('+'*50)\n",
    "        self.bl.list_product_info(product)\n",
    "        print('+'*50)\n",
    "\n",
    "UI().display_all_products()\n",
    "UI().display_product_info('milk')"
   ]
  }
 ],
 "metadata": {
  "kernelspec": {
   "display_name": "data_science",
   "language": "python",
   "name": "python3"
  },
  "language_info": {
   "codemirror_mode": {
    "name": "ipython",
    "version": 3
   },
   "file_extension": ".py",
   "mimetype": "text/x-python",
   "name": "python",
   "nbconvert_exporter": "python",
   "pygments_lexer": "ipython3",
   "version": "3.11.8"
  }
 },
 "nbformat": 4,
 "nbformat_minor": 2
}

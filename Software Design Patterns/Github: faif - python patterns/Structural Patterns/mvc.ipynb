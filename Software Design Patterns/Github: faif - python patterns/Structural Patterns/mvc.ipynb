{
 "cells": [
  {
   "cell_type": "markdown",
   "metadata": {},
   "source": [
    "# MVC"
   ]
  },
  {
   "cell_type": "markdown",
   "metadata": {},
   "source": [
    "- Idea \n",
    "\n",
    "![mvc](image.png)"
   ]
  },
  {
   "cell_type": "code",
   "execution_count": 2,
   "metadata": {},
   "outputs": [
    {
     "name": "stdout",
     "output_type": "stream",
     "text": [
      "brightening\n",
      "displaying\n"
     ]
    }
   ],
   "source": [
    "class View:\n",
    "    def display(self):\n",
    "        print('displaying')\n",
    "\n",
    "class Model:\n",
    "    def __init__(self, view: View):\n",
    "        self.view = view\n",
    "    \n",
    "    def update_view(self):\n",
    "        print('brightening')\n",
    "        self.view.display()\n",
    "\n",
    "class Controller:\n",
    "    def __init__(self, model: Model):\n",
    "        self.model = model\n",
    "\n",
    "    def brighten_and_display(self):\n",
    "        self.model.update_view()\n",
    "v = View()\n",
    "m = Model(v)\n",
    "c = Controller(m)\n",
    "\n",
    "c.brighten_and_display()"
   ]
  }
 ],
 "metadata": {
  "kernelspec": {
   "display_name": "data_science",
   "language": "python",
   "name": "python3"
  },
  "language_info": {
   "codemirror_mode": {
    "name": "ipython",
    "version": 3
   },
   "file_extension": ".py",
   "mimetype": "text/x-python",
   "name": "python",
   "nbconvert_exporter": "python",
   "pygments_lexer": "ipython3",
   "version": "3.11.8"
  }
 },
 "nbformat": 4,
 "nbformat_minor": 2
}

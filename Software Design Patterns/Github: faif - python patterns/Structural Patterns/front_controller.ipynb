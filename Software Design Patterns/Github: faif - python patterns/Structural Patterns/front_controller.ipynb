{
 "cells": [
  {
   "cell_type": "markdown",
   "metadata": {},
   "source": [
    "# Front Controller"
   ]
  },
  {
   "cell_type": "markdown",
   "metadata": {},
   "source": [
    "- Idea\n",
    "    - This is just another way of indirection\n",
    "    - Previously, we looked at a pattern where, for the same method name, the behaviour can change depending on the object passed\n",
    "    - In this case, the indirection is done by a specific object; the `DispatchController`\n",
    "    - Depending on the type of object you pass in to the Dispatcher, the behaviour is different"
   ]
  },
  {
   "cell_type": "code",
   "execution_count": 1,
   "metadata": {},
   "outputs": [
    {
     "name": "stdout",
     "output_type": "stream",
     "text": [
      "Displaying mobile index page\n"
     ]
    }
   ],
   "source": [
    "from __future__ import annotations\n",
    "\n",
    "from typing import Any\n",
    "\n",
    "\n",
    "class MobileView:\n",
    "    def show_index_page(self) -> None:\n",
    "        print(\"Displaying mobile index page\")\n",
    "\n",
    "\n",
    "class TabletView:\n",
    "    def show_index_page(self) -> None:\n",
    "        print(\"Displaying tablet index page\")\n",
    "\n",
    "\n",
    "class Dispatcher:\n",
    "    def __init__(self) -> None:\n",
    "        self.mobile_view = MobileView()\n",
    "        self.tablet_view = TabletView()\n",
    "\n",
    "    def dispatch(self, request: Request) -> None:\n",
    "        \"\"\"\n",
    "        This function is used to dispatch the request based on the type of device.\n",
    "        If it is a mobile, then mobile view will be called and if it is a tablet,\n",
    "        then tablet view will be called.\n",
    "        Otherwise, an error message will be printed saying that cannot dispatch the request.\n",
    "        \"\"\"\n",
    "        if request.type == Request.mobile_type:\n",
    "            self.mobile_view.show_index_page()\n",
    "        elif request.type == Request.tablet_type:\n",
    "            self.tablet_view.show_index_page()\n",
    "        else:\n",
    "            print(\"Cannot dispatch the request\")\n",
    "\n",
    "\n",
    "class RequestController:\n",
    "    \"\"\"front controller\"\"\"\n",
    "\n",
    "    def __init__(self) -> None:\n",
    "        self.dispatcher = Dispatcher()\n",
    "\n",
    "    def dispatch_request(self, request: Any) -> None:\n",
    "        \"\"\"\n",
    "        This function takes a request object and sends it to the dispatcher.\n",
    "        \"\"\"\n",
    "        if isinstance(request, Request):\n",
    "            self.dispatcher.dispatch(request)\n",
    "        else:\n",
    "            print(\"request must be a Request object\")\n",
    "\n",
    "\n",
    "class Request:\n",
    "    \"\"\"request\"\"\"\n",
    "\n",
    "    mobile_type = \"mobile\"\n",
    "    tablet_type = \"tablet\"\n",
    "\n",
    "    def __init__(self, request):\n",
    "        self.type = None\n",
    "        request = request.lower()\n",
    "        if request == self.mobile_type:\n",
    "            self.type = self.mobile_type\n",
    "        elif request == self.tablet_type:\n",
    "            self.type = self.tablet_type\n",
    "\n",
    "front_controller = RequestController()\n",
    "front_controller.dispatch_request(Request('mobile'))"
   ]
  }
 ],
 "metadata": {
  "kernelspec": {
   "display_name": "data_science",
   "language": "python",
   "name": "python3"
  },
  "language_info": {
   "codemirror_mode": {
    "name": "ipython",
    "version": 3
   },
   "file_extension": ".py",
   "mimetype": "text/x-python",
   "name": "python",
   "nbconvert_exporter": "python",
   "pygments_lexer": "ipython3",
   "version": "3.11.8"
  }
 },
 "nbformat": 4,
 "nbformat_minor": 2
}

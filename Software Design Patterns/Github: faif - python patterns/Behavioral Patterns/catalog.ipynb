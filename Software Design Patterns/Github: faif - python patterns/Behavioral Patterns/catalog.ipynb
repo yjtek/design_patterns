{
 "cells": [
  {
   "cell_type": "markdown",
   "metadata": {},
   "source": [
    "# Catalog"
   ]
  },
  {
   "cell_type": "markdown",
   "metadata": {},
   "source": [
    "- Idea\n",
    "    - You have a class with 2 methods; `method1` and `method2`\n",
    "    - You have a parameter `param`\n",
    "    - Depending on the value of `param`, you want to invoke `method1` or `method2` \n",
    "    - Added complications may be: what is `method1` and `method2` are instance methods, static methods, or class methods?"
   ]
  },
  {
   "cell_type": "code",
   "execution_count": 13,
   "metadata": {},
   "outputs": [
    {
     "name": "stdout",
     "output_type": "stream",
     "text": [
      "calling method1_instance\n",
      "calling method1_class\n",
      "calling method1_static\n"
     ]
    }
   ],
   "source": [
    "class Catalog:\n",
    "    def __init__(self, param: str, type: str):\n",
    "        self.param: str = param\n",
    "        self.type: str = type\n",
    "        self.method_mapper: dict = {\n",
    "            'method1_instance': self._method1_instance,\n",
    "            'method2_instance': self._method2_instance,\n",
    "            'method1_static': self._method1_static,\n",
    "            'method2_static': self._method2_static,\n",
    "            'method1_class': self._method1_class,\n",
    "            'method2_class': self._method2_class,\n",
    "        }\n",
    "\n",
    "    def _method1_instance(self):\n",
    "        print('calling method1_instance')\n",
    "\n",
    "    def _method2_instance(self):\n",
    "        print('calling method1_instance')\n",
    "\n",
    "    @staticmethod\n",
    "    def _method1_static():\n",
    "        print('calling method1_static')\n",
    "\n",
    "    @staticmethod\n",
    "    def _method2_static():\n",
    "        print('calling method2_static')\n",
    "\n",
    "    @classmethod\n",
    "    def _method1_class(cls):\n",
    "        print('calling method1_class')\n",
    "\n",
    "    @classmethod\n",
    "    def _method2_class(cls):\n",
    "        print('calling method2_class')\n",
    "\n",
    "    def main(self):\n",
    "        '''\n",
    "        For the __get__ dunder below, it follows the format `X.__get__(Y, Z)`\n",
    "        In English:\n",
    "            - Get X\n",
    "            - From instance Y\n",
    "            - Of type Z\n",
    "        '''\n",
    "        if self.type == 'instance':\n",
    "            self.method_mapper[f'{self.param}_{self.type}'].__get__(self)()\n",
    "        elif self.type in ['class']:\n",
    "            self.method_mapper[f'{self.param}_{self.type}'].__get__(self, Catalog)()\n",
    "        elif self.type in ['static']:\n",
    "            self.method_mapper[f'{self.param}_{self.type}'].__get__(None, Catalog)()\n",
    "\n",
    "Catalog('method1', 'instance').main()\n",
    "Catalog('method1', 'class').main()\n",
    "Catalog('method1', 'static').main()"
   ]
  }
 ],
 "metadata": {
  "kernelspec": {
   "display_name": "data_science",
   "language": "python",
   "name": "python3"
  },
  "language_info": {
   "codemirror_mode": {
    "name": "ipython",
    "version": 3
   },
   "file_extension": ".py",
   "mimetype": "text/x-python",
   "name": "python",
   "nbconvert_exporter": "python",
   "pygments_lexer": "ipython3",
   "version": "3.11.8"
  }
 },
 "nbformat": 4,
 "nbformat_minor": 2
}

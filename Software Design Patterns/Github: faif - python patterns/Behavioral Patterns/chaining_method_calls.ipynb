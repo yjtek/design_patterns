{
 "cells": [
  {
   "cell_type": "markdown",
   "metadata": {},
   "source": [
    "# Chaining Method Calls"
   ]
  },
  {
   "cell_type": "markdown",
   "metadata": {},
   "source": [
    "- This isn't really a pattern per se\n",
    "- Idea\n",
    "    - You have objects that interact with each other\n",
    "    - You want to have methods that can chain together seamlessly, e.g. obj.method1().method2().method3()\n",
    "    - But it is unclear how to chain the methods together, since they belong to different objects\n",
    "    - This is quite simple; simply return the `self` when calling the method\n",
    "    - in the example below, do_action returns the `Action` object being done, which lets use invoke `amount` and `stop` methods of `Action`"
   ]
  },
  {
   "cell_type": "code",
   "execution_count": 3,
   "metadata": {},
   "outputs": [
    {
     "name": "stdout",
     "output_type": "stream",
     "text": [
      "Jack moves \n",
      "5m \n",
      "and stops\n"
     ]
    }
   ],
   "source": [
    "class Action:\n",
    "    def __init__(self, name: str):\n",
    "        self.name = name\n",
    "    \n",
    "    def amount(self, amount: float):\n",
    "        print(f\"{amount}m \")\n",
    "        return self\n",
    "\n",
    "    def stop(self):\n",
    "        print(f\"and stops\")\n",
    "\n",
    "class Person:\n",
    "    def __init__(self, name: str):\n",
    "        self.name = name\n",
    "    \n",
    "    def do_action(self, action: Action) -> Action:\n",
    "        print(f'{self.name} {action.name} ')\n",
    "        return action\n",
    "\n",
    "move = Action('moves')\n",
    "person = Person('Jack')\n",
    "person.do_action(move).amount(5).stop()"
   ]
  }
 ],
 "metadata": {
  "kernelspec": {
   "display_name": "data_science",
   "language": "python",
   "name": "python3"
  },
  "language_info": {
   "codemirror_mode": {
    "name": "ipython",
    "version": 3
   },
   "file_extension": ".py",
   "mimetype": "text/x-python",
   "name": "python",
   "nbconvert_exporter": "python",
   "pygments_lexer": "ipython3",
   "version": "3.11.8"
  }
 },
 "nbformat": 4,
 "nbformat_minor": 2
}

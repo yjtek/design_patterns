{
 "cells": [
  {
   "cell_type": "markdown",
   "metadata": {},
   "source": [
    "# Specification"
   ]
  },
  {
   "cell_type": "markdown",
   "metadata": {},
   "source": [
    "- WILL NOT DO\n",
    "\n",
    "- This pattern is, for whatever reason, reinventing the `and` / `or` keywords into objects\n",
    "\n",
    "- I have no idea why we would ever do this. It is clunky, prone to error, pollutes your name space, and HARD TO WRITE AND READ\n",
    "\n",
    "- Never never use this"
   ]
  },
  {
   "cell_type": "markdown",
   "metadata": {},
   "source": []
  }
 ],
 "metadata": {
  "language_info": {
   "name": "python"
  }
 },
 "nbformat": 4,
 "nbformat_minor": 2
}

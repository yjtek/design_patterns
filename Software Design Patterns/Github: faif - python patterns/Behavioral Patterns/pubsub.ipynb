{
 "cells": [
  {
   "cell_type": "markdown",
   "metadata": {},
   "source": [
    "# Publish-Subscribe"
   ]
  },
  {
   "cell_type": "markdown",
   "metadata": {},
   "source": [
    "- Idea\n",
    "    - You have many different users, and many different event streams\n",
    "    - Different users want to listen to different streams\n",
    "        - For example, different Reddit users will want to subscribe to different subreddits\n",
    "    - How do we manage such a use case?\n",
    "        - We have a subscription manager (called a `Provider`) to manage the set of users (called `Subscriber`s), and the set of message producers (called `Publisher`s) that write to a `Topic`\n",
    "        - The Publishers will post a message to a `Topic` contained in the `Provider`\n",
    "        - The `Provider`, upon seeing a new message, updates all the `Subscribers` of that topic\n",
    "        - Each `Subscriber` can choose to subscribe or unsubscribe from a topic"
   ]
  },
  {
   "cell_type": "code",
   "execution_count": 6,
   "metadata": {},
   "outputs": [
    {
     "name": "stdout",
     "output_type": "stream",
     "text": [
      "YJ has received message='trees video!!!' from topic='DSA'\n",
      "YJ has received message='dogs video!!!' from topic='dogs'\n",
      "YY has received message='dogs video!!!' from topic='dogs'\n"
     ]
    }
   ],
   "source": [
    "class Subscriber:\n",
    "    def __init__(self, name: str, provider: 'Provider'):\n",
    "        self.name = name\n",
    "        self.provider: Provider = provider \n",
    "\n",
    "    def subscribe(self, topic: str):\n",
    "        if topic in self.provider.topic_subscriptions:\n",
    "            self.provider.topic_subscriptions.get(topic, []).append(self)\n",
    "        else:\n",
    "            self.provider.topic_subscriptions[topic] = [self]\n",
    "\n",
    "    def unsubscribe(self, topic: str):\n",
    "        if topic in self.provider.topic_subscriptions:\n",
    "            try:\n",
    "                self.provider.topic_subscriptions.get(topic, []).remove(self)\n",
    "            except ValueError:\n",
    "                pass\n",
    "    \n",
    "    def receive_message(self, topic: str, message: str):\n",
    "        print(f'{self.name} has received {message=} from {topic=}')\n",
    "\n",
    "class Publisher:\n",
    "    def __init__(self, name: str, provider: 'Provider'):\n",
    "        self.name: str = name\n",
    "        self.provider: Provider = provider\n",
    "\n",
    "    def post_message(self, message: str):\n",
    "        if self.name in self.provider.topic_messages:\n",
    "            self.provider.topic_messages.get(self.name, []).append(message)\n",
    "        else:\n",
    "            self.provider.topic_messages[self.name] = [message]\n",
    "        \n",
    "        self.provider.update_subscribers(self.name, message)\n",
    "\n",
    "class Provider:\n",
    "    def __init__(self):\n",
    "        self.topic_subscriptions: dict[str, list[Subscriber]] = {}\n",
    "        self.topic_messages: dict[str, list[str]] = {}\n",
    "\n",
    "    def update_subscribers(self, topic: str, message: str):\n",
    "        for subscriber in self.topic_subscriptions.get(topic, []):\n",
    "            subscriber.receive_message(topic, message)\n",
    "\n",
    "provider = Provider()\n",
    "\n",
    "dsa = Publisher('DSA', provider)\n",
    "cs = Publisher('CS', provider)\n",
    "skincare = Publisher('skincare', provider)\n",
    "kpop = Publisher('kpop', provider)\n",
    "dogs = Publisher('dogs', provider)\n",
    "\n",
    "yj = Subscriber('YJ', provider)\n",
    "yj.subscribe('CS')\n",
    "yj.subscribe('DSA')\n",
    "yj.subscribe('dogs')\n",
    "\n",
    "yy = Subscriber('YY', provider)\n",
    "yy.subscribe('skincare')\n",
    "yy.subscribe('kpop')\n",
    "yy.subscribe('dogs')\n",
    "\n",
    "dsa.post_message('trees video!!!')\n",
    "dogs.post_message('dogs video!!!')"
   ]
  }
 ],
 "metadata": {
  "kernelspec": {
   "display_name": "data_science",
   "language": "python",
   "name": "python3"
  },
  "language_info": {
   "codemirror_mode": {
    "name": "ipython",
    "version": 3
   },
   "file_extension": ".py",
   "mimetype": "text/x-python",
   "name": "python",
   "nbconvert_exporter": "python",
   "pygments_lexer": "ipython3",
   "version": "3.11.8"
  }
 },
 "nbformat": 4,
 "nbformat_minor": 2
}

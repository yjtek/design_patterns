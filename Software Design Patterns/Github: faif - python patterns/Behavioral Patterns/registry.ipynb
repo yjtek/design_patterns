{
 "cells": [
  {
   "cell_type": "markdown",
   "metadata": {},
   "source": [
    "# Registry"
   ]
  },
  {
   "cell_type": "markdown",
   "metadata": {},
   "source": [
    "- Sometimes, you might want a way to check the initialisation for a specific object\n",
    "- For instance, suppose I have an object `A` that can be subclassed into some complicated inheritance structure\n",
    "- What if I want to know how many objects of type `A` are floating around?\n",
    "\n",
    "- Python lets you define this thing called a `metaclass`. Remember that in Python, all objects and instances of a class. In the same way, all classes are an instance of the `type` metaclass\n",
    "    - Think of metaclasses as something that lets you modify the default behaviour of a class\n",
    "    - Just as classes are object factories, a metaclass is a class factory\n",
    "\n",
    "- Note that calling the `type()` function with these 3 arguments `type(name: str, bases: tuple, dct: dict)` automatically creates a new class with the following characteristics\n",
    "    - `__name__` is name\n",
    "    - `__bases__` is bases\n",
    "    - `__dict__` is dct\n",
    "\n",
    "- Once you understand what a metaclass is, the principle is the same as inheritance. \n",
    "- We define a new metaclass by subclassing it from `type`\n",
    "- Inside this metaclass, we instantiate a container array holding the names of all subclasses\n",
    "- Then, we write a custom `__new__` dunder for the metaclass\n",
    "    - This `__new__` will be called every time a new instance of a class or subclass from the metaclass is created\n",
    "    - So each time a new instance is created, register it to the container\n",
    "\n",
    "- At any point, you can simply call the container of the metaclass to see the number of objects of the metaclass type that have been instantiated"
   ]
  },
  {
   "cell_type": "code",
   "execution_count": 3,
   "metadata": {},
   "outputs": [
    {
     "data": {
      "text/plain": [
       "{'SubClass': __main__.SubClass, 'SubSubClass': __main__.SubSubClass}"
      ]
     },
     "execution_count": 3,
     "metadata": {},
     "output_type": "execute_result"
    }
   ],
   "source": [
    "## `type` signals that the class is meant to be a metaclass\n",
    "class ClassWithTracker(type):\n",
    "    REGISTRY: dict[str, 'ClassWithTracker'] = {}\n",
    "    \n",
    "    ## These are standard parameters for __new__. Something to just know/memorise\n",
    "    def __new__(cls, name, bases, attrs):\n",
    "        \n",
    "        ## When a new class is created, instantiate the metaclass with its name, bases and attributes\n",
    "        new_cls = super().__new__(cls, name, bases, attrs)\n",
    "        \n",
    "        ## Add new class into the REGISTRY dictionary\n",
    "        cls.REGISTRY[new_cls.__name__] = new_cls\n",
    "\n",
    "        return new_cls\n",
    "    \n",
    "    @classmethod\n",
    "    def show_registry(cls):\n",
    "        return cls.REGISTRY\n",
    "\n",
    "class SubClass(metaclass=ClassWithTracker):\n",
    "    ...\n",
    "\n",
    "ClassWithTracker.show_registry()\n",
    "\n",
    "class SubSubClass(SubClass):\n",
    "    ...\n",
    "\n",
    "ClassWithTracker.show_registry()"
   ]
  }
 ],
 "metadata": {
  "kernelspec": {
   "display_name": "data_science",
   "language": "python",
   "name": "python3"
  },
  "language_info": {
   "codemirror_mode": {
    "name": "ipython",
    "version": 3
   },
   "file_extension": ".py",
   "mimetype": "text/x-python",
   "name": "python",
   "nbconvert_exporter": "python",
   "pygments_lexer": "ipython3",
   "version": "3.11.8"
  }
 },
 "nbformat": 4,
 "nbformat_minor": 2
}

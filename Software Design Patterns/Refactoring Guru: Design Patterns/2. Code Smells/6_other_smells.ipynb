{
 "cells": [
  {
   "cell_type": "markdown",
   "metadata": {},
   "source": [
    "# Other smells"
   ]
  },
  {
   "cell_type": "markdown",
   "metadata": {},
   "source": [
    "## 1. Incomplete Library Class"
   ]
  },
  {
   "cell_type": "markdown",
   "metadata": {},
   "source": [
    "- Signs/Symptoms\n",
    "    - 3rd party libraries stop meeting user needs after some point, and modifying libraries are impossible because they are read-only\n",
    "\n",
    "- Causes\n",
    "    - 3rd praty dependencies \n",
    "\n",
    "- Treatment\n",
    "    - Either inherit from the class and modify the code (assuming the library doesn't force the class to be `final`), or pass some new object you create as an argument"
   ]
  },
  {
   "cell_type": "markdown",
   "metadata": {},
   "source": []
  }
 ],
 "metadata": {
  "language_info": {
   "name": "python"
  }
 },
 "nbformat": 4,
 "nbformat_minor": 2
}

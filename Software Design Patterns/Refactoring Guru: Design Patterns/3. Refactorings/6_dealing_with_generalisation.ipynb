{
 "cells": [
  {
   "cell_type": "markdown",
   "metadata": {},
   "source": [
    "# Dealing with Generalisation"
   ]
  },
  {
   "cell_type": "markdown",
   "metadata": {},
   "source": [
    "- Abstraction is a common design pattern, and has its own set of refactoring techniques\n",
    "- This is mainly to move functionality along the class inheritance hierarchy, creating new classes and interfaces, and replacing inheritance with delegation and vice versa"
   ]
  },
  {
   "cell_type": "markdown",
   "metadata": {},
   "source": [
    "## 1. Pull Up Field\n"
   ]
  },
  {
   "cell_type": "markdown",
   "metadata": {},
   "source": [
    "- Problem\n",
    "    - Two classes/subclasses have the same field\n",
    "\n",
    "- Solution\n",
    "    - Put field into parent class\n",
    "\n",
    "- Motivation\n",
    "    - Avoid repetition\n",
    "\n",
    "- Relationships with other refactoring methods\n",
    "    - Opposite \n",
    "        - Push down field\n",
    "    - Similar\n",
    "        - Pull up method\n",
    "\n",
    "- Related code smells\n",
    "    - Duplicate Code\n",
    "\n",
    "- Example:"
   ]
  },
  {
   "cell_type": "code",
   "execution_count": 1,
   "metadata": {},
   "outputs": [],
   "source": [
    "class SuperClass:\n",
    "    def __init__(self):\n",
    "        ## add attr here instead\n",
    "        self.attr = 123\n",
    "\n",
    "class SubClass1(SuperClass):\n",
    "    def __init__(self):\n",
    "        ## Remove attr from here\n",
    "        # self.attr = 123\n",
    "        ...\n",
    "\n",
    "class SubClass2(SuperClass):\n",
    "    def __init__(self):\n",
    "        ## Remove attr from here\n",
    "        # self.attr = 123\n",
    "        ..."
   ]
  },
  {
   "cell_type": "markdown",
   "metadata": {},
   "source": [
    "## 2. Pull Up Method"
   ]
  },
  {
   "cell_type": "markdown",
   "metadata": {},
   "source": [
    "- Problem\n",
    "    - You have subclasses with methods that perform the same/similar jobs\n",
    "\n",
    "- Solution\n",
    "    - Pull the method into the superclass\n",
    "\n",
    "- Motivation\n",
    "    - Minimise repetition\n",
    "\n",
    "- Relationships with other refactoring methods\n",
    "    - Opposite \n",
    "        - Push Down Method\n",
    "    - Similar\n",
    "        - Pull Up Field\n",
    "    - Related\n",
    "        - Form Template Method\n",
    "\n",
    "- Related code smells\n",
    "    - Duplicate Code\n",
    "\n",
    "- Example:"
   ]
  },
  {
   "cell_type": "markdown",
   "metadata": {},
   "source": [
    "## 3. Pull Up Constructor Body"
   ]
  },
  {
   "cell_type": "markdown",
   "metadata": {},
   "source": [
    "- Problem\n",
    "    - You have subclasses with constructors that are almost identical (i.e. same attributes provided etc)\n",
    "\n",
    "- Solution\n",
    "    - Pull the attribute definition into the superclass\n",
    "\n",
    "- Motivation\n",
    "    - Minimise repetition\n",
    "\n",
    "- Relationships with other refactoring methods\n",
    "    - Similar\n",
    "        - Pull Up Method\n",
    "\n",
    "- Related code smells\n",
    "    - Duplicate Code\n",
    "\n",
    "- Example:"
   ]
  },
  {
   "cell_type": "code",
   "execution_count": null,
   "metadata": {},
   "outputs": [],
   "source": [
    "class Employee:\n",
    "    def __init__(self, name, id, gender):\n",
    "        ## Put name, gender, ID here, instead of in the subclasses\n",
    "        self.name=name\n",
    "        self.id=id\n",
    "        self.gender=gender\n",
    "\n",
    "class Manager(Employee):\n",
    "    def __init__(self, name, id, gender):\n",
    "        ## Call superclass init\n",
    "        super().__init__(name, id, gender)\n",
    "\n",
    "class Minion(Employee):\n",
    "    def __init__(self, name, id, gender):\n",
    "        ## Call superclass init\n",
    "        super().__init__(name, id, gender)"
   ]
  },
  {
   "cell_type": "markdown",
   "metadata": {},
   "source": [
    "## 4. Push Down Method"
   ]
  },
  {
   "cell_type": "markdown",
   "metadata": {},
   "source": [
    "- Problem\n",
    "    - You have behaviour in the superclass that is used by only 1 or very few subclasses\n",
    "\n",
    "- Solution\n",
    "    - Move behaviour to subclass\n",
    "\n",
    "- Motivation\n",
    "    - More coherence in the superclass, place methods where they are used\n",
    "\n",
    "- Relationships with other refactoring methods\n",
    "    - Opposite \n",
    "        - Pull Up Method\n",
    "    - Similar\n",
    "        - Push Down Field\n",
    "    - Related\n",
    "        - Extract Subclass\n",
    "\n",
    "- Related code smells\n",
    "    - Refused Bequest\n",
    "\n",
    "- Example:"
   ]
  },
  {
   "cell_type": "markdown",
   "metadata": {},
   "source": [
    "## 5. Push Down Field"
   ]
  },
  {
   "cell_type": "markdown",
   "metadata": {},
   "source": [
    "- Problem\n",
    "    - You have a field in the superclass that is only used in the subclass\n",
    "\n",
    "- Solution\n",
    "    - Push the field into the subclass\n",
    "\n",
    "- Motivation\n",
    "    - Minimise fields in superclass that are unnecessary\n",
    "    - Better class coherence\n",
    "\n",
    "- Relationships with other refactoring methods\n",
    "    - Opposite \n",
    "        - Pull up field\n",
    "    - Similar\n",
    "        - Push down method\n",
    "    - Related\n",
    "        - Extract subclass\n",
    "\n",
    "- Related code smells\n",
    "    - Refused Bequest\n",
    "\n",
    "- Example:"
   ]
  },
  {
   "cell_type": "markdown",
   "metadata": {},
   "source": [
    "## 6. Extract Subclass"
   ]
  },
  {
   "cell_type": "markdown",
   "metadata": {},
   "source": [
    "- Problem\n",
    "    - You have have code in your superclass that returns a different behaviour depending on the signature of the input\n",
    "\n",
    "- Solution\n",
    "    - Pull out special behaviour into a subclass, and use polymorphism\n",
    "\n",
    "- Motivation\n",
    "    - Less if/else makes for cleaner flow, and easier refactoring\n",
    "\n",
    "- Relationships with other refactoring methods\n",
    "    - Similar\n",
    "        - Extract class\n",
    "\n",
    "- Related code smells\n",
    "    - Large Class\n",
    "\n",
    "- Example:"
   ]
  },
  {
   "cell_type": "code",
   "execution_count": null,
   "metadata": {},
   "outputs": [],
   "source": [
    "class bad__Employee:\n",
    "    def __init__(self, type: str):\n",
    "        self.type=type\n",
    "\n",
    "    def get_pay(self):\n",
    "        if self.type == 'manager':\n",
    "            return 100\n",
    "        else:\n",
    "            return 80\n",
    "        \n",
    "class good__Employee:\n",
    "    def get_pay(self) -> float:\n",
    "        return 80\n",
    "    \n",
    "class Manager(good__Employee):\n",
    "    def get_pay(self) -> float:\n",
    "        return 100\n",
    "    "
   ]
  },
  {
   "cell_type": "markdown",
   "metadata": {},
   "source": [
    "## 7. Extract Superclass"
   ]
  },
  {
   "cell_type": "markdown",
   "metadata": {},
   "source": [
    "- Problem\n",
    "    - You have two classes with common fields/methods\n",
    "\n",
    "- Solution\n",
    "    - Make a shared superclass and moved the repeated stuff to the superclass\n",
    "\n",
    "- Motivation\n",
    "    - Less repetition of code. \n",
    "    - Single source of truth, when things need to change, you only need to edit 1 class instead of 2\n",
    "\n",
    "- Relationships with other refactoring methods\n",
    "    - Similar\n",
    "        - Extract Interface\n",
    "\n",
    "- Related code smells\n",
    "    - Duplicate Code\n",
    "\n",
    "- Example:"
   ]
  },
  {
   "cell_type": "code",
   "execution_count": 1,
   "metadata": {},
   "outputs": [],
   "source": [
    "class Animal:\n",
    "    def __init__(self, legs):\n",
    "        self.legs=legs\n",
    "\n",
    "    def count_legs(self):\n",
    "        return self.legs\n",
    "    \n",
    "class Person(Animal):\n",
    "    ## Move `legs` field to superclass\n",
    "    def __init__(self):\n",
    "        super().__init__(legs=2)\n",
    "        # self.legs = 2\n",
    "\n",
    "class Dog(Animal):\n",
    "    ## Move `legs` field to superclass\n",
    "    def __init__(self):\n",
    "        super().__init__(legs=2)\n",
    "        # self.legs = 4\n"
   ]
  },
  {
   "cell_type": "markdown",
   "metadata": {},
   "source": [
    "## 8. Extract Interface\n"
   ]
  },
  {
   "cell_type": "markdown",
   "metadata": {},
   "source": [
    "- Problem\n",
    "    - You have multiple classes implementing similar pattern of methods\n",
    "    - AND these classes don't have a clear group for you to group them together as a superclass\n",
    "\n",
    "- Solution\n",
    "    - Rather than rely on inheritance, define an interface, and let your classes implement this interface\n",
    "    - In Python, you can't really define an interface. As of 2024, you have 2 options; either define a `typing.Protocol` class and let your static type checkers handle duck-typing, or inherit from the good old `abc.ABC` with `@abstratmethod`\n",
    "\n",
    "- Motivation\n",
    "    - There are occasions where you have some extensible library of objects, and you want to ensure that anything new MUST implement some minimum set of methods\n",
    "    - Making an explicit interface and requiring all new additions to implement it helps coordinate code\n",
    "    - This is almost like `Extract Superclass` that we saw previously, except that a superclass can contain actual implementations of methods and attributes, not just a common interface\n",
    "\n",
    "- Relationships with other refactoring methods\n",
    "    - Similar\n",
    "        - Extract Superclass\n",
    "\n",
    "- Example:"
   ]
  },
  {
   "cell_type": "code",
   "execution_count": 19,
   "metadata": {},
   "outputs": [
    {
     "name": "stdout",
     "output_type": "stream",
     "text": [
      "True\n",
      "True\n",
      "True\n",
      "True\n"
     ]
    }
   ],
   "source": [
    "from abc import ABC, abstractmethod\n",
    "from typing import Protocol, runtime_checkable\n",
    "\n",
    "@runtime_checkable\n",
    "class HasLegsProtocol(Protocol):\n",
    "    legs: int\n",
    "\n",
    "    def count_legs(self) -> int:\n",
    "        ...\n",
    "    \n",
    "class HasLegsBaseClass(ABC):\n",
    "    def __init__(self, legs: int):\n",
    "        self.legs=legs\n",
    "\n",
    "    @abstractmethod\n",
    "    def count_legs(self) -> int:\n",
    "        ...\n",
    "    \n",
    "class PersonProtocolImplicit:\n",
    "    def __init__(self):\n",
    "        self.legs: int =2\n",
    "\n",
    "    def count_legs(self) -> int:\n",
    "        return self.legs\n",
    "    \n",
    "class PersonProtocolExplicit(HasLegsProtocol):\n",
    "    def __init__(self):\n",
    "        self.legs: int =2\n",
    "\n",
    "    def count_legs(self) -> int:\n",
    "        return self.legs\n",
    "\n",
    "class PersonBaseClass(HasLegsBaseClass):\n",
    "    def __init__(self):\n",
    "        self.legs: int =2\n",
    "\n",
    "    def count_legs(self) -> int:\n",
    "        return self.legs\n",
    "\n",
    "\n",
    "test1 = PersonProtocolImplicit()\n",
    "print(isinstance(test1, HasLegsProtocol)) ##Protocol signature is implemented, so this returns True even without explicit inheritance\n",
    "\n",
    "test2 = PersonProtocolExplicit()\n",
    "print(isinstance(test2, HasLegsProtocol)) ##We can still inherit explicitly from protocol\n",
    "\n",
    "test3 = PersonBaseClass()\n",
    "print(isinstance(test3, HasLegsBaseClass)) ##In the same way, we can simply rely on inheritance from an abc\n",
    "print(isinstance(test3, HasLegsProtocol)) ##BUT even without explicitly stating the inheritance, notice that our object is STILL an instance of the protocol!"
   ]
  },
  {
   "cell_type": "markdown",
   "metadata": {},
   "source": [
    "## 9. Collapse Hierarchy"
   ]
  },
  {
   "cell_type": "markdown",
   "metadata": {},
   "source": [
    "- Problem\n",
    "    - You have a class hierachy where a subclass is the same as the superclass\n",
    "\n",
    "- Solution\n",
    "    - Remove either subclass or superclass, since there is no actual need for inheritance\n",
    "\n",
    "- Motivation\n",
    "    - Don't specify inheritance relationships unless it is needed. Else you have 2 points of failure instead of 1\n",
    "\n",
    "- Relationships with other refactoring methods\n",
    "    - Similar\n",
    "        - Inline Class\n",
    "\n",
    "- Related code smells\n",
    "    - Lazy Class\n",
    "    - Speculative Generality\n",
    "\n",
    "- Example:"
   ]
  },
  {
   "cell_type": "markdown",
   "metadata": {},
   "source": [
    "## 10. Form Template Method"
   ]
  },
  {
   "cell_type": "markdown",
   "metadata": {},
   "source": [
    "- Problem\n",
    "    - Your subclasses implement a method that have the same steps, but with slight differences in each step\n",
    "\n",
    "- Solution\n",
    "    - Put a \"template\" of the method in the superclass, and delegate the specific implementations of the substeps into the subclasses\n",
    "\n",
    "- Motivation\n",
    "    - Minimise repetition\n",
    "    - As much as possible, let your code have a single source of truth\n",
    "\n",
    "- Related Design Pattern\n",
    "    - Template Method\n",
    "\n",
    "- Related code smells\n",
    "    - Duplicate Code\n",
    "\n",
    "- Example:"
   ]
  },
  {
   "cell_type": "code",
   "execution_count": 22,
   "metadata": {},
   "outputs": [
    {
     "data": {
      "text/plain": [
       "240.0"
      ]
     },
     "execution_count": 22,
     "metadata": {},
     "output_type": "execute_result"
    }
   ],
   "source": [
    "from abc import ABC, abstractmethod\n",
    "\n",
    "class TaxableResidence:\n",
    "    \n",
    "    ## Implement template for computing tax here...\n",
    "    def get_tax_amount(self):\n",
    "        base_amount = self.get_base_amount()\n",
    "        final_tax_amount = self.adjust_base_amount(base_amount)\n",
    "        return final_tax_amount\n",
    "    \n",
    "    ## ...but delegate the implementation of the substeps to the subclasses\n",
    "    @abstractmethod\n",
    "    def get_base_amount(self) -> float:\n",
    "        ...\n",
    "\n",
    "    @abstractmethod\n",
    "    def adjust_base_amount(self, base_amount) -> float:\n",
    "        ...\n",
    "\n",
    "class HDBResidence(TaxableResidence):\n",
    "    ## Implementation of substeps here\n",
    "    def get_base_amount(self) -> float:\n",
    "        return 100\n",
    "    \n",
    "    def adjust_base_amount(self, base_amount) -> float:\n",
    "        return base_amount*1.1\n",
    "\n",
    "class GCBResidence(TaxableResidence):\n",
    "    def get_base_amount(self) -> float:\n",
    "        return 200\n",
    "    \n",
    "    def adjust_base_amount(self, base_amount) -> float:\n",
    "        return base_amount*1.2\n",
    "\n",
    "\n",
    "hdb = HDBResidence()\n",
    "gcb = GCBResidence()\n",
    "hdb.get_tax_amount()\n",
    "gcb.get_tax_amount()"
   ]
  },
  {
   "cell_type": "markdown",
   "metadata": {},
   "source": [
    "## 11. Replace Inheritance with Delegation"
   ]
  },
  {
   "cell_type": "markdown",
   "metadata": {},
   "source": [
    "- Problem\n",
    "    - You have a subclass that uses only a portion of the superclass's methods\n",
    "\n",
    "- Solution\n",
    "    - Rather than inheritance, consider using composition instead \n",
    "    - That is, remove the inheritance relationship, and pass an instance of the superclass as a field \n",
    "    - Then, delegate all methods to the original superclass\n",
    "\n",
    "- Motivation\n",
    "    - Don't have inheritance relationships unless you REALLY want 2 things to be coupled tightly\n",
    "    - Inheritance is much harder to maintain\n",
    "\n",
    "- Downside\n",
    "    - Delegation requires you to write delegation methods, which an lead to a lot of your class's method just being middlemen\n",
    "\n",
    "- Relationships with other refactoring methods\n",
    "    - Opposite \n",
    "        - Replace Delegation with Inheritance\n",
    "\n",
    "- Related Design Pattern\n",
    "    - Strategy\n",
    "\n",
    "- Example:"
   ]
  },
  {
   "cell_type": "code",
   "execution_count": 25,
   "metadata": {},
   "outputs": [
    {
     "name": "stdout",
     "output_type": "stream",
     "text": [
      "process_data 1\n",
      "process_data 2\n",
      "process_data 1\n",
      "process_data 2\n"
     ]
    }
   ],
   "source": [
    "class DataProcessor:\n",
    "    def __init__(self):\n",
    "        ...\n",
    "    \n",
    "    def process_data_1(self):\n",
    "        print('process_data 1')\n",
    "        \n",
    "    def process_data_2(self):\n",
    "        print('process_data 2')\n",
    "\n",
    "class bad__Reporter(DataProcessor):\n",
    "    def __init__(self):\n",
    "        ...\n",
    "\n",
    "class good__Reporter():\n",
    "    def __init__(self):\n",
    "        self.processor = DataProcessor()\n",
    "\n",
    "    ## Trading off more lines of code, with no inheritance structure\n",
    "    def process_data_1(self):\n",
    "        self.processor.process_data_1()\n",
    "    \n",
    "    def process_data_2(self):\n",
    "        self.processor.process_data_2()\n",
    "\n",
    "br = bad__Reporter()\n",
    "br.process_data_1()\n",
    "br.process_data_2()\n",
    "\n",
    "gr = good__Reporter()\n",
    "gr.process_data_1()\n",
    "gr.process_data_2()"
   ]
  },
  {
   "cell_type": "markdown",
   "metadata": {},
   "source": [
    "## 12. Replace Delegation with Inheritance"
   ]
  },
  {
   "cell_type": "markdown",
   "metadata": {},
   "source": [
    "- Problem\n",
    "    - A class contains many methods that just delegate to another class\n",
    "\n",
    "- Solution\n",
    "    - Let the class containing the methods inherit from the class instead of delegating\n",
    "\n",
    "- Motivation\n",
    "    - Minimise lines of code\n",
    "    - This is simply the inverse of `Replace Inheritance with Delegation`\n",
    "    - As stated, the trade off here is between how many lines of code your class has, balanced against the difficulty of maintaining the inheritance relationship\n",
    "    \n",
    "- Relationships with other refactoring methods\n",
    "    - Opposite \n",
    "        - Replace Inheritance with Delegation\n",
    "    - Similar\n",
    "        - Remove Middle Man\n",
    "\n",
    "- Related code smells\n",
    "    - Inappropriate Intimacy\n",
    "\n",
    "- Example:"
   ]
  }
 ],
 "metadata": {
  "kernelspec": {
   "display_name": "dsa_prep",
   "language": "python",
   "name": "python3"
  },
  "language_info": {
   "codemirror_mode": {
    "name": "ipython",
    "version": 3
   },
   "file_extension": ".py",
   "mimetype": "text/x-python",
   "name": "python",
   "nbconvert_exporter": "python",
   "pygments_lexer": "ipython3",
   "version": "3.10.13"
  }
 },
 "nbformat": 4,
 "nbformat_minor": 2
}

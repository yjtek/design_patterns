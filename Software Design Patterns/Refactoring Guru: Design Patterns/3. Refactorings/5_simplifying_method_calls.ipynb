{
 "cells": [
  {
   "cell_type": "markdown",
   "metadata": {},
   "source": [
    "# Simplifying Method Calls"
   ]
  },
  {
   "cell_type": "markdown",
   "metadata": {},
   "source": [
    "- Make method calls simpler and easier to understand. \n",
    "- Which makes it easier for classes to work with each other"
   ]
  },
  {
   "cell_type": "markdown",
   "metadata": {},
   "source": [
    "## 1. Rename Method"
   ]
  },
  {
   "cell_type": "markdown",
   "metadata": {},
   "source": [
    "- Problem\n",
    "    - Your method name doesn't explain what it is doing\n",
    "    - In my experience, it helps to put a verb in the method name, since it fits with the idea that \"a class IS something\" and \"a method DOES something\"\n",
    "\n",
    "- Solution\n",
    "    - Rename the method properly\n",
    "\n",
    "- Motivation\n",
    "    - A poorly named method is one that will never be used properly\n",
    "    - And maintenance will be a pain\n",
    "\n",
    "- Relationships with other refactoring methods\n",
    "    - Similar\n",
    "        - Add Parameter\n",
    "        - Remove Parameter\n",
    "\n",
    "- Related code smells\n",
    "    - Alternative Classes with Different Interfaces\n",
    "    - Comments\n",
    "\n",
    "- Example:"
   ]
  },
  {
   "cell_type": "code",
   "execution_count": 1,
   "metadata": {},
   "outputs": [],
   "source": [
    "class Person():\n",
    "    def __init__(self):\n",
    "        self.name = 'hello good bye'\n",
    "\n",
    "    def bad__gln(self):\n",
    "        return self.name.split(' ')[-1]\n",
    "    \n",
    "    def good__get_last_name(self):\n",
    "        return self.name.split(' ')[-1]"
   ]
  },
  {
   "cell_type": "markdown",
   "metadata": {},
   "source": [
    "## 2. Add Parameter"
   ]
  },
  {
   "cell_type": "markdown",
   "metadata": {},
   "source": [
    "- Problem\n",
    "    - A method doesn't have enough data to do what it needs to do\n",
    "\n",
    "- Solution\n",
    "    - Add appropriate parameters into the method\n",
    "\n",
    "- Motivation\n",
    "    - You can choose to do this, or add a new private field that the method refers to\n",
    "    - If the parameter required is infrequently accessed, or is only accessed by a single operation, then it may be better to put it as a parameter, because holding it as a field bloats your object\n",
    "\n",
    "- Drawback\n",
    "    - Adding a parameter is easy, but removing it is hard\n",
    "    - If you find that you need to do this often, it may be a sign that your method is in the wrong place since it doesn't have access to the necessary data\n",
    "\n",
    "- Relationships with other refactoring methods\n",
    "    - Opposite \n",
    "        - Remove Parameter\n",
    "    - Similar\n",
    "        - Rename Method\n",
    "    - Related\n",
    "        - Introduce Parameter Object\n",
    "\n",
    "- Example:"
   ]
  },
  {
   "cell_type": "markdown",
   "metadata": {},
   "source": [
    "## 3. Remove Parameter"
   ]
  },
  {
   "cell_type": "markdown",
   "metadata": {},
   "source": [
    "- Problem\n",
    "    - A parameter isn't used in your method call at all\n",
    "\n",
    "- Solution\n",
    "    - Remove it\n",
    "    - Any competent IDE will flag such issues\n",
    "\n",
    "- Relationships with other refactoring methods\n",
    "    - Opposite \n",
    "        - Add parameter\n",
    "    - Similar\n",
    "        - Rename Method\n",
    "    - Related\n",
    "        - Replace Parameter with Method Call\n",
    "\n",
    "- Related code smells\n",
    "    - Speculative Generality\n",
    "\n",
    "- Example:"
   ]
  },
  {
   "cell_type": "markdown",
   "metadata": {},
   "source": [
    "## 4. Separate Query from Modifier"
   ]
  },
  {
   "cell_type": "markdown",
   "metadata": {},
   "source": [
    "- Problem\n",
    "    - You have a method that handles 2 things; retrieving some data (e.g. a DB query) and modifying it\n",
    "\n",
    "- Solution\n",
    "    - Make 2 methods instead of 1, so you can query independently of the modification\n",
    "        - e.g. go from `get_and_modify_data()` to `get_data()` and `modify_data()`\n",
    "\n",
    "- Motivation\n",
    "    - Segregation of Concerns (here, the concerns are querying, and modifying data)\n",
    "\n",
    "- Relationships with other refactoring methods\n",
    "    - Related\n",
    "        - Replace Temp with Query\n",
    "\n",
    "- Example:"
   ]
  },
  {
   "cell_type": "markdown",
   "metadata": {},
   "source": [
    "## 5. Parameterize Method"
   ]
  },
  {
   "cell_type": "markdown",
   "metadata": {},
   "source": [
    "- Problem\n",
    "    - You have methods that perform similar actions, with only minor differenes in their interval values, numbers, or operations\n",
    "\n",
    "- Solution\n",
    "    - Make a single method and add parameter to control the behaviour\n",
    "\n",
    "- Motivation\n",
    "    - Don't clutter your code with useless duplicated methods\n",
    "\n",
    "- Drawback\n",
    "    - Don't take this too far. If you end up with a method with a huge number of parameters, it means something has gone horribly wrong\n",
    "\n",
    "- Relationships with other refactoring methods\n",
    "    - Opposite\n",
    "        - Replace Parameter with Explicit Methods\n",
    "    - Related\n",
    "        - Extract Method\n",
    "        - Form Template Method\n",
    "\n",
    "- Relationships with code smells\n",
    "    - Duplicate Code\n",
    "\n",
    "- Example:"
   ]
  },
  {
   "cell_type": "code",
   "execution_count": 2,
   "metadata": {},
   "outputs": [],
   "source": [
    "class bad__Person():\n",
    "    def __init__(self):\n",
    "        self.salary = 100\n",
    "\n",
    "    def give_5_percent_raise(self):\n",
    "        self.salary *= 1.05\n",
    "\n",
    "    def give_10_percent_raise(self):\n",
    "        self.salary *= 1.10\n",
    "\n",
    "class good__Person():\n",
    "    def __init__(self):\n",
    "        self.salary = 100\n",
    "\n",
    "    def give_raise(self, multiple):\n",
    "        self.salary *= multiple"
   ]
  },
  {
   "cell_type": "markdown",
   "metadata": {},
   "source": [
    "## 6. Replace Parameter with Explicit Methods"
   ]
  },
  {
   "cell_type": "markdown",
   "metadata": {},
   "source": [
    "- Problem\n",
    "    - You have a long convoluted method that has non-specific behaviour depending on inputs, and you constantly have to add new cases to it\n",
    "\n",
    "- Solution\n",
    "    - Separate the behaviours out into desired methods\n",
    "\n",
    "- Motivation\n",
    "    - Reduce complication in your method, at the cost of adding more methods\n",
    "\n",
    "- Relationships with other refactoring methods\n",
    "    - Opposite \n",
    "        - Parameterize Method\n",
    "    - Similar\n",
    "        - Replace Conditional with Polymorphism\n",
    "\n",
    "- Related code smells\n",
    "    - Switch Statements\n",
    "    - Long Method\n",
    "    \n",
    "- Example:"
   ]
  },
  {
   "cell_type": "code",
   "execution_count": null,
   "metadata": {},
   "outputs": [],
   "source": [
    "class bad__Rectangle():\n",
    "    def __init__(self):\n",
    "        ...\n",
    "\n",
    "    def set_value(self, type: str, value: float):\n",
    "        if type == 'length':\n",
    "            self.length = value\n",
    "            return\n",
    "        if type == 'breadth':\n",
    "            self.breadth = value\n",
    "            return\n",
    "        \n",
    "        raise ValueError('Type can only be length or breadth')\n",
    "\n",
    "class good__Rectangle():\n",
    "    def __init__(self):\n",
    "        ...\n",
    "\n",
    "    def set_length(self, value: float):\n",
    "        self.length = value\n",
    "\n",
    "    def set_breadth(self, value: float):\n",
    "        self.breadth = value\n"
   ]
  },
  {
   "cell_type": "markdown",
   "metadata": {},
   "source": [
    "## 7. Preserve Whole Object"
   ]
  },
  {
   "cell_type": "markdown",
   "metadata": {},
   "source": [
    "- Problem\n",
    "    - You have some lines of code that simply retrieves values from an object, and passes them on as parameters\n",
    "\n",
    "- Solution\n",
    "    - Instead of unmarshalling the object unnecessarily, just pass the whole object. \n",
    "\n",
    "- Motivation\n",
    "    - Simplify your parameter list\n",
    "    - Make it easier to use the method\n",
    "\n",
    "- Relationships with other refactoring methods\n",
    "    - Similar\n",
    "        - Introduce Parameter Object\n",
    "        - Replace Parameter with Method Call\n",
    "\n",
    "- Related code smells\n",
    "    - Primitive Obsession\n",
    "    - Long Parameter List\n",
    "    - Long Method\n",
    "    - Data Clumps\n",
    "    \n",
    "- Example:"
   ]
  },
  {
   "cell_type": "code",
   "execution_count": 3,
   "metadata": {},
   "outputs": [
    {
     "data": {
      "text/plain": [
       "True"
      ]
     },
     "execution_count": 3,
     "metadata": {},
     "output_type": "execute_result"
    }
   ],
   "source": [
    "class days_temp_range():\n",
    "    def __init__(self):\n",
    "        self.low = 0\n",
    "        self.high = 100\n",
    "\n",
    "def bad__check_within_range(low, high, value):\n",
    "    return (value >= low) and (value <= high)\n",
    "\n",
    "def good__check_within_range(dtr, value):\n",
    "    return (value >= dtr.low) and (value <= dtr.high)\n",
    "\n",
    "dtr = days_temp_range()\n",
    "low = dtr.low\n",
    "high = dtr.high\n",
    "\n",
    "bad__check_within_range(low, high, 10)\n",
    "good__check_within_range(dtr, 10)"
   ]
  },
  {
   "cell_type": "markdown",
   "metadata": {},
   "source": [
    "## 8. Replace Parameter with Method Call"
   ]
  },
  {
   "cell_type": "markdown",
   "metadata": {},
   "source": [
    "- Problem\n",
    "    - You have some logic that requires some method calls, and then passes the output of these calls into another method\n",
    "\n",
    "- Solution\n",
    "    - Just let the final method call do the calling of the methods to get the parameters it requires\n",
    "\n",
    "- Motivation\n",
    "    - This way, you don't clutter up your memory with fields that you only use once\n",
    "    - Besides, it reduces the number of parameters needed for the method\n",
    "\n",
    "- Drawbacks\n",
    "    - If the `get_parameter()` method is used frequently, it may be more efficient to call it once and pass the value\n",
    "    - As with all things, it is a tradeoff\n",
    "\n",
    "- Example:"
   ]
  },
  {
   "cell_type": "code",
   "execution_count": null,
   "metadata": {},
   "outputs": [],
   "source": [
    "class TestClass:\n",
    "    def __init__(self):\n",
    "        self.param1 = 123\n",
    "        self.param2 = 234\n",
    "    \n",
    "    def get_param1(self):\n",
    "        return self.param1\n",
    "    \n",
    "    def get_param2(self):\n",
    "        return self.param2\n",
    "\n",
    "    def bad__make_use_of_params(self, p1, p2):\n",
    "        return p1 * p2\n",
    "\n",
    "    def bad__do_something(self):\n",
    "        p1 = self.get_param1()\n",
    "        p2 = self.get_param2()\n",
    "        return self.bad__make_use_of_params(p1, p2)\n",
    "\n",
    "    def good__do_something(self):\n",
    "        p1 = self.get_param1()\n",
    "        p2 = self.get_param2()\n",
    "        return p1 * p2"
   ]
  },
  {
   "cell_type": "markdown",
   "metadata": {},
   "source": [
    "## 9. Introduce Parameter Object"
   ]
  },
  {
   "cell_type": "markdown",
   "metadata": {},
   "source": [
    "- Problem\n",
    "    - In your list of parameters, all the objects are related and repeated\n",
    "\n",
    "- Solution\n",
    "    - Instead of introducing these parameters one by one, just group them into an object and pass it in the object\n",
    "\n",
    "- Motivation\n",
    "    - Consolidated parameters provide cleaner method interface\n",
    "\n",
    "- Drawbacks\n",
    "    - If the entire point of a class is to hold the data without any corresponding operations, this is the \"Data Class\" code smell\n",
    "    - To be honest, it's not an entirely horrible thing to have a dataclass, so it might be the least of all evils for a more concise method signature\n",
    "\n",
    "- Relationships with other refactoring methods\n",
    "    - Similar\n",
    "        - Preserve Whole Object\n",
    "\n",
    "- Related code smells\n",
    "    - Long Parameter List\n",
    "    - Data Clumps\n",
    "    - Primitive Obsession\n",
    "    - Long Method\n",
    "\n",
    "- Example:"
   ]
  },
  {
   "cell_type": "code",
   "execution_count": 1,
   "metadata": {},
   "outputs": [],
   "source": [
    "def bad__do_something(start_date, end_date, partition_date):\n",
    "    ...\n",
    "\n",
    "class DateObject():\n",
    "    def __init__(self):\n",
    "        self.start_date = ''\n",
    "        self.end_date = ''\n",
    "        self.partition_date = ''\n",
    "\n",
    "def good__do_something(date_object: DateObject):\n",
    "    ..."
   ]
  },
  {
   "cell_type": "markdown",
   "metadata": {},
   "source": [
    "## 10. Remove Setting Method"
   ]
  },
  {
   "cell_type": "markdown",
   "metadata": {},
   "source": [
    "- Problem\n",
    "    - Ideally, the value of a field should be set at the class's creation, and not be modified afterwards\n",
    "    - This is not a hard rule, there are cases where you do want stuff to be changeable, but generally it's not ideal to expose everything to change\n",
    "\n",
    "- Solution\n",
    "    - Remove setter method\n",
    "\n",
    "- Motivation\n",
    "    - Minimising mutability reduces unexpected sources of error\n",
    "\n",
    "- How to refactor\n",
    "    - In Python, you can just use `@property` and not define a setter\n",
    "\n",
    "- Relationships with other refactoring methods\n",
    "    - Related\n",
    "        - Change Reference to Value\n",
    "\n",
    "- Example:"
   ]
  },
  {
   "cell_type": "code",
   "execution_count": 5,
   "metadata": {},
   "outputs": [
    {
     "ename": "Warning",
     "evalue": "No setter defined",
     "output_type": "error",
     "traceback": [
      "\u001b[0;31m---------------------------------------------------------------------------\u001b[0m",
      "\u001b[0;31mWarning\u001b[0m                                   Traceback (most recent call last)",
      "Cell \u001b[0;32mIn[5], line 15\u001b[0m\n\u001b[1;32m     13\u001b[0m test \u001b[38;5;241m=\u001b[39m TestClass()\n\u001b[1;32m     14\u001b[0m test\u001b[38;5;241m.\u001b[39mattribute\n\u001b[0;32m---> 15\u001b[0m \u001b[43mtest\u001b[49m\u001b[38;5;241;43m.\u001b[39;49m\u001b[43mattribute\u001b[49m \u001b[38;5;241m=\u001b[39m \u001b[38;5;241m234\u001b[39m\n",
      "Cell \u001b[0;32mIn[5], line 11\u001b[0m, in \u001b[0;36mTestClass.attribute\u001b[0;34m(self, value)\u001b[0m\n\u001b[1;32m      9\u001b[0m \u001b[38;5;129m@attribute\u001b[39m\u001b[38;5;241m.\u001b[39msetter\n\u001b[1;32m     10\u001b[0m \u001b[38;5;28;01mdef\u001b[39;00m \u001b[38;5;21mattribute\u001b[39m(\u001b[38;5;28mself\u001b[39m, value):\n\u001b[0;32m---> 11\u001b[0m     \u001b[38;5;28;01mraise\u001b[39;00m \u001b[38;5;167;01mWarning\u001b[39;00m(\u001b[38;5;124m\"\u001b[39m\u001b[38;5;124mNo setter defined\u001b[39m\u001b[38;5;124m\"\u001b[39m)\n",
      "\u001b[0;31mWarning\u001b[0m: No setter defined"
     ]
    }
   ],
   "source": [
    "class TestClass():\n",
    "    def __init__(self):\n",
    "        self._attribute = 123\n",
    "    \n",
    "    @property\n",
    "    def attribute(self):\n",
    "        return self._attribute\n",
    "    \n",
    "    @attribute.setter\n",
    "    def attribute(self, value):\n",
    "        raise Warning(\"No setter defined\")\n",
    "    \n",
    "test = TestClass()\n",
    "test.attribute\n",
    "test.attribute = 234"
   ]
  },
  {
   "cell_type": "markdown",
   "metadata": {},
   "source": [
    "## 11. Hide Method"
   ]
  },
  {
   "cell_type": "markdown",
   "metadata": {},
   "source": [
    "- Problem\n",
    "    - A method is only used internally within the class, and not meant for external clients' use\n",
    "\n",
    "- Solution\n",
    "    - Make it private/protected \n",
    "\n",
    "- Motivation\n",
    "    - Minimise access to the object, to avoid unwanted modifications from clients\n",
    "    - As a rule, it is best for methods to be as private as possible\n",
    "\n",
    "- Related code smells\n",
    "    - Data Class\n",
    "\n",
    "- Example:"
   ]
  },
  {
   "cell_type": "markdown",
   "metadata": {},
   "source": [
    "## 12. Replace Constructor with Factory Method"
   ]
  },
  {
   "cell_type": "markdown",
   "metadata": {},
   "source": [
    "- Problem\n",
    "    - You have a complex constructor that does some heavy lifting, beyond setting parameter values in object fields\n",
    "\n",
    "- Solution\n",
    "    - Create a factory method and use it to replace constructor calls.\n",
    "\n",
    "- Motivation\n",
    "    - In some cases, you may want your constructor to do some stuff differently depending on the type of class you want to create, while all other operations stay the same\n",
    "    - In such a case, rather than create a long if-else in the constructor, create a factory method that calls a private constructor, and dump your logic there\n",
    "\n",
    "- Relationships with other refactoring methods\n",
    "    - Related\n",
    "        - Change Value to Reference\n",
    "        - Replace Type Code with Subclasses\n",
    "\n",
    "- Related code smells\n",
    "    - Factory Method\n",
    "\n",
    "- Example:"
   ]
  },
  {
   "cell_type": "code",
   "execution_count": null,
   "metadata": {},
   "outputs": [],
   "source": [
    "class Document:\n",
    "    def __init__(self, content):\n",
    "        self.content = content\n",
    "\n",
    "    def show(self):\n",
    "        pass\n",
    "\n",
    "class PDFDocument(Document):\n",
    "    def show(self):\n",
    "        print(\"Displaying PDF document\")\n",
    "\n",
    "class WordDocument(Document):\n",
    "    def show(self):\n",
    "        print(\"Displaying Word document\")\n",
    "\n",
    "class DocumentFactory():\n",
    "    @staticmethod\n",
    "    def create_document(file_extension, content):\n",
    "        if file_extension == 'pdf':\n",
    "            return PDFDocument(content)\n",
    "        elif file_extension == 'docx':\n",
    "            return WordDocument(content)\n",
    "\n",
    "actual_content = 'some nonsense'\n",
    "pdf_document = DocumentFactory.create_document('pdf', actual_content)\n",
    "word_document = DocumentFactory.create_document('docx', actual_content)"
   ]
  },
  {
   "cell_type": "markdown",
   "metadata": {},
   "source": [
    "## 13. Replace Error Code with Exception"
   ]
  },
  {
   "cell_type": "markdown",
   "metadata": {},
   "source": [
    "- Problem\n",
    "    - You have some method that returns a special value that indicates an error\n",
    "\n",
    "- Solution\n",
    "    - Throw an exception instead\n",
    "\n",
    "- Motivation\n",
    "    - Throwing some special value requires documentation. It won't clear to the people maintaining the code why this special value was chosen\n",
    "    - An exception, however, is unambiguous\n",
    "\n",
    "- Drawback\n",
    "    - Make sure the exception is meaningful. Don't use it as a logical flow operator \n",
    "\n",
    "- Example:"
   ]
  },
  {
   "cell_type": "code",
   "execution_count": null,
   "metadata": {},
   "outputs": [],
   "source": [
    "class NoMoneyException(Exception):\n",
    "    ...\n",
    "\n",
    "class BankAccount():\n",
    "    def __init__(self):\n",
    "        self.balance = 123\n",
    "\n",
    "    def bad__withdraw_money(self, amount):\n",
    "        if amount > self.balance:\n",
    "            return -1\n",
    "        else:\n",
    "            self.balance -= amount\n",
    "            return 0\n",
    "\n",
    "    def good__withdraw_money(self, amount):\n",
    "        if amount > self.balance:\n",
    "            raise NoMoneyException('you have no money')\n",
    "        else:\n",
    "            self.balance -= amount\n",
    "            return 0"
   ]
  },
  {
   "cell_type": "markdown",
   "metadata": {},
   "source": [
    "## 14. Replace Exception with Test"
   ]
  },
  {
   "cell_type": "markdown",
   "metadata": {},
   "source": [
    "- Problem\n",
    "    - You throw many exceptions, and use try...except to manage the flow\n",
    "\n",
    "- Solution\n",
    "    - Don't use an exception unless there is a strong use for it (i.e. throw exceptions when people are trying to do something dangerous)\n",
    "    - Often, a simple if statement suffices\n",
    "\n",
    "- Motivation\n",
    "    - The entire point of exceptions are to handle irregular flows. If you can simply verify values before running code, do so, especially when you know the \"exception\" is expected to happen in some cases and it is planned for\n",
    "\n",
    "- Example:"
   ]
  }
 ],
 "metadata": {
  "kernelspec": {
   "display_name": "dsa_prep",
   "language": "python",
   "name": "python3"
  },
  "language_info": {
   "codemirror_mode": {
    "name": "ipython",
    "version": 3
   },
   "file_extension": ".py",
   "mimetype": "text/x-python",
   "name": "python",
   "nbconvert_exporter": "python",
   "pygments_lexer": "ipython3",
   "version": "3.10.13"
  }
 },
 "nbformat": 4,
 "nbformat_minor": 2
}

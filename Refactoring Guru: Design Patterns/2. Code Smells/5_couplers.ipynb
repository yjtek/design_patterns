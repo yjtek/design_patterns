{
 "cells": [
  {
   "cell_type": "markdown",
   "metadata": {},
   "source": [
    "# Couplers"
   ]
  },
  {
   "cell_type": "markdown",
   "metadata": {},
   "source": [
    "- Sometimes classes become excessively coupled, or there is excessive delegation of responsibilities across classes"
   ]
  },
  {
   "cell_type": "markdown",
   "metadata": {},
   "source": [
    "## 1. Feature Envy"
   ]
  },
  {
   "cell_type": "markdown",
   "metadata": {},
   "source": [
    "- Signs/Symptoms\n",
    "    - A method accesses the data of another object more than its own data\n",
    "\n",
    "- Causes\n",
    "    - This can happen after fields are moved into a data class. \n",
    "    - If you see this happening, consider moving the operations on data to the data class as well\n",
    "\n",
    "- Treatment\n",
    "    - As a rule, if things change at the same time, they should be in the same place (i.e. if a method modifies some data, the method and data should be kept together)\n",
    "    - `Move method`, `Extract method` to the more appropriate location\n",
    "    - If the method uses functions from other classes, then determine which class contains most of the data used\n",
    "        - Then place the method in this class along with the other data"
   ]
  },
  {
   "cell_type": "markdown",
   "metadata": {},
   "source": [
    "## 2. Inappropriate Intimacy"
   ]
  },
  {
   "cell_type": "markdown",
   "metadata": {},
   "source": [
    "- Signs/Symptoms\n",
    "    - A class uses the internal fields/methods of another class\n",
    "\n",
    "- Causes\n",
    "    - Good classes should know as little as possible about each other. So if your design involves 2 classes being together all the time, you have a design problem\n",
    "\n",
    "- Treatment\n",
    "    - If one class doesn't actually need the method/field, `Move Method`, `Move Field` to the more appropriate class\n",
    "    - If your client calls object A to get object B, then uses B to do something, consider setting up a method in A that does the method call to B automatically. That way, your client only depends on 1 object, not 2 `Hide Delegate`\n",
    "    - If the classes are interdependent, try to ensure that the dependency only goes one way `Change Bidirectional Association to Unidirectional`\n",
    "    - If there is a clear subclass/superclass relation, consider `Replace Delegation with Inheritance`"
   ]
  },
  {
   "cell_type": "markdown",
   "metadata": {},
   "source": [
    "## 3. Message Chain"
   ]
  },
  {
   "cell_type": "markdown",
   "metadata": {},
   "source": [
    "- Signs/Symptoms\n",
    "    - A client makes a series of calls that navigates along some predefined structure\n",
    "\n",
    "- Causes\n",
    "    - Overly aggressive delegation, and if anything along this chain changes, it may affect the client\n",
    "\n",
    "- Treatment\n",
    "    - If your client calls object A to get object B, then uses B to do something, consider setting up a method in A that does the method call to B automatically. That way, your client only depends on 1 object, not 2 `Hide Delegate`\n",
    "    - Sometimes, you may simply want to move the method in the end object into the start object, to avoid the chain"
   ]
  },
  {
   "cell_type": "markdown",
   "metadata": {},
   "source": [
    "## 4. Middle man"
   ]
  },
  {
   "cell_type": "markdown",
   "metadata": {},
   "source": [
    "- Signs/Symptoms\n",
    "    - A class exists only to delegate work to another class\n",
    "\n",
    "- Causes\n",
    "    - Overzealous elimination of message chains can force you to set up these classes that exist only to call methods\n",
    "\n",
    "- Treatment\n",
    "    - If most of the work done by a class is delegation, consider `Remove Middle Man` class and call the method directly"
   ]
  }
 ],
 "metadata": {
  "language_info": {
   "name": "python"
  }
 },
 "nbformat": 4,
 "nbformat_minor": 2
}

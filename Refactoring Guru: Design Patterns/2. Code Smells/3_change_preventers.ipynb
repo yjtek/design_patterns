{
 "cells": [
  {
   "cell_type": "markdown",
   "metadata": {},
   "source": [
    "# Change Preventers"
   ]
  },
  {
   "cell_type": "markdown",
   "metadata": {},
   "source": [
    "- If you need to change something in one place of your code, you end up needing to change many other things in many other places"
   ]
  },
  {
   "cell_type": "markdown",
   "metadata": {},
   "source": [
    "## 1. Divergent Changes"
   ]
  },
  {
   "cell_type": "markdown",
   "metadata": {},
   "source": [
    "- Signs/Symptoms\n",
    "    - When a change hits, many unrelated methods WITHIN THE CLASS needs to change\n",
    "        - e.g. when you add a new product type, you need to change methods for finding/displaying/ordering products\n",
    "- Causes\n",
    "    - Poor program structure, caused by lots of copy pasting\n",
    "- Treatment\n",
    "    - Split of class behaviour by extracting a new class `Extract Class`\n",
    "    - If different classes end up having the same or similar behaviour, may want to consider combining them through inheritance (`Extract Superclass`, `Extract Subclass`)"
   ]
  },
  {
   "cell_type": "markdown",
   "metadata": {},
   "source": [
    "## 2. Shotgun Surgery"
   ]
  },
  {
   "cell_type": "markdown",
   "metadata": {},
   "source": [
    "- Signs/Symptoms\n",
    "    - When a change hits, many unrelated classes need to change\n",
    "\n",
    "- Causes\n",
    "    - A single responsibility has been split up into multiple classes\n",
    "\n",
    "- Treatment\n",
    "    - Move methods/fields (`Move Method`, `Move Field`) from existing classes to a single class. Create a new one if appropriate\n",
    "    - If the movement of methods/fields causes a class to become almost empty, this is likely to be a redundant class. So get rid of it by moving a functionality into individual classes/superclass (`Inline class`)"
   ]
  },
  {
   "cell_type": "markdown",
   "metadata": {},
   "source": [
    "## 3. Parallel Inheritance Hierachies"
   ]
  },
  {
   "cell_type": "markdown",
   "metadata": {},
   "source": [
    "- Signs/Symptoms\n",
    "    - When you create a subclass for class $A$, you somehow also need to create a subclass for class $B$\n",
    "\n",
    "- Causes\n",
    "    - When inheritance chains become deep, creating new classes becomes more complex\n",
    "\n",
    "- Treatment\n",
    "    - De-duplicate parallel class hierachies by making intances of one hierachy refer to instances of another hierachy\n",
    "        - Visualise this as doing a \"git merge\" between the parallel hierachy\n",
    "        - Then move methods/fields as necessary into the new inheritance hierachy (`Move Method`, `Move Field`)"
   ]
  }
 ],
 "metadata": {
  "language_info": {
   "name": "python"
  }
 },
 "nbformat": 4,
 "nbformat_minor": 2
}

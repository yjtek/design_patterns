{
 "cells": [
  {
   "cell_type": "markdown",
   "metadata": {},
   "source": [
    "# Introduction"
   ]
  },
  {
   "cell_type": "markdown",
   "metadata": {},
   "source": [
    "- Design patterns are solutions to common problems in engineering software\n",
    "- Think of these as blueprints that you can modify to solve recurring issues in your code\n",
    "- Patterns are not algorithms, although algorithms can be patterns. \n",
    "    - Think of algorithms as building materials. You want to implement the best material for the appropriate purpose, balancing cost, weight, etc\n",
    "    - Patterns are like the engineering and/or architectural plans. Even if you use the best materials, a lousy plan gives you lousy building\n",
    "\n",
    "- Every pattern will be split into 4 sections\n",
    "    - **Intent** of the pattern briefly describes both the problem and the solution.\n",
    "    - **Motivation** further explains the problem and the solution the pattern makes possible.\n",
    "    - **Structure** of classes shows each part of the pattern and how they are related.\n",
    "    - **Code example** in one of the popular programming languages makes it easier to grasp the idea behind the pattern.\n",
    "\n",
    "- Drawbacks\n",
    "    - Patterns can sometimes be codified to disguise deficiencies in a programming language\n",
    "    - Blind applications of patterns is bad. If you have a hammer, everything looks like a nail\n",
    "\n",
    "- In general, there are 3 classes of patterns\n",
    "    - **Creational patterns:** Makes it easier to make new stuff\n",
    "        - Provide object creation mechanisms to increase flexibility and reuse of code\n",
    "    - **Structural patterns:** Makes it easier to layer stuff \n",
    "        - Explain how to assemble objects and classes into larger structures, while keeping these structures flexible and efficient\n",
    "    - **Behavioural patterns:** Makes it easier to see which objects are doing stuff, and how they are doing it\n",
    "        - Take care of effective communication and the assignment of responsibilities between objects"
   ]
  },
  {
   "cell_type": "markdown",
   "metadata": {},
   "source": []
  }
 ],
 "metadata": {
  "language_info": {
   "name": "python"
  }
 },
 "nbformat": 4,
 "nbformat_minor": 2
}

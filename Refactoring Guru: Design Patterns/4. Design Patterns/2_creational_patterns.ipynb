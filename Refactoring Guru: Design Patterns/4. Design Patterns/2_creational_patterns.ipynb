{
 "cells": [
  {
   "cell_type": "markdown",
   "metadata": {},
   "source": [
    "# Creational Patterns"
   ]
  },
  {
   "cell_type": "markdown",
   "metadata": {},
   "source": [
    "- Every language gives you a standard way of creating new objects\n",
    "    - In Python, you just declare a class and use __init__ and __new__ to control the construction\n",
    "    - In Java, you have the ability to make constructors public or private\n",
    "\n",
    "- These patterns are useful for cases where the standard construction patterns are not sufficient\n",
    "\n",
    "- Creational design patterns provide various object creation mechanisms, which increase flexibility and reuse of existing code."
   ]
  },
  {
   "cell_type": "markdown",
   "metadata": {},
   "source": [
    "## 1. Factory Method"
   ]
  },
  {
   "cell_type": "markdown",
   "metadata": {},
   "source": [
    "### Big Picture"
   ]
  },
  {
   "cell_type": "markdown",
   "metadata": {},
   "source": [
    "- Factory method is just a general name for separating the constructor of any object from the work it needs to do\n",
    "- There are a few scenarios where can be applied (see Use Cases), but the point is that: I have some object A where the actual construction is handled somewhere else\n",
    "    - Ideally, the class you want to apply this factory method should not have a constructor, which is possible in languages like Java\n",
    "    - In Python, you can't really do directly (though there are a workarounds)"
   ]
  },
  {
   "cell_type": "markdown",
   "metadata": {},
   "source": [
    "### Example"
   ]
  },
  {
   "cell_type": "code",
   "execution_count": 22,
   "metadata": {},
   "outputs": [
    {
     "name": "stdout",
     "output_type": "stream",
     "text": [
      "App: Launched with the a concrete creator.\n",
      "Printing from client_code(): Client is not aware of which user has been passed to it, or the tool the user is using. And yet, this code still works: `creator.use_tool()`\n",
      " Creator has picked up Tool 1\n",
      " Tool 1 is doing something\n",
      " Creator User1 is using tool Tool1\n",
      "This works because the creator and the product both respect a common interface\n",
      "\n",
      "++++++++++++++++++++++++++++++++++++++++++++++++++\n",
      "App: Launched with the other concrete creator.\n",
      "Printing from client_code(): Client is not aware of which user has been passed to it, or the tool the user is using. And yet, this code still works: `creator.use_tool()`\n",
      " Creator has picked up Tool 2\n",
      " Tool 2 is doing something\n",
      " Creator User2 is using tool Tool2\n",
      "This works because the creator and the product both respect a common interface\n"
     ]
    }
   ],
   "source": [
    "from abc import ABC, abstractmethod\n",
    "\n",
    "class Tool(ABC):\n",
    "    @abstractmethod\n",
    "    def tool_operation(self) -> None:\n",
    "        pass\n",
    "\n",
    "class User(ABC):\n",
    "    @abstractmethod\n",
    "    def get_tool(self) -> Tool:\n",
    "        pass\n",
    "\n",
    "    def use_tool(self) -> str:\n",
    "        ## Make Tool\n",
    "        tool = self.get_tool()\n",
    "        result = f\" Creator {self.__class__.__name__} is using tool {tool.__class__.__name__}\"\n",
    "        tool.tool_operation()\n",
    "        return result\n",
    "\n",
    "class User1(User):\n",
    "    def get_tool(self) -> Tool:\n",
    "        print(' Creator has picked up Tool 1')\n",
    "        return Tool1()\n",
    "\n",
    "class Tool1(Tool):\n",
    "    def tool_operation(self) -> None:\n",
    "        print(\" Tool 1 is doing something\")\n",
    "\n",
    "class User2(User):\n",
    "    def get_tool(self) -> Tool:\n",
    "        print(' Creator has picked up Tool 2')\n",
    "        return Tool2()\n",
    "\n",
    "class Tool2(Tool):\n",
    "    def tool_operation(self) -> None:\n",
    "        print(\" Tool 2 is doing something\")\n",
    "\n",
    "def client_code(creator: User) -> None:\n",
    "    print(f\"Printing from client_code(): Client is not aware of which user has been passed to it, or the tool the user is using. And yet, this code still works: `creator.use_tool()`\", end='\\n')\n",
    "    print(f\"{creator.use_tool()}\", end='\\n')\n",
    "    print(f\"This works because the creator and the product both respect a common interface\", end='\\n')\n",
    "\n",
    "print(\"App: Launched with the a concrete creator.\")\n",
    "client_code(User1())\n",
    "\n",
    "print(\"\\n\" + \"+\"*50)\n",
    "\n",
    "print(\"App: Launched with the other concrete creator.\")\n",
    "client_code(User2())"
   ]
  },
  {
   "cell_type": "markdown",
   "metadata": {},
   "source": [
    "### Discussion"
   ]
  },
  {
   "cell_type": "markdown",
   "metadata": {},
   "source": [
    "- There is some jargon needed to discuss a factory method\n",
    "    - `Product` class: The class object that you want created\n",
    "    - `Creator` class: The class responsible for creating the `Product`\n",
    "        - The `Creator` may or may not use the created `Product` to do something\n",
    "        - In the example above, the Creator class is `User()`, and the Product class is `Tool()`\n",
    "    - `Client`: Whatever code is using the `Creator` and/or `Product` classes to do something\n",
    " \n",
    "- From the example above, the whole point of the factory method approach is to write the code in a way that is not coupled with each other\n",
    "    - i.e. `client_code()` will work regardless of what creator is passed to it, because all creators implement `use_tool()`\n",
    "    - i.e. The creator will work with any `Tool`, because all tools implement `tool_operation()`"
   ]
  },
  {
   "cell_type": "markdown",
   "metadata": {},
   "source": [
    "### Pros and Cons"
   ]
  },
  {
   "cell_type": "markdown",
   "metadata": {},
   "source": [
    "- Pros\n",
    "    - No tight coupling of objects, because the code will work so long as the object respects a common interface\n",
    "    - Single responsibility: the product creation is in a single place, which makes the code easier to support\n",
    "    - Open closed principle: You can introduce new products without breaking existing client code\n",
    "\n",
    "- Cons\n",
    "    - You may need to introduce a lot of classes to implement this pattern, which is not idael"
   ]
  },
  {
   "cell_type": "markdown",
   "metadata": {},
   "source": [
    "### Use Cases"
   ]
  },
  {
   "cell_type": "markdown",
   "metadata": {},
   "source": [
    "- You don't know what types and/or dependencies your code should work with\n",
    "    - By separating the construction of dependencies into a specific component of your code, it makes things easier to change/extend \n",
    "\n",
    "- You want to allow users to extend your library/framework easily\n",
    "    - Basically, anything that follows the interfaces defined will work with your library. So 3rd party users are free to write their own code that respects these interfaces, because the abstract methods can always be overwritten\n",
    "\n",
    "- You want to save system resources by reusing existing objects\n",
    "    - Suppose we are running an umbrella stand, where users can borrow and return umbrellas after they are done with it\n",
    "    - We have multiple `Umbrella` objects\n",
    "    - If someone comes to our stand to request an `Umbrella`, we want to check whether there are existing ones. If there are, we give him an existing one. If there isn't, we buy (instantiate) a new one, and loan it out\n",
    "    - Obviously, you cannot (should not) track your inventory of umbrellas within the `Umbrella` class, because it will only (should only) know about itself\n",
    "        - You can technically do this via class attributes, but it's really odd to have multiple copies of the `Umbrella` which are supposedly distinct, yet somehow share a common state tracking component\n",
    "    - So you create an `UmbrellaStand` object, and introduce a constructor method for `Umbrella`\n",
    "        - For example, you could put a field called `self.available_umbrellas = [Umbrella1, Umbrella2, ...]`\n",
    "        - And make a method called `def get_new_umbrella(self): ...`\n",
    "        - `if len(self.available_umbrellas) == 0: self.get_new_umbrella()`\n",
    "\n"
   ]
  },
  {
   "cell_type": "markdown",
   "metadata": {},
   "source": [
    "## 2. Abstract Factory"
   ]
  },
  {
   "cell_type": "markdown",
   "metadata": {},
   "source": [
    "### Big Picture"
   ]
  },
  {
   "cell_type": "markdown",
   "metadata": {},
   "source": [
    "- There are occasions where you want to make a factory to replace constructors in individual objects (see `Factory Method`)\n",
    "- But you also want these factories to follow have some common pattern, or it'll create compatibility issues\n",
    "- So you define an interface (called an `Abstract Factory`) that standardises what all factories must have, and what they must be able to do\n",
    "- Note: The abstract factory does NOT handle the construction of the concrete classes, only the blueprint for the factory making these classes"
   ]
  },
  {
   "cell_type": "markdown",
   "metadata": {},
   "source": [
    "### Example"
   ]
  },
  {
   "cell_type": "code",
   "execution_count": 30,
   "metadata": {},
   "outputs": [
    {
     "name": "stdout",
     "output_type": "stream",
     "text": [
      "Client: Testing client code with the first factory type:\n",
      "The result of the product B1.\n",
      "The result of the B1 collaborating with the (The result of the product A1.)\n",
      "\n",
      "Client: Testing the same client code with the second factory type:\n",
      "The result of the product B2.\n",
      "The result of the B2 collaborating with the (The result of the product A2.)"
     ]
    }
   ],
   "source": [
    "from abc import ABC, abstractmethod\n",
    "\n",
    "\n",
    "class AbstractFactory(ABC):\n",
    "    @abstractmethod\n",
    "    def create_product_a(self) -> 'AbstractProductA':\n",
    "        pass\n",
    "\n",
    "    @abstractmethod\n",
    "    def create_product_b(self) -> 'AbstractProductB':\n",
    "        pass\n",
    "\n",
    "class AbstractProductA(ABC):\n",
    "    @abstractmethod\n",
    "    def useful_function_a(self) -> str:\n",
    "        pass\n",
    "\n",
    "class AbstractProductB(ABC):\n",
    "    @abstractmethod\n",
    "    def useful_function_b(self) -> str:\n",
    "        pass\n",
    "\n",
    "    @abstractmethod\n",
    "    def another_useful_function_b(self, collaborator: AbstractProductA) -> str:\n",
    "        pass\n",
    "\n",
    "class ConcreteFactory1(AbstractFactory):\n",
    "    def create_product_a(self) -> AbstractProductA:\n",
    "        return ConcreteProductA1()\n",
    "\n",
    "    def create_product_b(self) -> AbstractProductB:\n",
    "        return ConcreteProductB1()\n",
    "\n",
    "class ConcreteFactory2(AbstractFactory):\n",
    "    def create_product_a(self) -> AbstractProductA:\n",
    "        return ConcreteProductA2()\n",
    "\n",
    "    def create_product_b(self) -> AbstractProductB:\n",
    "        return ConcreteProductB2()\n",
    "\n",
    "class ConcreteProductA1(AbstractProductA):\n",
    "    def useful_function_a(self) -> str:\n",
    "        return \"The result of the product A1.\"\n",
    "\n",
    "class ConcreteProductA2(AbstractProductA):\n",
    "    def useful_function_a(self) -> str:\n",
    "        return \"The result of the product A2.\"\n",
    "\n",
    "class ConcreteProductB1(AbstractProductB):\n",
    "    def useful_function_b(self) -> str:\n",
    "        return \"The result of the product B1.\"\n",
    "\n",
    "    def another_useful_function_b(self, collaborator: AbstractProductA) -> str:\n",
    "        result = collaborator.useful_function_a()\n",
    "        return f\"The result of the B1 collaborating with the ({result})\"\n",
    "\n",
    "class ConcreteProductB2(AbstractProductB):\n",
    "    def useful_function_b(self) -> str:\n",
    "        return \"The result of the product B2.\"\n",
    "\n",
    "    def another_useful_function_b(self, collaborator: AbstractProductA):\n",
    "        result = collaborator.useful_function_a()\n",
    "        return f\"The result of the B2 collaborating with the ({result})\"\n",
    "\n",
    "def client_code(factory: AbstractFactory) -> None:\n",
    "    product_a = factory.create_product_a()\n",
    "    product_b = factory.create_product_b()\n",
    "\n",
    "    print(f\"{product_b.useful_function_b()}\")\n",
    "    print(f\"{product_b.another_useful_function_b(product_a)}\", end=\"\")\n",
    "\n",
    "print(\"Client: Testing client code with the first factory type:\")\n",
    "client_code(ConcreteFactory1())\n",
    "print(\"\\n\")\n",
    "print(\"Client: Testing the same client code with the second factory type:\")\n",
    "client_code(ConcreteFactory2())"
   ]
  },
  {
   "cell_type": "markdown",
   "metadata": {},
   "source": [
    "### Discussion"
   ]
  },
  {
   "cell_type": "markdown",
   "metadata": {},
   "source": [
    "- I think it's clear that this is just another level of indirection compared to the first section on `Factory Methods`\n",
    "    - Similar to Factory Methods, instead of instantiating the products you want, you let a \"factory\" handle it e.g. `factory.create_product_a()`\n",
    "    - But the difference here is that you go a step further, and even the factory you use is also abstracted, which lets you handle the creation of products via different factories dynamically also"
   ]
  },
  {
   "cell_type": "markdown",
   "metadata": {},
   "source": [
    "### Pros and Cons"
   ]
  },
  {
   "cell_type": "markdown",
   "metadata": {},
   "source": [
    "- Pros\n",
    "    - The products from all your factories are definitely going to be compatiable with each other\n",
    "    - No tight coupling between client code and concrete product getting created\n",
    "    - Single responsibility: Only 1 place responsible for construction code\n",
    "    - Open/Closed principple: YOu can introduce new product variants without breaking existing client code\n",
    "\n",
    "- Cons\n",
    "    - The code gets pretty complicated for no good reason, because a lot of interfaces and classes are introduced "
   ]
  },
  {
   "cell_type": "markdown",
   "metadata": {},
   "source": [
    "### Use Cases"
   ]
  },
  {
   "cell_type": "markdown",
   "metadata": {},
   "source": [
    "- Your code needs to work with a few families of related products, but you don't know what the concrete classes of these products are beforehand\n",
    "    - So instead of relying on the actual concrete products, you only rely on their creator!\n",
    "\n",
    "- When you have a class with a set of Factory Methods, it may blur the responsibility of the class. Is it responsible for creating something? Doing something?\n",
    "    - Use a abstract factory and create subclasses, so that the constructor and operation of the factory is clear"
   ]
  },
  {
   "cell_type": "markdown",
   "metadata": {},
   "source": [
    "## 3. Builder"
   ]
  },
  {
   "cell_type": "markdown",
   "metadata": {},
   "source": [
    "### Big Picture"
   ]
  },
  {
   "cell_type": "markdown",
   "metadata": {},
   "source": [
    "- Imagine you want to make a House object\n",
    "\n",
    "- There are many variations for houses: \n",
    "    - you can make a studio, 2-bedroom, etc...\n",
    "    - it can have a balcony\n",
    "    - it can have a garden\n",
    "    - it can be 1/2/3/...floors\n",
    "    - etc.\n",
    "\n",
    "- The usual design is to pass all of this information as parameters into the house constructor\n",
    "    - This is most likely going to be shit design\n",
    "    - Because your parameter list will be huge, and the person using it will need to figure out which options can be null, which options should be a string, etc.\n",
    "\n",
    "- Rather than front-load all the parameters, we create an object whose responsibility is to implement all the steps needed to build what you want to build. Let's call this the `Builder` object\n",
    "    \n",
    "- Though the `Builder` knows how each part of the building process is done, the `Builder` is also dumb, and does not know how to call them\n",
    "\n",
    "- So to build something, we need another object to control the `Builder`, which we call the `Director`\n",
    "    - The `Director` will be assigned a `Builder` \n",
    "    - Depending on what kind of house you want to build, you assign a Builder with the right knowledge\n",
    "        - If you want to build a cottage, assign a `CottageBuilder`. \n",
    "        - If you want to build an apartment, assign a `ApartmentBuilder`. \n",
    "        - What's the difference? The CottageBuilder knows that a cottage must have a chimney :)\n",
    "\n",
    "    - Strictly speaking a director isn't necessary; you can always just make the invocations to the `Builder` yourself!"
   ]
  },
  {
   "cell_type": "markdown",
   "metadata": {},
   "source": [
    "### Example"
   ]
  },
  {
   "cell_type": "code",
   "execution_count": null,
   "metadata": {},
   "outputs": [],
   "source": [
    "from abc import ABC, abstractmethod\n",
    "\n",
    "class Builder(ABC):\n",
    "    \n",
    "    @abstractmethod\n",
    "    def make_floor(self):\n",
    "        ...\n",
    "\n",
    "    @abstractmethod\n",
    "    def make_roof(self):\n",
    "        ...\n",
    "\n",
    "class CottageBuilder(Builder):\n",
    "    def __init__(self):\n",
    "        ...\n",
    "    \n",
    "    def _lay_parquet(self):\n",
    "        ...\n",
    "\n",
    "    def _lay_tiles(self):\n",
    "        ...\n",
    "\n",
    "    def _make_chimney(self):\n",
    "        ...\n",
    "\n",
    "    def make_floor(self):\n",
    "        self._lay_parquet()\n",
    "\n",
    "    def make_roof(self):\n",
    "        self._lay_tiles()\n",
    "        self._make_chimney()\n",
    "\n",
    "class ApartmentBuilder(Builder):\n",
    "    def __init__(self):\n",
    "        ...\n",
    "    \n",
    "    def _lay_concrete(self):\n",
    "        ...\n",
    "\n",
    "    def _attach_ceiling_fans(self):\n",
    "        ...\n",
    "\n",
    "    def _make_chimney(self):\n",
    "        ...\n",
    "\n",
    "    def make_floor(self):\n",
    "        self._lay_concrete()\n",
    "\n",
    "    def make_roof(self):\n",
    "        self._attach_ceiling_fans()\n",
    "\n",
    "\n",
    "cb = CottageBuilder()\n",
    "cb.make_floor()\n",
    "cb.make_roof()"
   ]
  },
  {
   "cell_type": "markdown",
   "metadata": {},
   "source": [
    "### Discussion"
   ]
  },
  {
   "cell_type": "markdown",
   "metadata": {},
   "source": [
    "- This pattern is most applicable when you have client code that will give specific instructions for the creation of something, and you want to give clients the flexibility of choosing what they want to achieve"
   ]
  },
  {
   "cell_type": "markdown",
   "metadata": {},
   "source": [
    "### Pros and Cons"
   ]
  },
  {
   "cell_type": "markdown",
   "metadata": {},
   "source": [
    "- Pros\n",
    "    - You can construct objects step-by-step, defer construction steps or run steps recursively.\n",
    "    - You can re-use the same construction vode when building multiple representations of the same product. In our example, the basic steps of making a house (floor, then roof), are common\n",
    "    - Single Responsibility Principle: You can isolate complex construction logic away from the business logic \n",
    "\n",
    "- Cons\n",
    "    - Your code base is more complex, because you now need to create a few new classes"
   ]
  },
  {
   "cell_type": "markdown",
   "metadata": {},
   "source": [
    "### Use Cases"
   ]
  },
  {
   "cell_type": "markdown",
   "metadata": {},
   "source": [
    "- You want your code to be able to create multiple representations of some product (e.g. stone or wood houses)\n",
    "    - In the example above, slightly different things can be made in many different ways\n",
    "    - So the `Builder` class is useful, so that each way is defined according to some strategy\n",
    "\n",
    "- You want your code to construct complex objects\n",
    "    - In some complex cases, you may want your object to have some funny nested behaviour that requires, say, recursive calls\n",
    "    - For such cases, making such constructions by hand in the code may be difficult.\n",
    "    - So it is much better to delegate the responsibility of the construction to a `Builder`\n"
   ]
  },
  {
   "cell_type": "markdown",
   "metadata": {},
   "source": [
    "## 4. Prototype"
   ]
  },
  {
   "cell_type": "markdown",
   "metadata": {},
   "source": [
    "### Big Picture"
   ]
  },
  {
   "cell_type": "markdown",
   "metadata": {},
   "source": [
    "- When you have a large library to deal with, sometimes working with pre-built objects that you can modify is much easier\n",
    "- However, it is often not easy to copy an object:\n",
    "    - Often, you can only see the publicly available fields, so you may not be able to copy private attributes/methods\n",
    "    - You need to know the object's class to create a duplicate, which creates a dependency on that class\n",
    "    - You may only know the interface the object follows, but not the concrete class\n",
    "\n",
    "- The `Prototype` pattern is just a fancy way of saying, we write an object that lets clients clone it at will"
   ]
  },
  {
   "cell_type": "markdown",
   "metadata": {},
   "source": [
    "### Example"
   ]
  },
  {
   "cell_type": "code",
   "execution_count": 57,
   "metadata": {},
   "outputs": [
    {
     "name": "stdout",
     "output_type": "stream",
     "text": [
      "{'a1': 123, 'a2': 234}\n"
     ]
    },
    {
     "data": {
      "text/plain": [
       "<__main__.Test at 0x10868e110>"
      ]
     },
     "execution_count": 57,
     "metadata": {},
     "output_type": "execute_result"
    }
   ],
   "source": [
    "class Test:\n",
    "    def __init__(self):\n",
    "        self.a1 = 123\n",
    "        self.a2 = 234\n",
    "        # print(self.__dict__)"
   ]
  },
  {
   "cell_type": "code",
   "execution_count": 63,
   "metadata": {},
   "outputs": [
    {
     "name": "stdout",
     "output_type": "stream",
     "text": [
      "[1, {1, 2, 3}, [1, 2, 3], 'Appending to shallow copy']\n",
      "[1, {1, 2, 3}, [1, 2, 3], 'Appending to shallow copy']\n",
      "[1, {1, 2, 3}, [1, 2, 3], 'Appending to shallow copy', 'Appending to deep copy']\n"
     ]
    }
   ],
   "source": [
    "import copy\n",
    "\n",
    "class CircularReferenceObject:\n",
    "    '''\n",
    "    We'll use this object to make a circular reference in copying\n",
    "    '''\n",
    "    def __init__(self):\n",
    "        self._parent = None\n",
    "\n",
    "    @property\n",
    "    def parent(self):\n",
    "        return self._parent\n",
    "    \n",
    "    @parent.setter\n",
    "    def parent(self, value):\n",
    "        self._parent = value\n",
    "\n",
    "class PrototypeObject:\n",
    "    '''\n",
    "    This is the object where we'll enable cloning\n",
    "    '''\n",
    "    def __init__(self, list_of_attrs, circular_reference_object):\n",
    "        self.list_of_attrs = list_of_attrs\n",
    "        self.circular_reference_object = circular_reference_object\n",
    "\n",
    "    def __copy__(self):\n",
    "        copy_list_of_attrs = copy.copy(self.list_of_attrs)\n",
    "        copy_circular_reference_object = copy.copy(self.circular_reference_object)\n",
    "        new = self.__class__(\n",
    "            copy_list_of_attrs, copy_circular_reference_object\n",
    "        )\n",
    "        new.__dict__.update(self.__dict__)\n",
    "        return new\n",
    "    \n",
    "    def __deepcopy__(self, memo=None):\n",
    "        if memo is None:\n",
    "            memo = {}\n",
    "        copy_list_of_attrs = copy.deepcopy(self.list_of_attrs, memo)\n",
    "        copy_circular_reference_object = copy.deepcopy(self.circular_reference_object, memo)\n",
    "        new = self.__class__(\n",
    "            copy_list_of_attrs, copy_circular_reference_object\n",
    "        )\n",
    "        new.__dict__ = copy.deepcopy(self.__dict__, memo)\n",
    "        return new\n",
    "\n",
    "list_of_attrs = [1, {1, 2, 3}, [1, 2, 3]]\n",
    "circular_ref = CircularReferenceObject()\n",
    "prototype = PrototypeObject(list_of_attrs, circular_ref)\n",
    "circular_ref.parent = prototype\n",
    "shallow_copied_prototype = copy.copy(prototype)\n",
    "## Shallow copies are affected by amendments to the original object\n",
    "shallow_copied_prototype.list_of_attrs.append('Appending to shallow copy')\n",
    "print(prototype.list_of_attrs)\n",
    "\n",
    "## If we implement deepcopies for the Prototype object, we get the exact object but independent of the original\n",
    "prototype = PrototypeObject(list_of_attrs, circular_ref)\n",
    "circular_ref.parent = prototype\n",
    "deep_copied_prototype = copy.deepcopy(prototype)\n",
    "deep_copied_prototype.list_of_attrs.append('Appending to deep copy')\n",
    "print(prototype.list_of_attrs)\n",
    "print(deep_copied_prototype.list_of_attrs)"
   ]
  },
  {
   "cell_type": "code",
   "execution_count": 53,
   "metadata": {},
   "outputs": [],
   "source": [
    "# id(shallow_copied_component.some_circular_ref.parent.some_circular_ref.parent.some_circular_ref)"
   ]
  },
  {
   "cell_type": "markdown",
   "metadata": {},
   "source": [
    "### Discussion"
   ]
  },
  {
   "cell_type": "markdown",
   "metadata": {},
   "source": [
    "- Why do I want to do this?\n",
    "    - The construction of an object can be expensive, so cloning lets you avoid that cost\n",
    "    - Cloning lets you preserve the state of an object, whereas initialisation does not\n",
    "    - Cloning lets you isolate the changes made to an object from whatever state it is in\n",
    "    - Cloning can be better for concurrent/multithreaded code, because you can easily create exact copies of the same object that are also independent"
   ]
  },
  {
   "cell_type": "markdown",
   "metadata": {},
   "source": [
    "### Pros and Cons"
   ]
  },
  {
   "cell_type": "markdown",
   "metadata": {},
   "source": [
    "- Pros\n",
    "    - You can clone objects without coupling to their concrete classes.\n",
    "    - You can get rid of repeated initialization code in favor of cloning pre-built prototypes.\n",
    "    - You can produce complex objects more conveniently.\n",
    "    - You get an alternative to inheritance when dealing with configuration presets for complex objects.\n",
    "\n",
    "- Cons\n",
    "    - Cloning complex objects that have circular references might be very tricky"
   ]
  },
  {
   "cell_type": "markdown",
   "metadata": {},
   "source": [
    "### Use Cases"
   ]
  },
  {
   "cell_type": "markdown",
   "metadata": {},
   "source": [
    "- Use the Prototype pattern when your code shouldn’t depend on the concrete classes of objects that you need to copy.\n",
    "\n",
    "- Use the pattern when you want to reduce the number of subclasses that only differ in the way they initialize their respective objects.\n",
    "    - Prototypes lets you avoid cluttering up your code when you have multiple ways of constructing some object, but you don't want to have a million subclasses in your code base"
   ]
  },
  {
   "cell_type": "markdown",
   "metadata": {},
   "source": [
    "## 5. Singleton in Python"
   ]
  },
  {
   "cell_type": "markdown",
   "metadata": {},
   "source": [
    "- **Singletons are considered to be an anti-pattern, so please try not to use it**\n",
    "\n",
    "- Why it is bad\n",
    "    - Tight coupling of your code to the singleton\n",
    "\n",
    "- Best way to think through how the coupling can break\n",
    "    - Think about what happens to your code when you multi-thread it\n",
    "    - The best way to do this, is to imagine unit testing your code and running multiple tests at once"
   ]
  },
  {
   "cell_type": "markdown",
   "metadata": {},
   "source": [
    "### Big Picture"
   ]
  },
  {
   "cell_type": "markdown",
   "metadata": {},
   "source": [
    "- Singletons are a design pattern where you ensure one and only one object of its kind exists, and there is a single point of access to it for all other code\n",
    "    - A good use case for Singletons is a database connection"
   ]
  },
  {
   "cell_type": "markdown",
   "metadata": {},
   "source": [
    "### Example"
   ]
  },
  {
   "cell_type": "markdown",
   "metadata": {},
   "source": [
    "#### Naive Singleton (no multithread)"
   ]
  },
  {
   "cell_type": "markdown",
   "metadata": {},
   "source": [
    "- In this cell block, we define a metaclass to check whether the instance has been created before"
   ]
  },
  {
   "cell_type": "code",
   "execution_count": 93,
   "metadata": {},
   "outputs": [
    {
     "name": "stdout",
     "output_type": "stream",
     "text": [
      "Creating new instance of SingletonNaive\n",
      "Creating new instance of DifferentSingletonNaive\n",
      "Repeated objects do not get recreated because memory IDs are the same: id(s1)=4439943984, id(s2)=4439943984\n"
     ]
    }
   ],
   "source": [
    "class SingletonMeta(type):\n",
    "    _instance_store = {}\n",
    "\n",
    "    def __call__(cls, *args, **kwargs):\n",
    "        if cls not in cls._instance_store:\n",
    "            print(f'Creating new instance of {cls.__name__}')\n",
    "            new_cls = super().__call__(*args, **kwargs)\n",
    "            cls._instance_store[cls] = new_cls\n",
    "        return cls._instance_store[cls]\n",
    "    \n",
    "class SingletonNaive(metaclass=SingletonMeta):\n",
    "    def some_business_logic(self):\n",
    "        print('doing something')\n",
    "\n",
    "class DifferentSingletonNaive(metaclass=SingletonMeta):\n",
    "    def some_business_logic(self):\n",
    "        print('doing something')\n",
    "\n",
    "s1 = SingletonNaive()\n",
    "s2 = SingletonNaive()\n",
    "s3 = DifferentSingletonNaive()\n",
    "\n",
    "print(f\"Repeated objects do not get recreated because memory IDs are the same: {id(s1)=}, {id(s2)=}\")"
   ]
  },
  {
   "cell_type": "markdown",
   "metadata": {},
   "source": [
    "- However, there are other ways of enforcing Singleton creation without having to create a Metaclass! \n",
    "\n",
    "- For example, we can use the `__new__` dunder method in classes too\n",
    "\n",
    "- Upside is, we can make the singleton behaviour without a new metaclass\n",
    "\n",
    "- Downside is, you can't reuse the Singleton construction as simply, or as cleanly"
   ]
  },
  {
   "cell_type": "code",
   "execution_count": 94,
   "metadata": {},
   "outputs": [
    {
     "name": "stdout",
     "output_type": "stream",
     "text": [
      "Repeated objects do not get recreated because memory IDs are the same: id(s1)=4439941680, id(s2)=4439941680\n"
     ]
    }
   ],
   "source": [
    "class SingletonNaive():\n",
    "    _existing_instance = False\n",
    "\n",
    "    def __new__(cls, *args, **kwargs):\n",
    "        if not cls._existing_instance:\n",
    "            cls._existing_instance = super().__new__(cls, *args, **kwargs)\n",
    "        return cls._existing_instance\n",
    "            \n",
    "    def some_business_logic(self):\n",
    "        print('doing something')\n",
    "\n",
    "\n",
    "s1 = SingletonNaive()\n",
    "s2 = SingletonNaive()\n",
    "print(f\"Repeated objects do not get recreated because memory IDs are the same: {id(s1)=}, {id(s2)=}\")"
   ]
  },
  {
   "cell_type": "markdown",
   "metadata": {},
   "source": [
    "#### Thread-safe Singleton"
   ]
  },
  {
   "cell_type": "markdown",
   "metadata": {},
   "source": [
    "- Thread safety is also quite easily enforced, just lock the object while it is being used"
   ]
  },
  {
   "cell_type": "code",
   "execution_count": 102,
   "metadata": {},
   "outputs": [
    {
     "name": "stdout",
     "output_type": "stream",
     "text": [
      "VALUE1\n",
      "VALUE1\n",
      "VALUE1\n",
      "When multiple threads try to create a singleton with a different attribute value, it is unable to because the object cannot be operated on until the first process is complete (i.e. Locked)\n"
     ]
    }
   ],
   "source": [
    "from threading import Lock, Thread\n",
    "\n",
    "class SingletonMeta(type):\n",
    "    _instance_store = {}\n",
    "    _lock = Lock()\n",
    "\n",
    "    def __call__(cls, *args, **kwargs):\n",
    "        with cls._lock:\n",
    "            if cls not in cls._instance_store:\n",
    "                instance = super().__call__(*args, **kwargs)\n",
    "                cls._instance_store[cls] = instance\n",
    "        return cls._instance_store[cls]\n",
    "    \n",
    "class SingletonThreadSafe(metaclass=SingletonMeta):\n",
    "    def __init__(self, attr):\n",
    "        self.attr = attr\n",
    "\n",
    "    def some_business_logic(self):\n",
    "        print('doing something')\n",
    "\n",
    "def init_singleton_with_value(value):\n",
    "    s = SingletonThreadSafe(value)\n",
    "    print(s.attr, end='\\n')\n",
    "\n",
    "process1 = Thread(target=init_singleton_with_value, args=('VALUE1',))\n",
    "process2 = Thread(target=init_singleton_with_value, args=('VALUE2',))\n",
    "process3 = Thread(target=init_singleton_with_value, args=('VALUE3',))\n",
    "process1.start()\n",
    "process2.start()\n",
    "process3.start()\n",
    "print('When multiple threads try to create a singleton with a different attribute value, it is unable to because the object cannot be operated on until the first process is complete (i.e. Locked)')"
   ]
  },
  {
   "cell_type": "markdown",
   "metadata": {},
   "source": [
    "### Discussion"
   ]
  },
  {
   "cell_type": "markdown",
   "metadata": {},
   "source": [
    "- Singletons break modularity of code\n",
    "    - You can’t really re-use a class that depends on a Singleton in another context, unless that Singleton is also ported over. \n",
    "    - So basically the Singleton class becomes coupled to everything else\n",
    "\n",
    "- Singleton pattern breaks single responsibility principle (though I'd say it's probably not a huge deal)\n",
    "    - They ensure the class has one and only one instance\n",
    "    - They provide a way for code to access this object\n",
    "        - Singletons usually have some method that allows clients to access the singleton (if it has been constructed), or to make one (if it hasn't been constructed)"
   ]
  },
  {
   "cell_type": "markdown",
   "metadata": {},
   "source": [
    "### Pros and Cons"
   ]
  },
  {
   "cell_type": "markdown",
   "metadata": {},
   "source": [
    "- Pros\n",
    "    - You can guarantee that there is only a single instance of a class\n",
    "    - Any part of your code can access the singleton through a single access point\n",
    "    - Especially in cases where the initialisation is expensive, singletons are useful because you only incur this cost once\n",
    "\n",
    "- Cons\n",
    "    - Violates the Single Responsibility Principle. The pattern solves two problems at the time (ensures the class has only 1 instance, AND provides a way to access the object)\n",
    "    - The Singleton pattern can mask bad design, for instance, when the components of the program know too much about each other.\n",
    "        - i.e. This introduces very very strong coupling, so you should be careful about how this \n",
    "    - You HAVE to implement some special treatment if you are dealing with multithreaded applications, because withoutn this, multiple threads can create a singleton object several times.\n",
    "    - Unit testing of singletons is hard, because most unit test libraries rely on inheritance when producing mock objects, and the constructor class is private "
   ]
  },
  {
   "cell_type": "markdown",
   "metadata": {},
   "source": [
    "### Use Cases"
   ]
  },
  {
   "cell_type": "markdown",
   "metadata": {},
   "source": [
    "- You have an object that is SUPER expensive to initialise, and you really only need one of it\n",
    "    - So you disable any new object from getting created once you incur this cost once\n",
    "\n",
    "- You need to control the number of objects you have strictly\n",
    "    - e.g. your singleton controls access to some resource that supports a maximum of 5 concurrent users. So you want a maximum of 5 connections to be created"
   ]
  },
  {
   "cell_type": "code",
   "execution_count": null,
   "metadata": {},
   "outputs": [],
   "source": []
  }
 ],
 "metadata": {
  "kernelspec": {
   "display_name": "dsa_prep",
   "language": "python",
   "name": "python3"
  },
  "language_info": {
   "codemirror_mode": {
    "name": "ipython",
    "version": 3
   },
   "file_extension": ".py",
   "mimetype": "text/x-python",
   "name": "python",
   "nbconvert_exporter": "python",
   "pygments_lexer": "ipython3",
   "version": "3.10.13"
  }
 },
 "nbformat": 4,
 "nbformat_minor": 2
}

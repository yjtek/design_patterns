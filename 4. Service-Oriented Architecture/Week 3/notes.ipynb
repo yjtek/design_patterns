{
 "cells": [
  {
   "attachments": {},
   "cell_type": "markdown",
   "metadata": {},
   "source": [
    "# REST"
   ]
  },
  {
   "attachments": {},
   "cell_type": "markdown",
   "metadata": {},
   "source": [
    "- REST: Representational State Transfer\n",
    "    - Used by HTTP to send messages to communicate between components\n",
    "\n",
    "- Constraints of REST\n",
    "    - Client-server architecture\n",
    "    - Layered\n",
    "    - Stateless\n",
    "    - Cache on clients \n",
    "    - Uniform interface\n",
    "\n",
    "- Common HTTP Methods\n",
    "    - Get, Put, Post, Delete\n",
    "    "
   ]
  },
  {
   "attachments": {},
   "cell_type": "markdown",
   "metadata": {},
   "source": [
    "## Designing a REST Service"
   ]
  },
  {
   "attachments": {},
   "cell_type": "markdown",
   "metadata": {},
   "source": [
    "- Use only nouns for the URI, NO VERBS\n",
    "- GET should not alter state of resources\n",
    "- Use plural nouns for URI\n",
    "- Use subresources for relationships between resources\n",
    "- Use HTTP headers to specify output format\n",
    "- If repsonse is large, add ability to filter\n",
    "- If API is used by many, add version number\n",
    "- Provide proper HTTP status codes"
   ]
  },
  {
   "attachments": {},
   "cell_type": "markdown",
   "metadata": {},
   "source": [
    "## Microservices"
   ]
  },
  {
   "attachments": {},
   "cell_type": "markdown",
   "metadata": {},
   "source": [
    "- A response to monolithic software development, which took a long time + not adaptible\n",
    "\n",
    "- Basically write everything as interacting services, and have services talk to each other\n",
    "\n"
   ]
  }
 ],
 "metadata": {
  "language_info": {
   "name": "python"
  },
  "orig_nbformat": 4
 },
 "nbformat": 4,
 "nbformat_minor": 2
}

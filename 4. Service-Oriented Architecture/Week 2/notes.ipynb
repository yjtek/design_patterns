{
 "cells": [
  {
   "attachments": {},
   "cell_type": "markdown",
   "metadata": {},
   "source": [
    "# REST Architecture for SOA"
   ]
  },
  {
   "attachments": {},
   "cell_type": "markdown",
   "metadata": {},
   "source": [
    "## Intro to web services"
   ]
  },
  {
   "attachments": {},
   "cell_type": "markdown",
   "metadata": {},
   "source": [
    "- Service: some functionality exposed for use by another process\n",
    "\n",
    "- In large orgs, it often doesn't make sense to have big middleware, because coordination is a huge pain\n",
    "    - You need to deal with $O(N^2)$ pairs of connections with every entity in the org\n",
    "    - This is often called Enterprise Application Integration (EAI)\n",
    "    - In practise, it is often easier to have each entity as a service that is accessed by other services through some interface\n",
    "\n",
    "- 3 foundational standards of web services\n",
    "    - This is done with SOAP (Simple object access protocol) protocol specification, typically written in XML\n",
    "    - Web service description language (WSDL) is the standard protocol for describing interface of a service, typically written in XML\n",
    "        - Allows requester to bind to interface\n",
    "    - Universal description, discovery, and integration (UDDI) to build public/private registries of web services\n",
    "\n",
    "- Business Process Execution Language (BPEL) built on top of these 3 standards for compositing services"
   ]
  },
  {
   "attachments": {},
   "cell_type": "markdown",
   "metadata": {},
   "source": [
    "## Service Invocation (SOAP)"
   ]
  },
  {
   "attachments": {},
   "cell_type": "markdown",
   "metadata": {},
   "source": [
    "- SOAP provides centralization to interactions between service requesters and service providers or clients and servers\n",
    "    - Central definition of how to organize requests and responses in XML\n",
    "    - Provides instructions for how the message is bound to the underlying transport protocol (HTTP in this case)\n",
    "\n",
    "- 2 styles of SOAP messages\n",
    "    - Document\n",
    "        - Structured document containing request understood by both parties\n",
    "    - RPC\n",
    "        - Comprises operation and input params"
   ]
  },
  {
   "attachments": {},
   "cell_type": "markdown",
   "metadata": {},
   "source": [
    "## Service Description (WSDL)"
   ]
  },
  {
   "attachments": {},
   "cell_type": "markdown",
   "metadata": {},
   "source": [
    "- For a invocation to be successful, requester must make the request in a proper way\n",
    "    - Think about a method you want to call. You look at the documentation to find the param names and types\n",
    "    - Web Service Description Langauge (WSDL) plays this role for web services\n",
    "\n",
    "- WSDL allows requester to bind to the service provider, which allows requester to invoke the service with SOAP messages\n",
    "    - Typically, details are given in XML\n",
    "\n",
    "- Services are defined concretely by bringing together interfaces and bindings\n",
    "    - Same service can be used with different bindings to provide an interface over different communications protocols\n",
    "    - e.g. can call service with SMTP or HTTP"
   ]
  },
  {
   "attachments": {},
   "cell_type": "markdown",
   "metadata": {},
   "source": [
    "## Service Publication and Discovery (UDDI)"
   ]
  },
  {
   "attachments": {},
   "cell_type": "markdown",
   "metadata": {},
   "source": [
    "- UDDI is used for publishing services\n",
    "    - Enables potential service requesters to search the registry\n",
    " "
   ]
  },
  {
   "attachments": {},
   "cell_type": "markdown",
   "metadata": {},
   "source": [
    "## Service Composition (BPEL)"
   ]
  },
  {
   "attachments": {},
   "cell_type": "markdown",
   "metadata": {},
   "source": []
  }
 ],
 "metadata": {
  "language_info": {
   "name": "python"
  },
  "orig_nbformat": 4
 },
 "nbformat": 4,
 "nbformat_minor": 2
}

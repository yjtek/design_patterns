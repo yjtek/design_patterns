{
 "cells": [
  {
   "attachments": {},
   "cell_type": "markdown",
   "metadata": {},
   "source": [
    "# Gang of four pattern catalog"
   ]
  },
  {
   "attachments": {},
   "cell_type": "markdown",
   "metadata": {},
   "source": [
    "- Think of design patterns as a list of tropes\n",
    "- Patterns are applicable to specific problem spaces, and specific implementations are known as a pattern langauge  \n",
    "    - e.g. game design has its own pattern language compared to desgining accounting software etc."
   ]
  },
  {
   "attachments": {},
   "cell_type": "markdown",
   "metadata": {},
   "source": [
    "- Multiple categories of patterns\n",
    "    - Creational patterns: How do you create new objects?\n",
    "    - Structural patterns: How are objects related to each other?\n",
    "        - Association\n",
    "        - Aggregation\n",
    "        - Composition\n",
    "        - Inheritance\n",
    "        - Interface \n",
    "    - Behavioral patterns: How objects distribute work and work towards a common goal\n",
    "        - e.g. In F1 pitcrew, tyre change, fuel change, etc."
   ]
  },
  {
   "cell_type": "markdown",
   "metadata": {},
   "source": []
  }
 ],
 "metadata": {
  "kernelspec": {
   "display_name": "Python 3",
   "language": "python",
   "name": "python3"
  },
  "language_info": {
   "name": "python",
   "version": "3.10.4"
  },
  "orig_nbformat": 4,
  "vscode": {
   "interpreter": {
    "hash": "cebb4ce401eb3de5659966fd3ccc10327db9c280404c0c1b484be62a3fb11364"
   }
  }
 },
 "nbformat": 4,
 "nbformat_minor": 2
}

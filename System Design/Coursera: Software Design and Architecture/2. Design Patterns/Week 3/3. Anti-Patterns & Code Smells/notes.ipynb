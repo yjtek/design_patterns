{
 "cells": [
  {
   "attachments": {},
   "cell_type": "markdown",
   "metadata": {},
   "source": [
    "# Anti-Patterns & Code Smells"
   ]
  },
  {
   "attachments": {},
   "cell_type": "markdown",
   "metadata": {},
   "source": [
    "## Refactoring Code Smells (what needs to change?)"
   ]
  },
  {
   "attachments": {},
   "cell_type": "markdown",
   "metadata": {},
   "source": [
    "- Often when developing stuff, you run into issues with code not being well designed. So you need to refactor code.\n",
    "\n",
    "- Code smell 1: Too many comments\n",
    "    - Comments are usually good \n",
    "    - But too many comments means that you are probably trying to cover up some shit in your code that is unclear\n",
    "    - Also, too many comments are hard to maintain, and will be out of sync as your code base develops\n",
    "\n",
    "- Code smell 2: Duplicated code\n",
    "    - When you have blocks of code that are pretty similar looking with small tweaks, that is probably a sign that you can write a general method for it\n",
    "    - Imagine you are developing Facebook. You have developed the feature to post text on your own wall. \n",
    "    - Now you want to add the ability to post on a friend's wall, and post in a group. So you copy your original code to 2 other places\n",
    "    - Next, you want the ability to post pictures. So you have to copy the code for posting pics to 3 places\n",
    "    - Obviously, this is unsustainable as you add features, because you end up making $ n \\cdot m $ copies of every piece of code \n",
    "\n",
    "- Code smell 3: Large methods\n",
    "    - If a method is too long, it is a sign that it is doing too many things. So break it up into smaller pieces\n",
    "\n",
    "- Code smell 4: Too Large/Small classes\n",
    "    - With classes, it can be worse than large methods, because large classes attracts more functionality to be parked inside it, because most of the functionality already exists within the class.\n",
    "    - If classes are too small, often these are \"data classes\" i.e. a class that contains data and nothing else\n",
    "        - e.g. in rendering plots, I might have a class called \"Point\" with self.x and self.y attributes only, which can be lumped as parameters downstream\n",
    "        - However, the flipside is, there are occasions where variables appear together all the time (e.g. x,y,z coordinates), and you may want to encapsulate these into a single class, so you don't need to handle 3 different values manually. This is known as data clumping\n",
    "\n",
    "- Code smell 5: Long parameter list"
   ]
  },
  {
   "attachments": {},
   "cell_type": "markdown",
   "metadata": {},
   "source": [
    "## Smells to look out for while you're changing code"
   ]
  },
  {
   "attachments": {},
   "cell_type": "markdown",
   "metadata": {},
   "source": [
    "- Code smell 6: Divergent change\n",
    "    - If you find that you need to make many changes to a class in possibly conflicting ways, it is probably a good sign that the class should not be a single class\n",
    "\n",
    "- Code smell 7: Shotgun surgery\n",
    "    - Another red flag is when a single change to a class requires you to make changes in many other parts (splatter)\n",
    "    - While not always possible, this is typically a sign of poor design\n",
    "\n",
    "- Code smell 8: Feature envy\n",
    "    - Do you find that a method in class A is talking more to class B than its own class? Then it may be more appropriate to move method from A to B\n",
    "\n",
    "- Code smell 9: Inappropriate Intimacy\n",
    "    - If you have 2 classes that talk really closely to each other (e.g. A calls B's methods, B calls A's methods), then it might be a sign of close coupling\n",
    "    - One way to identify this is via identifying cyclical dependency in their method calls A --> B --> A\n",
    "\n",
    "- Code smell 10: Message chains\n",
    "    - You have an class A that calls \"get_B\", which then calls \"get_C\", which then does something\n",
    "    - Such long message chains are a red flag to signal that you may want to refactor the chain of calls\n",
    "\n",
    "- Code smell 11: Primitive obsession\n",
    "    - Don't overuse primitive types where it is uncalled for, or you don't make the best use of abstractions\n",
    "    - For example, postal code in singapore can be stored as string. But would it be better to have a distinct postal code type?\n",
    "        - Postal codes must be 6 digits\n",
    "        - Postal codes must have leading 0 if value is less than 6 digits\n",
    "\n",
    "- Code smell 12: Switch statements\n",
    "    - Sometimes, switch statements are better handled by design\n",
    "    - For example, you have an \"Animal\" class, and subtypes Dog, Cat, Bird, with method \"make_sound()\"\n",
    "    - If there is a huge switch block in make_sound() that checks if animal is dog/cat/bird and returns the appropriate sound, you can probably just make it polymorphic\n",
    "\n",
    "- Code smell 13: Speculative generality\n",
    "    - The converse happens when you make things general when they don't have to be\n",
    "\n",
    "- Code smell 14: Refused bequest\n",
    "    - Sometimes, when you subclass stuff, you end up inheriting a bunch of things you don't need. Try not to have this"
   ]
  }
 ],
 "metadata": {
  "kernelspec": {
   "display_name": "Python 3",
   "language": "python",
   "name": "python3"
  },
  "language_info": {
   "codemirror_mode": {
    "name": "ipython",
    "version": 3
   },
   "file_extension": ".py",
   "mimetype": "text/x-python",
   "name": "python",
   "nbconvert_exporter": "python",
   "pygments_lexer": "ipython3",
   "version": "3.10.4"
  },
  "orig_nbformat": 4
 },
 "nbformat": 4,
 "nbformat_minor": 2
}

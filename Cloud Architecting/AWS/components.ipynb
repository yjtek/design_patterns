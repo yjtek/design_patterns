{
 "cells": [
  {
   "cell_type": "markdown",
   "metadata": {},
   "source": [
    "# Components of AWS Pipeline "
   ]
  },
  {
   "cell_type": "markdown",
   "metadata": {},
   "source": [
    "## Application Load Balancer (ALB)"
   ]
  },
  {
   "cell_type": "markdown",
   "metadata": {},
   "source": [
    "- Handles load to an endpoint by splitting traffic to multiple workers"
   ]
  },
  {
   "cell_type": "markdown",
   "metadata": {},
   "source": [
    "## Amazon Cognito"
   ]
  },
  {
   "cell_type": "markdown",
   "metadata": {},
   "source": [
    "- Sits behind the ALB to authenticate users, before they are allowed to access some cloud resource "
   ]
  },
  {
   "cell_type": "markdown",
   "metadata": {},
   "source": [
    "## AWS Lambda"
   ]
  },
  {
   "cell_type": "markdown",
   "metadata": {},
   "source": [
    "- Event-driven computing platform; you can trigger some code to run once you detect some event without having to provision / manage servers\n",
    "- Automatically manages computing resources required by the code"
   ]
  },
  {
   "cell_type": "markdown",
   "metadata": {},
   "source": [
    "## Amazon MQ Broker (ActiveMQ)"
   ]
  },
  {
   "cell_type": "markdown",
   "metadata": {},
   "source": [
    "- Message broker for validation, storing, routing, and delivering messages to the right destination"
   ]
  },
  {
   "cell_type": "markdown",
   "metadata": {},
   "source": [
    "## API Gateway (REST, HTTP)"
   ]
  },
  {
   "cell_type": "markdown",
   "metadata": {},
   "source": [
    "- As the name suggests, you can provision an API gateway for an endpoint on AWS, which handles authentication / security policies / caching / rate limiting\n",
    "- Technically this is already a scalable component, so you may not really need to combine this with an ALB"
   ]
  },
  {
   "cell_type": "markdown",
   "metadata": {},
   "source": [
    "## Amazon Simple Email Service (SES)"
   ]
  },
  {
   "cell_type": "markdown",
   "metadata": {},
   "source": [
    "- Lets you manage large scale emailing via API"
   ]
  },
  {
   "cell_type": "markdown",
   "metadata": {},
   "source": [
    "## Amazon Simple Queue Service (SQS)"
   ]
  },
  {
   "cell_type": "markdown",
   "metadata": {},
   "source": [
    "- Simpler version of the Amazon MQ; it does not support many higher level abstractions (message routing, fan-outs) etc\n",
    "- Also not really a broker, just a message orchestration system\n",
    "- 1:1 relationship. 1 service writes to SQS, 1 service consumes from it. It decouples 2 services, because if 1 goes down, the messages are still there"
   ]
  },
  {
   "cell_type": "markdown",
   "metadata": {},
   "source": [
    "## Amazon Simple Notification Service (SNS)"
   ]
  },
  {
   "cell_type": "markdown",
   "metadata": {},
   "source": [
    "- Similar to SQS, but instead it is 1: many relationship\n",
    "- 1 service writes to SNS, and many others can be notified \n",
    "- Can configure many subscribers to be the destination location of the SNS topic (e.g. SQS queue, Lambda function, regular HTTP endpoint)"
   ]
  },
  {
   "cell_type": "markdown",
   "metadata": {},
   "source": [
    "## Amazon EventBridge"
   ]
  },
  {
   "cell_type": "markdown",
   "metadata": {},
   "source": [
    "- Similar to SNS, except instead of topics, it is called event bus, AND instead of subscribers it is called target\n",
    "- Also, some value added features\n",
    "    - Schema Registry/Discovery\n",
    "        - In SNS, you don't know the message format and content beforehand. EventBridge lets you register this ahead of time, and makes it discoverable for ease of use\n",
    "    - Third party integrations\n",
    "        - EventBridge bundles integrations with people like Shopify out of the box, so you can hook a Lambda function to the OrderCreation event on Shopify"
   ]
  },
  {
   "cell_type": "markdown",
   "metadata": {},
   "source": [
    "## AWS Fargate"
   ]
  },
  {
   "cell_type": "markdown",
   "metadata": {},
   "source": [
    "- Kind of like Amazon EC2; you provision some compuatational resources as a container\n",
    "- However, EC2 requires you to provision resources up front, and does not scale down resources if they are underutilised\n",
    "- Fargate is a managed compute layer, so it scales appropriately \n",
    "- Generally for price, a properly sized EC2 instance < AWS Fargate < Overprovisioned EC2 instances"
   ]
  },
  {
   "cell_type": "markdown",
   "metadata": {},
   "source": [
    "## AWS Bedrock"
   ]
  },
  {
   "cell_type": "markdown",
   "metadata": {},
   "source": [
    "- Fully managed service that lets you create GAI applications\n",
    "- Access to multiple foundation models, and let you customize them for personalised products/services"
   ]
  },
  {
   "cell_type": "markdown",
   "metadata": {},
   "source": [
    "## Amazon Cloudwatch"
   ]
  },
  {
   "cell_type": "markdown",
   "metadata": {},
   "source": [
    "- Monitoring service for AWS cloud resources and applications"
   ]
  },
  {
   "cell_type": "markdown",
   "metadata": {},
   "source": [
    "## AWS IAM"
   ]
  },
  {
   "cell_type": "markdown",
   "metadata": {},
   "source": [
    "- While Cognito manages user authentication (like logging in to a web page), IAM manages cloud access to AWS resources"
   ]
  },
  {
   "cell_type": "markdown",
   "metadata": {},
   "source": [
    "## Amazon DynamoDB"
   ]
  },
  {
   "cell_type": "markdown",
   "metadata": {},
   "source": [
    "- Fully managed NoSQL database"
   ]
  },
  {
   "cell_type": "markdown",
   "metadata": {},
   "source": [
    "## Amazon Virtual Private Cloud"
   ]
  },
  {
   "cell_type": "markdown",
   "metadata": {},
   "source": [
    "- Virtual network dedicated to your AWS account, and is logically isolated from other virtual networks in the AWS Cloud \n",
    "- You can specify an IP address range for the VPC, add subnets, add gateways, and associate security groups\n",
    "- A subnet is a range of IP addresses in your VPC.\n",
    "\n",
    "- Each VPC can provision a VPC endpoint\n",
    "    - Lets you privately connect to supported AWS services\n",
    "    - Controlled by AWS PrivateLink\n",
    "    - Traffic stays entirely within the Amazon network"
   ]
  },
  {
   "cell_type": "markdown",
   "metadata": {},
   "source": [
    "## Network Load Balancer"
   ]
  },
  {
   "cell_type": "markdown",
   "metadata": {},
   "source": [
    "- When entering a VPC, an NLB helps distribute incoming traffic (EC2 instances, containers, etc), monitors health of targets"
   ]
  },
  {
   "cell_type": "markdown",
   "metadata": {},
   "source": [
    "## Amazon EFS"
   ]
  },
  {
   "cell_type": "markdown",
   "metadata": {},
   "source": [
    "- Managed file system on AWS, can be mounted on your compute instances (EC2, containers, Lambda, etc)"
   ]
  },
  {
   "cell_type": "markdown",
   "metadata": {},
   "source": [
    "## Amazon RDS"
   ]
  },
  {
   "cell_type": "markdown",
   "metadata": {},
   "source": [
    "- A managed relational database service, helps you scale your DB up or down as needed"
   ]
  },
  {
   "cell_type": "markdown",
   "metadata": {},
   "source": [
    "## Amazon Aurora"
   ]
  },
  {
   "cell_type": "markdown",
   "metadata": {},
   "source": [
    "- Aurora is a completely closed source relational DB offered by AWS\n",
    "- Improves on open source standards of crash recovery and data duability"
   ]
  },
  {
   "cell_type": "markdown",
   "metadata": {},
   "source": [
    "## Amazon Kinesis"
   ]
  },
  {
   "cell_type": "markdown",
   "metadata": {},
   "source": [
    "- Amazon Kinesis is a family of services provided by Amazon Web Services for processing and analyzing real-time streaming data at a large scale."
   ]
  },
  {
   "cell_type": "markdown",
   "metadata": {},
   "source": [
    "## Amazon S3"
   ]
  },
  {
   "cell_type": "markdown",
   "metadata": {},
   "source": [
    "- Object store\n",
    "- Cheaper than EFS, but doesn't support features like locks, permissions, etc\n",
    "- So you can't mount s3 and use it as a webserver, unlike EFS\n"
   ]
  },
  {
   "cell_type": "markdown",
   "metadata": {},
   "source": [
    "## Amazon Comprehend"
   ]
  },
  {
   "cell_type": "markdown",
   "metadata": {},
   "source": [
    "- NLP service"
   ]
  }
 ],
 "metadata": {
  "language_info": {
   "name": "python"
  }
 },
 "nbformat": 4,
 "nbformat_minor": 2
}

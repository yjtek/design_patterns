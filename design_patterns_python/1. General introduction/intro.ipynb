{
 "cells": [
  {
   "cell_type": "markdown",
   "metadata": {},
   "source": [
    "# 1. What is clean code?"
   ]
  },
  {
   "cell_type": "markdown",
   "metadata": {},
   "source": [
    "- Code must be readeable to others\n",
    "- Code must not have duplication\n",
    "- Code must be as succinct as possible (minimum number of classes, functions, etc)\n",
    "- Code is well tested and passes all tests\n",
    "\n",
    "- Always remember, every line of code written is a line of code to maintain. **CODE IS LIABILITY**"
   ]
  },
  {
   "cell_type": "markdown",
   "metadata": {},
   "source": [
    "# 2. When to refactor?"
   ]
  },
  {
   "cell_type": "markdown",
   "metadata": {},
   "source": [
    "- Rule of 3\n",
    "    - When you do something for the first time, just do it\n",
    "    - When you do something for a second time, feel irritated and do it\n",
    "    - When you do something for a third time, refactor"
   ]
  },
  {
   "cell_type": "markdown",
   "metadata": {},
   "source": [
    "# 3. Refactoring checklist"
   ]
  },
  {
   "cell_type": "markdown",
   "metadata": {},
   "source": [
    "- Code should be cleaner\n",
    "- No new functionality should be created\n",
    "- All tests must pass"
   ]
  },
  {
   "cell_type": "markdown",
   "metadata": {},
   "source": []
  }
 ],
 "metadata": {
  "language_info": {
   "name": "python"
  }
 },
 "nbformat": 4,
 "nbformat_minor": 2
}

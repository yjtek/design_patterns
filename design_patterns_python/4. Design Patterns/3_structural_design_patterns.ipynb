{
 "cells": [
  {
   "cell_type": "markdown",
   "metadata": {},
   "source": [
    "# Structural Design Patterns"
   ]
  },
  {
   "cell_type": "markdown",
   "metadata": {},
   "source": [
    "- Previously, we covered possible strategies to simplify/beautify object creation in cases where the usual way is too tedious/untidy/ugly\n",
    "\n",
    "- Now, we look at ways to assemble objects which allows for more flexible and extensible code, like Lego\n",
    "\n",
    "- Structural design patterns explain how to assemble objects and classes into larger structures, while keeping these structures flexible and efficient."
   ]
  },
  {
   "cell_type": "markdown",
   "metadata": {},
   "source": [
    "## 1. Adapter"
   ]
  },
  {
   "cell_type": "markdown",
   "metadata": {},
   "source": [
    "### Big Picture"
   ]
  },
  {
   "cell_type": "markdown",
   "metadata": {},
   "source": [
    "- Literally what the name suggests. \n",
    "\n",
    "- Imagine you have some unmodifiable client code, and some unmodifiable server code. The client's expected input and the server's output do not match\n",
    "\n",
    "- So instead of doing a rewrite of your client, you simply write a class dedicated to changing your server's output into something that your client can accept"
   ]
  },
  {
   "cell_type": "markdown",
   "metadata": {},
   "source": [
    "### Example"
   ]
  },
  {
   "cell_type": "markdown",
   "metadata": {},
   "source": [
    "#### Via Inheritance"
   ]
  },
  {
   "cell_type": "code",
   "execution_count": 8,
   "metadata": {},
   "outputs": [
    {
     "name": "stdout",
     "output_type": "stream",
     "text": [
      "Target: The default target's behavior.None\n",
      "client cannot work with adaptee class\n",
      "Adapter: (TRANSLATED) Special behavior of the Adaptee.None\n"
     ]
    }
   ],
   "source": [
    "class Target:\n",
    "    def request(self) -> str:\n",
    "        return \"Target: The default target's behavior.\"\n",
    "\n",
    "\n",
    "class Adaptee:\n",
    "    def adaptee_request(self) -> str:\n",
    "        return \".eetpadA eht fo roivaheb laicepS\"\n",
    "\n",
    "class Adapter(Target, Adaptee):\n",
    "    ## Overwriting the parent method \"Target.request\", to act on \"Adaptee.specific_request\"\n",
    "    def request(self) -> str:\n",
    "        return f\"Adapter: (TRANSLATED) {self.adaptee_request()[::-1]}\"\n",
    "\n",
    "def client_code(target: Target) -> None:\n",
    "    print(target.request(), end=\"\")\n",
    "\n",
    "## Client code works fine with the `Target` object\n",
    "target = Target()\n",
    "print(client_code(target))\n",
    "\n",
    "## But it doesn't understand the `Adaptee` class's output\n",
    "adaptee = Adaptee()\n",
    "try:\n",
    "    client_code(adaptee)\n",
    "except:\n",
    "    print('client cannot work with adaptee class')\n",
    "\n",
    "## Use adaptor to give the adaptee code an interface that client can work with\n",
    "adapter = Adapter()\n",
    "print(client_code(adapter))"
   ]
  },
  {
   "cell_type": "markdown",
   "metadata": {},
   "source": [
    "#### Via Object Composition"
   ]
  },
  {
   "cell_type": "code",
   "execution_count": 11,
   "metadata": {},
   "outputs": [
    {
     "name": "stdout",
     "output_type": "stream",
     "text": [
      "Target: The default target's behavior.None\n",
      "cannot work with adaptee class\n",
      "Adapter: (TRANSLATED) Special behavior of the Adaptee."
     ]
    }
   ],
   "source": [
    "class Target:\n",
    "    def request(self) -> str:\n",
    "        return \"Target: The default target's behavior.\"\n",
    "\n",
    "\n",
    "class Adaptee:\n",
    "    def adaptee_request(self) -> str:\n",
    "        return \".eetpadA eht fo roivaheb laicepS\"\n",
    "\n",
    "class Adapter(Target):\n",
    "    def __init__(self, adaptee: Adaptee) -> None:\n",
    "        self.adaptee = adaptee\n",
    "\n",
    "    ## Overwrite `Target`'s request method\n",
    "    def request(self) -> str:\n",
    "        return f\"Adapter: (TRANSLATED) {self.adaptee.adaptee_request()[::-1]}\"\n",
    "\n",
    "\n",
    "def client_code(target: Target) -> None:\n",
    "    print(target.request(), end=\"\")\n",
    "\n",
    "\n",
    "target = Target()\n",
    "print(client_code(target))\n",
    "\n",
    "try:\n",
    "    adaptee = Adaptee()\n",
    "    client_code(adaptee)\n",
    "except:\n",
    "    print('cannot work with adaptee class')\n",
    "\n",
    "adapter = Adapter(adaptee)\n",
    "client_code(adapter)"
   ]
  },
  {
   "cell_type": "markdown",
   "metadata": {},
   "source": [
    "### Discussion"
   ]
  },
  {
   "cell_type": "markdown",
   "metadata": {},
   "source": [
    "- Your new Adaptor can be implemented in one of two ways\n",
    "    1. Your adaptor implements the interface of the client, and wraps around the service object.\n",
    "        - So instead of calling the client with the incompatible input, you call the adaptor with the SAME METHOD NAMES as if you were calling the client\n",
    "        - Since this works via interface, no coupling between client and adaptor classes are introduced!\n",
    "    2. Your adaptor can inherit from both the client and server classes\n",
    "        - If you do it this way, you override the relevant methods from the client"
   ]
  },
  {
   "cell_type": "markdown",
   "metadata": {},
   "source": [
    "### Pros and Cons"
   ]
  },
  {
   "cell_type": "markdown",
   "metadata": {},
   "source": [
    "- Pros:\n",
    "    - Single Responsibility Principle: You can separate the interface or data conversion code from the primary business logic of the program.\n",
    "    - Open/Closed Principle. You can always add new adapters without breaking the client code, so long as they respect the client interface\n",
    "\n",
    "- Cons:\n",
    "    - More complexity"
   ]
  },
  {
   "cell_type": "markdown",
   "metadata": {},
   "source": [
    "### Use Cases"
   ]
  },
  {
   "cell_type": "markdown",
   "metadata": {},
   "source": [
    "- You want to use some existing class, but its interface isn’t compatible with the rest of your code\n",
    "\n",
    "- Use the pattern when you want to reuse several existing subclasses that lack some common functionality that can’t be added to the superclass."
   ]
  },
  {
   "cell_type": "markdown",
   "metadata": {},
   "source": [
    "## 2. Bridge"
   ]
  },
  {
   "cell_type": "markdown",
   "metadata": {},
   "source": [
    "### Big Picture"
   ]
  },
  {
   "cell_type": "markdown",
   "metadata": {},
   "source": [
    "- Imagine you are dealing with a huge class that handles 2 orthogonal concepts\n",
    "    - e.g. If you have a `Geometry` class, each object can have a `Shape` dimension, and a `Colour` dimension\n",
    "\n",
    "- If you try to develop everything under the `Geometry` class, you can end up with a big mess, because your methods deal with 2 quite distinct concepts\n",
    "\n",
    "- As such, it can be cleaner to split these into 2 different sets of objects, and use composition to have one rely on another\n",
    "\n",
    "- i.e. the remote control"
   ]
  },
  {
   "cell_type": "markdown",
   "metadata": {},
   "source": [
    "### Example"
   ]
  },
  {
   "cell_type": "code",
   "execution_count": 31,
   "metadata": {},
   "outputs": [
    {
     "name": "stdout",
     "output_type": "stream",
     "text": [
      "Displaying circle\n",
      "Displaying circle with blue\n"
     ]
    }
   ],
   "source": [
    "class Colour:\n",
    "    def __init__(self, colour):\n",
    "        self._colour = colour\n",
    "    \n",
    "    def fill_shape(self, shape: 'Shape'):\n",
    "        print(f\"Displaying {shape} with {self._colour}\")\n",
    "\n",
    "class Shape:\n",
    "    def __init__(self, shape: str, colour: Colour):\n",
    "        self._shape: str = shape\n",
    "        self._colour: Colour = colour\n",
    "\n",
    "    def __repr__(self):\n",
    "        return self._shape\n",
    "\n",
    "    def show_shape_skeleton(self):\n",
    "        print(f'Displaying {self._shape}')\n",
    "\n",
    "    def show_shape_with_colour(self):\n",
    "        # self.show_shape_skeleton()\n",
    "        self._colour.fill_shape(self)\n",
    "\n",
    "blue_colour = Colour('blue')\n",
    "circle = Shape('circle', blue_colour)\n",
    "circle.show_shape_skeleton()\n",
    "circle.show_shape_with_colour()"
   ]
  },
  {
   "cell_type": "markdown",
   "metadata": {},
   "source": [
    "### Discussion"
   ]
  },
  {
   "cell_type": "markdown",
   "metadata": {},
   "source": [
    "- In the example above, the `Shape` object (the abstraction) wants to display itself with colour, but delegates the job of doing that to the `Colour` class (the implementation)\n",
    "- As stated above, the objective here is to allow Shape to be extended easily without affecting how it is coloured\n",
    "    - For example, you may wish to create an extension that involves making a `3DShape` class\n",
    "\n",
    "- Think of `Colour` as a remote control, for `Shape` to achieve an outcome (colour the shape) without knowing how the outcome is achieved"
   ]
  },
  {
   "cell_type": "markdown",
   "metadata": {},
   "source": [
    "### Pros and Cons"
   ]
  },
  {
   "cell_type": "markdown",
   "metadata": {},
   "source": [
    "- Pros\n",
    "    - You can create platform-independent classes and apps\n",
    "        - By separating out the implementation into orthogonal classes, you are have more freedom to mix and match components\n",
    "    - The client code works with high-level abstractions. It isn’t exposed to the platform details.\n",
    "    - Open/Closed Principle. You can introduce new abstractions and implementations independently from each other.\n",
    "    - Single Responsibility Principle. You can focus on high-level logic in the abstraction and on platform details in the implementation.\n",
    "\n",
    "- Cons\n",
    "    - Can make code unnecessarily complicated. If your class is small, it may be good to tolerate a bit of bad practise to keep everything within a single class"
   ]
  },
  {
   "cell_type": "markdown",
   "metadata": {},
   "source": [
    "### Use Cases"
   ]
  },
  {
   "cell_type": "markdown",
   "metadata": {},
   "source": [
    "- Use the Bridge pattern when you want to divide and organize a monolithic class that has several variants of some functionality\n",
    "    - That way, you help to separate the concerns of the relevant classes into individual hierachies\n",
    "\n",
    "- Use the pattern when you need to extend a class in several orthogonal (independent) dimensions."
   ]
  },
  {
   "cell_type": "markdown",
   "metadata": {},
   "source": [
    "## 3. Composite"
   ]
  },
  {
   "cell_type": "markdown",
   "metadata": {},
   "source": [
    "### Big Picture"
   ]
  },
  {
   "cell_type": "markdown",
   "metadata": {},
   "source": [
    "- There are occasions when you have objects nested within objects nested within objects\n",
    "- This sort of complicated object can be a huge bitch to write code for, because you basically have to \"unwrap\" the entire chain before you can perform any operations\n",
    "\n",
    "- Let's take an example:\n",
    "    - Suppose you run an e-commerce marketplace\n",
    "    - You have many stores onboarded, and each store may have several sub-brands and/or substores\n",
    "    - A user should be able to \"add to cart\" from any of these stores/substores\n",
    "    - When a user views their cart, they should be able to see the aggregate amount they are spending on each store/substore, as well as the total amount they spend overall\n",
    "\n",
    "    - In a typical usage pattern, you may simply write a `Cart` object that sums the cost of all objects within it\n",
    "        - But a cart can contain individual objects, or a collection of objects from  `Store`, or `Substore`\n",
    "        - So to get the total sum, the `Cart` needs to visit every collection and request the value of the store/substore\n",
    "    \n",
    "- In this example, if your object collections follow a different interface from `Cart`, you're in trouble, because you need to perform the correct aggregation at each step without knowing how to get each object to compute the total sum of values"
   ]
  },
  {
   "cell_type": "markdown",
   "metadata": {},
   "source": [
    "### Example"
   ]
  },
  {
   "cell_type": "code",
   "execution_count": 64,
   "metadata": {},
   "outputs": [
    {
     "name": "stdout",
     "output_type": "stream",
     "text": [
      "RESULT: Leaf\n",
      "RESULT: Branch()\n",
      "RESULT: Branch(Leaf+Leaf)\n",
      "RESULT: Branch(Leaf+Leaf+Branch(Leaf))\n",
      "RESULT: Branch(Leaf+Leaf+Branch(Leaf)+Leaf)\n"
     ]
    }
   ],
   "source": [
    "from abc import ABC, abstractmethod\n",
    "from typing import Optional\n",
    "\n",
    "\n",
    "class Component(ABC):\n",
    "\n",
    "    def __init__(self):\n",
    "        self._parent = None\n",
    "\n",
    "    @property\n",
    "    def parent(self) -> Optional['Component']:\n",
    "        return self._parent\n",
    "\n",
    "    @parent.setter\n",
    "    def parent(self, parent: Optional['Component']):\n",
    "        self._parent = parent\n",
    "\n",
    "    @abstractmethod\n",
    "    def operation(self) -> str:\n",
    "        pass\n",
    "\n",
    "    def add(self, component: 'Component') -> None:\n",
    "        pass\n",
    "\n",
    "    def remove(self, component: 'Component') -> None:\n",
    "        pass\n",
    "\n",
    "    def is_composite(self) -> bool:\n",
    "        return False\n",
    "\n",
    "\n",
    "class Leaf(Component):\n",
    "    def __init__(self):\n",
    "        self._parent: Optional[Component] = None\n",
    "\n",
    "    @property\n",
    "    def parent(self) -> Optional[Component]:\n",
    "        return self._parent\n",
    "    \n",
    "    @parent.setter\n",
    "    def parent(self, parent: Optional[Component]) -> None:\n",
    "        self._parent: Optional[Component] = parent\n",
    "    \n",
    "    def operation(self) -> str:\n",
    "        return \"Leaf\"\n",
    "    \n",
    "class Composite(Component):\n",
    "\n",
    "    def __init__(self) -> None:\n",
    "        self._children: list[Component] = []\n",
    "    \n",
    "    def add(self, component: Component) -> None:\n",
    "        self._children.append(component)\n",
    "        component.parent = self\n",
    "\n",
    "    def remove(self, component: Component) -> None:\n",
    "        self._children.remove(component)\n",
    "        component.parent = None\n",
    "\n",
    "    def is_composite(self) -> bool:\n",
    "        return True\n",
    "\n",
    "    def operation(self) -> str:\n",
    "        results: list[str] = []\n",
    "        for child in self._children:\n",
    "            results.append(child.operation())\n",
    "        return f\"Branch({'+'.join(results)})\"\n",
    "\n",
    "\n",
    "def client_code(component: Component) -> None:\n",
    "    print(f\"RESULT: {component.operation()}\", end=\"\\n\")\n",
    "\n",
    "\n",
    "def client_code2(component1: Component, component2: Component) -> None:\n",
    "    if component1.is_composite():\n",
    "        component1.add(component2)\n",
    "\n",
    "    print(f\"RESULT: {component1.operation()}\", end=\"\\n\")\n",
    "\n",
    "\n",
    "leaf = Leaf() ## Leaf node\n",
    "branch = Composite() ##branch with no children\n",
    "client_code(leaf)\n",
    "client_code(branch)\n",
    "\n",
    "branch.add(Leaf())\n",
    "branch.add(Leaf())\n",
    "client_code(branch) ##Branch with children\n",
    "\n",
    "branch2 = Composite()\n",
    "branch2.add(Leaf())\n",
    "branch.add(branch2)\n",
    "client_code(branch) ##Branch with children and another branch\n",
    "\n",
    "client_code2(branch, leaf) ##Client code can operate on composite object without having a full view of what's inside it"
   ]
  },
  {
   "cell_type": "markdown",
   "metadata": {},
   "source": [
    "### Discussion"
   ]
  },
  {
   "cell_type": "markdown",
   "metadata": {},
   "source": [
    "- Think of this as some sort of \"recursion\"\n",
    "- But instead of having each request propagate through the tree during run time, each composite object stores its state, so you can request for it dynamically"
   ]
  },
  {
   "cell_type": "markdown",
   "metadata": {},
   "source": [
    "### Pros and Cons"
   ]
  },
  {
   "cell_type": "markdown",
   "metadata": {},
   "source": [
    "- Pros\n",
    "    - With this approach, clients can work with Composite objects easily, offloading the work of understanding the structure to the object itself\n",
    "    - Open/Closed Principle. You can introduce new element types into the app without breaking the existing code, which now works with the object tree.\n",
    "\n",
    "- Cons\n",
    "    - Having a common interface can be difficult if the composite classes differ strongly. Don't overgeneralise the interface; it can become very hard to understand"
   ]
  },
  {
   "cell_type": "markdown",
   "metadata": {},
   "source": [
    "### Use Cases"
   ]
  },
  {
   "cell_type": "markdown",
   "metadata": {},
   "source": [
    "- Use the Composite pattern when you have to implement a tree-like object structure.\n",
    "\n",
    "- Use the pattern when you want the client code to treat both simple and complex elements the same way"
   ]
  },
  {
   "cell_type": "markdown",
   "metadata": {},
   "source": [
    "## 4. Decorator"
   ]
  },
  {
   "cell_type": "markdown",
   "metadata": {},
   "source": [
    "### Big Picture"
   ]
  },
  {
   "cell_type": "markdown",
   "metadata": {},
   "source": [
    "- Python has a built-in idea of decorators, so this should not be entirely foreign\n",
    "- The idea is similar to `Adapter`, where you create a new class to wrap around an existing class\n",
    "    - In the case of Adapter, you do this to provide a different interface from accessing the object, or to modify the object's output in some way\n",
    "    - In a Decorator, you \n",
    "- The point of an decorator is to let you grant new behaviour to an object simply by wrapping it with something"
   ]
  },
  {
   "cell_type": "markdown",
   "metadata": {},
   "source": [
    "### Example"
   ]
  },
  {
   "cell_type": "code",
   "execution_count": 69,
   "metadata": {},
   "outputs": [
    {
     "name": "stdout",
     "output_type": "stream",
     "text": [
      "RESULT: SimpleComponent\n",
      "RESULT: ConcreteDecoratorA(SimpleComponent)\n",
      "RESULT: ConcreteDecoratorB(ConcreteDecoratorA(SimpleComponent))\n"
     ]
    }
   ],
   "source": [
    "from typing import Optional\n",
    "from abc import ABC, abstractmethod\n",
    "\n",
    "class ComponentBase(ABC):\n",
    "    @abstractmethod\n",
    "    def operation(self) -> str:\n",
    "        raise NotImplementedError()\n",
    "\n",
    "class SimpleComponent(ComponentBase):\n",
    "    def operation(self) -> str:\n",
    "        return \"SimpleComponent\"\n",
    "\n",
    "class DecoratorBase(ComponentBase):\n",
    "\n",
    "    def __init__(self, component: ComponentBase) -> None:\n",
    "        self._component: ComponentBase = component\n",
    "\n",
    "    @property\n",
    "    def component(self) -> ComponentBase:\n",
    "        return self._component\n",
    "\n",
    "    ## Applies the same interface\n",
    "    @abstractmethod\n",
    "    def operation(self) -> str:\n",
    "        return self._component.operation()\n",
    "\n",
    "class ConcreteDecoratorA(DecoratorBase):\n",
    "    def operation(self) -> str:\n",
    "        return f\"ConcreteDecoratorA({self.component.operation()})\"\n",
    "\n",
    "class ConcreteDecoratorB(DecoratorBase):\n",
    "    def operation(self) -> str:\n",
    "        return f\"ConcreteDecoratorB({self.component.operation()})\"\n",
    "\n",
    "\n",
    "def client_code(component: ComponentBase) -> None:\n",
    "    print(f\"RESULT: {component.operation()}\", end=\"\\n\")\n",
    "\n",
    "simple_component = SimpleComponent()\n",
    "client_code(simple_component)\n",
    "\n",
    "decorated_simple_component_a = ConcreteDecoratorA(simple_component)\n",
    "client_code(decorated_simple_component_a)\n",
    "\n",
    "decorated_simple_component_a_b = ConcreteDecoratorB(decorated_simple_component_a)\n",
    "client_code(decorated_simple_component_a_b)"
   ]
  },
  {
   "cell_type": "markdown",
   "metadata": {},
   "source": [
    "### Discussion"
   ]
  },
  {
   "cell_type": "markdown",
   "metadata": {},
   "source": [
    "- Generally, subclassing would be easier and cleaner whenever different behaviours are involved\n",
    "- But this design can be useful if you have some minor differences in behaviour that don't necessarily require something as verbose as an entire subclass"
   ]
  },
  {
   "cell_type": "markdown",
   "metadata": {},
   "source": [
    "### Pros and Cons"
   ]
  },
  {
   "cell_type": "markdown",
   "metadata": {},
   "source": [
    "- Pros\n",
    "    - Extend an object’s behavior without making a new subclass\n",
    "    - Add/remove responsibilities from an object at runtime\n",
    "    - You can combine several behaviors by wrapping an object into multiple decorators\n",
    "    - Single Responsibility Principle: You can divide a monolithic class that implements many possible variants of behavior into several smaller classes.\n",
    "\n",
    "- Cons\n",
    "    - It’s hard to remove a specific wrapper from the wrappers stack\n",
    "    - It’s hard to implement a decorator in such a way that its behavior doesn’t depend on the order in the decorators stack\n",
    "    - The initial configuration code of layers might look pretty ugly"
   ]
  },
  {
   "cell_type": "markdown",
   "metadata": {},
   "source": [
    "### Use Cases"
   ]
  },
  {
   "cell_type": "markdown",
   "metadata": {},
   "source": [
    "- Use the Decorator pattern when you need to be able to assign extra behaviors to objects at runtime without breaking the code that uses these objects.\n",
    "\n",
    "- Use the pattern when it’s awkward or not possible to extend an object’s behavior using inheritance.\n",
    "    - e.g. Python class has `typing.Final` as type annotation, or `typing.final` as decorator, for linters to do static checks\n",
    "    - e.g. Java has `final` keyword to block inheritance from a class\n"
   ]
  },
  {
   "cell_type": "markdown",
   "metadata": {},
   "source": [
    "## 5. Facade"
   ]
  },
  {
   "cell_type": "markdown",
   "metadata": {},
   "source": [
    "### Big Picture"
   ]
  },
  {
   "cell_type": "markdown",
   "metadata": {},
   "source": [
    "- You have some code that makes use of a bunch of tools and libraries\n",
    "- Though there is a lot happening \"Under the hood\", you shouldn't expect users to know what is happening\n",
    "    - For example, XGBoost library is super complex under the hood, but you shouldn't expect users to call a bunch of methods (either those provided by you, or those in 3rd party libraries)\n",
    "    - Users expect a simple interface. Fit and Predict.\n",
    "\n",
    "- A Facade class does exactly this"
   ]
  },
  {
   "cell_type": "markdown",
   "metadata": {},
   "source": [
    "### Example"
   ]
  },
  {
   "cell_type": "code",
   "execution_count": 70,
   "metadata": {},
   "outputs": [
    {
     "name": "stdout",
     "output_type": "stream",
     "text": [
      "Facade initializes subsystems:\n",
      "Subsystem1: Ready!\n",
      "Subsystem2: Get ready!\n",
      "Facade orders subsystems to perform the actions in some order:\n",
      "Subsystem1: Go!\n",
      "Subsystem2: Fire!\n"
     ]
    }
   ],
   "source": [
    "from __future__ import annotations\n",
    "\n",
    "class Facade:\n",
    "\n",
    "    def __init__(self, subsystem1: Subsystem1, subsystem2: Subsystem2) -> None:\n",
    "        self._subsystem1: Subsystem1 = subsystem1\n",
    "        self._subsystem2: Subsystem2 = subsystem2\n",
    "\n",
    "    def operation(self) -> str:\n",
    "        results = []\n",
    "        results.append(\"Facade initializes subsystems:\")\n",
    "        results.append(self._subsystem1.operation1())\n",
    "        results.append(self._subsystem2.operation1())\n",
    "        results.append(\"Facade orders subsystems to perform the actions in some order:\")\n",
    "        results.append(self._subsystem1.operation_n())\n",
    "        results.append(self._subsystem2.operation_z())\n",
    "        return \"\\n\".join(results)\n",
    "\n",
    "class Subsystem1:\n",
    "    def operation1(self) -> str:\n",
    "        return \"Subsystem1: Ready!\"\n",
    "\n",
    "    def operation_n(self) -> str:\n",
    "        return \"Subsystem1: Go!\"\n",
    "\n",
    "\n",
    "class Subsystem2:\n",
    "    def operation1(self) -> str:\n",
    "        return \"Subsystem2: Get ready!\"\n",
    "\n",
    "    def operation_z(self) -> str:\n",
    "        return \"Subsystem2: Fire!\"\n",
    "\n",
    "def client_code(facade: Facade) -> None:\n",
    "    print(facade.operation(), end=\"\\n\")\n",
    "\n",
    "subsystem1 = Subsystem1()\n",
    "subsystem2 = Subsystem2()\n",
    "facade = Facade(subsystem1, subsystem2)\n",
    "client_code(facade)"
   ]
  },
  {
   "cell_type": "markdown",
   "metadata": {},
   "source": [
    "### Discussion"
   ]
  },
  {
   "cell_type": "markdown",
   "metadata": {},
   "source": [
    "- Write a class that wraps around your subsystems, in order to provide an easier interface to work with them\n",
    "- Kind of like an Adapter, but an Adapter tends to only work with 1 class, while Facades can work with multiple\n",
    "    - Adapter is literally just adapting the interfaces of mutually incompatible classes. The problem solved is interface compatibility.\n",
    "    - Facades orchestrate behaviour. The problem solved is difficulty of users knowing what steps to take. "
   ]
  },
  {
   "cell_type": "markdown",
   "metadata": {},
   "source": [
    "### Pros and Cons"
   ]
  },
  {
   "cell_type": "markdown",
   "metadata": {},
   "source": [
    "- Pros\n",
    "    - You can isolate your code from the complexity of a subsystem\n",
    "\n",
    "- Cons\n",
    "    - If you overdo it, a facade becomes a huge \"god object\", that is coupled to all classes of your app. So anytime you change anything, you need to modify the Facade, which is super not ideal"
   ]
  },
  {
   "cell_type": "markdown",
   "metadata": {},
   "source": [
    "### Use Cases"
   ]
  },
  {
   "cell_type": "markdown",
   "metadata": {},
   "source": [
    "- Use the Facade pattern when you need to have a limited but straightforward interface to a complex subsystem.\n",
    "\n",
    "- Use the Facade when you have multiple systems that need to talk to each other\n",
    "    - Rather than leaving systems to communicate with each other via verbose and extended operations on both sides, create a Facade for each system to orchestrate the work, and simplify the communication between both systems\n"
   ]
  },
  {
   "cell_type": "markdown",
   "metadata": {},
   "source": [
    "## 6. Flyweight"
   ]
  },
  {
   "cell_type": "markdown",
   "metadata": {},
   "source": [
    "### Big Picture"
   ]
  },
  {
   "cell_type": "markdown",
   "metadata": {},
   "source": [
    "- You have some object in your system where, ahead of time, you know that multiple instances will be created\n",
    "- Though these objects are all slightly different, there is a large degree of overlap\n",
    "- But if you create a new object each time, you will store a new copy of the repeated stuff for each distinct object\n",
    "- This creates a huge memory overhead for no reason\n",
    "\n",
    "- A flyweight allows you to support a huge number of these objects by sharing the repeated parts of the objects' states, and only varying the bits that are different"
   ]
  },
  {
   "cell_type": "markdown",
   "metadata": {},
   "source": [
    "### Example"
   ]
  },
  {
   "cell_type": "code",
   "execution_count": 86,
   "metadata": {},
   "outputs": [
    {
     "name": "stdout",
     "output_type": "stream",
     "text": [
      "FlyweightFactory: I have 5 flyweights:\n",
      "    Chevrolet_Camaro2018_pink\n",
      "    Mercedes_Benz_C300_black\n",
      "    Mercedes_Benz_C500_red\n",
      "    BMW_M5_red\n",
      "    BMW_X6_white\n",
      "FlyweightFactory: Reusing existing flyweight.\n",
      "Flyweight: Displaying shared state: (BMW_M5_red) and unique state: (CL234IR_James Doe)\n",
      "FlyweightFactory: Can't find a flyweight, creating new one.\n",
      "Flyweight: Displaying shared state: (BMW_X1_red) and unique state: (CL234IR_James Doe)\n",
      "FlyweightFactory: I have 6 flyweights:\n",
      "    Chevrolet_Camaro2018_pink\n",
      "    Mercedes_Benz_C300_black\n",
      "    Mercedes_Benz_C500_red\n",
      "    BMW_M5_red\n",
      "    BMW_X6_white\n",
      "    BMW_X1_red\n"
     ]
    }
   ],
   "source": [
    "import json\n",
    "\n",
    "## Create a \"Flyweight\", which you can think of as a \"partial\" class, awaiting the addition of some necessary attributes for it to be used\n",
    "class Flyweight():\n",
    "    def __init__(self, shared_state: str) -> None:\n",
    "        self._shared_state: str = shared_state\n",
    "\n",
    "    def operation(self, unique_state: list[str]) -> None:\n",
    "        print(f\"Flyweight: Displaying shared state: ({self._shared_state}) and unique state: ({'_'.join(unique_state)})\", end=\"\\n\")\n",
    "\n",
    "## Even with the flyweight class, you need a \"manager\" of sorts to monitor whether the specific flyweight has already been created\n",
    "## If it has, we return it\n",
    "## Else, we create it\n",
    "class FlyweightFactory():\n",
    "    \n",
    "    _flyweights: dict[str, Flyweight] = {}\n",
    "\n",
    "    def __init__(self, initial_flyweights: list[list[str]]) -> None:\n",
    "        for state_list in initial_flyweights:\n",
    "            key = self.concatenate_state_keys(state_list)\n",
    "            self._flyweights[key] = Flyweight(key)\n",
    "\n",
    "    def concatenate_state_keys(self, state: list[str]) -> str:\n",
    "        return \"_\".join(state)\n",
    "\n",
    "    def get_flyweight(self, shared_state: list[str]) -> Flyweight:\n",
    "        key = self.concatenate_state_keys(shared_state)\n",
    "\n",
    "        if not self._flyweights.get(key):\n",
    "            print(\"FlyweightFactory: Can't find a flyweight, creating new one.\")\n",
    "            self._flyweights[key] = Flyweight(key)\n",
    "        else:\n",
    "            print(\"FlyweightFactory: Reusing existing flyweight.\")\n",
    "\n",
    "        return self._flyweights[key]\n",
    "\n",
    "    def list_flyweights(self) -> None:\n",
    "        count = len(self._flyweights)\n",
    "        print(f\"FlyweightFactory: I have {count} flyweights:\")\n",
    "        for key in self._flyweights.keys():\n",
    "            print(f\"    {key}\", end='\\n')\n",
    "\n",
    "def add_car(factory: FlyweightFactory, plates: str, owner: str, brand: str, model: str, color: str) -> None:\n",
    "    flyweight = factory.get_flyweight([brand, model, color])\n",
    "    flyweight.operation([plates, owner])\n",
    "\n",
    "factory = FlyweightFactory([\n",
    "    [\"Chevrolet\", \"Camaro2018\", \"pink\"],\n",
    "    [\"Mercedes_Benz\", \"C300\", \"black\"],\n",
    "    [\"Mercedes_Benz\", \"C500\", \"red\"],\n",
    "    [\"BMW\", \"M5\", \"red\"],\n",
    "    [\"BMW\", \"X6\", \"white\"],\n",
    "])\n",
    "\n",
    "factory.list_flyweights()\n",
    "\n",
    "add_car(\n",
    "    factory, \"CL234IR\", \"James Doe\", \"BMW\", \"M5\", \"red\"\n",
    ")\n",
    "\n",
    "add_car(\n",
    "    factory, \"CL234IR\", \"James Doe\", \"BMW\", \"X1\", \"red\"\n",
    ")\n",
    "\n",
    "factory.list_flyweights()"
   ]
  },
  {
   "cell_type": "markdown",
   "metadata": {},
   "source": [
    "### Discussion"
   ]
  },
  {
   "cell_type": "markdown",
   "metadata": {},
   "source": [
    "- The analogy here is, suppose you are coding an FPS game\n",
    "- Each bullet you fire will have the same bullet animation. The only difference should be in trajectory etc\n",
    "- So you don't really want to repeat the animation code for every bullet. This will clog up your RAM pretty quickly"
   ]
  },
  {
   "cell_type": "markdown",
   "metadata": {},
   "source": [
    "### Pros and Cons"
   ]
  },
  {
   "cell_type": "markdown",
   "metadata": {},
   "source": [
    "- Pros\n",
    "    - You can save lots of RAM, assuming your program has tons of similar objects.\n",
    "\n",
    "- Cons\n",
    "    - If the \"repeated stuff\" requires computation each time it is called, you may be trading RAM for compute\n",
    "    - The code becomes complicated, and you'll have to document clearly why this design was chosen"
   ]
  },
  {
   "cell_type": "markdown",
   "metadata": {},
   "source": [
    "### Use Cases"
   ]
  },
  {
   "cell_type": "markdown",
   "metadata": {},
   "source": [
    "- Use the Flyweight pattern only when your program must support a huge number of objects which barely fit into available RAM"
   ]
  },
  {
   "cell_type": "markdown",
   "metadata": {},
   "source": [
    "## 7. Proxy"
   ]
  },
  {
   "cell_type": "markdown",
   "metadata": {},
   "source": [
    "### Big Picture"
   ]
  },
  {
   "cell_type": "markdown",
   "metadata": {},
   "source": [
    "- You have some underlying service object that clients want to access\n",
    "- And you want to protect it, or monitor connections to it for whatever reason\n",
    "- So you create a new object called a `Proxy` that clients interact with, that calls the service object on their behalf\n",
    "    - You add the code you want to work with through this proxy"
   ]
  },
  {
   "cell_type": "markdown",
   "metadata": {},
   "source": [
    "### Example"
   ]
  },
  {
   "cell_type": "code",
   "execution_count": 88,
   "metadata": {},
   "outputs": [
    {
     "name": "stdout",
     "output_type": "stream",
     "text": [
      "RealSubject: Handling request.\n",
      "==================================================\n",
      "Proxy: Checking access prior to firing a real request.\n",
      "RealSubject: Handling request.\n",
      "Proxy: Logging the time of request."
     ]
    }
   ],
   "source": [
    "from abc import ABC, abstractmethod\n",
    "\n",
    "class Subject(ABC):\n",
    "    @abstractmethod\n",
    "    def request(self) -> None:\n",
    "        pass\n",
    "\n",
    "\n",
    "class RealSubject(Subject):\n",
    "    def request(self) -> None:\n",
    "        print(\"RealSubject: Handling request.\")\n",
    "\n",
    "class Proxy(Subject):\n",
    "    def __init__(self, real_subject: RealSubject) -> None:\n",
    "        self._real_subject = real_subject\n",
    "\n",
    "    def request(self) -> None:\n",
    "        if self.check_access():\n",
    "            self._real_subject.request()\n",
    "            self.log_access()\n",
    "\n",
    "    def check_access(self) -> bool:\n",
    "        print(\"Proxy: Checking access prior to firing a real request.\")\n",
    "        return True\n",
    "\n",
    "    def log_access(self) -> None:\n",
    "        print(\"Proxy: Logging the time of request.\", end=\"\")\n",
    "\n",
    "def client_code(subject: Subject) -> None:\n",
    "    subject.request()\n",
    "\n",
    "## Calling the real subject\n",
    "real_subject = RealSubject()\n",
    "client_code(real_subject)\n",
    "\n",
    "print('='*50)\n",
    "\n",
    "## To the client, calling the proxy object returns the same stuff, just with our added behaviours in the proxy class \n",
    "proxy = Proxy(real_subject)\n",
    "client_code(proxy)"
   ]
  },
  {
   "cell_type": "markdown",
   "metadata": {},
   "source": [
    "### Discussion"
   ]
  },
  {
   "cell_type": "markdown",
   "metadata": {},
   "source": [
    "- This is quite similar to `Decorator`\n",
    "    - However, in `Decorator`, the client controls the initialisation of the Decarator class. Whereas in a `Proxy`, the client is unaware that it is not dealing with the underlying object\n",
    "\n",
    "- This is quite similar to `Facade`, which also deals with a complex underlying entity and presents a simpler way of working with it\n",
    "    - But in `Facade`, the point is to SIMPLIFY, so the Facade's interface is different from the underlying object\n",
    "    - In `Proxy`, the interface is the same, so clients don't know what they are dealing with"
   ]
  },
  {
   "cell_type": "markdown",
   "metadata": {},
   "source": [
    "### Pros and Cons"
   ]
  },
  {
   "cell_type": "markdown",
   "metadata": {},
   "source": [
    "- Pros\n",
    "    - You can control the service object without clients knowing about it.\n",
    "    - You can manage the lifecycle of the service object when clients don’t care about it.\n",
    "    - The proxy works even if the service object isn’t ready or is not available.\n",
    "    - Open/Closed Principle. You can introduce new proxies without changing the service or clients.\n",
    "\n",
    "- Cons\n",
    "    - The code may become more complicated since you need to introduce a lot of new classes.\n",
    "    - The response from the service might get delayed."
   ]
  },
  {
   "cell_type": "markdown",
   "metadata": {},
   "source": [
    "### Use Cases"
   ]
  },
  {
   "cell_type": "markdown",
   "metadata": {},
   "source": [
    "- Lazy initialization (virtual proxy)\n",
    "    - The underlying service object is huge and expensive to init (e.g. database connection), and it costs a lot of resources while it is up. \n",
    "    - So instead of creating the object the moment the app starts up, delay the start up until you need it\n",
    "\n",
    "- Access control (protection proxy) \n",
    "    - Sometimes, you only want to allow specific clients/callers to access service object \n",
    "        - e.g. your object is some crucial component, and you want to protect it from malicious clients\n",
    "    - So only pass it on after the client's credentials are checked\n",
    "\n",
    "- Local execution of a remote service (remote proxy)\n",
    "    - The service object is located on a remote server\n",
    "    - The proxy handles the passing of the request over the network, rather than asking the client to handle the network details on its own\n",
    "\n",
    "- Logging requests (logging proxy) \n",
    "    - You want to keep a history of requests to the service object\n",
    "    - So you can get the proxy to log the requests somewhere, before passing the request on to the underlying objet\n",
    "\n",
    "- Caching request results (caching proxy) \n",
    "    - Your service object can return really large results, and you want to cache them in the event of repeated queries\n",
    "    - This is when you can cache results of client requests and manage the life cycle of this cache, especially if results are quite large.\n",
    "\n",
    "- Smart reference\n",
    "    - Suppose you want to know when no clients are using some heavy/expensive object, and you want to dismiss it once that happens (e.g. extended holidays etc)\n",
    "    - You can use a proxy to check track live connections from clients, and if some conditions are met, remove the underlying service object"
   ]
  }
 ],
 "metadata": {
  "kernelspec": {
   "display_name": "dsa_prep",
   "language": "python",
   "name": "python3"
  },
  "language_info": {
   "codemirror_mode": {
    "name": "ipython",
    "version": 3
   },
   "file_extension": ".py",
   "mimetype": "text/x-python",
   "name": "python",
   "nbconvert_exporter": "python",
   "pygments_lexer": "ipython3",
   "version": "3.10.13"
  }
 },
 "nbformat": 4,
 "nbformat_minor": 2
}

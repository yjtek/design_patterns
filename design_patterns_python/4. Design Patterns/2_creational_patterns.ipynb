{
 "cells": [
  {
   "cell_type": "markdown",
   "metadata": {},
   "source": [
    "# Creational Patterns"
   ]
  },
  {
   "cell_type": "markdown",
   "metadata": {},
   "source": [
    "- Creational design patterns provide various object creation mechanisms, which increase flexibility and reuse of existing code."
   ]
  },
  {
   "cell_type": "markdown",
   "metadata": {},
   "source": [
    "### Big Picture"
   ]
  },
  {
   "cell_type": "markdown",
   "metadata": {},
   "source": [
    "### Example"
   ]
  },
  {
   "cell_type": "markdown",
   "metadata": {},
   "source": [
    "### Discussion"
   ]
  },
  {
   "cell_type": "markdown",
   "metadata": {},
   "source": [
    "### Pros and Cons"
   ]
  },
  {
   "cell_type": "markdown",
   "metadata": {},
   "source": [
    "### Use Cases"
   ]
  },
  {
   "cell_type": "markdown",
   "metadata": {},
   "source": [
    "## 1. Factory Method"
   ]
  },
  {
   "cell_type": "markdown",
   "metadata": {},
   "source": [
    "### Big Picture"
   ]
  },
  {
   "cell_type": "markdown",
   "metadata": {},
   "source": [
    "- Factory method is just a general name for separating the constructor of any object from the work it needs to do\n",
    "- There are a few scenarios where can be applied (see Use Cases), but the point is that: I have some object A where the actual construction is handled somewhere else\n",
    "    - Ideally, the class you want to apply this factory method should not have a constructor, which is possible in languages like Java\n",
    "    - In Python, you can't really do directly (though there are a workarounds)"
   ]
  },
  {
   "cell_type": "markdown",
   "metadata": {},
   "source": [
    "### Example"
   ]
  },
  {
   "cell_type": "code",
   "execution_count": 22,
   "metadata": {},
   "outputs": [
    {
     "name": "stdout",
     "output_type": "stream",
     "text": [
      "App: Launched with the a concrete creator.\n",
      "Printing from client_code(): Client is not aware of which user has been passed to it, or the tool the user is using. And yet, this code still works: `creator.use_tool()`\n",
      " Creator has picked up Tool 1\n",
      " Tool 1 is doing something\n",
      " Creator User1 is using tool Tool1\n",
      "This works because the creator and the product both respect a common interface\n",
      "\n",
      "++++++++++++++++++++++++++++++++++++++++++++++++++\n",
      "App: Launched with the other concrete creator.\n",
      "Printing from client_code(): Client is not aware of which user has been passed to it, or the tool the user is using. And yet, this code still works: `creator.use_tool()`\n",
      " Creator has picked up Tool 2\n",
      " Tool 2 is doing something\n",
      " Creator User2 is using tool Tool2\n",
      "This works because the creator and the product both respect a common interface\n"
     ]
    }
   ],
   "source": [
    "from abc import ABC, abstractmethod\n",
    "\n",
    "class Tool(ABC):\n",
    "    @abstractmethod\n",
    "    def tool_operation(self) -> None:\n",
    "        pass\n",
    "\n",
    "class User(ABC):\n",
    "    @abstractmethod\n",
    "    def get_tool(self) -> Tool:\n",
    "        pass\n",
    "\n",
    "    def use_tool(self) -> str:\n",
    "        ## Make Tool\n",
    "        tool = self.get_tool()\n",
    "        result = f\" Creator {self.__class__.__name__} is using tool {tool.__class__.__name__}\"\n",
    "        tool.tool_operation()\n",
    "        return result\n",
    "\n",
    "class User1(User):\n",
    "    def get_tool(self) -> Tool:\n",
    "        print(' Creator has picked up Tool 1')\n",
    "        return Tool1()\n",
    "\n",
    "class Tool1(Tool):\n",
    "    def tool_operation(self) -> None:\n",
    "        print(\" Tool 1 is doing something\")\n",
    "\n",
    "class User2(User):\n",
    "    def get_tool(self) -> Tool:\n",
    "        print(' Creator has picked up Tool 2')\n",
    "        return Tool2()\n",
    "\n",
    "class Tool2(Tool):\n",
    "    def tool_operation(self) -> None:\n",
    "        print(\" Tool 2 is doing something\")\n",
    "\n",
    "def client_code(creator: User) -> None:\n",
    "    print(f\"Printing from client_code(): Client is not aware of which user has been passed to it, or the tool the user is using. And yet, this code still works: `creator.use_tool()`\", end='\\n')\n",
    "    print(f\"{creator.use_tool()}\", end='\\n')\n",
    "    print(f\"This works because the creator and the product both respect a common interface\", end='\\n')\n",
    "\n",
    "print(\"App: Launched with the a concrete creator.\")\n",
    "client_code(User1())\n",
    "\n",
    "print(\"\\n\" + \"+\"*50)\n",
    "\n",
    "print(\"App: Launched with the other concrete creator.\")\n",
    "client_code(User2())"
   ]
  },
  {
   "cell_type": "markdown",
   "metadata": {},
   "source": [
    "### Discussion"
   ]
  },
  {
   "cell_type": "markdown",
   "metadata": {},
   "source": [
    "- There is some jargon needed to discuss a factory method\n",
    "    - `Product` class: The class object that you want created\n",
    "    - `Creator` class: The class responsible for creating the `Product`\n",
    "        - The `Creator` may or may not use the created `Product` to do something\n",
    "        - In the example above, the Creator class is `User()`, and the Product class is `Tool()`\n",
    "    - `Client`: Whatever code is using the `Creator` and/or `Product` classes to do something\n",
    " \n",
    "- From the example above, the whole point of the factory method approach is to write the code in a way that is not coupled with each other\n",
    "    - i.e. `client_code()` will work regardless of what creator is passed to it, because all creators implement `use_tool()`\n",
    "    - i.e. The creator will work with any `Tool`, because all tools implement `tool_operation()`"
   ]
  },
  {
   "cell_type": "markdown",
   "metadata": {},
   "source": [
    "### Pros and Cons"
   ]
  },
  {
   "cell_type": "markdown",
   "metadata": {},
   "source": [
    "- Pros\n",
    "    - No tight coupling of objects, because the code will work so long as the object respects a common interface\n",
    "    - Single responsibility: the product creation is in a single place, which makes the code easier to support\n",
    "    - Open closed principle: You can introduce new products without breaking existing client code\n",
    "\n",
    "- Cons\n",
    "    - You may need to introduce a lot of classes to implement this pattern, which is not idael"
   ]
  },
  {
   "cell_type": "markdown",
   "metadata": {},
   "source": [
    "### Use Cases"
   ]
  },
  {
   "cell_type": "markdown",
   "metadata": {},
   "source": [
    "- You don't know what types and/or dependencies your code should work with\n",
    "    - By separating the construction of dependencies into a specific component of your code, it makes things easier to change/extend \n",
    "\n",
    "- You want to allow users to extend your library/framework easily\n",
    "    - Basically, anything that follows the interfaces defined will work with your library. So 3rd party users are free to write their own code that respects these interfaces, because the abstract methods can always be overwritten\n",
    "\n",
    "- You want to save system resources by reusing existing objects\n",
    "    - Suppose we are running an umbrella stand, where users can borrow and return umbrellas after they are done with it\n",
    "    - We have multiple `Umbrella` objects\n",
    "    - If someone comes to our stand to request an `Umbrella`, we want to check whether there are existing ones. If there are, we give him an existing one. If there isn't, we buy (instantiate) a new one, and loan it out\n",
    "    - Obviously, you cannot (should not) track your inventory of umbrellas within the `Umbrella` class, because it will only (should only) know about itself\n",
    "        - You can technically do this via class attributes, but it's really odd to have multiple copies of the `Umbrella` which are supposedly distinct, yet somehow share a common state tracking component\n",
    "    - So you create an `UmbrellaStand` object, and introduce a constructor method for `Umbrella`\n",
    "        - For example, you could put a field called `self.available_umbrellas = [Umbrella1, Umbrella2, ...]`\n",
    "        - And make a method called `def get_new_umbrella(self): ...`\n",
    "        - `if len(self.available_umbrellas) == 0: self.get_new_umbrella()`\n",
    "\n"
   ]
  },
  {
   "cell_type": "markdown",
   "metadata": {},
   "source": [
    "## 2. Abstract Factory"
   ]
  },
  {
   "cell_type": "markdown",
   "metadata": {},
   "source": [
    "### Big Picture"
   ]
  },
  {
   "cell_type": "markdown",
   "metadata": {},
   "source": [
    "- There are occasions where you want to make a factory to replace constructors in individual objects (see `Factory Method`)\n",
    "- But you also want these factories to follow have some common pattern, or it'll create compatibility issues\n",
    "- So you define an interface (called an `Abstract Factory`) that standardises what all factories must have, and what they must be able to do\n",
    "- Note: The abstract factory does NOT handle the construction of the concrete classes, only the blueprint for the factory making these classes"
   ]
  },
  {
   "cell_type": "markdown",
   "metadata": {},
   "source": [
    "### Example"
   ]
  },
  {
   "cell_type": "code",
   "execution_count": 30,
   "metadata": {},
   "outputs": [
    {
     "name": "stdout",
     "output_type": "stream",
     "text": [
      "Client: Testing client code with the first factory type:\n",
      "The result of the product B1.\n",
      "The result of the B1 collaborating with the (The result of the product A1.)\n",
      "\n",
      "Client: Testing the same client code with the second factory type:\n",
      "The result of the product B2.\n",
      "The result of the B2 collaborating with the (The result of the product A2.)"
     ]
    }
   ],
   "source": [
    "from abc import ABC, abstractmethod\n",
    "\n",
    "\n",
    "class AbstractFactory(ABC):\n",
    "    @abstractmethod\n",
    "    def create_product_a(self) -> 'AbstractProductA':\n",
    "        pass\n",
    "\n",
    "    @abstractmethod\n",
    "    def create_product_b(self) -> 'AbstractProductB':\n",
    "        pass\n",
    "\n",
    "class AbstractProductA(ABC):\n",
    "    @abstractmethod\n",
    "    def useful_function_a(self) -> str:\n",
    "        pass\n",
    "\n",
    "class AbstractProductB(ABC):\n",
    "    @abstractmethod\n",
    "    def useful_function_b(self) -> str:\n",
    "        pass\n",
    "\n",
    "    @abstractmethod\n",
    "    def another_useful_function_b(self, collaborator: AbstractProductA) -> str:\n",
    "        pass\n",
    "\n",
    "class ConcreteFactory1(AbstractFactory):\n",
    "    def create_product_a(self) -> AbstractProductA:\n",
    "        return ConcreteProductA1()\n",
    "\n",
    "    def create_product_b(self) -> AbstractProductB:\n",
    "        return ConcreteProductB1()\n",
    "\n",
    "class ConcreteFactory2(AbstractFactory):\n",
    "    def create_product_a(self) -> AbstractProductA:\n",
    "        return ConcreteProductA2()\n",
    "\n",
    "    def create_product_b(self) -> AbstractProductB:\n",
    "        return ConcreteProductB2()\n",
    "\n",
    "class ConcreteProductA1(AbstractProductA):\n",
    "    def useful_function_a(self) -> str:\n",
    "        return \"The result of the product A1.\"\n",
    "\n",
    "class ConcreteProductA2(AbstractProductA):\n",
    "    def useful_function_a(self) -> str:\n",
    "        return \"The result of the product A2.\"\n",
    "\n",
    "class ConcreteProductB1(AbstractProductB):\n",
    "    def useful_function_b(self) -> str:\n",
    "        return \"The result of the product B1.\"\n",
    "\n",
    "    def another_useful_function_b(self, collaborator: AbstractProductA) -> str:\n",
    "        result = collaborator.useful_function_a()\n",
    "        return f\"The result of the B1 collaborating with the ({result})\"\n",
    "\n",
    "class ConcreteProductB2(AbstractProductB):\n",
    "    def useful_function_b(self) -> str:\n",
    "        return \"The result of the product B2.\"\n",
    "\n",
    "    def another_useful_function_b(self, collaborator: AbstractProductA):\n",
    "        result = collaborator.useful_function_a()\n",
    "        return f\"The result of the B2 collaborating with the ({result})\"\n",
    "\n",
    "def client_code(factory: AbstractFactory) -> None:\n",
    "    product_a = factory.create_product_a()\n",
    "    product_b = factory.create_product_b()\n",
    "\n",
    "    print(f\"{product_b.useful_function_b()}\")\n",
    "    print(f\"{product_b.another_useful_function_b(product_a)}\", end=\"\")\n",
    "\n",
    "print(\"Client: Testing client code with the first factory type:\")\n",
    "client_code(ConcreteFactory1())\n",
    "print(\"\\n\")\n",
    "print(\"Client: Testing the same client code with the second factory type:\")\n",
    "client_code(ConcreteFactory2())"
   ]
  },
  {
   "cell_type": "markdown",
   "metadata": {},
   "source": [
    "### Discussion"
   ]
  },
  {
   "cell_type": "markdown",
   "metadata": {},
   "source": [
    "- I think it's clear that this is just another level of indirection compared to the first section on `Factory Methods`\n",
    "    - Similar to Factory Methods, instead of instantiating the products you want, you let a \"factory\" handle it e.g. `factory.create_product_a()`\n",
    "    - But the difference here is that you go a step further, and even the factory you use is also abstracted, which lets you handle the creation of products via different factories dynamically also"
   ]
  },
  {
   "cell_type": "markdown",
   "metadata": {},
   "source": [
    "### Pros and Cons"
   ]
  },
  {
   "cell_type": "markdown",
   "metadata": {},
   "source": [
    "- Pros\n",
    "    - The products from all your factories are definitely going to be compatiable with each other\n",
    "    - No tight coupling between client code and concrete product getting created\n",
    "    - Single responsibility: Only 1 place responsible for construction code\n",
    "    - Open/Closed principple: YOu can introduce new product variants without breaking existing client code\n",
    "\n",
    "- Cons\n",
    "    - The code gets pretty complicated for no good reason, because a lot of interfaces and classes are introduced "
   ]
  },
  {
   "cell_type": "markdown",
   "metadata": {},
   "source": [
    "### Use Cases"
   ]
  },
  {
   "cell_type": "markdown",
   "metadata": {},
   "source": [
    "- Your code needs to work with a few families of related products, but you don't know what the concrete classes of these products are beforehand\n",
    "    - So instead of relying on the actual concrete products, you only rely on their creator!\n",
    "\n",
    "- When you have a class with a set of Factory Methods, it may blur the responsibility of the class. Is it responsible for creating something? Doing something?\n",
    "    - Use a abstract factory and create subclasses, so that the constructor and operation of the factory is clear"
   ]
  },
  {
   "cell_type": "markdown",
   "metadata": {},
   "source": [
    "## 3. Builder"
   ]
  },
  {
   "cell_type": "markdown",
   "metadata": {},
   "source": [
    "### Big Picture"
   ]
  },
  {
   "cell_type": "markdown",
   "metadata": {},
   "source": [
    "- Imagine you want to make a House object\n",
    "\n",
    "- There are many variations for houses: \n",
    "    - you can make a studio, 2-bedroom, etc...\n",
    "    - it can have a balcony\n",
    "    - it can have a garden\n",
    "    - it can be 1/2/3/...floors\n",
    "    - etc.\n",
    "\n",
    "- The usual design is to pass all of this information as parameters into the house constructor\n",
    "    - This is most likely going to be shit design\n",
    "    - Because your parameter list will be huge, and the person using it will need to figure out which options can be null, which options should be a string, etc.\n",
    "\n",
    "- Rather than front-load all the parameters, we create an object whose responsibility is to implement all the steps needed to build what you want to build. Let's call this the `Builder` object\n",
    "    \n",
    "- Though the `Builder` knows how each part of the building process is done, the `Builder` is also dumb, and does not know how to call them\n",
    "\n",
    "- So to build something, we need another object to control the `Builder`, which we call the `Director`\n",
    "    - The `Director` will be assigned a `Builder` \n",
    "    - Depending on what kind of house you want to build, you assign a Builder with the right knowledge\n",
    "        - If you want to build a cottage, assign a `CottageBuilder`. \n",
    "        - If you want to build an apartment, assign a `ApartmentBuilder`. \n",
    "        - What's the difference? The CottageBuilder knows that a cottage must have a chimney :)\n",
    "\n",
    "    - Strictly speaking a director isn't necessary; you can always just make the invocations to the `Builder` yourself!"
   ]
  },
  {
   "cell_type": "markdown",
   "metadata": {},
   "source": [
    "### Example"
   ]
  },
  {
   "cell_type": "code",
   "execution_count": null,
   "metadata": {},
   "outputs": [],
   "source": [
    "from abc import ABC, abstractmethod\n",
    "\n",
    "class Builder(ABC):\n",
    "    \n",
    "    @abstractmethod\n",
    "    def make_floor(self):\n",
    "        ...\n",
    "\n",
    "    @abstractmethod\n",
    "    def make_roof(self):\n",
    "        ...\n",
    "\n",
    "class CottageBuilder(Builder):\n",
    "    def __init__(self):\n",
    "        ...\n",
    "    \n",
    "    def _lay_parquet(self):\n",
    "        ...\n",
    "\n",
    "    def _lay_tiles(self):\n",
    "        ...\n",
    "\n",
    "    def _make_chimney(self):\n",
    "        ...\n",
    "\n",
    "    def make_floor(self):\n",
    "        self._lay_parquet()\n",
    "\n",
    "    def make_roof(self):\n",
    "        self._lay_tiles()\n",
    "        self._make_chimney()\n",
    "\n",
    "class ApartmentBuilder(Builder):\n",
    "    def __init__(self):\n",
    "        ...\n",
    "    \n",
    "    def _lay_concrete(self):\n",
    "        ...\n",
    "\n",
    "    def _attach_ceiling_fans(self):\n",
    "        ...\n",
    "\n",
    "    def _make_chimney(self):\n",
    "        ...\n",
    "\n",
    "    def make_floor(self):\n",
    "        self._lay_concrete()\n",
    "\n",
    "    def make_roof(self):\n",
    "        self._attach_ceiling_fans()\n",
    "\n",
    "\n",
    "cb = CottageBuilder()\n",
    "cb.make_floor()\n",
    "cb.make_roof()"
   ]
  },
  {
   "cell_type": "markdown",
   "metadata": {},
   "source": [
    "### Discussion"
   ]
  },
  {
   "cell_type": "markdown",
   "metadata": {},
   "source": [
    "- This pattern is most applicable when you have client code that will give specific instructions for the creation of something, and you want to give clients the flexibility of choosing what they want to achieve"
   ]
  },
  {
   "cell_type": "markdown",
   "metadata": {},
   "source": [
    "### Pros and Cons"
   ]
  },
  {
   "cell_type": "markdown",
   "metadata": {},
   "source": [
    "- Pros\n",
    "    - You can construct objects step-by-step, defer construction steps or run steps recursively.\n",
    "    - You can re-use the same construction vode when building multiple representations of the same product. In our example, the basic steps of making a house (floor, then roof), are common\n",
    "    - Single Responsibility Principle: You can isolate complex construction logic away from the business logic \n",
    "\n",
    "- Cons\n",
    "    - Your code base is more complex, because you now need to create a few new classes"
   ]
  },
  {
   "cell_type": "markdown",
   "metadata": {},
   "source": [
    "### Use Cases"
   ]
  },
  {
   "cell_type": "markdown",
   "metadata": {},
   "source": [
    "- You want your code to be able to create multiple representations of some product (e.g. stone or wood houses)\n",
    "    - In the example above, slightly different things can be made in many different ways\n",
    "    - So the `Builder` class is useful, so that each way is defined according to some strategy\n",
    "\n",
    "- You want your code to construct complex objects\n",
    "    - In some complex cases, you may want your object to have some funny nested behaviour that requires, say, recursive calls\n",
    "    - For such cases, making such constructions by hand in the code may be difficult.\n",
    "    - So it is much better to delegate the responsibility of the construction to a `Builder`\n"
   ]
  },
  {
   "cell_type": "markdown",
   "metadata": {},
   "source": [
    "## 4. Prototype"
   ]
  },
  {
   "cell_type": "markdown",
   "metadata": {},
   "source": [
    "### Big Picture"
   ]
  },
  {
   "cell_type": "markdown",
   "metadata": {},
   "source": [
    "- When you have a large library to deal with, sometimes working with pre-built objects that you can modify is much easier\n",
    "- However, it is often not easy to copy an object:\n",
    "    - Often, you can only see the publicly available fields, so you may not be able to copy private attributes/methods\n",
    "    - You need to know the object's class to create a duplicate, which creates a dependency on that class\n",
    "    - You may only know the interface the object follows, but not the concrete class\n",
    "\n",
    "- The `Prototype` pattern is just a fancy way of saying, we write an object that lets clients clone it at will"
   ]
  },
  {
   "cell_type": "markdown",
   "metadata": {},
   "source": [
    "### Example"
   ]
  },
  {
   "cell_type": "code",
   "execution_count": 31,
   "metadata": {},
   "outputs": [
    {
     "name": "stdout",
     "output_type": "stream",
     "text": [
      "Adding elements to `shallow_copied_component`'s some_list_of_objects adds it to `component`'s some_list_of_objects.\n",
      "Changing objects in the `component`'s some_list_of_objects changes that object in `shallow_copied_component`'s some_list_of_objects.\n",
      "Adding elements to `deep_copied_component`'s some_list_of_objects doesn't add it to `component`'s some_list_of_objects.\n",
      "Changing objects in the `component`'s some_list_of_objects doesn't change that object in `deep_copied_component`'s some_list_of_objects.\n",
      "id(deep_copied_component.some_circular_ref.parent): 4436059584\n",
      "id(deep_copied_component.some_circular_ref.parent.some_circular_ref.parent): 4436059584\n",
      "^^ This shows that deepcopied objects contain same reference, they are not cloned repeatedly.\n"
     ]
    }
   ],
   "source": [
    "import copy\n",
    "\n",
    "class SelfReferencingEntity:\n",
    "    def __init__(self):\n",
    "        self.parent = None\n",
    "\n",
    "    def set_parent(self, parent):\n",
    "        self.parent = parent\n",
    "\n",
    "class SomeComponent:\n",
    "\n",
    "    def __init__(self, some_int, some_list_of_objects, some_circular_ref):\n",
    "        self.some_int = some_int\n",
    "        self.some_list_of_objects = some_list_of_objects\n",
    "        self.some_circular_ref = some_circular_ref\n",
    "\n",
    "    def __copy__(self):\n",
    "        # First, let's create copies of the nested objects.\n",
    "        some_list_of_objects = copy.copy(self.some_list_of_objects)\n",
    "        some_circular_ref = copy.copy(self.some_circular_ref)\n",
    "\n",
    "        # Then, let's clone the object itself, using the prepared clones of the\n",
    "        # nested objects.\n",
    "        new = self.__class__(\n",
    "            self.some_int, some_list_of_objects, some_circular_ref\n",
    "        )\n",
    "        new.__dict__.update(self.__dict__)\n",
    "\n",
    "        return new\n",
    "\n",
    "    def __deepcopy__(self, memo=None):\n",
    "        if memo is None:\n",
    "            memo = {}\n",
    "\n",
    "        # First, let's create copies of the nested objects.\n",
    "        some_list_of_objects = copy.deepcopy(self.some_list_of_objects, memo)\n",
    "        some_circular_ref = copy.deepcopy(self.some_circular_ref, memo)\n",
    "\n",
    "        # Then, let's clone the object itself, using the prepared clones of the\n",
    "        # nested objects.\n",
    "        new = self.__class__(\n",
    "            self.some_int, some_list_of_objects, some_circular_ref\n",
    "        )\n",
    "        new.__dict__ = copy.deepcopy(self.__dict__, memo)\n",
    "\n",
    "        return new\n",
    "\n",
    "list_of_objects = [1, {1, 2, 3}, [1, 2, 3]]\n",
    "circular_ref = SelfReferencingEntity()\n",
    "component = SomeComponent(23, list_of_objects, circular_ref)\n",
    "circular_ref.set_parent(component)\n",
    "\n",
    "shallow_copied_component = copy.copy(component)\n",
    "\n",
    "# Let's change the list in shallow_copied_component and see if it changes in\n",
    "# component.\n",
    "shallow_copied_component.some_list_of_objects.append(\"another object\")\n",
    "if component.some_list_of_objects[-1] == \"another object\":\n",
    "    print(\n",
    "        \"Adding elements to `shallow_copied_component`'s \"\n",
    "        \"some_list_of_objects adds it to `component`'s \"\n",
    "        \"some_list_of_objects.\"\n",
    "    )\n",
    "else:\n",
    "    print(\n",
    "        \"Adding elements to `shallow_copied_component`'s \"\n",
    "        \"some_list_of_objects doesn't add it to `component`'s \"\n",
    "        \"some_list_of_objects.\"\n",
    "    )\n",
    "\n",
    "# Let's change the set in the list of objects.\n",
    "component.some_list_of_objects[1].add(4)\n",
    "if 4 in shallow_copied_component.some_list_of_objects[1]:\n",
    "    print(\n",
    "        \"Changing objects in the `component`'s some_list_of_objects \"\n",
    "        \"changes that object in `shallow_copied_component`'s \"\n",
    "        \"some_list_of_objects.\"\n",
    "    )\n",
    "else:\n",
    "    print(\n",
    "        \"Changing objects in the `component`'s some_list_of_objects \"\n",
    "        \"doesn't change that object in `shallow_copied_component`'s \"\n",
    "        \"some_list_of_objects.\"\n",
    "    )\n",
    "\n",
    "deep_copied_component = copy.deepcopy(component)\n",
    "\n",
    "# Let's change the list in deep_copied_component and see if it changes in\n",
    "# component.\n",
    "deep_copied_component.some_list_of_objects.append(\"one more object\")\n",
    "if component.some_list_of_objects[-1] == \"one more object\":\n",
    "    print(\n",
    "        \"Adding elements to `deep_copied_component`'s \"\n",
    "        \"some_list_of_objects adds it to `component`'s \"\n",
    "        \"some_list_of_objects.\"\n",
    "    )\n",
    "else:\n",
    "    print(\n",
    "        \"Adding elements to `deep_copied_component`'s \"\n",
    "        \"some_list_of_objects doesn't add it to `component`'s \"\n",
    "        \"some_list_of_objects.\"\n",
    "    )\n",
    "\n",
    "# Let's change the set in the list of objects.\n",
    "component.some_list_of_objects[1].add(10)\n",
    "if 10 in deep_copied_component.some_list_of_objects[1]:\n",
    "    print(\n",
    "        \"Changing objects in the `component`'s some_list_of_objects \"\n",
    "        \"changes that object in `deep_copied_component`'s \"\n",
    "        \"some_list_of_objects.\"\n",
    "    )\n",
    "else:\n",
    "    print(\n",
    "        \"Changing objects in the `component`'s some_list_of_objects \"\n",
    "        \"doesn't change that object in `deep_copied_component`'s \"\n",
    "        \"some_list_of_objects.\"\n",
    "    )\n",
    "\n",
    "print(\n",
    "    f\"id(deep_copied_component.some_circular_ref.parent): \"\n",
    "    f\"{id(deep_copied_component.some_circular_ref.parent)}\"\n",
    ")\n",
    "print(\n",
    "    f\"id(deep_copied_component.some_circular_ref.parent.some_circular_ref.parent): \"\n",
    "    f\"{id(deep_copied_component.some_circular_ref.parent.some_circular_ref.parent)}\"\n",
    ")\n",
    "print(\n",
    "    \"^^ This shows that deepcopied objects contain same reference, they \"\n",
    "    \"are not cloned repeatedly.\"\n",
    ")"
   ]
  },
  {
   "cell_type": "markdown",
   "metadata": {},
   "source": [
    "### Discussion"
   ]
  },
  {
   "cell_type": "markdown",
   "metadata": {},
   "source": [
    "- Why do I want to do this?\n",
    "    - The construction of an object can be expensive, so cloning lets you avoid that cost\n",
    "    - Cloning lets you preserve the state of an object, whereas initialisation does not\n",
    "    - Cloning lets you isolate the changes made to an object from whatever state it is in\n",
    "    - Cloning can be better for concurrent/multithreaded code, because you can easily create exact copies of the same object that are also independent"
   ]
  },
  {
   "cell_type": "markdown",
   "metadata": {},
   "source": [
    "### Pros and Cons"
   ]
  },
  {
   "cell_type": "markdown",
   "metadata": {},
   "source": [
    "- Pros\n",
    "    - You can clone objects without coupling to their concrete classes.\n",
    "    - You can get rid of repeated initialization code in favor of cloning pre-built prototypes.\n",
    "    - You can produce complex objects more conveniently.\n",
    "    - You get an alternative to inheritance when dealing with configuration presets for complex objects.\n",
    "\n",
    "- Cons\n",
    "    - Cloning complex objects that have circular references might be very tricky"
   ]
  },
  {
   "cell_type": "markdown",
   "metadata": {},
   "source": [
    "### Use Cases"
   ]
  },
  {
   "cell_type": "markdown",
   "metadata": {},
   "source": [
    "- Use the Prototype pattern when your code shouldn’t depend on the concrete classes of objects that you need to copy.\n",
    "\n",
    "- Use the pattern when you want to reduce the number of subclasses that only differ in the way they initialize their respective objects.\n",
    "    - Prototypes lets you avoid cluttering up your code when you have multiple ways of constructing some object, but you don't want to have a million subclasses in your code base"
   ]
  },
  {
   "cell_type": "code",
   "execution_count": null,
   "metadata": {},
   "outputs": [],
   "source": []
  },
  {
   "cell_type": "code",
   "execution_count": null,
   "metadata": {},
   "outputs": [],
   "source": []
  }
 ],
 "metadata": {
  "kernelspec": {
   "display_name": "dsa_prep",
   "language": "python",
   "name": "python3"
  },
  "language_info": {
   "codemirror_mode": {
    "name": "ipython",
    "version": 3
   },
   "file_extension": ".py",
   "mimetype": "text/x-python",
   "name": "python",
   "nbconvert_exporter": "python",
   "pygments_lexer": "ipython3",
   "version": "3.10.13"
  }
 },
 "nbformat": 4,
 "nbformat_minor": 2
}

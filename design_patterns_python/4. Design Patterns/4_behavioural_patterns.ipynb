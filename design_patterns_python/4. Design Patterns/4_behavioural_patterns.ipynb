{
 "cells": [
  {
   "cell_type": "markdown",
   "metadata": {},
   "source": [
    "# Behavioural Patterns"
   ]
  },
  {
   "cell_type": "markdown",
   "metadata": {},
   "source": [
    "- In creational patterns, we looked at strategies to create stuff when the usual way of defining objects is too tedious or insufficient\n",
    "\n",
    "- In structural patterns, we looked at how we can put objects together to enable additional behaviour, especially in the face of some constraints (e.g. low memory, no access to objects etc)\n",
    "\n",
    "- Now, we look at how we can specific patterns in the objects we put together can enable some common demands of software\n",
    "    - Behavioral design patterns are concerned with algorithms and the assignment of responsibilities between objects"
   ]
  },
  {
   "cell_type": "markdown",
   "metadata": {},
   "source": [
    "## 1. Chain of Responsibility"
   ]
  },
  {
   "cell_type": "markdown",
   "metadata": {},
   "source": [
    "### Big Picture"
   ]
  },
  {
   "cell_type": "markdown",
   "metadata": {},
   "source": [
    "- You have an object that accepts one or more requests\n",
    "- The object implements a range of handlers that deal with some condition of the request\n",
    "- These handlers deal with the request sequentially, until it spits out something at the end\n",
    "\n",
    "- For example, if I have a credit card transaction request coming in, I may have a handler to check if this is fraud, a handler to check if the person has paid his bills, etc.\n",
    "    - Only after running through all my handlers, will I allow the request to go through"
   ]
  },
  {
   "cell_type": "markdown",
   "metadata": {},
   "source": [
    "### Example"
   ]
  },
  {
   "cell_type": "code",
   "execution_count": 9,
   "metadata": {},
   "outputs": [
    {
     "name": "stdout",
     "output_type": "stream",
     "text": [
      "Chain: Monkey > Squirrel > Dog\n",
      "Client: Who wants a Nut?\n",
      "  Squirrel: I'll eat the Nut\n",
      "Client: Who wants a Banana?\n",
      "  Monkey: I'll eat the Banana\n",
      "Client: Who wants a Cup of coffee?\n",
      "  Cup of coffee was left untouched.\n",
      "Subchain: Squirrel > Dog\n",
      "Client: Who wants a Nut?\n",
      "  Squirrel: I'll eat the Nut\n",
      "Client: Who wants a Banana?\n",
      "  Banana was left untouched.\n",
      "Client: Who wants a Cup of coffee?\n",
      "  Cup of coffee was left untouched.\n"
     ]
    }
   ],
   "source": [
    "from abc import ABC, abstractmethod\n",
    "from typing import Any, Optional\n",
    "\n",
    "class Handler(ABC):\n",
    "    ## A handler should know what the next handler will be, it needs to \"pass the baton\" to the next handler\n",
    "    @abstractmethod\n",
    "    def set_next(self, handler: 'Handler') -> 'Handler':\n",
    "        pass\n",
    "\n",
    "    ## A handler should be able to `handle` the request\n",
    "    @abstractmethod\n",
    "    def handle(self, request) -> Optional[str]:\n",
    "        pass\n",
    "\n",
    "class AbstractHandler(Handler):\n",
    "    _next_handler: Optional[Handler] = None\n",
    "\n",
    "    def set_next(self, handler: Handler) -> Handler:\n",
    "        self._next_handler = handler\n",
    "        return handler\n",
    "\n",
    "    @abstractmethod\n",
    "    def handle(self, request: Any) -> str:\n",
    "        if self._next_handler:\n",
    "            return self._next_handler.handle(request)\n",
    "        return None\n",
    "\n",
    "class MonkeyHandler(AbstractHandler):\n",
    "    def handle(self, request: Any) -> str:\n",
    "        if request == \"Banana\":\n",
    "            return f\"Monkey: I'll eat the {request}\"\n",
    "        else:\n",
    "            return super().handle(request)\n",
    "\n",
    "class SquirrelHandler(AbstractHandler):\n",
    "    def handle(self, request: Any) -> str:\n",
    "        if request == \"Nut\":\n",
    "            return f\"Squirrel: I'll eat the {request}\"\n",
    "        else:\n",
    "            return super().handle(request)\n",
    "\n",
    "class DogHandler(AbstractHandler):\n",
    "    def handle(self, request: Any) -> str:\n",
    "        if request == \"MeatBall\":\n",
    "            return f\"Dog: I'll eat the {request}\"\n",
    "        else:\n",
    "            return super().handle(request)\n",
    "\n",
    "def client_code(handler: Handler) -> None:\n",
    "    for food in [\"Nut\", \"Banana\", \"Cup of coffee\"]:\n",
    "        print(f\"Client: Who wants a {food}?\", end='\\n')\n",
    "        result = handler.handle(food)\n",
    "        if result:\n",
    "            print(f\"  {result}\", end=\"\\n\")\n",
    "        else:\n",
    "            print(f\"  {food} was left untouched.\", end=\"\\n\")\n",
    "\n",
    "\n",
    "monkey = MonkeyHandler()\n",
    "squirrel = SquirrelHandler()\n",
    "dog = DogHandler()\n",
    "\n",
    "## Define sequence of handlers\n",
    "monkey.set_next(squirrel).set_next(dog)\n",
    "\n",
    "print(\"Chain: Monkey > Squirrel > Dog\")\n",
    "client_code(monkey)\n",
    "\n",
    "print(\"Subchain: Squirrel > Dog\")\n",
    "client_code(squirrel)"
   ]
  },
  {
   "cell_type": "markdown",
   "metadata": {},
   "source": [
    "### Discussion"
   ]
  },
  {
   "cell_type": "markdown",
   "metadata": {},
   "source": [
    "- Chain of Responsibility, Command, Mediator and Observer address various ways of connecting senders and receivers of requests:\n",
    "    - `Chain of Responsibility` passes a request sequentially along a dynamic chain of potential receivers until one of them handles it.\n",
    "    - `Command` establishes unidirectional connections between senders and receivers.\n",
    "    - `Mediator` eliminates direct connections between senders and receivers, forcing them to communicate indirectly via a mediator object.\n",
    "    - `Observer` lets receivers dynamically subscribe to and unsubscribe from receiving requests.\n",
    "\n",
    "- This has quite a similar idea to `Decorators`, where you handle a request differently depending on what was passed to you\n",
    "    - But the difference is that `Chain of Responsibility` can choose to stop passing the request, and each handler is independent\n",
    "    - Each `Decorator` object is an extension of some base class, and doesn't decide whether or not to pass the request on. It simply does the job if the decorator's conditions are met"
   ]
  },
  {
   "cell_type": "markdown",
   "metadata": {},
   "source": [
    "### Pros and Cons"
   ]
  },
  {
   "cell_type": "markdown",
   "metadata": {},
   "source": [
    "- Pros\n",
    "    - You can control the order of request handling.\n",
    "    - Single Responsibility Principle. You can decouple classes that invoke operations from classes that perform operations.\n",
    "    - Open/Closed Principle. You can introduce new handlers into the app without breaking the existing client code.\n",
    "\n",
    "- Cons\n",
    "    - Some requests may end up unhandled."
   ]
  },
  {
   "cell_type": "markdown",
   "metadata": {},
   "source": [
    "### Use Cases"
   ]
  },
  {
   "cell_type": "markdown",
   "metadata": {},
   "source": [
    "- Use the Chain of Responsibility pattern when your program is expected to process different kinds of requests in various ways, but the exact types of requests and their sequences are unknown beforehand.\n",
    "\n",
    "- Use the pattern when it’s essential to execute several handlers in a particular order.\n",
    "\n",
    "- Use the CoR pattern when the set of handlers and their order are supposed to change at runtime.\n",
    "    - You can have setters to change some field in the handler classes, so you can reorder the \"next\" handler on the fly"
   ]
  },
  {
   "cell_type": "markdown",
   "metadata": {},
   "source": [
    "## 2. Command"
   ]
  },
  {
   "cell_type": "markdown",
   "metadata": {},
   "source": [
    "### Big Picture"
   ]
  },
  {
   "cell_type": "markdown",
   "metadata": {},
   "source": [
    "- Suppose you have some code where there are multiple ways to achieve some outcome\n",
    "    - For example, in writing MS Word, you can copy text with Ctrl+C, OR right-click -> copy, OR via the copy button in the tool bar\n",
    "\n",
    "- The question arises, where do you put the code?\n",
    "    - Copying the same code repeatedly in all areas where you want the \"Copy\" functionality is repetitive and prone to error\n",
    "\n",
    "- So what's the solution?\n",
    "    - Separate the user interface code (where the user invokes the command) from the backend code (what actually happens)\n",
    "    - So in the example above, Ctrl+C will invoke a new object called `SaveCommand`, which does the actual work"
   ]
  },
  {
   "cell_type": "markdown",
   "metadata": {},
   "source": [
    "### Example"
   ]
  },
  {
   "cell_type": "code",
   "execution_count": 3,
   "metadata": {},
   "outputs": [
    {
     "name": "stdout",
     "output_type": "stream",
     "text": [
      "Invoker: Executing _on_start if it exists\n",
      "SimpleCommand does its own work: (self._payload='Say Hi!')\n",
      "...Invoker is doing something...\n",
      "Invoker: Executing _on_finish if it exists\n",
      "ComplexCommand delegates work to a receiver:\n",
      "    Receiver: Working on (Send email.)\n",
      "    Receiver: Working on (Send email.)\n"
     ]
    }
   ],
   "source": [
    "from abc import ABC, abstractmethod\n",
    "\n",
    "class Command(ABC):\n",
    "    @abstractmethod\n",
    "    def execute(self) -> None:\n",
    "        pass\n",
    "\n",
    "class SimpleCommand(Command):\n",
    "    def __init__(self, payload: str) -> None:\n",
    "        self._payload: str = payload\n",
    "\n",
    "    def execute(self) -> None:\n",
    "        print(f\"SimpleCommand does its own work: ({self._payload=})\", end='\\n')\n",
    "\n",
    "class ComplexCommand(Command):\n",
    "    def __init__(self, receiver: 'Receiver', a: str, b: str) -> None:\n",
    "        self._receiver: Receiver = receiver\n",
    "        self._a: str = a\n",
    "        self._b: str = b\n",
    "\n",
    "    def execute(self) -> None:\n",
    "        print(\"ComplexCommand delegates work to a receiver:\", end=\"\\n\")\n",
    "        self._receiver.do_something(self._a)\n",
    "        self._receiver.do_something(self._a)\n",
    "        \n",
    "class Receiver:\n",
    "    def do_something(self, a: str) -> None:\n",
    "        print(f\"    Receiver: Working on ({a}.)\", end=\"\\n\")\n",
    "\n",
    "    def do_something_else(self, b: str) -> None:\n",
    "        print(f\"    Receiver: Also working on ({b}.)\", end=\"\\n\")\n",
    "\n",
    "class Invoker:\n",
    "    _on_start = None\n",
    "    _on_finish = None\n",
    "\n",
    "    def set_on_start(self, command: Command):\n",
    "        self._on_start = command\n",
    "\n",
    "    def set_on_finish(self, command: Command):\n",
    "        self._on_finish = command\n",
    "\n",
    "    def do_something_important(self) -> None:\n",
    "        print(\"Invoker: Executing _on_start if it exists\")\n",
    "        if isinstance(self._on_start, Command):\n",
    "            self._on_start.execute()\n",
    "\n",
    "        print('...Invoker is doing something...')\n",
    "\n",
    "        print(\"Invoker: Executing _on_finish if it exists\")\n",
    "        if isinstance(self._on_finish, Command):\n",
    "            self._on_finish.execute()\n",
    "\n",
    "\n",
    "## Client calls the invoker\n",
    "invoker = Invoker()\n",
    "invoker.set_on_start(SimpleCommand(\"Say Hi!\"))\n",
    "receiver = Receiver()\n",
    "invoker.set_on_finish(ComplexCommand(receiver, \"Send email\", \"Save report\"))\n",
    "\n",
    "invoker.do_something_important()"
   ]
  },
  {
   "cell_type": "markdown",
   "metadata": {},
   "source": [
    "### Discussion"
   ]
  },
  {
   "cell_type": "markdown",
   "metadata": {},
   "source": [
    "- The basic idea of `Command` is to make something that COULD be a method into an object, which gives you more flexibility \n",
    "- The `Command` object may do the actual work, or it may delegate to another object (called the `Receiver`)\n",
    "- Either way, the `Command` object still sits between the `Invoker` (the thing that calls the command) and the final outcome, with a possible `Receiver` in the way\n",
    "- The Invoker can be customised to run different things in different ways, which adds to the flexibility of this pattern"
   ]
  },
  {
   "cell_type": "markdown",
   "metadata": {},
   "source": [
    "### Pros and Cons"
   ]
  },
  {
   "cell_type": "markdown",
   "metadata": {},
   "source": [
    "- Pros\n",
    "    - Single Responsibility Principle. You can decouple classes that invoke operations from classes that perform these operations.\n",
    "    - Open/Closed Principle. You can introduce new commands into the app without breaking existing client code.\n",
    "    - You can implement undo/redo.\n",
    "    - You can implement deferred execution of operations.\n",
    "    - You can assemble a set of simple commands into a complex one.\n",
    "\n",
    "- Cons\n",
    "    -  The code may become more complicated since you’re introducing a whole new layer between senders and receivers."
   ]
  },
  {
   "cell_type": "markdown",
   "metadata": {},
   "source": [
    "### Use Cases"
   ]
  },
  {
   "cell_type": "markdown",
   "metadata": {},
   "source": [
    "- Use the Command pattern when you want to parametrize objects with operations.\n",
    "    - That is, instead of designing something as a method call, it becomes more flexbile\n",
    "    - At run time, since the `Command` is an object, you can swap the order of the underlying operations, you can store the objects somewhere etc.\n",
    "    - For instance, if you are designing software for a keyboard, storing the keystrokes as `Command` objects allows you to easily remap each key to a different command\n",
    "\n",
    "- Use the Command pattern when you want to queue operations, schedule their execution, or execute them remotely.\n",
    "    - If each `Command` is an object rather than a method, you can serialise it and write it out, which gives more information about the state of the programme than a simple method\n",
    "\n",
    "- Use the Command pattern when you want to implement reversible operations.\n",
    "    - With a commmand pattern, you can record the history of all operations\n",
    "    - This history is a stack with all executed command objects, and their associated snapshots before run-time as backup\n",
    "    - Having something like this lets you \"undo\" by just copying the desired state from the Command object"
   ]
  },
  {
   "cell_type": "markdown",
   "metadata": {},
   "source": [
    "## 3. Iterator"
   ]
  },
  {
   "cell_type": "markdown",
   "metadata": {},
   "source": [
    "### Big Picture"
   ]
  },
  {
   "cell_type": "markdown",
   "metadata": {},
   "source": [
    "- In many composite objects, you need to have the ability to step through all elements within itself\n",
    "- However, there can be many ways to step through elements \n",
    "    - e.g. a graph can have depth first or breadth first search\n",
    "\n",
    "- To enable stepping through an object (i.e. making an object an iterable), we can convert it into an iterable by creating a separate `Iterator` class\n",
    "    - That is, we don't define how the iteration is done within the object iself\n",
    "    - But we make another class whose job is to define the iteration process, and use it to wrap around the object (see example below)\n",
    "    - `AlphabeticalOrderIterator` iterator (defines the how) is defined separately from the `WordsCollection` iterable (object to iterate over)"
   ]
  },
  {
   "cell_type": "markdown",
   "metadata": {},
   "source": [
    "### Example"
   ]
  },
  {
   "cell_type": "code",
   "execution_count": 8,
   "metadata": {},
   "outputs": [
    {
     "name": "stdout",
     "output_type": "stream",
     "text": [
      "Straight traversal:\n",
      "Airst\n",
      "Birst\n",
      "Cirst\n",
      "\n",
      "Reverse traversal:\n",
      "Cirst\n",
      "Birst\n",
      "Airst"
     ]
    }
   ],
   "source": [
    "from collections.abc import Iterable, Iterator\n",
    "from typing import Any\n",
    "\n",
    "\n",
    "class AlphabeticalOrderIterator(Iterator):\n",
    "    # _position: int\n",
    "    # _reverse: bool = False\n",
    "\n",
    "    def __init__(self, collection: 'WordsCollection', reverse: bool = False) -> None:\n",
    "        self._collection: WordsCollection = collection\n",
    "        self._reverse: bool = reverse\n",
    "        self._position = -1 if reverse else 0\n",
    "\n",
    "    def __next__(self) -> Any:\n",
    "        try:\n",
    "            value = self._collection[self._position] ##init position either to start or end of the collection\n",
    "            self._position += -1 if self._reverse else 1 ##increment/decrement position depending on direction of iteration\n",
    "        except IndexError:\n",
    "            raise StopIteration()\n",
    "\n",
    "        return value\n",
    "\n",
    "class WordsCollection(Iterable):\n",
    "\n",
    "    def __init__(self, collection: list[Any] | None = None) -> None:\n",
    "        self._collection = collection or []\n",
    "\n",
    "    def __getitem__(self, index: int) -> Any:\n",
    "        return self._collection[index]\n",
    "\n",
    "    def __iter__(self) -> AlphabeticalOrderIterator:\n",
    "        return AlphabeticalOrderIterator(self)\n",
    "\n",
    "    def get_reverse_iterator(self) -> AlphabeticalOrderIterator:\n",
    "        return AlphabeticalOrderIterator(self, True)\n",
    "\n",
    "    def add_item(self, item: Any) -> None:\n",
    "        self._collection.append(item)\n",
    "        self._collection = sorted(self._collection)\n",
    "\n",
    "\n",
    "collection = WordsCollection()\n",
    "collection.add_item(\"Birst\")\n",
    "collection.add_item(\"Airst\")\n",
    "collection.add_item(\"Cirst\")\n",
    "\n",
    "print(\"Straight traversal:\")\n",
    "print(\"\\n\".join(collection))\n",
    "print(\"\")\n",
    "\n",
    "print(\"Reverse traversal:\")\n",
    "print(\"\\n\".join(collection.get_reverse_iterator()), end=\"\")"
   ]
  },
  {
   "cell_type": "markdown",
   "metadata": {},
   "source": [
    "### Discussion"
   ]
  },
  {
   "cell_type": "markdown",
   "metadata": {},
   "source": [
    "- In Python, creating iterators requires you to understand two concepts\n",
    "    - Iterable: Something that can be iterated over\n",
    "        - A string is an iterable\n",
    "        - A list is an iterable\n",
    "        - A float is NOT an iterable\n",
    "    - Iterator: An iterator is any object that helps you iterate over another object\n",
    "        - A string is an iterable, but NOT an iterator\n",
    "            - `next('some string')` throws an error\n",
    "        - BUT you can call `string_iter = iter('some string')`\n",
    "            - This `string_iter` object will make the string an iterator\n",
    "        \n",
    "- `Iterators` implement a `__next__` dunder method, and this is called to iterate through the collection\n",
    "- `Iterables` implement a `__iter__` dunder method, and this can be called to return an iterator"
   ]
  },
  {
   "cell_type": "markdown",
   "metadata": {},
   "source": [
    "### Pros and Cons"
   ]
  },
  {
   "cell_type": "markdown",
   "metadata": {},
   "source": [
    "- Pros:\n",
    "    - Single Responsibility Principle. You can clean up the client code and the collections by extracting bulky traversal algorithms into separate classes.\n",
    "    - Open/Closed Principle. You can implement new types of collections and iterators and pass them to existing code without breaking anything.\n",
    "    - You can iterate over the same collection in parallel because each iterator object contains its own iteration state.\n",
    "    - For the same reason, you can delay an iteration and continue it when needed.\n",
    "\n",
    "- Cons\n",
    "    - Applying the pattern can be an overkill if your app only works with simple collections.\n",
    "    - Using an iterator may be less efficient than going through elements of some specialized collections directly."
   ]
  },
  {
   "cell_type": "markdown",
   "metadata": {},
   "source": [
    "### Use Cases"
   ]
  },
  {
   "cell_type": "markdown",
   "metadata": {},
   "source": [
    "- Use the Iterator pattern when your collection has a complex data structure under the hood, but you want to hide its complexity from clients (either for convenience or security reasons).\n",
    "\n",
    "- Use the pattern to reduce duplication of the traversal code across your app.\n",
    "\n",
    "- Use the Iterator when you want your code to be able to traverse different data structures or when types of these structures are unknown beforehand."
   ]
  },
  {
   "cell_type": "markdown",
   "metadata": {},
   "source": [
    "## 4. Mediator"
   ]
  },
  {
   "cell_type": "markdown",
   "metadata": {},
   "source": [
    "### Big Picture"
   ]
  },
  {
   "cell_type": "markdown",
   "metadata": {},
   "source": [
    "- Suppose that, upon calling an operation in some object, you want to trigger an operation in another object\n",
    "- If this pattern repeats multiple time, your code is going to look extremely ugly\n",
    "- A `Mediator` object lets you prettify your code by encapsulating the \"triggering\" logic into a single class\n",
    "\n",
    "- In the example below, the `Component` objects run some operations `do_X`, and the mediator takes care of the follow up operations"
   ]
  },
  {
   "cell_type": "markdown",
   "metadata": {},
   "source": [
    "### Example"
   ]
  },
  {
   "cell_type": "code",
   "execution_count": 16,
   "metadata": {},
   "outputs": [
    {
     "name": "stdout",
     "output_type": "stream",
     "text": [
      "Registering Component1 and Component2 to mediator\n",
      "Client triggers operation A.\n",
      "Component 1 does A.\n",
      "Mediator received notification from Component1\n",
      "Mediator reacts on A and triggers following operations:\n",
      "Component 2 does C.\n",
      "Mediator received notification from Component2\n",
      "\n",
      "Client triggers operation D.\n",
      "Component 2 does D.\n",
      "Mediator received notification from Component2\n",
      "Mediator reacts on D and triggers following operations:\n",
      "Component 1 does B.\n",
      "Mediator received notification from Component1\n",
      "Component 2 does C.\n",
      "Mediator received notification from Component2\n"
     ]
    }
   ],
   "source": [
    "from abc import ABC, abstractmethod\n",
    "from typing import Optional\n",
    "\n",
    "class Mediator(ABC):\n",
    "    @abstractmethod\n",
    "    def notify(self, sender: object, event: str) -> None:\n",
    "        ...\n",
    "\n",
    "class ConcreteMediator(Mediator):\n",
    "    def __init__(self, component1: 'Component1', component2: 'Component2') -> None:\n",
    "        self._component1 = component1\n",
    "        self._component2 = component2\n",
    "        self._register_components_to_mediator()\n",
    "\n",
    "    def _register_components_to_mediator(self):\n",
    "        print(f'Registering {self._component1.__class__.__name__} and {self._component2.__class__.__name__} to mediator')\n",
    "        self._component1.mediator = self\n",
    "        self._component2.mediator = self\n",
    "\n",
    "    def notify(self, sender: object, event: str) -> None:\n",
    "        print(f'Mediator received notification from {sender.__class__.__name__}')\n",
    "        if event == \"A\":\n",
    "            print(\"Mediator reacts on A and triggers following operations:\")\n",
    "            self._component2.do_c()\n",
    "        elif event == \"D\":\n",
    "            print(\"Mediator reacts on D and triggers following operations:\")\n",
    "            self._component1.do_b()\n",
    "            self._component2.do_c()\n",
    "\n",
    "class BaseComponent:\n",
    "    def __init__(self) -> None:\n",
    "        self._mediator = None\n",
    "\n",
    "    @property\n",
    "    def mediator(self) -> Optional[Mediator]:\n",
    "        return self._mediator\n",
    "\n",
    "    @mediator.setter\n",
    "    def mediator(self, mediator: Mediator) -> None:\n",
    "        self._mediator = mediator\n",
    "\n",
    "class Component1(BaseComponent):\n",
    "    def do_a(self) -> None:\n",
    "        print(\"Component 1 does A.\")\n",
    "        if self.mediator is not None:\n",
    "            self.mediator.notify(self, \"A\")\n",
    "\n",
    "    def do_b(self) -> None:\n",
    "        print(\"Component 1 does B.\")\n",
    "        if self.mediator is not None:\n",
    "            self.mediator.notify(self, \"B\")\n",
    "\n",
    "\n",
    "class Component2(BaseComponent):\n",
    "    def do_c(self) -> None:\n",
    "        print(\"Component 2 does C.\")\n",
    "        if self.mediator is not None:\n",
    "            self.mediator.notify(self, \"C\")\n",
    "        \n",
    "    def do_d(self) -> None:\n",
    "        print(\"Component 2 does D.\")\n",
    "        if self.mediator is not None:\n",
    "            self.mediator.notify(self, \"D\")\n",
    "\n",
    "c1 = Component1()\n",
    "c2 = Component2()\n",
    "mediator = ConcreteMediator(c1, c2)\n",
    "\n",
    "print(\"Client triggers operation A.\")\n",
    "c1.do_a()\n",
    "\n",
    "print(\"\\n\", end=\"\")\n",
    "\n",
    "print(\"Client triggers operation D.\")\n",
    "c2.do_d()"
   ]
  },
  {
   "cell_type": "markdown",
   "metadata": {},
   "source": [
    "### Discussion"
   ]
  },
  {
   "cell_type": "markdown",
   "metadata": {},
   "source": [
    "- Facade and Mediator are quite similar, in that they orchestrate collaboration between lots of tightly coupled classes\n",
    "    - Both attempt to make life easy\n",
    "    - But a facade makes life easy by providing a simplified interface, without providing new functionality\n",
    "        - The subsystem objects do not need to be aware of the facade, and can still continue to communicate directly with each other\n",
    "    - A Mediator makes itself the center of all communication with all components\n",
    "        - So this is obviously more distruptive. The components become tightly coupled to the mediator class\n",
    "    \n",
    "- Mediator and Observer are quite similar in implementation, let's just treat them as having a different purpose\n",
    "    - Mediator happens when you want to insert an object between all your other objects in the universe, so that it orchestrates the communication\n",
    "        - Objects will `notify` the mediator of any changes on their part\n",
    "    - Observer has the exact same `notify` pattern, BUT it doesn't deal with orchestration\n",
    "        - Instead, the `notify` is exactly the purpose of the observer pattern; it is used when you want to be told when something happens"
   ]
  },
  {
   "cell_type": "markdown",
   "metadata": {},
   "source": [
    "### Pros and Cons"
   ]
  },
  {
   "cell_type": "markdown",
   "metadata": {},
   "source": [
    "- Pros\n",
    "    - Single Responsibility Principle. You can extract the communications between various components into a single place, making it easier to comprehend and maintain.\n",
    "    - Open/Closed Principle. You can introduce new mediators without having to change the actual components.\n",
    "    - You can reduce coupling between various components of a program.\n",
    "    - You can reuse individual components more easily.\n",
    "\n",
    "- Cons\n",
    "    - Over time a mediator can evolve into a God Object."
   ]
  },
  {
   "cell_type": "markdown",
   "metadata": {},
   "source": [
    "### Use Cases"
   ]
  },
  {
   "cell_type": "markdown",
   "metadata": {},
   "source": [
    "- Use the Mediator pattern when it’s hard to change some of the classes because they are tightly coupled to a bunch of other classes.\n",
    "    - Idea being, future changes to classes can be managed from the Mediator object, rather than needing a rewrite of the classes themselves\n",
    "\n",
    "- Use the pattern when you can’t reuse a component in a different program because it’s too dependent on other components.\n",
    "    - Once Mediator is applied, individual components DO NOT need to be aware of other components, and communicate indirectly through the mediator object\n",
    "\n",
    "- Use the Mediator when you find yourself creating tons of component subclasses just to reuse some basic behavior in various contexts.\n",
    "    - Since all relationships are contained in the mediator, new behaviour can be controlled via new mediator classes without involving the actual components"
   ]
  },
  {
   "cell_type": "markdown",
   "metadata": {},
   "source": [
    "## 5. Memento"
   ]
  },
  {
   "cell_type": "markdown",
   "metadata": {},
   "source": [
    "### Big Picture"
   ]
  },
  {
   "cell_type": "markdown",
   "metadata": {},
   "source": [
    "- Memento is a behavioral design pattern that lets you save and restore the previous state of an object without revealing the details of its implementation\n",
    "\n",
    "- There are 3 items in a memento design\n",
    "    - `Originator`: The class whose state you want to track. Every time this object does something, you generate a new state and save it as a `Memento`\n",
    "    - `Memento`: The object that stores the state of the originator\n",
    "    - `Caretaker`: This object is what orchestrates the act of storing Originator states as mementos, and returning Mementos popped from the saved stack"
   ]
  },
  {
   "cell_type": "markdown",
   "metadata": {},
   "source": [
    "### Example"
   ]
  },
  {
   "cell_type": "code",
   "execution_count": 17,
   "metadata": {},
   "outputs": [
    {
     "name": "stdout",
     "output_type": "stream",
     "text": [
      "Originator: My initial state is: Super-duper-super-puper-super.\n",
      "Caretaker: Saving Originator's state...\n",
      "Originator: I'm doing something important.\n",
      "Originator: and my state has changed to: ZIEopRSbwDgdyYeMNtKiOcLFUaqBnH\n",
      "Caretaker: Saving Originator's state...\n",
      "Originator: I'm doing something important.\n",
      "Originator: and my state has changed to: DqSCmAUpxXwvcBkaGyMdbKhuYrjseP\n",
      "Caretaker: Saving Originator's state...\n",
      "Originator: I'm doing something important.\n",
      "Originator: and my state has changed to: RdhpEbYUaKDmftyiAjXJOclLonQGrv\n",
      "\n",
      "Caretaker: Here's the list of mementos:\n",
      "2024-04-15 17:55:31 / (Super-dup...)\n",
      "2024-04-15 17:55:31 / (ZIEopRSbw...)\n",
      "2024-04-15 17:55:31 / (DqSCmAUpx...)\n",
      "\n",
      "Client: Now, let's rollback!\n",
      "\n",
      "Caretaker: Restoring state to: 2024-04-15 17:55:31 / (DqSCmAUpx...)\n",
      "Originator: My state has changed to: DqSCmAUpxXwvcBkaGyMdbKhuYrjseP\n",
      "\n",
      "Client: Once more!\n",
      "\n",
      "Caretaker: Restoring state to: 2024-04-15 17:55:31 / (ZIEopRSbw...)\n",
      "Originator: My state has changed to: ZIEopRSbwDgdyYeMNtKiOcLFUaqBnH\n"
     ]
    }
   ],
   "source": [
    "from abc import ABC, abstractmethod\n",
    "from datetime import datetime\n",
    "from random import sample\n",
    "from string import ascii_letters\n",
    "\n",
    "class Originator:\n",
    "    def __init__(self, state: str) -> None:\n",
    "        self._state = state\n",
    "        print(f\"Originator: My initial state is: {self._state}\")\n",
    "\n",
    "    def do_something(self) -> None:\n",
    "        print(\"Originator: I'm doing something important.\")\n",
    "        self._state = self._generate_state_hash(30)\n",
    "        print(f\"Originator: and my state has changed to: {self._state}\")\n",
    "\n",
    "    @staticmethod\n",
    "    def _generate_state_hash(length: int = 10) -> str:\n",
    "        return \"\".join(sample(ascii_letters, length))\n",
    "\n",
    "    def save(self) -> 'Memento':\n",
    "        return ConcreteMemento(self._state)\n",
    "\n",
    "    def restore(self, memento: 'Memento') -> None:\n",
    "        self._state = memento.get_state()\n",
    "        print(f\"Originator: My state has changed to: {self._state}\")\n",
    "\n",
    "\n",
    "class Memento(ABC):\n",
    "\n",
    "    @abstractmethod\n",
    "    def get_name(self) -> str:\n",
    "        pass\n",
    "\n",
    "    @abstractmethod\n",
    "    def get_date(self) -> str:\n",
    "        pass\n",
    "\n",
    "    @abstractmethod\n",
    "    def get_state(self) -> str:\n",
    "        pass\n",
    "\n",
    "class ConcreteMemento(Memento):\n",
    "    def __init__(self, state: str) -> None:\n",
    "        self._state = state\n",
    "        self._date = str(datetime.now())[:19]\n",
    "\n",
    "    def get_state(self) -> str:\n",
    "        return self._state\n",
    "\n",
    "    def get_name(self) -> str:\n",
    "        return f\"{self._date} / ({self._state[0:9]}...)\"\n",
    "\n",
    "    def get_date(self) -> str:\n",
    "        return self._date\n",
    "\n",
    "\n",
    "class Caretaker:\n",
    "\n",
    "    def __init__(self, originator: Originator) -> None:\n",
    "        self._mementos: list[Memento] = []\n",
    "        self._originator: Originator = originator\n",
    "\n",
    "    def backup(self) -> None:\n",
    "        print(\"Caretaker: Saving Originator's state...\", end='\\n')\n",
    "        self._mementos.append(self._originator.save())\n",
    "\n",
    "    def undo(self) -> None:\n",
    "        if not len(self._mementos):\n",
    "            return\n",
    "\n",
    "        memento = self._mementos.pop()\n",
    "        print(f\"Caretaker: Restoring state to: {memento.get_name()}\")\n",
    "        try:\n",
    "            self._originator.restore(memento)\n",
    "        except Exception:\n",
    "            self.undo()\n",
    "\n",
    "    def show_history(self) -> None:\n",
    "        print(\"Caretaker: Here's the list of mementos:\")\n",
    "        for memento in self._mementos:\n",
    "            print(memento.get_name())\n",
    "\n",
    "\n",
    "originator = Originator(\"Super-duper-super-puper-super.\")\n",
    "caretaker = Caretaker(originator)\n",
    "\n",
    "caretaker.backup()\n",
    "originator.do_something()\n",
    "\n",
    "caretaker.backup()\n",
    "originator.do_something()\n",
    "\n",
    "caretaker.backup()\n",
    "originator.do_something()\n",
    "\n",
    "print()\n",
    "caretaker.show_history()\n",
    "\n",
    "print(\"\\nClient: Now, let's rollback!\\n\")\n",
    "caretaker.undo()\n",
    "\n",
    "print(\"\\nClient: Once more!\\n\")\n",
    "caretaker.undo()"
   ]
  },
  {
   "cell_type": "markdown",
   "metadata": {},
   "source": [
    "### Discussion"
   ]
  },
  {
   "cell_type": "markdown",
   "metadata": {},
   "source": [
    "- You can combine Memento with Command object to implement the Undo\n",
    "    - So the `Command` object is responsible for performing some operation on the target object, and the `Memento` saves the state before the command is executed\n",
    "    - That is, `Command` replaces the `do_something` method\n",
    "\n",
    "- You can combine Memento with Iterator object to traverse the saved history\n",
    "\n",
    "- If the object is not complicated, instead of saving the state as a Memento, you can simply save it as a `Prototype` and restore it as necessary"
   ]
  },
  {
   "cell_type": "markdown",
   "metadata": {},
   "source": [
    "### Pros and Cons"
   ]
  },
  {
   "cell_type": "markdown",
   "metadata": {},
   "source": [
    "- Pros\n",
    "    - You can produce snapshots of the object’s state without violating its encapsulation.\n",
    "    - You can simplify the originator’s code by letting the caretaker maintain the history of the originator’s state.\n",
    "\n",
    "- Cons\n",
    "    - The app might consume lots of RAM if clients create mementos too often.\n",
    "    - Caretakers should track the originator’s lifecycle to be able to destroy obsolete mementos.\n",
    "    - Most dynamic programming languages, such as PHP, Python and JavaScript, can’t guarantee that the state within the memento stays untouched."
   ]
  },
  {
   "cell_type": "markdown",
   "metadata": {},
   "source": [
    "### Use Cases"
   ]
  },
  {
   "cell_type": "markdown",
   "metadata": {},
   "source": [
    "- Use the Memento pattern when you want to produce snapshots of the object’s state to be able to restore a previous state of the object."
   ]
  },
  {
   "cell_type": "markdown",
   "metadata": {},
   "source": [
    "## 6. Observer"
   ]
  },
  {
   "cell_type": "markdown",
   "metadata": {},
   "source": [
    "### Big Picture"
   ]
  },
  {
   "cell_type": "markdown",
   "metadata": {},
   "source": [
    "- The point of the observer pattern is to elegantly deal with event based code; i.e. when event A happens, object should perform some action\n",
    "\n",
    "- You have 2 elements for an observer pattern\n",
    "    - A subject (the thing getting observed)\n",
    "    - An observer (the thing reacting to changes in the subject)"
   ]
  },
  {
   "cell_type": "markdown",
   "metadata": {},
   "source": [
    "### Example"
   ]
  },
  {
   "cell_type": "code",
   "execution_count": 18,
   "metadata": {},
   "outputs": [
    {
     "name": "stdout",
     "output_type": "stream",
     "text": [
      "Subject: Attached an observer.\n",
      "Subject: Attached an observer.\n",
      "Subject: I'm doing something important.\n",
      "Subject: My state has just changed to: 7\n",
      "Subject: Notifying observers...\n",
      "ConcreteObserverB: Reacted to the event\n",
      "Subject: I'm doing something important.\n",
      "Subject: My state has just changed to: 1\n",
      "Subject: Notifying observers...\n",
      "ConcreteObserverA: Reacted to the event\n",
      "Subject: I'm doing something important.\n",
      "Subject: My state has just changed to: 9\n",
      "Subject: Notifying observers...\n",
      "ConcreteObserverB: Reacted to the event\n"
     ]
    }
   ],
   "source": [
    "from abc import ABC, abstractmethod\n",
    "from random import randrange\n",
    "from typing import List\n",
    "\n",
    "class Subject(ABC):\n",
    "    _state: int = 0\n",
    "\n",
    "    @property\n",
    "    @abstractmethod\n",
    "    def state(self) -> int:\n",
    "        return self._state\n",
    "\n",
    "    @abstractmethod\n",
    "    def attach(self, observer: 'Observer') -> None:\n",
    "        pass\n",
    "\n",
    "    @abstractmethod\n",
    "    def detach(self, observer: 'Observer') -> None:\n",
    "        pass\n",
    "\n",
    "    @abstractmethod\n",
    "    def notify(self) -> None:\n",
    "        pass\n",
    "\n",
    "class ConcreteSubject(Subject):\n",
    "    _state: int = 0\n",
    "    _observers: List['Observer'] = []\n",
    "\n",
    "    @property\n",
    "    def state(self):\n",
    "        return self._state\n",
    "    \n",
    "    @property\n",
    "    def observers(self) -> List['Observer']:\n",
    "        return self._observers\n",
    "\n",
    "    def attach(self, observer: 'Observer') -> None:\n",
    "        print(\"Subject: Attached an observer.\", end='\\n')\n",
    "        self._observers.append(observer)\n",
    "\n",
    "    def detach(self, observer: 'Observer') -> None:\n",
    "        self._observers.remove(observer)\n",
    "\n",
    "    def notify(self) -> None:\n",
    "        print(\"Subject: Notifying observers...\", end='\\n')\n",
    "        for observer in self._observers:\n",
    "            observer.update(self)\n",
    "\n",
    "    def some_business_logic(self) -> None:\n",
    "        print(\"Subject: I'm doing something important.\", end='\\n')\n",
    "        self._state = randrange(0, 10)\n",
    "\n",
    "        print(f\"Subject: My state has just changed to: {self._state}\", end='\\n')\n",
    "        self.notify()\n",
    "\n",
    "class Observer(ABC):\n",
    "    @abstractmethod\n",
    "    def update(self, subject: Subject) -> None:\n",
    "        pass\n",
    "\n",
    "class ConcreteObserverA(Observer):\n",
    "    def update(self, subject: Subject) -> None:\n",
    "        if subject._state < 3:\n",
    "            print(\"ConcreteObserverA: Reacted to the event\")\n",
    "\n",
    "class ConcreteObserverB(Observer):\n",
    "    def update(self, subject: Subject) -> None:\n",
    "        if subject._state == 0 or subject._state >= 2:\n",
    "            print(\"ConcreteObserverB: Reacted to the event\")\n",
    "\n",
    "## Create a subject\n",
    "subject = ConcreteSubject()\n",
    "\n",
    "## Create observers\n",
    "observer_a = ConcreteObserverA()\n",
    "observer_b = ConcreteObserverB()\n",
    "\n",
    "## Attach observers to subject\n",
    "subject.attach(observer_a)\n",
    "subject.attach(observer_b)\n",
    "\n",
    "## Subject performs some business logic\n",
    "subject.some_business_logic()\n",
    "subject.some_business_logic()\n",
    "\n",
    "## Detach observer\n",
    "subject.detach(observer_a)\n",
    "\n",
    "## Subject performs some business logic again\n",
    "subject.some_business_logic()"
   ]
  },
  {
   "cell_type": "markdown",
   "metadata": {},
   "source": [
    "### Discussion"
   ]
  },
  {
   "cell_type": "markdown",
   "metadata": {},
   "source": [
    "- Quite similar to mediator\n",
    "    - Mediator elminates mutual dependencies among system components\n",
    "    - Observer ismore limited, just tries to let objects be \"observed\" and perform actions when conditions are met"
   ]
  },
  {
   "cell_type": "markdown",
   "metadata": {},
   "source": [
    "### Pros and Cons"
   ]
  },
  {
   "cell_type": "markdown",
   "metadata": {},
   "source": [
    "- Pros\n",
    "    - Open/Closed Principle. You can introduce new subscriber classes without having to change the publisher’s code (and vice versa if there’s a publisher interface).\n",
    "    - You can establish relations between objects at runtime.\n",
    "\n",
    "- Cons\n",
    "    - Subscribers are notified in random order"
   ]
  },
  {
   "cell_type": "markdown",
   "metadata": {},
   "source": [
    "### Use Cases"
   ]
  },
  {
   "cell_type": "markdown",
   "metadata": {},
   "source": [
    "- Use the Observer pattern when changes to the state of one object may require changing other objects, and the actual set of objects is unknown beforehand or changes dynamically.\n",
    "\n",
    "- Use the pattern when some objects in your app must observe others, but only for a limited time or in specific cases."
   ]
  },
  {
   "cell_type": "markdown",
   "metadata": {},
   "source": [
    "## 7. State"
   ]
  },
  {
   "cell_type": "markdown",
   "metadata": {},
   "source": [
    "### Big Picture"
   ]
  },
  {
   "cell_type": "markdown",
   "metadata": {},
   "source": [
    "- Your programme has some number of possible internal states, and objects need to change their behaviour according to these states\n",
    "\n",
    "- To implement this pattern, you need\n",
    "    - `Context` object, the thing that can have different states\n",
    "        - e.g. a `phone` object can be in on/off state, locked/unlocked state etc\n",
    "    - `State` object, the state that this `Context` can be in\n",
    "        - Each `State` implements a commomn, pre-defined interface "
   ]
  },
  {
   "cell_type": "markdown",
   "metadata": {},
   "source": [
    "### Example"
   ]
  },
  {
   "cell_type": "code",
   "execution_count": 19,
   "metadata": {},
   "outputs": [
    {
     "name": "stdout",
     "output_type": "stream",
     "text": [
      "Context: Transition to ConcreteStateA\n",
      "ConcreteStateA handles request1.\n",
      "ConcreteStateA wants to change the state of the context.\n",
      "Context: Transition to ConcreteStateB\n",
      "ConcreteStateB handles request2.\n",
      "ConcreteStateB wants to change the state of the context.\n",
      "Context: Transition to ConcreteStateA\n"
     ]
    }
   ],
   "source": [
    "from abc import ABC, abstractmethod\n",
    "\n",
    "class Context:\n",
    "    _state = None\n",
    "\n",
    "    def __init__(self, state: 'State') -> None:\n",
    "        self.transition_to(state)\n",
    "\n",
    "    def transition_to(self, state: 'State'):\n",
    "        print(f\"Context: Transition to {type(state).__name__}\")\n",
    "        self._state = state\n",
    "        self._state.context = self\n",
    "\n",
    "    def request1(self):\n",
    "        self._state.handle_request1()\n",
    "\n",
    "    def request2(self):\n",
    "        self._state.handle_request2()\n",
    "\n",
    "\n",
    "class State(ABC):\n",
    "\n",
    "    @property\n",
    "    def context(self) -> Context:\n",
    "        return self._context\n",
    "\n",
    "    @context.setter\n",
    "    def context(self, context: Context) -> None:\n",
    "        self._context = context\n",
    "\n",
    "    @abstractmethod\n",
    "    def handle_request1(self) -> None:\n",
    "        pass\n",
    "\n",
    "    @abstractmethod\n",
    "    def handle_request2(self) -> None:\n",
    "        pass\n",
    "\n",
    "class ConcreteStateA(State):\n",
    "    def handle_request1(self) -> None:\n",
    "        print(\"ConcreteStateA handles request1.\")\n",
    "        print(\"ConcreteStateA wants to change the state of the context.\")\n",
    "        self.context.transition_to(ConcreteStateB())\n",
    "\n",
    "    def handle_request2(self) -> None:\n",
    "        print(\"ConcreteStateA handles request2.\")\n",
    "\n",
    "\n",
    "class ConcreteStateB(State):\n",
    "    def handle_request1(self) -> None:\n",
    "        print(\"ConcreteStateB handles request1.\")\n",
    "\n",
    "    def handle_request2(self) -> None:\n",
    "        print(\"ConcreteStateB handles request2.\")\n",
    "        print(\"ConcreteStateB wants to change the state of the context.\")\n",
    "        self.context.transition_to(ConcreteStateA())\n",
    "\n",
    "\n",
    "context = Context(ConcreteStateA())\n",
    "context.request1()\n",
    "context.request2()"
   ]
  },
  {
   "cell_type": "markdown",
   "metadata": {},
   "source": [
    "### Discussion"
   ]
  },
  {
   "cell_type": "markdown",
   "metadata": {},
   "source": [
    "- You can think of this as kind of an extension of `Strategy`\n",
    "    - Both work with composition (a `Context` object with a `State`)\n",
    "    - But `Strategy` are independent. They are algorithms that achieve some outcome but in different ways, and don't know about each other. States know about their relationship with other states"
   ]
  },
  {
   "cell_type": "markdown",
   "metadata": {},
   "source": [
    "### Pros and Cons"
   ]
  },
  {
   "cell_type": "markdown",
   "metadata": {},
   "source": [
    "- Pros\n",
    "    - Single Responsibility Principle. Organize the code related to particular states into separate classes.\n",
    "    - Open/Closed Principle. Introduce new states without changing existing state classes or the context.\n",
    "    - Simplify the code of the context by eliminating bulky state machine conditionals.\n",
    "\n",
    "- Cons\n",
    "    - Applying the pattern can be overkill if a state machine has only a few states or rarely changes."
   ]
  },
  {
   "cell_type": "markdown",
   "metadata": {},
   "source": [
    "### Use Cases"
   ]
  },
  {
   "cell_type": "markdown",
   "metadata": {},
   "source": [
    "- Use the State pattern when you have an object that behaves differently depending on its current state, the number of states is enormous, and the state-specific code changes frequently.\n",
    "\n",
    "- Use the pattern when you have a class polluted with massive conditionals that alter how the class behaves according to the current values of the class’s fields.\n",
    "\n",
    "- Use State when you have a lot of duplicate code across similar states and transitions of a condition-based state machine."
   ]
  },
  {
   "cell_type": "markdown",
   "metadata": {},
   "source": [
    "## 8. Strategy"
   ]
  },
  {
   "cell_type": "markdown",
   "metadata": {},
   "source": [
    "### Big Picture"
   ]
  },
  {
   "cell_type": "markdown",
   "metadata": {},
   "source": [
    "- Kind of like state, except `Strategy` is mutually exclusive\n",
    "\n",
    "- You have 2 objects\n",
    "    - `Context`, which accepts a `Strategy` as an attribute\n",
    "    - `Strategy`, which implements some behaviour"
   ]
  },
  {
   "cell_type": "markdown",
   "metadata": {},
   "source": [
    "### Example"
   ]
  },
  {
   "cell_type": "code",
   "execution_count": 20,
   "metadata": {},
   "outputs": [
    {
     "name": "stdout",
     "output_type": "stream",
     "text": [
      "Client: Strategy is set to normal sorting.\n",
      "Context: Sorting data using the strategy (not sure how it'll do it)\n",
      "a,b,c,d,e\n",
      "\n",
      "Client: Strategy is set to reverse sorting.\n",
      "Context: Sorting data using the strategy (not sure how it'll do it)\n",
      "e,d,c,b,a\n"
     ]
    }
   ],
   "source": [
    "from abc import ABC, abstractmethod\n",
    "\n",
    "\n",
    "class Context():\n",
    "\n",
    "    def __init__(self, strategy: 'Strategy') -> None:\n",
    "        self._strategy = strategy\n",
    "\n",
    "    @property\n",
    "    def strategy(self) -> 'Strategy':\n",
    "        return self._strategy\n",
    "\n",
    "    @strategy.setter\n",
    "    def strategy(self, strategy: 'Strategy') -> None:\n",
    "        self._strategy = strategy\n",
    "\n",
    "    def do_some_business_logic(self) -> None:\n",
    "        print(\"Context: Sorting data using the strategy (not sure how it'll do it)\")\n",
    "        result: list[str] = self._strategy.do_algorithm([\"a\", \"b\", \"c\", \"d\", \"e\"])\n",
    "        print(\",\".join(result))\n",
    "\n",
    "\n",
    "class Strategy(ABC):\n",
    "    @abstractmethod\n",
    "    def do_algorithm(self, data: list[str]) -> list[str]:\n",
    "        ...\n",
    "\n",
    "class ConcreteStrategyA(Strategy):\n",
    "    def do_algorithm(self, data: list[str]) -> list[str]:\n",
    "        return sorted(data)\n",
    "\n",
    "class ConcreteStrategyB(Strategy):\n",
    "    def do_algorithm(self, data: list[str]) -> list[str]:\n",
    "        return list(reversed(sorted(data)))\n",
    "\n",
    "\n",
    "context = Context(ConcreteStrategyA())\n",
    "print(\"Client: Strategy is set to normal sorting.\")\n",
    "context.do_some_business_logic()\n",
    "print()\n",
    "\n",
    "print(\"Client: Strategy is set to reverse sorting.\")\n",
    "context.strategy = ConcreteStrategyB()\n",
    "context.do_some_business_logic()"
   ]
  },
  {
   "cell_type": "markdown",
   "metadata": {},
   "source": [
    "### Discussion"
   ]
  },
  {
   "cell_type": "markdown",
   "metadata": {},
   "source": [
    "- `Command` and `Strategy` may look similar\n",
    "    - You can use both to parameterize an object with some action.\n",
    "    - But the point of `Command` is to convert any operation into an object, which gives you more flexibility\n",
    "    - `Strategy` is simply meant to define specific actions to be taken\n",
    "\n",
    "- `Decorator` changes the skin of the object, but `Strategy` changes the internals\n",
    "\n",
    "- `Template Method` is based on inheritance, but `Strategy` is based on composition\n",
    "    - `Template Method` lets you alter parts of an algorithm by extending specific methods in subclasses. This works at the class level, and is static\n",
    "    -  `Strategy` lets you alter parts of the object’s behavior by supplying it with different strategies that correspond to that behavior. Strategy works on the object level, letting you switch behaviors at runtime.\n",
    "\n",
    "- `State` is like an extension of `Strategy`, where the `States` are aware of each other"
   ]
  },
  {
   "cell_type": "markdown",
   "metadata": {},
   "source": [
    "### Pros and Cons"
   ]
  },
  {
   "cell_type": "markdown",
   "metadata": {},
   "source": [
    "- Pros\n",
    "    - You can swap algorithms used inside an object at runtime.\n",
    "    - You can isolate the implementation details of an algorithm from the code that uses it.\n",
    "    - You can replace inheritance with composition.\n",
    "    - Open/Closed Principle. You can introduce new strategies without having to change the context.\n",
    "\n",
    "- Cons\n",
    "    - If you only have a couple of algorithms and they rarely change, there’s no real reason to overcomplicate the program with new classes and interfaces that come along with the pattern.\n",
    "    - Clients must be aware of the differences between strategies to be able to select a proper one.\n",
    "    - A lot of modern programming languages have functional type support that lets you implement different versions of an algorithm inside a set of anonymous functions. Then you could use these functions exactly as you’d have used the strategy objects, but without bloating your code with extra classes and interfaces."
   ]
  },
  {
   "cell_type": "markdown",
   "metadata": {},
   "source": [
    "### Use Cases"
   ]
  },
  {
   "cell_type": "markdown",
   "metadata": {},
   "source": [
    "- Use the Strategy pattern when you want to use different variants of an algorithm within an object and be able to switch from one algorithm to another during runtime.\n",
    "\n",
    "- Use the Strategy when you have a lot of similar classes that only differ in the way they execute some behavior.\n",
    "\n",
    "- Use the pattern to isolate the business logic of a class from the implementation details of algorithms that may not be as important in the context of that logic.\n",
    "\n",
    "- Use the pattern when your class has a massive conditional statement that switches between different variants of the same algorithm."
   ]
  },
  {
   "cell_type": "markdown",
   "metadata": {},
   "source": [
    "## 9. Template Method"
   ]
  },
  {
   "cell_type": "markdown",
   "metadata": {},
   "source": [
    "### Big Picture"
   ]
  },
  {
   "cell_type": "markdown",
   "metadata": {},
   "source": [
    "- You have a method that implements operations in some order\n",
    "\n",
    "- This order can change based on some criteria, so you want an elegant way of changing this rather than using conditionals\n",
    "\n",
    "- Simply define the template method in the superclass, and label the variable steps as `abstractmethod` to be overwritten in the subclasses"
   ]
  },
  {
   "cell_type": "markdown",
   "metadata": {},
   "source": [
    "### Example"
   ]
  },
  {
   "cell_type": "code",
   "execution_count": 21,
   "metadata": {},
   "outputs": [
    {
     "name": "stdout",
     "output_type": "stream",
     "text": [
      "Same client code can work with different subclasses:\n",
      "AbstractClass says: I am doing the bulk of the work\n",
      "ConcreteClass1 says: Implemented Operation1\n",
      "AbstractClass says: But I let subclasses override some operations\n",
      "ConcreteClass1 says: Implemented Operation2\n",
      "AbstractClass says: But I am doing the bulk of the work anyway\n",
      "\n",
      "Same client code can work with different subclasses:\n",
      "AbstractClass says: I am doing the bulk of the work\n",
      "ConcreteClass2 says: Implemented Operation1\n",
      "AbstractClass says: But I let subclasses override some operations\n",
      "ConcreteClass2 says: Overridden Hook1\n",
      "ConcreteClass2 says: Implemented Operation2\n",
      "AbstractClass says: But I am doing the bulk of the work anyway\n"
     ]
    }
   ],
   "source": [
    "from abc import ABC, abstractmethod\n",
    "\n",
    "class AbstractClass(ABC):\n",
    "    def template_method(self) -> None:\n",
    "\n",
    "        self.base_operation1()\n",
    "        self.required_operations1()\n",
    "        self.base_operation2()\n",
    "        self.hook1()\n",
    "        self.required_operations2()\n",
    "        self.base_operation3()\n",
    "        self.hook2()\n",
    "\n",
    "    def base_operation1(self) -> None:\n",
    "        print(\"AbstractClass says: I am doing the bulk of the work\")\n",
    "\n",
    "    def base_operation2(self) -> None:\n",
    "        print(\"AbstractClass says: But I let subclasses override some operations\")\n",
    "\n",
    "    def base_operation3(self) -> None:\n",
    "        print(\"AbstractClass says: But I am doing the bulk of the work anyway\")\n",
    "\n",
    "    @abstractmethod\n",
    "    def required_operations1(self) -> None:\n",
    "        pass\n",
    "\n",
    "    @abstractmethod\n",
    "    def required_operations2(self) -> None:\n",
    "        pass\n",
    "\n",
    "    def hook1(self) -> None:\n",
    "        pass\n",
    "\n",
    "    def hook2(self) -> None:\n",
    "        pass\n",
    "\n",
    "class ConcreteClass1(AbstractClass):\n",
    "    def required_operations1(self) -> None:\n",
    "        print(\"ConcreteClass1 says: Implemented Operation1\")\n",
    "\n",
    "    def required_operations2(self) -> None:\n",
    "        print(\"ConcreteClass1 says: Implemented Operation2\")\n",
    "\n",
    "\n",
    "class ConcreteClass2(AbstractClass):\n",
    "    def required_operations1(self) -> None:\n",
    "        print(\"ConcreteClass2 says: Implemented Operation1\")\n",
    "\n",
    "    def required_operations2(self) -> None:\n",
    "        print(\"ConcreteClass2 says: Implemented Operation2\")\n",
    "\n",
    "    def hook1(self) -> None:\n",
    "        print(\"ConcreteClass2 says: Overridden Hook1\")\n",
    "\n",
    "\n",
    "def client_code(abstract_class: AbstractClass) -> None:\n",
    "    abstract_class.template_method()\n",
    "\n",
    "print(\"Same client code can work with different subclasses:\")\n",
    "client_code(ConcreteClass1())\n",
    "print(\"\")\n",
    "\n",
    "print(\"Same client code can work with different subclasses:\")\n",
    "client_code(ConcreteClass2())"
   ]
  },
  {
   "cell_type": "markdown",
   "metadata": {},
   "source": [
    "### Discussion"
   ]
  },
  {
   "cell_type": "markdown",
   "metadata": {},
   "source": [
    "- `Factory Method` is a specialization of Template Method. At the same time, a Factory Method may serve as a step in a large Template Method.\n",
    "\n",
    "- It is kind of similar to `Strategy`, but `Template Method` is based on inheritance rather than composition\n",
    "    - Also, template method only lets you override specific parts of the original method, while strategy lets you overhaul the entire method"
   ]
  },
  {
   "cell_type": "markdown",
   "metadata": {},
   "source": [
    "### Pros and Cons"
   ]
  },
  {
   "cell_type": "markdown",
   "metadata": {},
   "source": [
    "- Pros\n",
    "    - You can let clients override only certain parts of a large algorithm, making them less affected by changes that happen to other parts of the algorithm.\n",
    "    - You can pull the duplicate code into a superclass.\n",
    "\n",
    "- Cons\n",
    "    - Some clients may be limited by the provided skeleton of an algorithm.\n",
    "    - You might violate the Liskov Substitution Principle by suppressing a default step implementation via a subclass.\n",
    "    - Template methods tend to be harder to maintain the more steps they have."
   ]
  },
  {
   "cell_type": "markdown",
   "metadata": {},
   "source": [
    "### Use Cases"
   ]
  },
  {
   "cell_type": "markdown",
   "metadata": {},
   "source": [
    "- Use the Template Method pattern when you want to let clients extend only particular steps of an algorithm, but not the whole algorithm or its structure.\n",
    "\n",
    "- Use the pattern when you have several classes that contain almost identical algorithms with some minor differences. As a result, you might need to modify all classes when the algorithm changes."
   ]
  },
  {
   "cell_type": "markdown",
   "metadata": {},
   "source": [
    "## 10. Visitor"
   ]
  },
  {
   "cell_type": "markdown",
   "metadata": {},
   "source": [
    "### Big Picture"
   ]
  },
  {
   "cell_type": "markdown",
   "metadata": {},
   "source": [
    "- Suppose you have a class that you want to extend with some functionality, but you cannot\n",
    "- The `Visitor` pattern lets you define a visitor class, which will be invoked by the class itself to do some operation\n",
    "\n",
    "- There are 2 elements:\n",
    "    - `Component`: The object that will `accept` a visitor, and once accepted, will ask the visitor to do something\n",
    "    - `Visitor`: The object that will `accept`-ed by a component, and once accepted, will be asked by the component to do something\n",
    "    - The implementation of the thing to do will be decided by the component"
   ]
  },
  {
   "cell_type": "markdown",
   "metadata": {},
   "source": [
    "### Example"
   ]
  },
  {
   "cell_type": "code",
   "execution_count": 22,
   "metadata": {},
   "outputs": [
    {
     "name": "stdout",
     "output_type": "stream",
     "text": [
      "The client code works with all visitors via the base Visitor interface:\n",
      "A + ConcreteVisitor1\n",
      "B + ConcreteVisitor1\n",
      "It allows the same client code to work with different types of visitors:\n",
      "A + ConcreteVisitor2\n",
      "B + ConcreteVisitor2\n"
     ]
    }
   ],
   "source": [
    "from abc import ABC, abstractmethod\n",
    "from typing import List\n",
    "\n",
    "class Component(ABC):\n",
    "    @abstractmethod\n",
    "    def accept(self, visitor: 'Visitor') -> None:\n",
    "        pass\n",
    "\n",
    "class ConcreteComponentA(Component):\n",
    "\n",
    "    def accept(self, visitor: 'Visitor') -> None:\n",
    "        visitor.visit_concrete_component_a(self)\n",
    "\n",
    "    def exclusive_method_of_concrete_component_a(self) -> str:\n",
    "        return \"A\"\n",
    "\n",
    "\n",
    "class ConcreteComponentB(Component):\n",
    "    def accept(self, visitor: 'Visitor'):\n",
    "        visitor.visit_concrete_component_b(self)\n",
    "\n",
    "    def special_method_of_concrete_component_b(self) -> str:\n",
    "        return \"B\"\n",
    "\n",
    "class Visitor(ABC):\n",
    "\n",
    "    @abstractmethod\n",
    "    def visit_concrete_component_a(self, element: ConcreteComponentA) -> None:\n",
    "        pass\n",
    "\n",
    "    @abstractmethod\n",
    "    def visit_concrete_component_b(self, element: ConcreteComponentB) -> None:\n",
    "        pass\n",
    "\n",
    "class ConcreteVisitor1(Visitor):\n",
    "    def visit_concrete_component_a(self, element: ConcreteComponentA) -> None:\n",
    "        print(f\"{element.exclusive_method_of_concrete_component_a()} + ConcreteVisitor1\")\n",
    "\n",
    "    def visit_concrete_component_b(self, element: ConcreteComponentB) -> None:\n",
    "        print(f\"{element.special_method_of_concrete_component_b()} + ConcreteVisitor1\")\n",
    "\n",
    "\n",
    "class ConcreteVisitor2(Visitor):\n",
    "    def visit_concrete_component_a(self, element: ConcreteComponentA) -> None:\n",
    "        print(f\"{element.exclusive_method_of_concrete_component_a()} + ConcreteVisitor2\")\n",
    "\n",
    "    def visit_concrete_component_b(self, element: ConcreteComponentB) -> None:\n",
    "        print(f\"{element.special_method_of_concrete_component_b()} + ConcreteVisitor2\")\n",
    "\n",
    "\n",
    "def client_code(components: List[Component], visitor: Visitor) -> None:\n",
    "    for component in components:\n",
    "        component.accept(visitor)\n",
    "\n",
    "components = [ConcreteComponentA(), ConcreteComponentB()]\n",
    "\n",
    "print(\"The client code works with all visitors via the base Visitor interface:\")\n",
    "visitor1 = ConcreteVisitor1()\n",
    "client_code(components, visitor1)\n",
    "\n",
    "print(\"It allows the same client code to work with different types of visitors:\")\n",
    "visitor2 = ConcreteVisitor2()\n",
    "client_code(components, visitor2)"
   ]
  },
  {
   "cell_type": "markdown",
   "metadata": {},
   "source": [
    "### Discussion"
   ]
  },
  {
   "cell_type": "markdown",
   "metadata": {},
   "source": [
    "- Somewhat similar to `Command`, because the object can execute operation over many classes\n",
    "\n",
    "- The point of having this is because some languages don't support overloading of operators, else you could just call the visitor's \"do something\" method with the appropriate object and have it do the relevnat job\n",
    "\n",
    "- But even if you can overload operators, it may not always work!\n",
    "    - https://refactoring.guru/design-patterns/visitor-double-dispatch"
   ]
  },
  {
   "cell_type": "markdown",
   "metadata": {},
   "source": [
    "### Pros and Cons"
   ]
  },
  {
   "cell_type": "markdown",
   "metadata": {},
   "source": [
    "- Pros\n",
    "    - Open/Closed Principle. You can introduce a new behavior that can work with objects of different classes without changing these classes.\n",
    "    - Single Responsibility Principle. You can move multiple versions of the same behavior into the same class.\n",
    "    - A visitor object can accumulate some useful information while working with various objects. This might be handy when you want to traverse some complex object structure, such as an object tree, and apply the visitor to each object of this structure.\n",
    "\n",
    "- Cons\n",
    "    - You need to update all visitors each time a class gets added to or removed from the element hierarchy.\n",
    "    - Visitors might lack the necessary access to the private fields and methods of the elements that they’re supposed to work with."
   ]
  },
  {
   "cell_type": "markdown",
   "metadata": {},
   "source": [
    "### Use Cases"
   ]
  },
  {
   "cell_type": "markdown",
   "metadata": {},
   "source": [
    "- Use the Visitor when you need to perform an operation on all elements of a complex object structure (for example, an object tree).\n",
    "\n",
    "- Use the Visitor to clean up the business logic of auxiliary behaviors.\n",
    "\n",
    "- Use the pattern when a behavior makes sense only in some classes of a class hierarchy, but not in others."
   ]
  }
 ],
 "metadata": {
  "kernelspec": {
   "display_name": "dsa_prep",
   "language": "python",
   "name": "python3"
  },
  "language_info": {
   "codemirror_mode": {
    "name": "ipython",
    "version": 3
   },
   "file_extension": ".py",
   "mimetype": "text/x-python",
   "name": "python",
   "nbconvert_exporter": "python",
   "pygments_lexer": "ipython3",
   "version": "3.10.13"
  }
 },
 "nbformat": 4,
 "nbformat_minor": 2
}

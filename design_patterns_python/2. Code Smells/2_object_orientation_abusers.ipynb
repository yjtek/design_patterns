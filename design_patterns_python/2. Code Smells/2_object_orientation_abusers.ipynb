{
 "cells": [
  {
   "cell_type": "markdown",
   "metadata": {},
   "source": [
    "# Object-Orientation Abusers"
   ]
  },
  {
   "cell_type": "markdown",
   "metadata": {},
   "source": [
    "## 1. Switch Statements"
   ]
  },
  {
   "cell_type": "markdown",
   "metadata": {},
   "source": [
    "- Signs/Symptoms\n",
    "    - You have a complex `switch` operator or sequence of `if` statements\n",
    "\n",
    "- Causes\n",
    "    - Improper OOP usage\n",
    "    - Ideally, every `switch` statement should be a polymorphic object\n",
    "\n",
    "- Treatment\n",
    "    - If it's a long switch statement causing you grief, try `Extract Method` and then `Move Method` to a more proper location\n",
    "    - If switch statement runs different behaviour based on type, try using subclasses `Replace Type Code with Subclasses` or a state object `Replace Type Code with State/Strategy` instead\n",
    "    - After using subclasses, use polymorphism instead `Replace Conditional with Polymorphism`\n",
    "    - If subclasses are overall, try separating the behaviour into different methods instead `Replace Parameter with Explicit Methods`. \n",
    "        - e.g. printLowerCase/printUpperCase instead of if 'lower': ... else: ...\n",
    "    - If there are many checks for `null`, introduce a null object instead `Introduce Null Object`\n"
   ]
  },
  {
   "cell_type": "markdown",
   "metadata": {},
   "source": [
    "# Object Orientation Abusers"
   ]
  },
  {
   "cell_type": "markdown",
   "metadata": {},
   "source": [
    "- These will feature incomplete/incorrect applications of OOP principles"
   ]
  },
  {
   "cell_type": "markdown",
   "metadata": {},
   "source": [
    "## 1. Switch Statements"
   ]
  },
  {
   "cell_type": "markdown",
   "metadata": {},
   "source": [
    "- Sign/Symptoms\n",
    "    - You have a very complex `switch` statement, or sequence of `if`s\n",
    "\n",
    "- Cause\n",
    "    - Actually, one of the big benefits of OOP is that you don't need `switch` and `if`. So if you see this happening, always suspect that you can probably create a new class of objects (polymorphism)\n",
    "\n",
    "- Treatment\n",
    "    - You can try to single out the switch statement and put it in to the right class or method. `Extract Method` and `Move Method`\n",
    "    - If `switch` is based on type, then replace functionality with subclasses `Replace Type Code with Subclass`, or allow it to accept a state if subclassees cannot be created `Replace Type Code with State`\n",
    "    - Use polymorphism (same idea as subclassing)\n",
    "    - If there aren't too many conditions, and they are calling the same method with different parameters, you may not even need polymorphism. Just write different methods and call them accordingly\n",
    "    - If one of the conditions is `if X is None:`, you can consider creating a Null object specifically, so you can remove the `if` statement "
   ]
  },
  {
   "cell_type": "markdown",
   "metadata": {},
   "source": [
    "## 2. Temporary Field"
   ]
  },
  {
   "cell_type": "markdown",
   "metadata": {},
   "source": [
    "- Signs/Symptoms\n",
    "    - You have some fields that receive values only in some cases, but for the most part they are empty\n",
    "\n",
    "- Causes\n",
    "    - Usually, these fields happen when you have some algorithm that need a large amount of inputs. And instead of adding it as method parameters, the programmer create fields for data in the class  \n",
    "\n",
    "- Treatment\n",
    "    - Try to put all these fields and the code operating on them into a class of its own if possible. `Replace Method with Method Object`\n",
    "    - Add a null object and integrate it in place of the conditional code used to check whether these fields exist"
   ]
  },
  {
   "cell_type": "markdown",
   "metadata": {},
   "source": [
    "## 3. Refused Bequest"
   ]
  },
  {
   "cell_type": "markdown",
   "metadata": {},
   "source": [
    "- Signs/Symptoms\n",
    "    - Subclass doesn't use all the methods and properties inherited from parents\n",
    "\n",
    "- Reasons\n",
    "    - You wanted to create inheritance ONLY for the purpose of reusing code, but there isn't actually any link between superclass and subclass\n",
    "        - e.g. class Animal with abstract method `count_legs()`. `Chair` inherits from `Animal` just to use the `count_legs()` method\n",
    "\n",
    "- Treatment\n",
    "    - If inheritance structure is not logical, try to replace inheritance with delegation instead `Replace Inheritance with Delegation`\n",
    "        - In the above example, put `Animal` as a field in `Chair`, and call `Animal.count_legs()` in `Chair`'s count_legs() method\n",
    "    - Or better still, create a new class and review your inheritance structure"
   ]
  },
  {
   "cell_type": "markdown",
   "metadata": {},
   "source": [
    "## 4. Alternative Classes with Different Interfaces"
   ]
  },
  {
   "cell_type": "markdown",
   "metadata": {},
   "source": [
    "- Signs/Symptoms\n",
    "    - You have two classes that perform identical functions, but have different method names\n",
    "\n",
    "- Cause\n",
    "    - Probably the person who wrote it doesn't know a class already exists for this purpose\n",
    "\n",
    "- Treatment\n",
    "    - Try to put an interface to classes in terms of their common denominator\n",
    "        - For example, `S3Writer` and `HiveWriter` can have a common `Writer` interface \n",
    "    - `Rename Method`s to make them identical across all classes\n",
    "    - `Move Method`, `Add parameter`, or `Parameterize Method` to ensure signature and implementation of methods are the same\n",
    "    - If only a past of the functionality is duplicated, try to extract the common stuff into a superclass `Extract Superclass`, and leave the unique stuff in respective subclasses\n",
    "    - Simply delete one class if it is not needed"
   ]
  }
 ],
 "metadata": {
  "language_info": {
   "name": "python"
  }
 },
 "nbformat": 4,
 "nbformat_minor": 2
}

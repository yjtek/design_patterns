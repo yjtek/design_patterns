{
 "cells": [
  {
   "cell_type": "markdown",
   "metadata": {},
   "source": [
    "# Dispensables"
   ]
  },
  {
   "cell_type": "markdown",
   "metadata": {},
   "source": [
    "- Sometimes, you end up with stuff in the code that is pointless and takes up unnecessary space, and deleting the whole thing may make everything clearer"
   ]
  },
  {
   "cell_type": "markdown",
   "metadata": {},
   "source": [
    "## 1. Comments"
   ]
  },
  {
   "cell_type": "markdown",
   "metadata": {},
   "source": [
    "- Signs/Symptoms\n",
    "    - A method has too many explanatory comments\n",
    "\n",
    "- Causes\n",
    "    - This is likely a sign that the method is badly written and/or doing too much, and the comments only serve to disguise this\n",
    "    - Remember, the best comment is a good name for a method or class\n",
    "\n",
    "- Treatment\n",
    "    - If the comment is explaining a complex expression, the expression should be split into understandable subexpressions using `Extract Variable`\n",
    "    - If the comment explains a section of code, consider extracting this into a separate method with an appropriate name `Extract Method` \n",
    "    - If a method is extracted, but comments are still needed, `Rename Method`\n",
    "    - If comments are to inform people to only use the method under specific circumstances, `Introduce Assertion` instead\n",
    "\n",
    "- Additional notes\n",
    "    - Remember, comments are useful in explaining the **WHY** behind code, not the **HOW**\n",
    "    - Or if the algorithm used is somehow so complex that you need to step through it with someone new"
   ]
  },
  {
   "cell_type": "markdown",
   "metadata": {},
   "source": [
    "## 2. Duplicate code"
   ]
  },
  {
   "cell_type": "markdown",
   "metadata": {},
   "source": [
    "- Signs/Symptoms\n",
    "    - Identical code segments\n",
    "\n",
    "- Causes\n",
    "    - Multiple people working on different parts of the same project\n",
    "    - Copy pasting \n",
    "\n",
    "- Treatment\n",
    "    - If you have duplicate code in different methods of the same class, abstract it as a method `Extract Method`\n",
    "    - If you have duplicate code in different subclasses of the same level\n",
    "        - `Extract method`, and put the field into the superclass `Pull Up Field`\n",
    "        - If duplicate code is in the subclass constructor, put it into the superclass constructor `Pull Up Constructor Body`\n",
    "        - If duplicate code is similar but not identical, put a common method in the superclass, and implement submethods in the specific subclasses `Form Template Method`\n",
    "        - If two methods do the same thing with different algorithms, select the best one and substitute it, then delete the useless one `Substitute Algorithm`\n",
    "    - If you have duplicate code in different classes\n",
    "        - If classes aren't part of a hierachy, consider creating a superclass and move the duplicate code into it. `Extract Superclass`\n",
    "        - If superclass doesn't make sense, create another class and let it handle the duplicated responsibility\n",
    "    - If you have a huge number of conditional expressions that lead to the same outcome, merge it into a single check `Consolidate Conditional Expression`, and `Extract Method`\n",
    "    - If the same code is performed on all branches of a conditional expression, remove it from the conditional and put it outside the condition tree `Consolidate Duplicate Conditional Fragments`\n",
    "    "
   ]
  },
  {
   "cell_type": "markdown",
   "metadata": {},
   "source": [
    "## 3. Lazy Class"
   ]
  },
  {
   "cell_type": "markdown",
   "metadata": {},
   "source": [
    "- Signs/Symptoms\n",
    "    - If the class is barely doing any work, it should be deleted\n",
    "\n",
    "- Causes\n",
    "    - Maybe it was planned to be expanded, but after refactoring it has become useless\n",
    "    - Or it was planned to support some future development, which never got done\n",
    "\n",
    "- Treatment\n",
    "    - Near-useless classes should just be moved into an inline method `Inline Class`\n",
    "    - If a subclass is practically the same as its superclass, just...use the superclass `Collapse Hierachy`"
   ]
  },
  {
   "cell_type": "markdown",
   "metadata": {},
   "source": [
    "## 4. Data Class"
   ]
  },
  {
   "cell_type": "markdown",
   "metadata": {},
   "source": [
    "- Signs/Symptoms\n",
    "    - A data class is a class that contains only fields, getters, and setters\n",
    "    - It doesn't do anything else to the data it holds. Literally just a container\n",
    "\n",
    "- Causes\n",
    "    - It can make sense to have these, but generally you don't want too many floating around if it isn't needed\n",
    "\n",
    "- Treatment\n",
    "    - If a class contains public fields, encapsulate them `Encapsulate Field` to avoid direct access and require that they can only be accessed via getters and setters\n",
    "    - If a class contains mutable fields, ensure that all mutations happen only via getters and setters\n",
    "    - Check if client code contains methods that can belong to these data classes, then `Move Method` and/or `Extract Method`\n",
    "    - Ensure that no setter accessible except through your defined methods `Remove Setting Method`\n",
    "    - Ensure that methods to modify fields are hidden (either private, or protected) `Hide Method`"
   ]
  },
  {
   "cell_type": "markdown",
   "metadata": {},
   "source": [
    "## 5. Dead Code"
   ]
  },
  {
   "cell_type": "markdown",
   "metadata": {},
   "source": [
    "- Signs/Symptoms\n",
    "    - Variable/Parameter/Field/Method/Class is no longer used, because it's obsolete\n",
    "\n",
    "- Reasons\n",
    "    - Refactoring can cause many old code to be redundant\n",
    "    - Or when things change, and some branches on a conditional becomes unreachable\n",
    "\n",
    "- Treatment\n",
    "    - Generally, your IDE handles such problems gracefully\n",
    "    - Try to `Inline Class` or `Collapse Hierachy` yourself as needed"
   ]
  },
  {
   "cell_type": "markdown",
   "metadata": {},
   "source": [
    "## 6. Speculative Generality"
   ]
  },
  {
   "cell_type": "markdown",
   "metadata": {},
   "source": [
    "- Signs/Symptoms\n",
    "    - Unused class/method/field/parameter that was created for \"future proofing\"\n",
    "\n",
    "- Reasons\n",
    "    - Generally, stuff can be created \"just in case\" of anticipated future development\n",
    "\n",
    "- Treatment\n",
    "    - If subclasses are redundant, use superclass `Collapse Hierachy`\n",
    "    - If delegation of functionality is unnecessary, `Inline class`\n",
    "    - If methods are overly specific, just put the method logic directly `Inline method` \n",
    "    - If parameters/fields are not used, remove them `Remove parameter` "
   ]
  }
 ],
 "metadata": {
  "language_info": {
   "name": "python"
  }
 },
 "nbformat": 4,
 "nbformat_minor": 2
}

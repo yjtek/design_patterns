{
 "cells": [
  {
   "cell_type": "markdown",
   "metadata": {},
   "source": [
    "# Bloaters"
   ]
  },
  {
   "cell_type": "markdown",
   "metadata": {},
   "source": [
    "## 1. Long Method"
   ]
  },
  {
   "cell_type": "markdown",
   "metadata": {},
   "source": [
    "- Cause\n",
    "    - As a rule of thumb, if your method exceeds 10 lines, you have a problem\n",
    "    - Mentally, it is always easier to add lines than take them out\n",
    "\n",
    "- Treatment\n",
    "    - If your method is more than 10 lines, consider refactor\n",
    "    - If you need to comment your code for people to understand it, consider refactor\n",
    "    - Possible strategies\n",
    "        - Reduce length of method body: `Extract Method`\n",
    "        - If local variables/parameters are adding bloat, try `Replace Temp with Query`, `Introduce Parameter Object` or `Preserve Whole Object`\n",
    "        - If long conditionals are adding bloat, try `Decompose Conditionals`\n",
    "        - Else, try moving entire method as separate object `Replace Method with Method Object`\n",
    "\n",
    "- Payoff\n",
    "    - Shorter methods means better maintainability\n",
    "    - And offers less places for bugs to hide\n",
    "\n",
    "- Performance\n",
    "    - Usually, there is no performance benefit, but there is a readability benefit"
   ]
  },
  {
   "cell_type": "markdown",
   "metadata": {},
   "source": [
    "## 2. Large class"
   ]
  },
  {
   "cell_type": "markdown",
   "metadata": {},
   "source": [
    "- Cause\n",
    "    - Easier to create a new feature within a class, than to abstract and reorganise your code base\n",
    "\n",
    "- Treatment\n",
    "    - If behaviour can be spun off into a single component, `Extract class`\n",
    "    - If part of the behaviour can be implemented in different ways, or is rarely used, then `Extract subclass`\n",
    "    - If you have a lot of boilerplate defining things that must be implemented/present, `Extract interface`\n",
    "    - If the class is large because it handles multiple purposes (i.e. it spans multiple domains), you should try to separate the class into 2 domains and `Duplicate Observed Data` to ensure the behaviour is consistent\n",
    "        - For example, suppose we have a class that handles the processing of some data and presenting it in some UI\n",
    "        - It may seem ideal to handle it all in a single class, but it could be cleaner if you separate into 2 classes where one specialises in the display, and the other in the processing\n",
    "\n",
    "- Payoff\n",
    "    - Don't have to sift through multiple class methods and attributes to understand it\n",
    "    - Avoids duplication of code and functionality"
   ]
  },
  {
   "cell_type": "markdown",
   "metadata": {},
   "source": [
    "## 3. Primitive Obsession"
   ]
  },
  {
   "cell_type": "markdown",
   "metadata": {},
   "source": [
    "- Signs/Symptoms\n",
    "    - You use primitives for stuff that is better handled by other types\n",
    "    - Use constants to encode information (e.g. 1 for ADMIN and 2 for GUEST)\n",
    "    - Storing string constants as field names to be re-used\n",
    "\n",
    "- Cause\n",
    "    - You are looking for an easy way to define stuff, rather than making a more precise object\n",
    "\n",
    "- Treatment\n",
    "    - If you have too many constants, best to group them into an object `Replace Data Value with Object`. Python's dataclasses are designed for this purpose\n",
    "    - If you have a bunch of things to pass into method parameters, consider either combining some into a single object `Introduce Parameter Object` or just pass 1 object containing all parameters `Preserve Whole Object`\n",
    "    - Sometimes, you have data coded inside a class or method, which can be separated out into a class `Replace Type Code with Class`, subclass `Replace Type Code with Subclasses`, or create a new object type and pass it in instead\n",
    "\n",
    "- Payoff\n",
    "    - More flexible code thanks to lack of primitives\n",
    "    - Better organisation and readability\n",
    "\n",
    "\n",
    "\n"
   ]
  },
  {
   "cell_type": "markdown",
   "metadata": {},
   "source": [
    "## 4. Long parameter list"
   ]
  },
  {
   "cell_type": "markdown",
   "metadata": {},
   "source": [
    "- Signs/Symptoms\n",
    "    - If you have more than 3/4 parameters in a method, you have a problem\n",
    "\n",
    "- Cause\n",
    "    - Maybe you tried to merge a few methods together, or you tried to abstract our stuff as separate classes, leading to a need to pass many objects around\n",
    "\n",
    "- Treatment\n",
    "    - If you need to query stuff to get parameters to pass into a method, try querying within the method directly `Replace Parameter with Method Call`\n",
    "    - If you get parameters from an object, consider passing object into the method instead `Preserve Whole Object`\n",
    "    - Or introcuce an object holding all parameters if logical `Introduce Parameter Object`"
   ]
  },
  {
   "cell_type": "markdown",
   "metadata": {},
   "source": [
    "## 5. Data Clumps"
   ]
  },
  {
   "cell_type": "markdown",
   "metadata": {},
   "source": [
    "- Signs/Symptoms\n",
    "    - Sometimes, different parts of the code contain the same variables (e.g. set up code for connecting to database)\n",
    "    - Ideally, this should be abstracted and turned into its own class\n",
    "\n",
    "- Causes\n",
    "    - Copypasta programming\n",
    "\n",
    "- Treatment\n",
    "    - If possible, group fields as a class `Extract Class`, or an object `Introduce Parameter Object`\n",
    "    - Pass objects instead of individual parameters `Preserve Whole Object`"
   ]
  },
  {
   "cell_type": "markdown",
   "metadata": {},
   "source": [
    "    "
   ]
  }
 ],
 "metadata": {
  "language_info": {
   "name": "python"
  }
 },
 "nbformat": 4,
 "nbformat_minor": 2
}

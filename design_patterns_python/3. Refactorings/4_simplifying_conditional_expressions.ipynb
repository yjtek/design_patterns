{
 "cells": [
  {
   "cell_type": "markdown",
   "metadata": {},
   "source": [
    "# Simplifying Conditional Expressions"
   ]
  },
  {
   "cell_type": "markdown",
   "metadata": {},
   "source": [
    "- Conditionals tend to get more and more complicated in their logic over time, especially when you add more and more cases\n",
    "\n",
    "- These techniques focus on reducing the complexity from long conditionals"
   ]
  },
  {
   "cell_type": "markdown",
   "metadata": {},
   "source": [
    "## 1. Decompose Conditional"
   ]
  },
  {
   "cell_type": "markdown",
   "metadata": {},
   "source": [
    "- Problem\n",
    "    - You have some complicated logic inside a conditional\n",
    "\n",
    "- Solution\n",
    "    - Move the logic into a method\n",
    "\n",
    "- Motivation\n",
    "    - Ease of reading and cleaner code\n",
    "\n",
    "- How to refactor\n",
    "    - Move the conditional logic into a boolean method\n",
    "\n",
    "- Related code smells\n",
    "    - Long Method\n",
    "\n",
    "- Example:"
   ]
  },
  {
   "cell_type": "code",
   "execution_count": 8,
   "metadata": {},
   "outputs": [
    {
     "name": "stdout",
     "output_type": "stream",
     "text": [
      "date is valid\n",
      "date is valid\n"
     ]
    }
   ],
   "source": [
    "from datetime import datetime\n",
    "\n",
    "date = datetime.strptime('2024-12-15', '%Y-%m-%d')\n",
    "## Bad flow\n",
    "if (date.month == 12) and (date.year >= 2023):\n",
    "    print('date is valid')\n",
    "\n",
    "\n",
    "def check_if_date_valid(date):\n",
    "    return (date.month == 12) and (date.year >= 2023)\n",
    "## Good flow\n",
    "if check_if_date_valid(date):\n",
    "    print('date is valid')\n"
   ]
  },
  {
   "cell_type": "markdown",
   "metadata": {},
   "source": [
    "## 2. Consolidate Conditional Expression"
   ]
  },
  {
   "cell_type": "markdown",
   "metadata": {},
   "source": [
    "- Problem\n",
    "    - You have multiple conditionals that lead to the same result or action.\n",
    "\n",
    "- Solution\n",
    "    - Consolidate all these conditionals in a single expression.\n",
    "\n",
    "- Motivation\n",
    "    - If multiple paths lead to the same outcome, it is much clearer and logical to group them together by outcome, than to handle many logical flows together in a single if-else statement on the fly\n",
    "\n",
    "- How to refactor\n",
    "    - Make a new method to handle the logic, and name it appropriately\n",
    "\n",
    "- Related code smells\n",
    "    - Duplicate Code\n",
    "\n",
    "- Example:"
   ]
  },
  {
   "cell_type": "code",
   "execution_count": null,
   "metadata": {},
   "outputs": [],
   "source": [
    "from collections import namedtuple\n",
    "\n",
    "person = namedtuple('person', ['age', 'income', 'gender'])\n",
    "\n",
    "## Bad/Unclear flow\n",
    "def bad__get_loan_limit(person):\n",
    "    if person.age >= 70:\n",
    "        return 0\n",
    "    elif person.income <= 1000:\n",
    "        return 0\n",
    "    elif person.gender == 'm':\n",
    "        return 0\n",
    "    return 100\n",
    "\n",
    "## Better\n",
    "def is_eligible_for_loan(person):\n",
    "    if person.age >= 70:\n",
    "        return False\n",
    "    elif person.income <= 1000:\n",
    "        return False\n",
    "    elif person.gender == 'm':\n",
    "        return False\n",
    "    return True\n",
    "\n",
    "def good__get_loan_limit(person):\n",
    "    if is_eligible_for_loan(person):\n",
    "        return 100\n",
    "    return 0"
   ]
  },
  {
   "cell_type": "markdown",
   "metadata": {},
   "source": [
    "## 3. Consolidate Duplicate Conditional Fragments"
   ]
  },
  {
   "cell_type": "markdown",
   "metadata": {},
   "source": [
    "- Problem\n",
    "    - You have repeated code in every part of your if...else\n",
    "\n",
    "- Solution\n",
    "    - Move the repeated part out of the conditional\n",
    "\n",
    "- Motivation\n",
    "    - Reduce duplication, and if things change, you don't need to change it in 100 different places\n",
    "\n",
    "- How to refactor\n",
    "    - Move it before/after the conditional block\n",
    "\n",
    "- Related code smells\n",
    "    - Duplicate Code\n",
    "\n",
    "- Example:"
   ]
  },
  {
   "cell_type": "code",
   "execution_count": 9,
   "metadata": {},
   "outputs": [],
   "source": [
    "import random\n",
    "def is_discounted():\n",
    "    val = random.randint(1,10)\n",
    "    if val > 5:\n",
    "        return True\n",
    "    return False\n",
    "\n",
    "def get_price(base, mult):\n",
    "    return base * mult\n",
    "\n",
    "## Bad flow, repeated definition of mult. Move out of conditional block\n",
    "if is_discounted():\n",
    "    mult = 0.8 \n",
    "    price = get_price(10, mult)\n",
    "else:\n",
    "    mult = 1.0\n",
    "    price = get_price(10, mult)\n",
    "\n",
    "## Good flow\n",
    "mult=1.0\n",
    "if is_discounted():\n",
    "    mult = 0.8     \n",
    "price = get_price(10, mult)\n"
   ]
  },
  {
   "cell_type": "markdown",
   "metadata": {},
   "source": [
    "## 4. Remove Control Flag"
   ]
  },
  {
   "cell_type": "markdown",
   "metadata": {},
   "source": [
    "- Problem\n",
    "    - You have a boolean variable that acts as a control flag for multiple boolean expressions.\n",
    "    - This is kind of a legacy pattern, from an era where stuff like `break`, `continue`, and `return` didn't exist\n",
    "\n",
    "- Solution\n",
    "    - Use control flow expressions\n",
    "\n",
    "- Motivation\n",
    "    - Don't define a flag for no reason, use the built in stuff\n"
   ]
  },
  {
   "cell_type": "markdown",
   "metadata": {},
   "source": [
    "## 5. Replace Nested Conditional with Guard Clauses"
   ]
  },
  {
   "cell_type": "markdown",
   "metadata": {},
   "source": [
    "- Problem\n",
    "    - You have conditionals that are nested into each other\n",
    "    - That is, an if leads to another if, which leads to an if..else etc.\n",
    "\n",
    "- Solution\n",
    "    - Most of the time, complex flows can be replaced by simple if statements right at the top of your code. \n",
    "    - In this manner, if the conditions are not met, the code isn't run at all\n",
    "\n",
    "- Motivation\n",
    "    - Complex flows are inefficient. Remember, an if...else pattern stops executing the moment you fail a clause\n",
    "    - So nested checks are far more inefficient, because you execute multiple checks instead of stopping at the first failure\n",
    "\n",
    "- How to refactor\n",
    "    - Pull any nested if clause further up the code, making sure that checks fail early\n",
    "\n",
    "- Example:"
   ]
  },
  {
   "cell_type": "code",
   "execution_count": 10,
   "metadata": {},
   "outputs": [],
   "source": [
    "def bad__loan_repayment_due(person):\n",
    "    if person.is_dead():\n",
    "        return 0\n",
    "    else:\n",
    "        if person.is_divorced():\n",
    "            return 100\n",
    "        elif person.is_retired():\n",
    "            return 100\n",
    "        elif person.is_not_working():\n",
    "            return 200\n",
    "\n",
    "def good__loan_repayment_due(person):\n",
    "    ## No unnecessary nesting\n",
    "    if person.is_dead():\n",
    "        return 0\n",
    "    if person.is_divorced():\n",
    "        return 100\n",
    "    if person.is_retired():\n",
    "        return 100\n",
    "    if person.is_not_working():\n",
    "        return 200\n",
    "    "
   ]
  },
  {
   "cell_type": "markdown",
   "metadata": {},
   "source": [
    "## 6. Replace Conditional with Polymorphism"
   ]
  },
  {
   "cell_type": "markdown",
   "metadata": {},
   "source": [
    "- Problem\n",
    "    - You have a conditional that dictates the behaviour of your class\n",
    "\n",
    "- Solution\n",
    "    - Swap to subclassing instead, let polymorphism handle the right behaviour\n",
    "\n",
    "- Motivation\n",
    "    - \"tell, don't ask\"\n",
    "    - Let the object tell you its state, rather than you asking it about its state\n",
    "\n",
    "- How to refactor\n",
    "    - See `Replace Type Code with Subclasses` and `Replace Type Code with State/Strategy`\n",
    "\n",
    "- Relationships with other refactoring methods\n",
    "    - Similar\n",
    "        - Replace Type Code with Subclasses\n",
    "        - Replace Type Code with State/Strategy\n",
    "\n",
    "- Related code smells\n",
    "    - Switch Statements\n",
    "\n",
    "- Example:"
   ]
  },
  {
   "cell_type": "markdown",
   "metadata": {},
   "source": [
    "## 7. Introduce Null Object"
   ]
  },
  {
   "cell_type": "markdown",
   "metadata": {},
   "source": [
    "- Problem\n",
    "    - In a class, all your methods have this guard clause `if parameter is None: ...`\n",
    "\n",
    "- Solution\n",
    "    - This suggests that there are occasions where the parameter will not have a value. \n",
    "    - Rather than leave it this way, create an object that represents a Null input to the parameter\n",
    "\n",
    "- Motivation\n",
    "    - It looks terrible to keep repeating what you want your code to do if it gets a null input\n",
    "\n",
    "- How to refactor\n",
    "    - Make a new class called \"NullClass\" e.g. NullPerson\n",
    "\n",
    "- Relationships with other refactoring methods\n",
    "    - Similar\n",
    "        - Replace Conditional with Polymorphism\n",
    "\n",
    "- Related Design Pattern\n",
    "    - Null-object\n",
    "\n",
    "- Related code smells\n",
    "    - Switch Statements\n",
    "    - Temporary Field\n",
    "\n",
    "- Example:"
   ]
  },
  {
   "cell_type": "code",
   "execution_count": 15,
   "metadata": {},
   "outputs": [
    {
     "data": {
      "text/plain": [
       "123"
      ]
     },
     "execution_count": 15,
     "metadata": {},
     "output_type": "execute_result"
    }
   ],
   "source": [
    "class Customer():\n",
    "    def __init__(self):\n",
    "        self.bill = 123\n",
    "\n",
    "class NullCustomer(Customer):\n",
    "    def __init__(self):\n",
    "        self.bill = 0\n",
    "\n",
    "def bad__get_bill(customer):\n",
    "    if customer is None:\n",
    "        return 0\n",
    "    return customer.bill\n",
    "\n",
    "def good__get_bill(customer):\n",
    "    ## With the introduction of the NullCustomer object, your get bill is dealt with in a single line\n",
    "    return customer.bill\n",
    "\n",
    "customer1 = Customer()\n",
    "customer2 = Customer()\n",
    "customer3 = NullCustomer()\n",
    "\n",
    "bad__get_bill(customer2)\n",
    "good__get_bill(customer1)"
   ]
  },
  {
   "cell_type": "markdown",
   "metadata": {},
   "source": [
    "## 8. Introduce Assertion"
   ]
  },
  {
   "cell_type": "markdown",
   "metadata": {},
   "source": [
    "- Problem\n",
    "    - Your code will only work if a specific conditions are met\n",
    "\n",
    "- Solution\n",
    "    - Add assertions to ensure the conditions are met\n",
    "\n",
    "- Motivation\n",
    "    - Don't end up with errors in production\n",
    "    - Choose exception or assertion as needed\n",
    "    - Removes the need for commenting your code\n",
    "\n",
    "- Related code smells\n",
    "    - Comments\n",
    "\n",
    "- Example:"
   ]
  }
 ],
 "metadata": {
  "kernelspec": {
   "display_name": "dsa_prep",
   "language": "python",
   "name": "python3"
  },
  "language_info": {
   "codemirror_mode": {
    "name": "ipython",
    "version": 3
   },
   "file_extension": ".py",
   "mimetype": "text/x-python",
   "name": "python",
   "nbconvert_exporter": "python",
   "pygments_lexer": "ipython3",
   "version": "3.10.13"
  }
 },
 "nbformat": 4,
 "nbformat_minor": 2
}

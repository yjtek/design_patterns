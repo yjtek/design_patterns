{
 "cells": [
  {
   "cell_type": "markdown",
   "metadata": {},
   "source": [
    "# Composing Methods"
   ]
  },
  {
   "cell_type": "markdown",
   "metadata": {},
   "source": [
    "- Much of refactoring is related to correctly composing methods (i.e. putting stuff together)\n",
    "\n",
    "- In most cases, excessively long methods are what cause problems\n",
    "    - Their length conceal execution logic\n",
    "    - And makes it hard to debug when things go wrong"
   ]
  },
  {
   "cell_type": "markdown",
   "metadata": {},
   "source": [
    "- Problem\n",
    "    - You have a code fragment that can be grouped\n",
    "\n",
    "- Solution\n",
    "    - Group it in a method, and replace the original code with a method call\n",
    "\n",
    "- Motivation\n",
    "    - Minimise the number of lines in a method, which makes it easier to figure out what it does\n",
    "\n",
    "- How to refactor\n",
    "    - Make a new method and name it self-evidently\n",
    "    - Copy the code fragment to your new method, and delete the existing fragment, calling the new method instead\n",
    "\n",
    "- Relationships with other refactoring methods\n",
    "    - Opposite \n",
    "        - Inline Method\n",
    "    - Similar\n",
    "        - Move Method\n",
    "    - Related\n",
    "        - Introduce Parameter Object\n",
    "        - Form Template Method\n",
    "        - Parameterize Method\n",
    "\n",
    "- Related code smells\n",
    "    - Duplicate Code\n",
    "    - Long Method\n",
    "    - Feature Envy\n",
    "    - Switch Statements\n",
    "    - Message Chains\n",
    "    - Comments\n",
    "    - Data Class\n",
    "\n",
    "- Example:"
   ]
  },
  {
   "cell_type": "markdown",
   "metadata": {},
   "source": [
    "## 1. Extract Method"
   ]
  },
  {
   "cell_type": "markdown",
   "metadata": {},
   "source": [
    "- Problem\n",
    "    - You have a code fragment that can be grouped\n",
    "\n",
    "- Solution\n",
    "    - Group it in a method, and replace the original code with a method call\n",
    "\n",
    "- Motivation\n",
    "    - Minimise the number of lines in a method, which makes it easier to figure out what it does\n",
    "\n",
    "- How to refactor\n",
    "    - Make a new method and name it self-evidently\n",
    "    - Copy the code fragment to your new method, and delete the existing fragment, calling the new method instead\n",
    "\n",
    "- Relationships with other refactoring methods\n",
    "    - Opposite \n",
    "        - Inline Method\n",
    "    - Similar\n",
    "        - Move Method\n",
    "    - Related\n",
    "        - Introduce Parameter Object\n",
    "        - Form Template Method\n",
    "        - Parameterize Method\n",
    "\n",
    "- Related code smells\n",
    "    - Duplicate Code\n",
    "    - Long Method\n",
    "    - Feature Envy\n",
    "    - Switch Statements\n",
    "    - Message Chains\n",
    "    - Comments\n",
    "    - Data Class\n",
    "\n",
    "- Example:"
   ]
  },
  {
   "cell_type": "code",
   "execution_count": 2,
   "metadata": {},
   "outputs": [
    {
     "name": "stdout",
     "output_type": "stream",
     "text": [
      "testname\n",
      "123\n",
      "my_address\n"
     ]
    }
   ],
   "source": [
    "from dataclasses import dataclass\n",
    "from abc import abstractmethod\n",
    "\n",
    "@dataclass\n",
    "class Borrower:\n",
    "    name: str\n",
    "    amount_outstanding: float\n",
    "    address: str\n",
    "\n",
    "    def bad__introduce_yourself(self):\n",
    "        print(self.name)\n",
    "        print(self.amount_outstanding)\n",
    "        print(self.address)\n",
    "\n",
    "    def good__introduce_yourself(self):\n",
    "        self._print_all_details()\n",
    "\n",
    "    def _print_all_details(self):\n",
    "        print(self.name)\n",
    "        print(self.amount_outstanding)\n",
    "        print(self.address)\n",
    "\n",
    "test = Borrower(name='testname', amount_outstanding=123, address='my_address')\n",
    "test.good__introduce_yourself()"
   ]
  },
  {
   "cell_type": "markdown",
   "metadata": {},
   "source": [
    "## 2. Inline Method"
   ]
  },
  {
   "cell_type": "markdown",
   "metadata": {},
   "source": [
    "- Problem\n",
    "    - A method body is more obvious than the method\n",
    "\n",
    "- Solution\n",
    "    - Move the method's logic into the caller, and delete the method\n",
    "\n",
    "- Motivation\n",
    "    - Sometimes, you end up separating stuff out when it's actually trivial, and creating a method adds unnecessary bloat\n",
    "    - In such cases, it can be clearer to just leave stuff in the original caller\n",
    "\n",
    "- How to refactor\n",
    "    - Ensure the method isn't defined/used in subclasses\n",
    "    - Find all calls to this method, and replace with the method's logic\n",
    "    - Delete method\n",
    "\n",
    "- Relationships with other refactoring methods\n",
    "    - Opposite \n",
    "        - Extract Method\n",
    "\n",
    "- Related code smells\n",
    "    - Speculative Generality\n",
    "\n",
    "- Example:"
   ]
  },
  {
   "cell_type": "code",
   "execution_count": null,
   "metadata": {},
   "outputs": [],
   "source": [
    "class CabDriver:\n",
    "    def __init__(self, name: str):\n",
    "        self.name: str = name\n",
    "    \n",
    "    def bad__has_long_name(self):\n",
    "        return self._name_is_long()\n",
    "    \n",
    "    def _name_is_long(self):\n",
    "        return len(self.name.split(' ')) >= 3\n",
    "    \n",
    "    def good__has_long_name(self):\n",
    "        return len(self.name.split(' ')) >= 3"
   ]
  },
  {
   "cell_type": "markdown",
   "metadata": {},
   "source": [
    "## 3. Extract Variable"
   ]
  },
  {
   "cell_type": "markdown",
   "metadata": {},
   "source": [
    "- Problem\n",
    "    - An expression is hard to understand (multiple if condition, complex switch case, etc) \n",
    "\n",
    "- Solution\n",
    "    - Put the result of the expressino or parts into separate variables that are self-explanatory\n",
    "\n",
    "- Motivation\n",
    "    - Helps with understanding what you want to achieve, which may otherwise necessitate comments etc\n",
    "    - BUT it makes your code longer\n",
    "    - Also be aware of performance tradeoffs\n",
    "        - If you call `if a or b`, once `a` is true, you will not compute `b`\n",
    "        - However, if you extract the variable out, you will always compute both `a` and `b`\n",
    "\n",
    "- How to refactor\n",
    "    - Assign a new variable for each of the items you want to abstract\n",
    "\n",
    "- Relationships with other refactoring methods\n",
    "    - Opposite \n",
    "        - Inline Temp\n",
    "    - Similar\n",
    "        - Extract Method\n",
    "\n",
    "- Related code smells\n",
    "    - Comments\n",
    "\n",
    "- Example:"
   ]
  },
  {
   "cell_type": "code",
   "execution_count": null,
   "metadata": {},
   "outputs": [],
   "source": [
    "class Borrower:\n",
    "    def __init__(self, age: int, income: float):\n",
    "        self.age: int = age\n",
    "        self.income: float = income\n",
    "    \n",
    "    def bad__decide_eligible(self) -> bool:\n",
    "        if (self.age >= 65) and (self.income <= 1000):\n",
    "            return False\n",
    "        return True\n",
    "    \n",
    "    def good__decide_eligible(self) -> bool:\n",
    "        is_too_old: bool = self.age >= 65\n",
    "        is_earning_too_little: bool = self.income <= 1000\n",
    "        if is_too_old and is_earning_too_little:\n",
    "            return False\n",
    "        return True"
   ]
  },
  {
   "cell_type": "markdown",
   "metadata": {},
   "source": [
    "## 4. Inline Temp"
   ]
  },
  {
   "cell_type": "markdown",
   "metadata": {},
   "source": [
    "- Problem\n",
    "    - You have a temporary variable that's assigned the result of some simple expression\n",
    "\n",
    "- Solution\n",
    "    - Replace the reference to the variable with the expression itself\n",
    "\n",
    "- Motivation\n",
    "    - This is the tradeoff with `Extract Variable` above\n",
    "    - If you extract too much, you end up with ridiculously longer code for no good reason\n",
    "\n",
    "- Drawback\n",
    "    - Temp variables are sometimes used as a caching mechanism, so check that there is no performance implication before switching strategies\n",
    "\n",
    "- How to refactor\n",
    "    - Delete variable and leave logical evaluation to where it is used\n",
    "\n",
    "- Relationships with other refactoring methods\n",
    "    - Related\n",
    "        - Replace Temp with Query\n",
    "        - Extract Method\n",
    "\n",
    "- Example:"
   ]
  },
  {
   "cell_type": "code",
   "execution_count": 3,
   "metadata": {},
   "outputs": [],
   "source": [
    "class Borrower:\n",
    "    def __init__(self, age: int, income: float):\n",
    "        self.age: int = age\n",
    "        self.income: float = income\n",
    "    \n",
    "    def good__decide_eligible(self) -> bool:\n",
    "        if (self.age >= 65) and (self.income <= 1000):\n",
    "            return False\n",
    "        return True\n",
    "    \n",
    "    def bad__decide_eligible(self) -> bool:\n",
    "        is_too_old: bool = self.age >= 65\n",
    "        is_earning_too_little: bool = self.income <= 1000\n",
    "        if is_too_old and is_earning_too_little:\n",
    "            return False\n",
    "        return True"
   ]
  },
  {
   "cell_type": "markdown",
   "metadata": {},
   "source": [
    "## 5. Replace Temp with Query"
   ]
  },
  {
   "cell_type": "markdown",
   "metadata": {},
   "source": [
    "- Problem\n",
    "    - You have the result of an expression stored as a local variable for later use in your code\n",
    "\n",
    "- Solution\n",
    "    - Move the whole expression to a separate method and return the result from the method instead\n",
    "\n",
    "- Motivation\n",
    "    - If this expression is commonly used, having it as a proper method can promote re-use\n",
    "\n",
    "- Drawback\n",
    "    - This will likely create a performance dip, albeit minimal, because you are querying a new method\n",
    "\n",
    "- How to refactor\n",
    "    - Move expression to a method and call method instead of expression\n",
    "\n",
    "- Relationships with other refactoring methods\n",
    "    - Similar\n",
    "        - Extract Method\n",
    "\n",
    "- Related code smells\n",
    "    - Long Method\n",
    "    - Duplicate Code\n",
    "    \n",
    "- Example:"
   ]
  },
  {
   "cell_type": "code",
   "execution_count": 4,
   "metadata": {},
   "outputs": [],
   "source": [
    "class Borrower:\n",
    "    def __init__(self, age: int, income: float, nric_number: int):\n",
    "        self.age: int = age\n",
    "        self.income: float = income\n",
    "        self.nric_number: int = nric_number\n",
    "    \n",
    "    def _is_earning_too_little(self) -> bool:\n",
    "        income_cutoff = (self.nric_number // self.age) * self.income\n",
    "        if self.income < income_cutoff:\n",
    "            return True\n",
    "        return False\n",
    "    \n",
    "    def bad__decide_eligible(self) -> bool:\n",
    "        is_too_old: bool = self.age >= 65\n",
    "        is_earning_too_little: bool = self.income <= (self.nric_number // self.age) * self.income\n",
    "        if is_too_old and is_earning_too_little:\n",
    "            return False\n",
    "        return True\n",
    "    \n",
    "    def good__decide_eligible(self) -> bool:\n",
    "        is_too_old: bool = self.age >= 65\n",
    "        if is_too_old and self._is_earning_too_little():\n",
    "            return False\n",
    "        return True"
   ]
  },
  {
   "cell_type": "markdown",
   "metadata": {},
   "source": [
    "## 6. Split Temporary Variable"
   ]
  },
  {
   "cell_type": "markdown",
   "metadata": {},
   "source": [
    "- Problem\n",
    "    - You have a local variable (e.g. `temp`) that stores various unrelated intermediate value in a method\n",
    "\n",
    "- Solution\n",
    "    - Use different variables for different values\n",
    "\n",
    "- Motivation\n",
    "    - If anything goes wrong in your computation, `temp` can end up passing the wrong value\n",
    "\n",
    "- How to refactor\n",
    "    - Make multiple new variables and name them in an informative way\n",
    "\n",
    "- Relationships with other refactoring methods\n",
    "    - Opposite \n",
    "        - Inline temp\n",
    "    - Similar\n",
    "        - Extract Variable\n",
    "        - Remove Assignments to Parameters\n",
    "    - Related\n",
    "        - Extract Method\n",
    "\n",
    "- Example:"
   ]
  },
  {
   "cell_type": "code",
   "execution_count": null,
   "metadata": {},
   "outputs": [],
   "source": [
    "class Square:\n",
    "    def __init__(self, length: int):\n",
    "        self.length: int = length\n",
    "    \n",
    "    def bad__print_perimeter_and_area(self):\n",
    "        temp = self.length*4\n",
    "        print(f'perimeter = {temp}')\n",
    "\n",
    "        temp = self.length**2\n",
    "        print(f'area = {temp}')\n",
    "    \n",
    "    def good__print_perimeter_and_area(self):\n",
    "        perimeter = self.length*4\n",
    "        print(f'{perimeter=}')\n",
    "\n",
    "        area = self.length**2\n",
    "        print(f'{area=}')"
   ]
  },
  {
   "cell_type": "markdown",
   "metadata": {},
   "source": [
    "## 7. Remove Assignments to Parameters"
   ]
  },
  {
   "cell_type": "markdown",
   "metadata": {},
   "source": [
    "- Problem\n",
    "    - Some value assigned to parameter in a method's body\n",
    "\n",
    "- Solution\n",
    "    - Use a local variable instead of a parameter\n",
    "\n",
    "- Motivation\n",
    "    - Error prone. If your input parameter can change depending on what happens in the function, you won't know what value it is taking at any point in time\n",
    "\n",
    "- How to refactor\n",
    "    - Make a new local variable and assign value\n",
    "    - Call the local variable instead\n",
    "\n",
    "- Relationships with other refactoring methods\n",
    "    - Similar\n",
    "        - Split Temporary Variable\n",
    "    - Related\n",
    "        - Extract Method\n",
    "        \n",
    "- Example:"
   ]
  },
  {
   "cell_type": "code",
   "execution_count": null,
   "metadata": {},
   "outputs": [],
   "source": [
    "def bad__discount(price, quantity):\n",
    "    if quantity > 50:\n",
    "        price -= 2\n",
    "    return price\n",
    "\n",
    "def good__discount(price, quantity):\n",
    "    new_price = price\n",
    "    if quantity > 50:\n",
    "        new_price -= 2\n",
    "    return new_price\n"
   ]
  },
  {
   "cell_type": "markdown",
   "metadata": {},
   "source": [
    "## 8. Replace method with method object"
   ]
  },
  {
   "cell_type": "markdown",
   "metadata": {},
   "source": [
    "- Problem\n",
    "    - You have a long method where the local variables are so spaghettied together that you can't extract part of it as another method to simplify it\n",
    "\n",
    "- Solution\n",
    "    - Separate the method out to its own class, and delegate the original function to the new class\n",
    "\n",
    "- Motivation\n",
    "    - This helps you isolate the problem to a single class, and turn all local variables into class fields instead, which allows for clarity\n",
    "    - By making things clearer, it then lets you systematically reduce the method into constituent components\n",
    "\n",
    "- How to refactor\n",
    "    - Create a new class, named after the purpose of the method you are refactoring\n",
    "    - If some data needed from the original class, create private field to store a reference to an instance of the original class where the method came from \n",
    "    - Create private fields for each local variable used in the method\n",
    "    - Create constructor that accepts the values of these local variables as parameters\n",
    "    - Create main() method with the code from method you want to copy over\n",
    "    - Replace the original method by creating a method object and calling main\n",
    "\n",
    "- Relationships with other refactoring methods\n",
    "    - Similar\n",
    "        - Replace data value with object\n",
    "\n",
    "- Related code smells\n",
    "    - Long Method\n",
    "\n",
    "- Example:"
   ]
  },
  {
   "cell_type": "code",
   "execution_count": null,
   "metadata": {},
   "outputs": [],
   "source": [
    "class bad__Order:\n",
    "    def get_price(self) -> float:\n",
    "        primaryBasePrice = 1\n",
    "        price_adjustment_a = 2\n",
    "        price_adjustment_b = 3\n",
    "        \n",
    "        ## Some long computation\n",
    "        ...\n",
    "\n",
    "###\n",
    "\n",
    "class good__Order:\n",
    "    def get_price(self):\n",
    "        return PriceGetter(self).get_price()\n",
    "\n",
    "class PriceGetter:\n",
    "    def __init__(self, order: good__Order):\n",
    "        self._primaryBasePrice = 1\n",
    "        self._price_adjustment_a = 2\n",
    "        self._price_adjustment_b = 3\n",
    "\n",
    "    def get_price(self) -> float:\n",
    "        ...\n"
   ]
  },
  {
   "cell_type": "markdown",
   "metadata": {},
   "source": [
    "## 9. Substitute Algorithm"
   ]
  },
  {
   "cell_type": "markdown",
   "metadata": {},
   "source": [
    "- Problem\n",
    "    - You have an algorithm (method) that you want to replace with a new one\n",
    "\n",
    "- Solution\n",
    "    - Replace the body of the method you want to change with the new algorithm, while keeping everything else the same (i.e. same method name/signature)\n",
    "\n",
    "- Motivation\n",
    "    - Sometimes, it is easier to start from scratch when things grow too complicated. This is basically saying, I tear down everything and re-implement\n",
    "\n",
    "- How to refactor\n",
    "    - Simplify the existing algorithm as much as possible\n",
    "    - Create new algorithm in a new method\n",
    "    - Replace old with new method and test\n",
    "    - If results don't match, investigate and fi\n",
    "    - Once all tests pass, cutover for good\n",
    "\n",
    "- Related code smells\n",
    "    - Duplicate Code\n",
    "    - Long Method\n",
    "\n",
    "- Example:"
   ]
  },
  {
   "cell_type": "code",
   "execution_count": null,
   "metadata": {},
   "outputs": [],
   "source": [
    "def _return_young_primes(arr: list[int]) -> list[int]:\n",
    "    young_primes = []\n",
    "    if 2 in arr:\n",
    "        young_primes.append(2)\n",
    "    if 3 in arr:\n",
    "        young_primes.append(3)\n",
    "    if 5 in arr:\n",
    "        young_primes.append(5)\n",
    "    return young_primes\n",
    "\n",
    "def return_young_primes(arr: list[int]) -> list[int]:\n",
    "    young_primes = [x for x in arr if x in [2,3,5]]\n",
    "    return young_primes"
   ]
  }
 ],
 "metadata": {
  "kernelspec": {
   "display_name": "dsa_prep",
   "language": "python",
   "name": "python3"
  },
  "language_info": {
   "codemirror_mode": {
    "name": "ipython",
    "version": 3
   },
   "file_extension": ".py",
   "mimetype": "text/x-python",
   "name": "python",
   "nbconvert_exporter": "python",
   "pygments_lexer": "ipython3",
   "version": "3.10.13"
  }
 },
 "nbformat": 4,
 "nbformat_minor": 2
}

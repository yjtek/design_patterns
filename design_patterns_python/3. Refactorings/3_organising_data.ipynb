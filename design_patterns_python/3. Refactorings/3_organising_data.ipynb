{
 "cells": [
  {
   "cell_type": "markdown",
   "metadata": {},
   "source": [
    "# Organising Data"
   ]
  },
  {
   "cell_type": "markdown",
   "metadata": {},
   "source": [
    "- These refactoring techniques deal with data handling, letting you replace primitives (with limited functionality) with more appropriate classes\n",
    "\n",
    "- It also helps to disentangle class associations, which improves portability and reusability"
   ]
  },
  {
   "cell_type": "markdown",
   "metadata": {},
   "source": [
    "- Problem\n",
    "    - You have a code fragment that can be grouped\n",
    "\n",
    "- Solution\n",
    "    - Group it in a method, and replace the original code with a method call\n",
    "\n",
    "- Motivation\n",
    "    - Minimise the number of lines in a method, which makes it easier to figure out what it does\n",
    "\n",
    "- How to refactor\n",
    "    - Make a new method and name it self-evidently\n",
    "    - Copy the code fragment to your new method, and delete the existing fragment, calling the new method instead\n",
    "\n",
    "- Relationships with other refactoring methods\n",
    "    - Opposite \n",
    "        - Inline Method\n",
    "    - Similar\n",
    "        - Move Method\n",
    "    - Related\n",
    "        - Introduce Parameter Object\n",
    "        - Form Template Method\n",
    "        - Parameterize Method\n",
    "\n",
    "- Related code smells\n",
    "    - Duplicate Code\n",
    "    - Long Method\n",
    "    - Feature Envy\n",
    "    - Switch Statements\n",
    "    - Message Chains\n",
    "    - Comments\n",
    "    - Data Class\n",
    "\n",
    "- Example:"
   ]
  },
  {
   "cell_type": "markdown",
   "metadata": {},
   "source": [
    "## 1. Self-Encapsulate Field"
   ]
  },
  {
   "cell_type": "markdown",
   "metadata": {},
   "source": [
    "- Problem\n",
    "    - You directly access private fields in a class from outside it\n",
    "\n",
    "- Solution\n",
    "    - Create a getter and setter, and only uses these for accessing the field.\n",
    "    - In Python, you can do this by creating \"hidden\" fields e.g. `self._protected_field`, and using `@property` decorator to define getters and setters to restrict access\n",
    "\n",
    "- Motivation\n",
    "    - There are occasions when the usual getting and setting is insufficient, you want to do some logical checks for the field\n",
    "    - e.g. when setting phone number, probably good to check if the number of digits is correct \n",
    "\n",
    "- Drawbacks\n",
    "    - This logic is useful, but also adds clutter. If you need a getter and setter for every field, then the number of methods you have multiplies by 3\n",
    "\n",
    "- How to refactor\n",
    "    - Create a getter (and optional setter) for the field. They should be either protected or public.\n",
    "    - Find direct invocations and replace with getter/setter methods\n",
    "    - In Python, idiomatic way is to use @property\n",
    "\n",
    "- Relationships with other refactoring methods\n",
    "    - Similar\n",
    "        - Encapsulate Field\n",
    "    - Related\n",
    "        - Duplicate Observed Data\n",
    "        - Replace Type Codes with Subclasses\n",
    "        - Replace Type Code with State/Strategy\n",
    "\n",
    "- Example:"
   ]
  },
  {
   "cell_type": "code",
   "execution_count": null,
   "metadata": {},
   "outputs": [],
   "source": [
    "class bad__Range():\n",
    "    def __init__(self, low, high):\n",
    "        self.high = high\n",
    "        self.low = low\n",
    "\n",
    "    def check_value(self, value):\n",
    "        return (value >= self.low) and (value <= self.high)\n",
    "\n",
    "\n",
    "class good__Range():\n",
    "    def __init__(self, low, high):\n",
    "        self._high = high\n",
    "        self._low = low\n",
    "\n",
    "    @property\n",
    "    def high(self):\n",
    "        return self._high\n",
    "\n",
    "    @high.setter\n",
    "    def high(self, value):\n",
    "        self._high = value\n",
    "\n",
    "    @property\n",
    "    def low(self):\n",
    "        return self._low\n",
    "\n",
    "    @low.setter\n",
    "    def low(self, value):\n",
    "        self._low = value\n",
    "\n",
    "    def check_value(self, value):\n",
    "        return (value >= self.low) and (value <= self.high)"
   ]
  },
  {
   "cell_type": "markdown",
   "metadata": {},
   "source": [
    "## 2. Replace Data Value with Object"
   ]
  },
  {
   "cell_type": "markdown",
   "metadata": {},
   "source": [
    "- Problem\n",
    "    - You have a class `A` that has some property `p` stored as a primitive, when ideally `p` can and should have richer data fields and functionality\n",
    "\n",
    "- Solution\n",
    "    - Turn `p` into a class and store it as a field in `A`\n",
    "\n",
    "- Motivation\n",
    "    - Makes the responsibility of objects clearer\n",
    "    - Group methods and data into a single relevant class\n",
    "\n",
    "- How to refactor\n",
    "    - Create a new class for `p` and pass it into `A`\n",
    "\n",
    "- Relationships with other refactoring methods\n",
    "    - Similar\n",
    "        - Extract Class\n",
    "        - Introduce Parameter Object\n",
    "        - Replace Array with Object\n",
    "        - Replace method with method object\n",
    "\n",
    "- Related code smells\n",
    "    - Duplicate Code\n",
    "\n",
    "- Example:"
   ]
  },
  {
   "cell_type": "code",
   "execution_count": 1,
   "metadata": {},
   "outputs": [],
   "source": [
    "class bad__Order():\n",
    "    def __init__(self, customer: str):\n",
    "        self.customer: str = customer\n",
    "\n",
    "###\n",
    "\n",
    "class Customer():\n",
    "    def __init__(self, name: str):\n",
    "        self.name: str = name\n",
    "\n",
    "class good__Order():\n",
    "    def __init__(self, customer: Customer):\n",
    "        self.customer: Customer = customer\n"
   ]
  },
  {
   "cell_type": "markdown",
   "metadata": {},
   "source": [
    "## 3. Change Value to Reference"
   ]
  },
  {
   "cell_type": "markdown",
   "metadata": {},
   "source": [
    "- Problem\n",
    "    - You have many instances of class `A` that contains a reference to class `B`, where every instance of `B` is identical\n",
    "    - If you instantiate `B` separately for each instance of `A`, you have many copies of `B` floating around in memory. This is inefficient\n",
    "    - It is also an issue if you need to modify `B` in your code, because you need to modify all instances\n",
    "\n",
    "- Solution\n",
    "    - Rather than instantiating identical copies of `B`, for every `A`, instantiate `B` once as a single reference object\n",
    "\n",
    "- Motivation\n",
    "    - In most systems, objects are either values or references\n",
    "        - Reference is where 1 object in your programme corresponds to 1 real world object\n",
    "        - Values (instances) is where many objects in your programme correspond to the same real world object\n",
    "            - For example, if I store '2024-01-15' as date1 and '2024-01-15' as date2, the same date is stored in 2 different objects\n",
    "    - When you have something that changes in your code, and you want it to be consistent across your code, you should store a reference to the same object\n",
    "\n",
    "- How to refactor\n",
    "    - Store a place to call an object by some identifier, rather than calling the constructor for each new instance\n",
    "\n",
    "- Relationships with other refactoring methods\n",
    "    - Opposite \n",
    "        - Change Reference to Value\n",
    "\n",
    "- Example:"
   ]
  },
  {
   "cell_type": "code",
   "execution_count": 3,
   "metadata": {},
   "outputs": [
    {
     "data": {
      "text/plain": [
       "{1: <__main__.Customer at 0x10620f0d0>}"
      ]
     },
     "execution_count": 3,
     "metadata": {},
     "output_type": "execute_result"
    }
   ],
   "source": [
    "customer_map = {}\n",
    "\n",
    "class Customer():\n",
    "    def __init__(self, id: int):\n",
    "        self.id = id\n",
    "\n",
    "def create_customer(cid: int):\n",
    "    ## Lookup map before creating new instance, and return existing intance if it exists\n",
    "    if cid in customer_map:\n",
    "        return customer_map.get(cid)\n",
    "    else:\n",
    "        customer_map[cid] = Customer(cid)\n",
    "    return Customer(cid)\n",
    "customer1 = create_customer(1)\n",
    "customer1 = create_customer(1)"
   ]
  },
  {
   "cell_type": "markdown",
   "metadata": {},
   "source": [
    "- In fact, in Python, it's possible to modify the class constructor to achieve this without the need for an external hashmap"
   ]
  },
  {
   "cell_type": "code",
   "execution_count": 10,
   "metadata": {},
   "outputs": [
    {
     "data": {
      "text/plain": [
       "{'a': <__main__.Customer at 0x1063ccee0>,\n",
       " 'b': <__main__.Customer at 0x10651d9f0>}"
      ]
     },
     "execution_count": 10,
     "metadata": {},
     "output_type": "execute_result"
    }
   ],
   "source": [
    "class Customer():\n",
    "    ## Store a map to check if the object with the relevant value has already been created\n",
    "    _created = {}\n",
    "\n",
    "    def __new__(cls, name):\n",
    "        if name in cls._created:\n",
    "            return cls._created.get(name)\n",
    "        else:\n",
    "            ## If object is not yet created, call the __new__ method from the `object` superclass to create a new instance of the class\n",
    "            cls._created[name] = super().__new__(cls)\n",
    "\n",
    "    def __init__(self, name):\n",
    "        self.name = name\n",
    "\n",
    "ca = Customer('a')\n",
    "cb = Customer('b')\n",
    "Customer._created"
   ]
  },
  {
   "cell_type": "markdown",
   "metadata": {},
   "source": [
    "## 4. Change Reference to Value"
   ]
  },
  {
   "cell_type": "markdown",
   "metadata": {},
   "source": [
    "- Problem\n",
    "    - Opposite problem to 3. Change Value to Reference\n",
    "    - An object is too small/infrequently access to justify managing its life cycle\n",
    "\n",
    "- Solution\n",
    "    - Just turn it into a value object, instead of a reference object\n",
    "\n",
    "- Motivation\n",
    "    - inimise the number of lines in a method, which makes it easier to figure out what it does\n",
    "\n",
    "- How to refactor\n",
    "    - Make a new method and name it self-evidently\n",
    "    - Copy the code fragment to your new method, and delete the existing fragment, calling the new method instead\n",
    "\n",
    "- Relationships with other refactoring methods\n",
    "    - Opposite \n",
    "        - Inline Method\n",
    "    - Similar\n",
    "        - Move Method\n",
    "    - Related\n",
    "        - Introduce Parameter Object\n",
    "        - Form Template Method\n",
    "        - Parameterize Method\n",
    "\n",
    "- Related code smells\n",
    "    - Duplicate Code\n",
    "    - Long Method\n",
    "    - Feature Envy\n",
    "    - Switch Statements\n",
    "    - Message Chains\n",
    "    - Comments\n",
    "    - Data Class\n",
    "\n",
    "- Example:"
   ]
  }
 ],
 "metadata": {
  "kernelspec": {
   "display_name": "dsa_prep",
   "language": "python",
   "name": "python3"
  },
  "language_info": {
   "codemirror_mode": {
    "name": "ipython",
    "version": 3
   },
   "file_extension": ".py",
   "mimetype": "text/x-python",
   "name": "python",
   "nbconvert_exporter": "python",
   "pygments_lexer": "ipython3",
   "version": "3.10.13"
  }
 },
 "nbformat": 4,
 "nbformat_minor": 2
}

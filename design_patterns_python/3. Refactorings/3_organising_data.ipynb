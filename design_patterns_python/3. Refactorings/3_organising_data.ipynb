{
 "cells": [
  {
   "cell_type": "markdown",
   "metadata": {},
   "source": [
    "# Organising Data"
   ]
  },
  {
   "cell_type": "markdown",
   "metadata": {},
   "source": [
    "- These refactoring techniques deal with data handling, letting you replace primitives (with limited functionality) with more appropriate classes\n",
    "\n",
    "- It also helps to disentangle class associations, which improves portability and reusability"
   ]
  },
  {
   "cell_type": "markdown",
   "metadata": {},
   "source": [
    "## 1. Self-Encapsulate Field"
   ]
  },
  {
   "cell_type": "markdown",
   "metadata": {},
   "source": [
    "- Problem\n",
    "    - You directly access private fields in a class from outside it\n",
    "\n",
    "- Solution\n",
    "    - Create a getter and setter, and only uses these for accessing the field.\n",
    "    - In Python, you can do this by creating \"hidden\" fields e.g. `self._protected_field`, and using `@property` decorator to define getters and setters to restrict access\n",
    "\n",
    "- Motivation\n",
    "    - There are occasions when the usual getting and setting is insufficient, you want to do some logical checks for the field\n",
    "    - e.g. when setting phone number, probably good to check if the number of digits is correct \n",
    "\n",
    "- Drawbacks\n",
    "    - This logic is useful, but also adds clutter. If you need a getter and setter for every field, then the number of methods you have multiplies by 3\n",
    "\n",
    "- How to refactor\n",
    "    - Create a getter (and optional setter) for the field. They should be either protected or public.\n",
    "    - Find direct invocations and replace with getter/setter methods\n",
    "    - In Python, idiomatic way is to use @property\n",
    "\n",
    "- Relationships with other refactoring methods\n",
    "    - Similar\n",
    "        - Encapsulate Field\n",
    "    - Related\n",
    "        - Duplicate Observed Data\n",
    "        - Replace Type Codes with Subclasses\n",
    "        - Replace Type Code with State/Strategy\n",
    "\n",
    "- Example:"
   ]
  },
  {
   "cell_type": "code",
   "execution_count": null,
   "metadata": {},
   "outputs": [],
   "source": [
    "class bad__Range():\n",
    "    def __init__(self, low, high):\n",
    "        self.high = high\n",
    "        self.low = low\n",
    "\n",
    "    def check_value(self, value):\n",
    "        return (value >= self.low) and (value <= self.high)\n",
    "\n",
    "\n",
    "class good__Range():\n",
    "    def __init__(self, low, high):\n",
    "        self._high = high\n",
    "        self._low = low\n",
    "\n",
    "    @property\n",
    "    def high(self):\n",
    "        return self._high\n",
    "\n",
    "    @high.setter\n",
    "    def high(self, value):\n",
    "        self._high = value\n",
    "\n",
    "    @property\n",
    "    def low(self):\n",
    "        return self._low\n",
    "\n",
    "    @low.setter\n",
    "    def low(self, value):\n",
    "        self._low = value\n",
    "\n",
    "    def check_value(self, value):\n",
    "        return (value >= self.low) and (value <= self.high)"
   ]
  },
  {
   "cell_type": "markdown",
   "metadata": {},
   "source": [
    "## 2. Replace Data Value with Object"
   ]
  },
  {
   "cell_type": "markdown",
   "metadata": {},
   "source": [
    "- Problem\n",
    "    - You have a class `A` that has some property `p` stored as a primitive, when ideally `p` can and should have richer data fields and functionality\n",
    "\n",
    "- Solution\n",
    "    - Turn `p` into a class and store it as a field in `A`\n",
    "\n",
    "- Motivation\n",
    "    - Makes the responsibility of objects clearer\n",
    "    - Group methods and data into a single relevant class\n",
    "\n",
    "- How to refactor\n",
    "    - Create a new class for `p` and pass it into `A`\n",
    "\n",
    "- Relationships with other refactoring methods\n",
    "    - Similar\n",
    "        - Extract Class\n",
    "        - Introduce Parameter Object\n",
    "        - Replace Array with Object\n",
    "        - Replace method with method object\n",
    "\n",
    "- Related code smells\n",
    "    - Duplicate Code\n",
    "\n",
    "- Example:"
   ]
  },
  {
   "cell_type": "code",
   "execution_count": 1,
   "metadata": {},
   "outputs": [],
   "source": [
    "class bad__Order():\n",
    "    def __init__(self, customer: str):\n",
    "        self.customer: str = customer\n",
    "\n",
    "###\n",
    "\n",
    "class Customer():\n",
    "    def __init__(self, name: str):\n",
    "        self.name: str = name\n",
    "\n",
    "class good__Order():\n",
    "    def __init__(self, customer: Customer):\n",
    "        self.customer: Customer = customer\n"
   ]
  },
  {
   "cell_type": "markdown",
   "metadata": {},
   "source": [
    "## 3. Change Value to Reference"
   ]
  },
  {
   "cell_type": "markdown",
   "metadata": {},
   "source": [
    "- Problem\n",
    "    - You have many instances of class `A` that contains a reference to class `B`, where every instance of `B` is identical\n",
    "    - If you instantiate `B` separately for each instance of `A`, you have many copies of `B` floating around in memory. This is inefficient\n",
    "    - It is also an issue if you need to modify `B` in your code, because you need to modify all instances\n",
    "\n",
    "- Solution\n",
    "    - Rather than instantiating identical copies of `B`, for every `A`, instantiate `B` once as a single reference object\n",
    "\n",
    "- Motivation\n",
    "    - In most systems, objects are either values or references\n",
    "        - Reference is where 1 object in your programme corresponds to 1 real world object\n",
    "        - Values (instances) is where many objects in your programme correspond to the same real world object\n",
    "            - For example, if I store '2024-01-15' as date1 and '2024-01-15' as date2, the same date is stored in 2 different objects\n",
    "    - When you have something that changes in your code, and you want it to be consistent across your code, you should store a reference to the same object\n",
    "\n",
    "- How to refactor\n",
    "    - Store a place to call an object by some identifier, rather than calling the constructor for each new instance\n",
    "\n",
    "- Relationships with other refactoring methods\n",
    "    - Opposite \n",
    "        - Change Reference to Value\n",
    "\n",
    "- Example:"
   ]
  },
  {
   "cell_type": "code",
   "execution_count": 3,
   "metadata": {},
   "outputs": [
    {
     "data": {
      "text/plain": [
       "{1: <__main__.Customer at 0x10620f0d0>}"
      ]
     },
     "execution_count": 3,
     "metadata": {},
     "output_type": "execute_result"
    }
   ],
   "source": [
    "customer_map = {}\n",
    "\n",
    "class Customer():\n",
    "    def __init__(self, id: int):\n",
    "        self.id = id\n",
    "\n",
    "def create_customer(cid: int):\n",
    "    ## Lookup map before creating new instance, and return existing intance if it exists\n",
    "    if cid in customer_map:\n",
    "        return customer_map.get(cid)\n",
    "    else:\n",
    "        customer_map[cid] = Customer(cid)\n",
    "    return Customer(cid)\n",
    "customer1 = create_customer(1)\n",
    "customer1 = create_customer(1)"
   ]
  },
  {
   "cell_type": "markdown",
   "metadata": {},
   "source": [
    "- In fact, in Python, it's possible to modify the class constructor to achieve this without the need for an external hashmap"
   ]
  },
  {
   "cell_type": "code",
   "execution_count": 10,
   "metadata": {},
   "outputs": [
    {
     "data": {
      "text/plain": [
       "{'a': <__main__.Customer at 0x1063ccee0>,\n",
       " 'b': <__main__.Customer at 0x10651d9f0>}"
      ]
     },
     "execution_count": 10,
     "metadata": {},
     "output_type": "execute_result"
    }
   ],
   "source": [
    "class Customer():\n",
    "    ## Store a map to check if the object with the relevant value has already been created\n",
    "    _created = {}\n",
    "\n",
    "    def __new__(cls, name):\n",
    "        if name in cls._created:\n",
    "            return cls._created.get(name)\n",
    "        else:\n",
    "            ## If object is not yet created, call the __new__ method from the `object` superclass to create a new instance of the class\n",
    "            cls._created[name] = super().__new__(cls)\n",
    "\n",
    "    def __init__(self, name):\n",
    "        self.name = name\n",
    "\n",
    "ca = Customer('a')\n",
    "cb = Customer('b')\n",
    "Customer._created"
   ]
  },
  {
   "cell_type": "markdown",
   "metadata": {},
   "source": [
    "## 4. Change Reference to Value"
   ]
  },
  {
   "cell_type": "markdown",
   "metadata": {},
   "source": [
    "- Problem\n",
    "    - Opposite problem to 3. Change Value to Reference\n",
    "    - An object is too small/infrequently access to justify managing its life cycle\n",
    "\n",
    "- Solution\n",
    "    - Just turn it into a value object, instead of a reference object\n",
    "\n",
    "- Motivation\n",
    "    - Working with references is much harder than with value objects\n",
    "    - For one, not all reference management approaches are thread safe. So if you don't implement properly mutex in multi-threaded programmes, you can still end up instantiating multiple copies of a reference object\n",
    "\n",
    "- How to refactor\n",
    "    - Remove the life cycle management and instantiation checks, and just create objects on the fly\n",
    "\n",
    "- Drawbacks\n",
    "    - If you have multiple of these value objects that need to change in tandem, you have to add checks for such behaviour\n",
    "\n",
    "- Relationships with other refactoring methods\n",
    "    - Opposite \n",
    "        - Change Value to Reference\n",
    "\n",
    "- Example (see 3. Change Value to Reference)"
   ]
  },
  {
   "cell_type": "markdown",
   "metadata": {},
   "source": [
    "## 5. Replace Array with Object"
   ]
  },
  {
   "cell_type": "markdown",
   "metadata": {},
   "source": [
    "- Problem\n",
    "    - You have some data stored in a primitive (array, hashmap) that you're passing around \n",
    "\n",
    "- Solution\n",
    "    - Group it into a single object with proper field names\n",
    "\n",
    "- Motivation\n",
    "    - If you pass an array around, your code will need to haphazardly track the indices of the objects you want\n",
    "        - For example, array[0] is username, and array[1] is password\n",
    "    - This is unclear to future devs, and also unsafe\n",
    "\n",
    "- How to refactor\n",
    "    - Create a proper objects and store data as proper field names\n",
    "\n",
    "- Relationships with other refactoring methods\n",
    "    - Similar\n",
    "        - Replace data value with object\n",
    "\n",
    "- Related code smells\n",
    "    - Primitive Obsession\n",
    "\n",
    "- Example:"
   ]
  },
  {
   "cell_type": "code",
   "execution_count": 1,
   "metadata": {},
   "outputs": [],
   "source": [
    "bad__credentials = ['myusername', 'mypassword']\n",
    "\n",
    "class Credentials():\n",
    "    def __init__(self, username: str, password: str):\n",
    "        self.username: str = username\n",
    "        self.password: str = password\n",
    "\n",
    "good__credentials = Credentials(username='abc', password='def')"
   ]
  },
  {
   "cell_type": "markdown",
   "metadata": {},
   "source": [
    "## 6. Duplicate Observed Data"
   ]
  },
  {
   "cell_type": "markdown",
   "metadata": {},
   "source": [
    "- Problem\n",
    "    - You code has a pattern where you have objects that perform operations on some data, where the data reflected should be consistent\n",
    "        - For example, in something like webserving, suppose you want to flash a pop up when someone scrolls to some part of a page, and to play a sound\n",
    "        - Both of these are likely to be handled by separate objects\n",
    "        - But the \"state\" of the webpage must be consistent across both objects. \n",
    "        - However, your `Page` class and `SoundPlayer` both have the page's state instantiated separately, and must be updated independently of each other\n",
    "\n",
    "- Solution\n",
    "    - Write a class that is solely responsible for determining the state of a page, and all objects' behaviour relying on page state must get it from this `State` object\n",
    "\n",
    "- Motivation\n",
    "    - Avoid duplication in code, or worse, bugs resulting from inconsistent \"ground truth\"\n",
    "\n",
    "- How to refactor\n",
    "    - Pull out the thing where you need to be consistent into a \"source of truth\" class\n",
    "    - Make references to the class\n",
    "\n",
    "- Related Design Pattern\n",
    "    - Observer\n",
    "\n",
    "- Related code smells\n",
    "    - Large Class\n",
    "\n",
    "- Example:"
   ]
  },
  {
   "cell_type": "code",
   "execution_count": 9,
   "metadata": {},
   "outputs": [
    {
     "name": "stdout",
     "output_type": "stream",
     "text": [
      "10\n",
      "10\n",
      "20\n"
     ]
    }
   ],
   "source": [
    "class bad__A():\n",
    "    def __init__(self, data):\n",
    "        self.data = data\n",
    "\n",
    "    def process_data(self):\n",
    "        print(self.data)\n",
    "\n",
    "class bad__B():\n",
    "    def __init__(self, data):\n",
    "        self.data= data\n",
    "\n",
    "    def process_data(self):\n",
    "        print(self.data)\n",
    "\n",
    "## No source of truth for dynamic data, can lead to inconsistent processing outcomes between classes that should rely on the same data in theory\n",
    "data = 10\n",
    "a = bad__A(data)\n",
    "a.process_data()\n",
    "data = 20\n",
    "b = bad__B(data)\n",
    "a.process_data()\n",
    "b.process_data()\n"
   ]
  },
  {
   "cell_type": "code",
   "execution_count": 7,
   "metadata": {},
   "outputs": [
    {
     "name": "stdout",
     "output_type": "stream",
     "text": [
      "10\n",
      "20\n",
      "20\n"
     ]
    }
   ],
   "source": [
    "class DataObject():\n",
    "    def __init__(self, data):\n",
    "        self._data = data\n",
    "\n",
    "    @property\n",
    "    def data(self):\n",
    "        return self._data\n",
    "    \n",
    "    @data.setter\n",
    "    def data(self, value):\n",
    "        self._data = value\n",
    "\n",
    "class good__A():\n",
    "    def __init__(self, data):\n",
    "        self.data_obj: DataObject = data\n",
    "\n",
    "    def process_data(self):\n",
    "        print(self.data_obj.data)\n",
    "\n",
    "class good__B():\n",
    "    def __init__(self, data):\n",
    "        self.data_obj: DataObject = data\n",
    "\n",
    "    def process_data(self):\n",
    "        print(self.data_obj.data)\n",
    "\n",
    "## No source of truth for dynamic data, can lead to inconsistent processing outcomes between classes that should rely on the same data in theory\n",
    "data = DataObject(10)\n",
    "a = good__A(data)\n",
    "a.process_data()\n",
    "b = good__B(data)\n",
    "data.data = 20\n",
    "a.process_data()\n",
    "b.process_data()\n"
   ]
  },
  {
   "cell_type": "markdown",
   "metadata": {},
   "source": [
    "## 7. Change Unidirectional Association to Bidirectional"
   ]
  },
  {
   "cell_type": "markdown",
   "metadata": {},
   "source": [
    "- Problem\n",
    "    - You have two classes that rely on each other, but the relationship is only one directional\n",
    "\n",
    "- Solution\n",
    "    - Change it to 2 directional\n",
    "\n",
    "- Motivation\n",
    "    - Minimise the number of lines in a method, which makes it easier to figure out what it does\n",
    "\n",
    "- Drawbacks\n",
    "    - Bidirectional relationships are much harder to maintain\n",
    "    - Bidirectional relationships make classes very tightly coupled. Don't introduce it for no reason\n",
    "\n",
    "- How to refactor\n",
    "    - Add field to hold the relation in both objects\n",
    "\n",
    "- Relationships with other refactoring methods\n",
    "    - Opposite \n",
    "        - Change Bidirectional Association to Unidirectional\n",
    "\n",
    "- Example:"
   ]
  },
  {
   "cell_type": "markdown",
   "metadata": {},
   "source": [
    "## 8. Change Bidirectional Association to Unidirectional"
   ]
  },
  {
   "cell_type": "markdown",
   "metadata": {},
   "source": [
    "- Problem\n",
    "    - You have two classes where one class relies on the other, but you have defined a relationship to the other in both classes\n",
    "\n",
    "- Solution\n",
    "    - Change it to unidirectional\n",
    "\n",
    "- Motivation\n",
    "    - Minimise the number of dependencies\n",
    "    - Minimise bidirectional associations, because it can lead to memory bloat (garbage collection doesn't work if objects are referenced), and leads to more complex dependency structure\n",
    "\n",
    "- How to refactor\n",
    "    - Remove unused association\n",
    "\n",
    "- Relationships with other refactoring methods\n",
    "    - Opposite \n",
    "        - Change Unidirectional Association to Bidirectional\n",
    "\n",
    "- Related code smells\n",
    "    - Inappropriate Intimacy\n",
    "\n",
    "- Example:"
   ]
  },
  {
   "cell_type": "markdown",
   "metadata": {},
   "source": [
    "## 9. Replace Magic Number with Symbolic Constant"
   ]
  },
  {
   "cell_type": "markdown",
   "metadata": {},
   "source": [
    "- Problem\n",
    "    - You have a constant in your code that is used without explanation\n",
    "\n",
    "- Solution\n",
    "    - Assign constant to a variable instead, and call the variable\n",
    "\n",
    "- Motivation\n",
    "    - There should be no random numbers in your code. Naming something is its own documentation\n",
    "\n",
    "- How to refactor\n",
    "    - Set value to a variable, and call the variable instead"
   ]
  },
  {
   "cell_type": "code",
   "execution_count": null,
   "metadata": {},
   "outputs": [],
   "source": [
    "PI = 3.1415\n",
    "length = 5\n",
    "bad__circle_area = 3.1415 * (length**2)\n",
    "good__circle_area = PI * (length**2)"
   ]
  },
  {
   "cell_type": "markdown",
   "metadata": {},
   "source": [
    "## 10. Encapsulate Field"
   ]
  },
  {
   "cell_type": "markdown",
   "metadata": {},
   "source": [
    "- Problem\n",
    "    - You have a public field\n",
    "\n",
    "- Solution\n",
    "    - Make private, and create getters and setters for it\n",
    "\n",
    "- Motivation\n",
    "    - You don't always want all components of your code to be visible and modifiable. Because it can run into errors, or expose data externally\n",
    "\n",
    "- How to refactor\n",
    "    - Set fields to private by default, and only choose public when necessary\n",
    "\n",
    "- Drawbacks\n",
    "    - If fields are accessed very often, it can be faster to do direct access than to call a method\n",
    "\n",
    "- Relationships with other refactoring methods\n",
    "    - Similar\n",
    "        - Self Encapsulate Fields\n",
    "- Related code smells\n",
    "    - Data Class\n",
    "\n",
    "- Example:"
   ]
  },
  {
   "cell_type": "code",
   "execution_count": 20,
   "metadata": {},
   "outputs": [],
   "source": [
    "class bad__Person():\n",
    "    def __init__(self):\n",
    "        self.name = 'abc'\n",
    "    \n",
    "class good__Person():\n",
    "    def __init__(self):\n",
    "        self.__name = 'abc'\n",
    "    \n",
    "    @property \n",
    "    def name(self):\n",
    "        return self.__name\n",
    "    \n",
    "    @name.setter\n",
    "    def name(self, value):\n",
    "        raise ValueError('Disallowed')\n",
    "\n",
    "p1 = good__Person()\n",
    "# p1.name = 'name'"
   ]
  },
  {
   "cell_type": "markdown",
   "metadata": {},
   "source": [
    "## 11. Encapsulate Collection"
   ]
  },
  {
   "cell_type": "markdown",
   "metadata": {},
   "source": [
    "- Problem\n",
    "    - A class contains a collection field (i.e. an array) and a simple getter and setter for working with the collection\n",
    "    - But since it is a collection, it allows for modification\n",
    "\n",
    "- Solution\n",
    "    - Put collection in an unmodifiable data structure (e.g. `frozenset` in Python)\n",
    "    - And create methods to add/delete from it\n",
    "\n",
    "- Motivation\n",
    "    - There are times when you want to have a fixed array that is modifiable only in specific circumstances\n",
    "\n",
    "- How to refactor\n",
    "    - Use frozenset\n",
    "\n",
    "- Related code smells\n",
    "    - Data Class\n",
    "\n",
    "- Example:"
   ]
  },
  {
   "cell_type": "code",
   "execution_count": 26,
   "metadata": {},
   "outputs": [
    {
     "name": "stdout",
     "output_type": "stream",
     "text": [
      "['dbs', 'ocbc', 'uob']\n",
      "['dbs', 'ocbc', 'uob', 'not a bank']\n"
     ]
    }
   ],
   "source": [
    "class bad__Person():\n",
    "    def __init__(self):\n",
    "        self._bank_accounts: list[str] = ['dbs', 'ocbc', 'uob']\n",
    "    \n",
    "    @property\n",
    "    def bank_accounts(self):\n",
    "        return self._bank_accounts\n",
    "    \n",
    "    @bank_accounts.setter\n",
    "    def bank_accounts(self, value):\n",
    "        if type(value) != list:\n",
    "            raise ValueError('not a list')\n",
    "        self._bank_accounts = value\n",
    "    \n",
    "p1 = bad__Person()\n",
    "print(p1._bank_accounts)\n",
    "## Direct access, which is undesirable\n",
    "p1._bank_accounts.append('not a bank')\n",
    "print(p1._bank_accounts)"
   ]
  },
  {
   "cell_type": "code",
   "execution_count": 35,
   "metadata": {},
   "outputs": [
    {
     "name": "stdout",
     "output_type": "stream",
     "text": [
      "['dbs', 'ocbc', 'uob']\n",
      "['dbs', 'ocbc', 'uob', 'not a bank']\n",
      "frozenset({'uob', 'ocbc', 'dbs'})\n",
      "frozenset({'dbs', 'ocbc', 'uob', 'not a bank'})\n"
     ]
    }
   ],
   "source": [
    "class good__Person():\n",
    "    def __init__(self):\n",
    "        self._bank_accounts: frozenset[str] = frozenset(['dbs', 'ocbc', 'uob'])\n",
    "    \n",
    "    @property\n",
    "    def bank_accounts(self):\n",
    "        return self._bank_accounts\n",
    "    \n",
    "    @bank_accounts.setter\n",
    "    def bank_accounts(self, value):\n",
    "        if type(value) != list:\n",
    "            raise ValueError('not a list')\n",
    "        self._bank_accounts = frozenset(value)\n",
    "\n",
    "    def add_bank_account(self, value):\n",
    "        temp = list(self._bank_accounts) + [value]\n",
    "        self._bank_accounts = frozenset(temp)\n",
    "\n",
    "    def remove_bank_account(self, value):\n",
    "        temp = list(self._bank_accounts)\n",
    "        if value in temp:\n",
    "            temp.remove(value)\n",
    "        self._bank_accounts = frozenset(temp)\n",
    "        \n",
    "p2 = good__Person()\n",
    "print(p2._bank_accounts)\n",
    "# p2._bank_accounts.append('not a bank')\n",
    "p2.add_bank_account('not a bank')\n",
    "print(p2._bank_accounts)"
   ]
  },
  {
   "cell_type": "markdown",
   "metadata": {},
   "source": [
    "## 12. Replace Type Code with Class"
   ]
  },
  {
   "cell_type": "markdown",
   "metadata": {},
   "source": [
    "- Problem\n",
    "    - You have a bunch of \"type code\" (i.e. code that informs users of the exact values that some fields can take)\n",
    "    - But they aren't used in any of your logical operators or methods. It's just there as info\n",
    "\n",
    "- Solution\n",
    "    - Group them into a new class (specifically, in Python's case, an `Enum`)\n",
    "\n",
    "- Motivation\n",
    "    - Much clearer for someone to read your code\n",
    "    - Static type checkers (mypy) can validate if values provided fall outside the defined `Enum`\n",
    "\n",
    "- How to refactor\n",
    "    - Make an enum containing the types you want to define\n",
    "    - Set the field to that enum type\n",
    "\n",
    "- When NOT to use\n",
    "    - Remember, in this case, we make the assumption that the type code doesn't affect any actual methods/flows in your class!!\n",
    "    - If they do, consider the next 2 strategies \"Replace Type Code with Subclasses\" and \"Replace Type Code with State/Strategy\"\n",
    "\n",
    "- Relationships with other refactoring methods\n",
    "    - Similar\n",
    "        - Replace Type Code with Subclasses\n",
    "        - Replace Type Code with State/Strategy\n",
    "\n",
    "- Related code smells\n",
    "    - Primitive Obsession\n",
    "\n",
    "- Example:"
   ]
  },
  {
   "cell_type": "code",
   "execution_count": null,
   "metadata": {},
   "outputs": [],
   "source": [
    "from enum import Enum\n",
    "\n",
    "class BloodType(Enum):\n",
    "    A = 1\n",
    "    B = 2\n",
    "    AB = 3\n",
    "    O = 4\n",
    "    \n",
    "class Person():\n",
    "    def __init__(self):\n",
    "        self.valid_bloodtype: BloodType = BloodType.AB\n",
    "        # self.invalid_bloodtype: BloodType = 'AB'\n"
   ]
  },
  {
   "cell_type": "markdown",
   "metadata": {},
   "source": [
    "## 13. Replace Type Code with Subclasses"
   ]
  },
  {
   "cell_type": "markdown",
   "metadata": {},
   "source": [
    "- Problem\n",
    "    - You have a bunch of \"type code\" that is used to control the behaviour of your class\n",
    "\n",
    "- Solution\n",
    "    - Make subclasses and implement the different behaviours using polymorphism in the subclass\n",
    "\n",
    "- Motivation\n",
    "    - Maintaining type code is always problematic, because you need to worry about the programme mutating them accidentally, or typos in the input etc.\n",
    "    - When things go wrong, it's not always obvious why\n",
    "\n",
    "- How to refactor\n",
    "    - Create a parent class, and add each of the logical flows into a subclass\n",
    "\n",
    "- When NOT to use\n",
    "    - If the value of the \"type\" can change dynamically, this method doesn't make sense, because you need to invoke different classes and different times\n",
    "    - In such a case, use composition with the next approach \"Replace Type Code with State/Strategy\" and \n",
    "\n",
    "- Relationships with other refactoring methods\n",
    "    - Opposite\n",
    "        - Replace Subclass with Fields\n",
    "    - Similar\n",
    "        - Replace Type Code with Class\n",
    "        - Replace Type Code with State/Strategy\n",
    "\n",
    "- Related code smells\n",
    "    - Primitive Obsession\n",
    "\n",
    "- Example:"
   ]
  },
  {
   "cell_type": "code",
   "execution_count": null,
   "metadata": {},
   "outputs": [],
   "source": [
    "from enum import Enum\n",
    "from abc import ABC, abstractmethod\n",
    "\n",
    "class BloodType(Enum):\n",
    "    A = 1\n",
    "    B = 2\n",
    "    AB = 3\n",
    "    O = 4\n",
    "    \n",
    "class bad__Person():\n",
    "    def __init__(self):\n",
    "        self.bloodtype: BloodType = BloodType.AB\n",
    "        # self.invalid_bloodtype: BloodType = 'AB'\n",
    "\n",
    "    def do_something(self):\n",
    "        if self.bloodtype == BloodType.AB:\n",
    "            print('BloodType is AB')\n",
    "        elif self.bloodtype == BloodType.O:\n",
    "            print('BloodType is O')\n",
    "        else:\n",
    "            print('BloodType is boring')\n",
    "\n",
    "######\n",
    "\n",
    "class good__Person(ABC):\n",
    "\n",
    "    @property\n",
    "    @abstractmethod\n",
    "    def bloodtype(self):\n",
    "        ...\n",
    "\n",
    "    @abstractmethod\n",
    "    def do_something(self):\n",
    "        ...\n",
    "\n",
    "class PersonAB(good__Person):\n",
    "    def __init__(self):\n",
    "        self._bloodtype: BloodType = BloodType.AB\n",
    "    \n",
    "    @property\n",
    "    def bloodtype(self): #type: ignore\n",
    "        return self._bloodtype\n",
    "    \n",
    "    def do_something(self):\n",
    "        print('BloodType is AB')\n",
    "\n",
    "class PersonA(good__Person):\n",
    "    def __init__(self):\n",
    "        self._bloodtype: BloodType = BloodType.A\n",
    "    \n",
    "    @property\n",
    "    def bloodtype(self): #type: ignore\n",
    "        return self._bloodtype\n",
    "    \n",
    "    def do_something(self):\n",
    "        print('BloodType is boring')"
   ]
  },
  {
   "cell_type": "markdown",
   "metadata": {},
   "source": [
    "## 14. Replace Type Code with State/Strategy"
   ]
  },
  {
   "cell_type": "markdown",
   "metadata": {},
   "source": [
    "- Problem\n",
    "    - You have a bunch of \"type code\" that is used to control the behaviour of your class\n",
    "    - AND you can't use subclassing to make it go away because the \"type\" may change dynamically\n",
    "\n",
    "- Solution\n",
    "    - Create a new class that holds the \"source of truth\" at any point in time\n",
    "    - And pass it into your class holding the method you are trying to run via composition\n",
    "    - Note that both state/strategy involves creating a new class/classes and implementing the methods that the context class will run\n",
    "        - The difference is that in state, we expect that the state classes can and will be updated constantly, so the context class should have the ability to update the state\n",
    "\n",
    "- Motivation\n",
    "    - Again, this avoids convolution in the behaviour defined in your method\n",
    "    - Using a \"composition\" pattern to pass in the state/strategy class lets you easily extend the code when new states occur (you just make a new class with the same interface!)\n",
    "\n",
    "- How to refactor\n",
    "    - Create a state/strategy class\n",
    "    - Pass it into the class containing the operation you want to do (i.e. the context class) via composition\n",
    "\n",
    "- Drawbacks\n",
    "    - If you have many states/strategies, you can end up with many classes\n",
    "\n",
    "- Relationships with other refactoring methods\n",
    "    - Opposite\n",
    "        - Replace Subclass with Fields\n",
    "    - Similar\n",
    "        - Replace Type Code with Class\n",
    "        - Replace Type Code with Sub class\n",
    "\n",
    "- Related code smells\n",
    "    - Primitive Obsession\n",
    "\n",
    "- Related Design Patterns\n",
    "    - State\n",
    "    - Strategy\n",
    "\n",
    "- Example:"
   ]
  },
  {
   "cell_type": "code",
   "execution_count": 38,
   "metadata": {},
   "outputs": [
    {
     "name": "stdout",
     "output_type": "stream",
     "text": [
      "BloodType.AB\n",
      "BloodType.O\n"
     ]
    }
   ],
   "source": [
    "from abc import ABC, abstractmethod\n",
    "from enum import Enum\n",
    "\n",
    "class BloodType(Enum):\n",
    "    A = 1\n",
    "    B = 2\n",
    "    AB = 3\n",
    "    O = 4\n",
    "\n",
    "class Person(ABC):\n",
    "    @property\n",
    "    @abstractmethod\n",
    "    def bloodtype(self):\n",
    "        ...\n",
    "\n",
    "class ABPerson(Person):\n",
    "    def __init__(self):\n",
    "        self._bloodtype = BloodType.AB\n",
    "    \n",
    "    @property\n",
    "    def bloodtype(self): #type: ignore\n",
    "        return self._bloodtype\n",
    "\n",
    "class OPerson(Person):\n",
    "    def __init__(self):\n",
    "        self._bloodtype = BloodType.O\n",
    "    \n",
    "    @property\n",
    "    def bloodtype(self): #type: ignore\n",
    "        return self._bloodtype\n",
    "\n",
    "\n",
    "class BloodTypePrinter():\n",
    "    def __init__(self, person: Person): \n",
    "        self.person: Person = person\n",
    "    \n",
    "    def print_bloodtype(self):\n",
    "        print(self.person.bloodtype)\n",
    "\n",
    "    def update_bloodtype(self, person: Person):\n",
    "        self.person: Person = person\n",
    "\n",
    "test = BloodTypePrinter(ABPerson())\n",
    "test.print_bloodtype()\n",
    "test.update_bloodtype(OPerson())\n",
    "test.print_bloodtype()"
   ]
  },
  {
   "cell_type": "markdown",
   "metadata": {},
   "source": [
    "## 15. Replace Subclass with Fields"
   ]
  },
  {
   "cell_type": "markdown",
   "metadata": {},
   "source": [
    "- Problem\n",
    "    - You have multiple subclasses where the only difference between them is that they return different values in their fields (attributes)\n",
    "\n",
    "- Solution\n",
    "    - Instead of splitting these into subclasses, just put them into a single parent class and distinguish them by putting different fields into the constructor\n",
    "\n",
    "- Motivation\n",
    "    - Minimise the number of unnecessary classes\n",
    "\n",
    "- Relationships with other refactoring methods\n",
    "    - Opposite \n",
    "        - Replace Type Code with Subclasses\n",
    "\n",
    "- Example:"
   ]
  },
  {
   "cell_type": "code",
   "execution_count": null,
   "metadata": {},
   "outputs": [],
   "source": [
    "from abc import ABC, abstractmethod\n",
    "from enum import Enum\n",
    "\n",
    "def Person(ABC):\n",
    "    \n",
    "    @property\n",
    "    @abstractmethod\n",
    "    def gender(self):\n",
    "        ...\n",
    "\n",
    "def Male(Person):\n",
    "    def __init__(self):\n",
    "        self._gender = 'M'\n",
    "\n",
    "    @property\n",
    "    def gender(self):\n",
    "        return self._gender\n",
    "    \n",
    "def Female(Person):\n",
    "    def __init__(self):\n",
    "        self._gender = 'F'\n",
    "\n",
    "    @property\n",
    "    def gender(self):\n",
    "        return self._gender\n",
    "    \n",
    "class Gender(Enum):\n",
    "    M = 1\n",
    "    F = 2\n",
    "\n",
    "def good__Person():\n",
    "    def __init__(self, gender: Gender):\n",
    "        self.gender = gender\n",
    "    "
   ]
  }
 ],
 "metadata": {
  "kernelspec": {
   "display_name": "dsa_prep",
   "language": "python",
   "name": "python3"
  },
  "language_info": {
   "codemirror_mode": {
    "name": "ipython",
    "version": 3
   },
   "file_extension": ".py",
   "mimetype": "text/x-python",
   "name": "python",
   "nbconvert_exporter": "python",
   "pygments_lexer": "ipython3",
   "version": "3.10.13"
  }
 },
 "nbformat": 4,
 "nbformat_minor": 2
}

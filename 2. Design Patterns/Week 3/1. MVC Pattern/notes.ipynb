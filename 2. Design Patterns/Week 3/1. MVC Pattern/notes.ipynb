{
 "cells": [
  {
   "attachments": {},
   "cell_type": "markdown",
   "metadata": {},
   "source": [
    "# MVC Pattern"
   ]
  },
  {
   "attachments": {},
   "cell_type": "markdown",
   "metadata": {},
   "source": [
    "- We've learnt creational, structural, behavioural design patterns. Now, we learn about the MVC, or Model View Controller (MVC) design pattern\n",
    "\n",
    "- Imagine you are hired by a small grocery store in your neighbourhood. \n",
    "    - Problem:\n",
    "        - The cashiers are complaining about the old style price system, where they need to type out price of each item manually\n",
    "        - The customers are tired of waiting in line for purchases to be made like that\n",
    "    - Solution\n",
    "        - So a system for entering and displaying orders is needed (i.e. some user interface)\n",
    "        - Customer and cashier should be able to see items entered into the order\n",
    "        - Customer and cashier should be able to see total price\n",
    "\n",
    "- Any time a \"user iterface\" is needed, you should use an MVC pattern (model, view, controller)\n",
    "    - `Model` --updates (observer pattern)--> `View` --uses--> `Controller` --modifies--> `Model`\n",
    "    - `Model`contains underlying data, state, and logic that users want to see and manipulate (back end)\n",
    "    - `View` lets user see the model and interact with system (front end)\n",
    "    - `Controller` interprets requests that users make via `View` and modifies the `Model`\n",
    "    - \"Separation of concerns\" design principle\n",
    "        - Model --> Entity objects\n",
    "        - View --> Boundary object that deals with users\n",
    "        - Controller --> Control object receives events and coordinates actions\n",
    "\n",
    "- Implementation\n",
    "    - Some actions needed\n",
    "        - Delete item\n",
    "        - Change price\n",
    "    - `Model` should not rely on `View` or `Controller` to exist\n",
    "    - Since `View` is an observer, `Model` should be observable\n",
    "    - "
   ]
  }
 ],
 "metadata": {
  "language_info": {
   "name": "python"
  },
  "orig_nbformat": 4
 },
 "nbformat": 4,
 "nbformat_minor": 2
}

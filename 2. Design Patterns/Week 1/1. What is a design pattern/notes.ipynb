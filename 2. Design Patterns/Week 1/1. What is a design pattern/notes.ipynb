{
 "cells": [
  {
   "attachments": {},
   "cell_type": "markdown",
   "metadata": {},
   "source": [
    "# What is a design pattern"
   ]
  },
  {
   "attachments": {},
   "cell_type": "markdown",
   "metadata": {},
   "source": [
    "- Commonly used code recipes to facilitate reusable, flexible, maintainable code\n",
    "- Code smells"
   ]
  }
 ],
 "metadata": {
  "kernelspec": {
   "display_name": "Python 3",
   "language": "python",
   "name": "python3"
  },
  "language_info": {
   "name": "python",
   "version": "3.10.4"
  },
  "orig_nbformat": 4,
  "vscode": {
   "interpreter": {
    "hash": "cebb4ce401eb3de5659966fd3ccc10327db9c280404c0c1b484be62a3fb11364"
   }
  }
 },
 "nbformat": 4,
 "nbformat_minor": 2
}
